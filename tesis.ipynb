{
 "cells": [
  {
   "cell_type": "markdown",
   "id": "4d37d7c1",
   "metadata": {},
   "source": [
    "# Egg Quality Classification Based on its Shell Visual Property through Image Processing and Deep Learning\n"
   ]
  },
  {
   "cell_type": "markdown",
   "id": "3bab25e6",
   "metadata": {},
   "source": [
    "Group CGM: <br>\n",
    "\n",
    "Caguioa, JV Bryan <br>\n",
    "Guinto, Ryhle Nodnyhlson <br>\n",
    "Mesias, Lee Reuben"
   ]
  },
  {
   "cell_type": "markdown",
   "id": "976e157b",
   "metadata": {},
   "source": [
    "# References"
   ]
  },
  {
   "cell_type": "markdown",
   "id": "86ed03b6",
   "metadata": {},
   "source": [
    "https://thedatafrog.com/en/articles/image-recognition-transfer-learning/ <br>\n",
    "https://medium.com/the-owl/k-fold-cross-validation-in-keras-3ec4a3a00538 <br>\n",
    "https://www.datacamp.com/community/tutorials/convolutional-neural-networks-python"
   ]
  },
  {
   "cell_type": "markdown",
   "id": "d6c29596",
   "metadata": {},
   "source": [
    "## Imports"
   ]
  },
  {
   "cell_type": "code",
   "execution_count": 1,
   "id": "caf98030",
   "metadata": {
    "ExecuteTime": {
     "end_time": "2021-09-21T02:46:00.315820Z",
     "start_time": "2021-09-21T02:45:55.026671Z"
    }
   },
   "outputs": [],
   "source": [
    "# for image name\n",
    "import random\n",
    "\n",
    "# define and move to dataset and model directory\n",
    "import os\n",
    "# the directory where the data is stored\n",
    "directory = \"C:/Users/user/Desktop/Dataset\"\n",
    "#directory where set of models per training are stored\n",
    "gen_dir = \"C:/Users/user/Desktop/Model\"\n",
    "\n",
    "# duplicate combined image to other directory and delete directory with its content\n",
    "import shutil\n",
    "\n",
    "#for stopping code if not the right amount of images\n",
    "import sys\n",
    "\n",
    "#histograph/confusion matrix\n",
    "%matplotlib inline\n",
    "import matplotlib.pyplot as plt\n",
    "import seaborn as sn\n",
    "\n",
    "#model creation\n",
    "import tensorflow.keras as keras\n",
    "\n",
    "import numpy as np\n",
    "\n",
    "# data augmentation\n",
    "from tensorflow.keras.preprocessing.image import ImageDataGenerator\n",
    "\n",
    "#k-fold cross validation\n",
    "import pandas as pd                                     #store all images and their class/label\n",
    "from sklearn.model_selection import StratifiedKFold     \n",
    "from sklearn.model_selection import train_test_split    #split the dataset to train-test\n",
    "import tensorflow as tf                                 #for callbacks\n",
    "\n",
    "#for model evaluation\n",
    "from tensorflow.keras.preprocessing import image as im                   #load image\n",
    "from tensorflow.keras.applications.resnet50 import preprocess_input      #preprocess image                                                               \n",
    "from sklearn.metrics import accuracy_score\n",
    "from sklearn.metrics import precision_score\n",
    "from sklearn.metrics import recall_score\n",
    "from sklearn.metrics import f1_score\n",
    "\n",
    "from sklearn.preprocessing import label_binarize\n",
    "from sklearn.metrics import roc_curve, auc       \n",
    "from sklearn.metrics import roc_auc_score\n",
    "from scipy import interp                            #interpolation needed for plotting all classes into one roc plot\n",
    "from itertools import cycle                         #for the color of lines on that multiclass plot\n",
    "\n",
    "from sklearn.metrics import confusion_matrix\n",
    "from sklearn.metrics import plot_confusion_matrix\n",
    "\n",
    "#validating misclassified images\n",
    "import cv2     #load the image"
   ]
  },
  {
   "cell_type": "markdown",
   "id": "eab583ca",
   "metadata": {},
   "source": [
    "## Put Dataset in a Dataframe"
   ]
  },
  {
   "cell_type": "markdown",
   "id": "f11561c6",
   "metadata": {},
   "source": [
    "The directory of the images are put in a dataframe in order to prepare for splitting the dataset into train and test set."
   ]
  },
  {
   "cell_type": "code",
   "execution_count": 2,
   "id": "9ef7d10b",
   "metadata": {
    "ExecuteTime": {
     "end_time": "2021-09-21T02:46:00.331758Z",
     "start_time": "2021-09-21T02:46:00.316797Z"
    }
   },
   "outputs": [],
   "source": [
    "totaldsdirect = directory + \"/CombinedTwoAngleEggs\"\n",
    "\n",
    "image = []\n",
    "\n",
    "if not os.path.exists(totaldsdirect):\n",
    "    print(\"Directory does not exist. Please run the code on data cleaning notebook.\")\n",
    "    sys.exit()\n",
    "\n",
    "for x in os.listdir(totaldsdirect):\n",
    "    totaldsdirect2 = totaldsdirect + \"/\" + x\n",
    "    for y in os.listdir(totaldsdirect2):\n",
    "        if x == \"Balut-penoy2\":\n",
    "            lbl = \"0\"\n",
    "        elif x == \"Salted egg2\":\n",
    "            lbl = \"1\"\n",
    "        else:\n",
    "            lbl = \"2\"\n",
    "                 \n",
    "        #append to image array\n",
    "        image.append([totaldsdirect2 + \"/\" + y,lbl])"
   ]
  },
  {
   "cell_type": "code",
   "execution_count": 3,
   "id": "f1b6f4d8",
   "metadata": {
    "ExecuteTime": {
     "end_time": "2021-09-21T02:46:00.362674Z",
     "start_time": "2021-09-21T02:46:00.334750Z"
    },
    "scrolled": true
   },
   "outputs": [
    {
     "data": {
      "text/html": [
       "<div>\n",
       "<style scoped>\n",
       "    .dataframe tbody tr th:only-of-type {\n",
       "        vertical-align: middle;\n",
       "    }\n",
       "\n",
       "    .dataframe tbody tr th {\n",
       "        vertical-align: top;\n",
       "    }\n",
       "\n",
       "    .dataframe thead th {\n",
       "        text-align: right;\n",
       "    }\n",
       "</style>\n",
       "<table border=\"1\" class=\"dataframe\">\n",
       "  <thead>\n",
       "    <tr style=\"text-align: right;\">\n",
       "      <th></th>\n",
       "      <th>filename</th>\n",
       "      <th>label</th>\n",
       "    </tr>\n",
       "  </thead>\n",
       "  <tbody>\n",
       "    <tr>\n",
       "      <th>0</th>\n",
       "      <td>C:/Users/user/Desktop/Dataset/CombinedTwoAngle...</td>\n",
       "      <td>0</td>\n",
       "    </tr>\n",
       "    <tr>\n",
       "      <th>1</th>\n",
       "      <td>C:/Users/user/Desktop/Dataset/CombinedTwoAngle...</td>\n",
       "      <td>0</td>\n",
       "    </tr>\n",
       "    <tr>\n",
       "      <th>2</th>\n",
       "      <td>C:/Users/user/Desktop/Dataset/CombinedTwoAngle...</td>\n",
       "      <td>0</td>\n",
       "    </tr>\n",
       "    <tr>\n",
       "      <th>3</th>\n",
       "      <td>C:/Users/user/Desktop/Dataset/CombinedTwoAngle...</td>\n",
       "      <td>0</td>\n",
       "    </tr>\n",
       "    <tr>\n",
       "      <th>4</th>\n",
       "      <td>C:/Users/user/Desktop/Dataset/CombinedTwoAngle...</td>\n",
       "      <td>0</td>\n",
       "    </tr>\n",
       "    <tr>\n",
       "      <th>...</th>\n",
       "      <td>...</td>\n",
       "      <td>...</td>\n",
       "    </tr>\n",
       "    <tr>\n",
       "      <th>595</th>\n",
       "      <td>C:/Users/user/Desktop/Dataset/CombinedTwoAngle...</td>\n",
       "      <td>2</td>\n",
       "    </tr>\n",
       "    <tr>\n",
       "      <th>596</th>\n",
       "      <td>C:/Users/user/Desktop/Dataset/CombinedTwoAngle...</td>\n",
       "      <td>2</td>\n",
       "    </tr>\n",
       "    <tr>\n",
       "      <th>597</th>\n",
       "      <td>C:/Users/user/Desktop/Dataset/CombinedTwoAngle...</td>\n",
       "      <td>2</td>\n",
       "    </tr>\n",
       "    <tr>\n",
       "      <th>598</th>\n",
       "      <td>C:/Users/user/Desktop/Dataset/CombinedTwoAngle...</td>\n",
       "      <td>2</td>\n",
       "    </tr>\n",
       "    <tr>\n",
       "      <th>599</th>\n",
       "      <td>C:/Users/user/Desktop/Dataset/CombinedTwoAngle...</td>\n",
       "      <td>2</td>\n",
       "    </tr>\n",
       "  </tbody>\n",
       "</table>\n",
       "<p>600 rows × 2 columns</p>\n",
       "</div>"
      ],
      "text/plain": [
       "                                              filename label\n",
       "0    C:/Users/user/Desktop/Dataset/CombinedTwoAngle...     0\n",
       "1    C:/Users/user/Desktop/Dataset/CombinedTwoAngle...     0\n",
       "2    C:/Users/user/Desktop/Dataset/CombinedTwoAngle...     0\n",
       "3    C:/Users/user/Desktop/Dataset/CombinedTwoAngle...     0\n",
       "4    C:/Users/user/Desktop/Dataset/CombinedTwoAngle...     0\n",
       "..                                                 ...   ...\n",
       "595  C:/Users/user/Desktop/Dataset/CombinedTwoAngle...     2\n",
       "596  C:/Users/user/Desktop/Dataset/CombinedTwoAngle...     2\n",
       "597  C:/Users/user/Desktop/Dataset/CombinedTwoAngle...     2\n",
       "598  C:/Users/user/Desktop/Dataset/CombinedTwoAngle...     2\n",
       "599  C:/Users/user/Desktop/Dataset/CombinedTwoAngle...     2\n",
       "\n",
       "[600 rows x 2 columns]"
      ]
     },
     "execution_count": 3,
     "metadata": {},
     "output_type": "execute_result"
    }
   ],
   "source": [
    "df = pd.DataFrame(image,columns=['filename','label'])\n",
    "df"
   ]
  },
  {
   "cell_type": "markdown",
   "id": "d480a376",
   "metadata": {},
   "source": [
    "Classes: <br>\n",
    "0 - Balut/Penoy <br> \n",
    "1 - Salted <br>\n",
    "2 - Table"
   ]
  },
  {
   "cell_type": "code",
   "execution_count": 4,
   "id": "0af77893",
   "metadata": {
    "ExecuteTime": {
     "end_time": "2021-09-21T02:46:00.377673Z",
     "start_time": "2021-09-21T02:46:00.364669Z"
    },
    "scrolled": true
   },
   "outputs": [
    {
     "name": "stdout",
     "output_type": "stream",
     "text": [
      "['0' '1' '2']\n"
     ]
    }
   ],
   "source": [
    "print(df['label'].unique())"
   ]
  },
  {
   "cell_type": "markdown",
   "id": "4ca97d57",
   "metadata": {},
   "source": [
    "Check if there are null values"
   ]
  },
  {
   "cell_type": "code",
   "execution_count": 5,
   "id": "21d5fab2",
   "metadata": {
    "ExecuteTime": {
     "end_time": "2021-09-21T02:46:00.393592Z",
     "start_time": "2021-09-21T02:46:00.378632Z"
    },
    "scrolled": true
   },
   "outputs": [
    {
     "name": "stdout",
     "output_type": "stream",
     "text": [
      "filename    False\n",
      "label       False\n",
      "dtype: bool\n"
     ]
    }
   ],
   "source": [
    "print(df.isna().any())"
   ]
  },
  {
   "cell_type": "markdown",
   "id": "d45903ac",
   "metadata": {},
   "source": [
    "## Split Data to train and test set"
   ]
  },
  {
   "cell_type": "markdown",
   "id": "22b4c490",
   "metadata": {},
   "source": [
    "We will need to split the dataset to train and test set. Only the train set will be used for transfer learning with K-fold validation. Test set will be used for model prediction and use that for model evaluation. Stratify is used in order to split the data in equal numbers under the classes specified."
   ]
  },
  {
   "cell_type": "code",
   "execution_count": 6,
   "id": "1d1d3e41",
   "metadata": {
    "ExecuteTime": {
     "end_time": "2021-09-21T02:46:00.409548Z",
     "start_time": "2021-09-21T02:46:00.395588Z"
    }
   },
   "outputs": [],
   "source": [
    "# Split the data to train and test\n",
    "X = df[['filename']]\n",
    "y = df[['label']]\n",
    "X_train, X_test, y_train, y_test = train_test_split(X, y, test_size=0.1, stratify=y, random_state=69)"
   ]
  },
  {
   "cell_type": "markdown",
   "id": "283bbdd6",
   "metadata": {},
   "source": [
    "Save the split sets to train and test set folders."
   ]
  },
  {
   "cell_type": "code",
   "execution_count": 7,
   "id": "2aad4898",
   "metadata": {
    "ExecuteTime": {
     "end_time": "2021-09-21T02:46:01.134934Z",
     "start_time": "2021-09-21T02:46:00.410546Z"
    },
    "scrolled": false
   },
   "outputs": [
    {
     "name": "stderr",
     "output_type": "stream",
     "text": [
      "C:\\Users\\user\\anaconda3\\envs\\tensorflow25\\lib\\site-packages\\pandas\\core\\indexing.py:1732: SettingWithCopyWarning: \n",
      "A value is trying to be set on a copy of a slice from a DataFrame\n",
      "\n",
      "See the caveats in the documentation: https://pandas.pydata.org/pandas-docs/stable/user_guide/indexing.html#returning-a-view-versus-a-copy\n",
      "  self._setitem_single_block(indexer, value, name)\n",
      "C:\\Users\\user\\anaconda3\\envs\\tensorflow25\\lib\\site-packages\\pandas\\core\\indexing.py:723: SettingWithCopyWarning: \n",
      "A value is trying to be set on a copy of a slice from a DataFrame\n",
      "\n",
      "See the caveats in the documentation: https://pandas.pydata.org/pandas-docs/stable/user_guide/indexing.html#returning-a-view-versus-a-copy\n",
      "  iloc._setitem_with_indexer(indexer, value, self.name)\n"
     ]
    }
   ],
   "source": [
    "#folder to store the train and test set folders\n",
    "fortraintest = directory + \"/ToBeUsed\"\n",
    "if not os.path.exists(fortraintest):\n",
    "    os.makedirs(fortraintest)\n",
    "\n",
    "#train set folder\n",
    "tr = fortraintest + \"/train_set\"\n",
    "if not os.path.exists(tr):\n",
    "    os.makedirs(tr)\n",
    "else:\n",
    "    #remove previous folder and create new one\n",
    "    shutil.rmtree(tr)\n",
    "    os.makedirs(tr)\n",
    "    \n",
    "#test set folder\n",
    "te = fortraintest + \"/test_set\"\n",
    "if not os.path.exists(te):\n",
    "    os.makedirs(te)\n",
    "else:\n",
    "    #remove previous folder and create new one\n",
    "    shutil.rmtree(te)\n",
    "    os.makedirs(te)\n",
    "\n",
    "#copying the images to the train set folder\n",
    "for index, row in X_train.iterrows():\n",
    "    trcpy = shutil.copy2(row['filename'], tr)\n",
    "    X_train.loc[X_train['filename']==row['filename'],'filename']=trcpy #change to directory where image is copied\n",
    "    \n",
    "#copying the images to the test set folder\n",
    "for index, row in X_test.iterrows():\n",
    "    tecpy = shutil.copy2(row['filename'], te)\n",
    "    X_test.loc[X_test['filename']==row['filename'],'filename']=tecpy #change to directory where image is copiedb"
   ]
  },
  {
   "cell_type": "code",
   "execution_count": 8,
   "id": "5c2d7592",
   "metadata": {
    "ExecuteTime": {
     "end_time": "2021-09-21T02:46:01.165859Z",
     "start_time": "2021-09-21T02:46:01.137927Z"
    },
    "scrolled": true
   },
   "outputs": [
    {
     "data": {
      "text/html": [
       "<div>\n",
       "<style scoped>\n",
       "    .dataframe tbody tr th:only-of-type {\n",
       "        vertical-align: middle;\n",
       "    }\n",
       "\n",
       "    .dataframe tbody tr th {\n",
       "        vertical-align: top;\n",
       "    }\n",
       "\n",
       "    .dataframe thead th {\n",
       "        text-align: right;\n",
       "    }\n",
       "</style>\n",
       "<table border=\"1\" class=\"dataframe\">\n",
       "  <thead>\n",
       "    <tr style=\"text-align: right;\">\n",
       "      <th></th>\n",
       "      <th>filename</th>\n",
       "      <th>label</th>\n",
       "    </tr>\n",
       "  </thead>\n",
       "  <tbody>\n",
       "    <tr>\n",
       "      <th>91</th>\n",
       "      <td>C:/Users/user/Desktop/Dataset/ToBeUsed/train_s...</td>\n",
       "      <td>0</td>\n",
       "    </tr>\n",
       "    <tr>\n",
       "      <th>156</th>\n",
       "      <td>C:/Users/user/Desktop/Dataset/ToBeUsed/train_s...</td>\n",
       "      <td>0</td>\n",
       "    </tr>\n",
       "    <tr>\n",
       "      <th>95</th>\n",
       "      <td>C:/Users/user/Desktop/Dataset/ToBeUsed/train_s...</td>\n",
       "      <td>0</td>\n",
       "    </tr>\n",
       "    <tr>\n",
       "      <th>130</th>\n",
       "      <td>C:/Users/user/Desktop/Dataset/ToBeUsed/train_s...</td>\n",
       "      <td>0</td>\n",
       "    </tr>\n",
       "    <tr>\n",
       "      <th>83</th>\n",
       "      <td>C:/Users/user/Desktop/Dataset/ToBeUsed/train_s...</td>\n",
       "      <td>0</td>\n",
       "    </tr>\n",
       "    <tr>\n",
       "      <th>...</th>\n",
       "      <td>...</td>\n",
       "      <td>...</td>\n",
       "    </tr>\n",
       "    <tr>\n",
       "      <th>466</th>\n",
       "      <td>C:/Users/user/Desktop/Dataset/ToBeUsed/train_s...</td>\n",
       "      <td>2</td>\n",
       "    </tr>\n",
       "    <tr>\n",
       "      <th>552</th>\n",
       "      <td>C:/Users/user/Desktop/Dataset/ToBeUsed/train_s...</td>\n",
       "      <td>2</td>\n",
       "    </tr>\n",
       "    <tr>\n",
       "      <th>576</th>\n",
       "      <td>C:/Users/user/Desktop/Dataset/ToBeUsed/train_s...</td>\n",
       "      <td>2</td>\n",
       "    </tr>\n",
       "    <tr>\n",
       "      <th>268</th>\n",
       "      <td>C:/Users/user/Desktop/Dataset/ToBeUsed/train_s...</td>\n",
       "      <td>1</td>\n",
       "    </tr>\n",
       "    <tr>\n",
       "      <th>418</th>\n",
       "      <td>C:/Users/user/Desktop/Dataset/ToBeUsed/train_s...</td>\n",
       "      <td>2</td>\n",
       "    </tr>\n",
       "  </tbody>\n",
       "</table>\n",
       "<p>540 rows × 2 columns</p>\n",
       "</div>"
      ],
      "text/plain": [
       "                                              filename label\n",
       "91   C:/Users/user/Desktop/Dataset/ToBeUsed/train_s...     0\n",
       "156  C:/Users/user/Desktop/Dataset/ToBeUsed/train_s...     0\n",
       "95   C:/Users/user/Desktop/Dataset/ToBeUsed/train_s...     0\n",
       "130  C:/Users/user/Desktop/Dataset/ToBeUsed/train_s...     0\n",
       "83   C:/Users/user/Desktop/Dataset/ToBeUsed/train_s...     0\n",
       "..                                                 ...   ...\n",
       "466  C:/Users/user/Desktop/Dataset/ToBeUsed/train_s...     2\n",
       "552  C:/Users/user/Desktop/Dataset/ToBeUsed/train_s...     2\n",
       "576  C:/Users/user/Desktop/Dataset/ToBeUsed/train_s...     2\n",
       "268  C:/Users/user/Desktop/Dataset/ToBeUsed/train_s...     1\n",
       "418  C:/Users/user/Desktop/Dataset/ToBeUsed/train_s...     2\n",
       "\n",
       "[540 rows x 2 columns]"
      ]
     },
     "execution_count": 8,
     "metadata": {},
     "output_type": "execute_result"
    }
   ],
   "source": [
    "df2 = pd.concat([X_train,y_train],axis=1)\n",
    "df2"
   ]
  },
  {
   "cell_type": "markdown",
   "id": "bb10fede",
   "metadata": {},
   "source": [
    "## Data Augmentation"
   ]
  },
  {
   "cell_type": "markdown",
   "id": "ad4a5826",
   "metadata": {},
   "source": [
    "We will apply data augmentation of the dataset per epoch in order to increase the accuracy of the models"
   ]
  },
  {
   "cell_type": "code",
   "execution_count": 9,
   "id": "4f45ab56",
   "metadata": {
    "ExecuteTime": {
     "end_time": "2021-09-21T02:46:01.181374Z",
     "start_time": "2021-09-21T02:46:01.168844Z"
    }
   },
   "outputs": [],
   "source": [
    "resnet50 = keras.applications.resnet50\n",
    "\n",
    "imgdatagen = ImageDataGenerator(\n",
    "        preprocessing_function = resnet50.preprocess_input,\n",
    "        horizontal_flip = True,\n",
    "        vertical_flip = True,\n",
    "        width_shift_range = 10,\n",
    "        height_shift_range = 10,\n",
    "        rotation_range = 5,\n",
    "        fill_mode=\"nearest\",\n",
    "    )"
   ]
  },
  {
   "cell_type": "markdown",
   "id": "82a5dd7d",
   "metadata": {},
   "source": [
    "## Create Plot History"
   ]
  },
  {
   "cell_type": "markdown",
   "id": "7ddf84bd",
   "metadata": {},
   "source": [
    "Plot history will display the training and validation accuracy, and training and validation loss in every epoch in a fold."
   ]
  },
  {
   "cell_type": "code",
   "execution_count": 15,
   "id": "2e26f5b9",
   "metadata": {
    "ExecuteTime": {
     "end_time": "2021-09-21T02:46:01.212290Z",
     "start_time": "2021-09-21T02:46:01.186358Z"
    }
   },
   "outputs": [],
   "source": [
    "def plot_history(history, yrange):\n",
    "    #Plot loss and accuracy as a function of the epoch,\n",
    "    #for the training and validation datasets.\n",
    "    \n",
    "    acc = history.history['accuracy']\n",
    "    val_acc = history.history['val_accuracy']\n",
    "    loss = history.history['loss']\n",
    "    val_loss = history.history['val_loss']\n",
    "\n",
    "    # Get number of epochs\n",
    "    epochs = range(len(acc))\n",
    "\n",
    "    # Plot training and validation accuracy per epoch\n",
    "    plt.plot(epochs, acc)\n",
    "    plt.plot(epochs, val_acc)\n",
    "    plt.title('Training and validation accuracy')\n",
    "    plt.legend(['train_accuracy','val_accuracy'])\n",
    "    plt.ylim(yrange)\n",
    "    \n",
    "    # Plot training and validation loss per epoch\n",
    "    plt.figure()\n",
    "\n",
    "    plt.plot(epochs, loss)\n",
    "    plt.plot(epochs, val_loss)\n",
    "    plt.title('Training and validation loss')\n",
    "    plt.legend(['train_loss','val_loss'])\n",
    "    \n",
    "    plt.show() "
   ]
  },
  {
   "cell_type": "markdown",
   "id": "5ca04f34",
   "metadata": {},
   "source": [
    "## Save Models"
   ]
  },
  {
   "cell_type": "markdown",
   "id": "d2e38fce",
   "metadata": {},
   "source": [
    "K-fold cross validation will be used in training the model.The set of models produced per fold will be saved in an automatic generated folder. Every training will generated another folder to save the new set of models."
   ]
  },
  {
   "cell_type": "code",
   "execution_count": 11,
   "id": "5339dd2c",
   "metadata": {
    "ExecuteTime": {
     "end_time": "2021-09-21T02:46:01.227249Z",
     "start_time": "2021-09-21T02:46:01.214283Z"
    }
   },
   "outputs": [],
   "source": [
    "def savemodel():\n",
    "    save_cur = \"\"  #check if there is any saved_models folders\n",
    "\n",
    "    svnum = 0\n",
    "    svnum2 = 0\n",
    "\n",
    "    for x in os.listdir(gen_dir):\n",
    "        if \"saved_models\" in x:\n",
    "            save_cur = x\n",
    "            if not save_cur == \"\":\n",
    "                for word in save_cur.split(\"_\"):\n",
    "                    if word.isdigit():\n",
    "                        svnum2 = int(word)\n",
    "                        if svnum < svnum2:\n",
    "                            svnum = svnum2\n",
    "\n",
    "\n",
    "    #save_dir is where the created models using the current set of parameters are added        \n",
    "    if save_cur == \"\":\n",
    "        save_dir = gen_dir + \"/saved_models_1\"\n",
    "        os.makedirs(save_dir)\n",
    "    else:\n",
    "        save_dir = gen_dir + \"/saved_models_\" + str(svnum + 1)\n",
    "        os.makedirs(save_dir)\n",
    "        \n",
    "    return save_dir"
   ]
  },
  {
   "cell_type": "markdown",
   "id": "989e6754",
   "metadata": {},
   "source": [
    "###### Model Creation"
   ]
  },
  {
   "cell_type": "markdown",
   "id": "362d8a8f",
   "metadata": {},
   "source": [
    "The model will be based on ResNet50 Architecture. The classifier block will be changed to suit to our dataset."
   ]
  },
  {
   "cell_type": "code",
   "execution_count": 12,
   "id": "fb57ebbe",
   "metadata": {
    "ExecuteTime": {
     "end_time": "2021-09-21T02:46:03.876015Z",
     "start_time": "2021-09-21T02:46:01.230241Z"
    }
   },
   "outputs": [],
   "source": [
    "def model():\n",
    "    conv_model = resnet50.ResNet50(weights='imagenet', include_top=False, input_shape=(224,224,3))\n",
    "\n",
    "    for layer in conv_model.layers:\n",
    "        layer.trainable = False\n",
    "\n",
    "    x = keras.layers.GlobalAveragePooling2D()(conv_model.output)\n",
    "    x = keras.layers.BatchNormalization()(x)\n",
    "    x = keras.layers.Dense(512, activation='relu')(x)\n",
    "    x = keras.layers.Dense(256, activation='relu')(x)\n",
    "    x = keras.layers.Dropout(0.2)(x)\n",
    "\n",
    "    predictions = keras.layers.Dense(3, activation='softmax')(x)\n",
    "    full_model = keras.models.Model(inputs=conv_model.input, outputs=predictions)\n",
    "\n",
    "    return full_model"
   ]
  },
  {
   "cell_type": "code",
   "execution_count": 13,
   "id": "2d3a7a6b",
   "metadata": {},
   "outputs": [
    {
     "name": "stdout",
     "output_type": "stream",
     "text": [
      "Model: \"model\"\n",
      "__________________________________________________________________________________________________\n",
      "Layer (type)                    Output Shape         Param #     Connected to                     \n",
      "==================================================================================================\n",
      "input_1 (InputLayer)            [(None, 224, 224, 3) 0                                            \n",
      "__________________________________________________________________________________________________\n",
      "conv1_pad (ZeroPadding2D)       (None, 230, 230, 3)  0           input_1[0][0]                    \n",
      "__________________________________________________________________________________________________\n",
      "conv1_conv (Conv2D)             (None, 112, 112, 64) 9472        conv1_pad[0][0]                  \n",
      "__________________________________________________________________________________________________\n",
      "conv1_bn (BatchNormalization)   (None, 112, 112, 64) 256         conv1_conv[0][0]                 \n",
      "__________________________________________________________________________________________________\n",
      "conv1_relu (Activation)         (None, 112, 112, 64) 0           conv1_bn[0][0]                   \n",
      "__________________________________________________________________________________________________\n",
      "pool1_pad (ZeroPadding2D)       (None, 114, 114, 64) 0           conv1_relu[0][0]                 \n",
      "__________________________________________________________________________________________________\n",
      "pool1_pool (MaxPooling2D)       (None, 56, 56, 64)   0           pool1_pad[0][0]                  \n",
      "__________________________________________________________________________________________________\n",
      "conv2_block1_1_conv (Conv2D)    (None, 56, 56, 64)   4160        pool1_pool[0][0]                 \n",
      "__________________________________________________________________________________________________\n",
      "conv2_block1_1_bn (BatchNormali (None, 56, 56, 64)   256         conv2_block1_1_conv[0][0]        \n",
      "__________________________________________________________________________________________________\n",
      "conv2_block1_1_relu (Activation (None, 56, 56, 64)   0           conv2_block1_1_bn[0][0]          \n",
      "__________________________________________________________________________________________________\n",
      "conv2_block1_2_conv (Conv2D)    (None, 56, 56, 64)   36928       conv2_block1_1_relu[0][0]        \n",
      "__________________________________________________________________________________________________\n",
      "conv2_block1_2_bn (BatchNormali (None, 56, 56, 64)   256         conv2_block1_2_conv[0][0]        \n",
      "__________________________________________________________________________________________________\n",
      "conv2_block1_2_relu (Activation (None, 56, 56, 64)   0           conv2_block1_2_bn[0][0]          \n",
      "__________________________________________________________________________________________________\n",
      "conv2_block1_0_conv (Conv2D)    (None, 56, 56, 256)  16640       pool1_pool[0][0]                 \n",
      "__________________________________________________________________________________________________\n",
      "conv2_block1_3_conv (Conv2D)    (None, 56, 56, 256)  16640       conv2_block1_2_relu[0][0]        \n",
      "__________________________________________________________________________________________________\n",
      "conv2_block1_0_bn (BatchNormali (None, 56, 56, 256)  1024        conv2_block1_0_conv[0][0]        \n",
      "__________________________________________________________________________________________________\n",
      "conv2_block1_3_bn (BatchNormali (None, 56, 56, 256)  1024        conv2_block1_3_conv[0][0]        \n",
      "__________________________________________________________________________________________________\n",
      "conv2_block1_add (Add)          (None, 56, 56, 256)  0           conv2_block1_0_bn[0][0]          \n",
      "                                                                 conv2_block1_3_bn[0][0]          \n",
      "__________________________________________________________________________________________________\n",
      "conv2_block1_out (Activation)   (None, 56, 56, 256)  0           conv2_block1_add[0][0]           \n",
      "__________________________________________________________________________________________________\n",
      "conv2_block2_1_conv (Conv2D)    (None, 56, 56, 64)   16448       conv2_block1_out[0][0]           \n",
      "__________________________________________________________________________________________________\n",
      "conv2_block2_1_bn (BatchNormali (None, 56, 56, 64)   256         conv2_block2_1_conv[0][0]        \n",
      "__________________________________________________________________________________________________\n",
      "conv2_block2_1_relu (Activation (None, 56, 56, 64)   0           conv2_block2_1_bn[0][0]          \n",
      "__________________________________________________________________________________________________\n",
      "conv2_block2_2_conv (Conv2D)    (None, 56, 56, 64)   36928       conv2_block2_1_relu[0][0]        \n",
      "__________________________________________________________________________________________________\n",
      "conv2_block2_2_bn (BatchNormali (None, 56, 56, 64)   256         conv2_block2_2_conv[0][0]        \n",
      "__________________________________________________________________________________________________\n",
      "conv2_block2_2_relu (Activation (None, 56, 56, 64)   0           conv2_block2_2_bn[0][0]          \n",
      "__________________________________________________________________________________________________\n",
      "conv2_block2_3_conv (Conv2D)    (None, 56, 56, 256)  16640       conv2_block2_2_relu[0][0]        \n",
      "__________________________________________________________________________________________________\n",
      "conv2_block2_3_bn (BatchNormali (None, 56, 56, 256)  1024        conv2_block2_3_conv[0][0]        \n",
      "__________________________________________________________________________________________________\n",
      "conv2_block2_add (Add)          (None, 56, 56, 256)  0           conv2_block1_out[0][0]           \n",
      "                                                                 conv2_block2_3_bn[0][0]          \n",
      "__________________________________________________________________________________________________\n",
      "conv2_block2_out (Activation)   (None, 56, 56, 256)  0           conv2_block2_add[0][0]           \n",
      "__________________________________________________________________________________________________\n",
      "conv2_block3_1_conv (Conv2D)    (None, 56, 56, 64)   16448       conv2_block2_out[0][0]           \n",
      "__________________________________________________________________________________________________\n",
      "conv2_block3_1_bn (BatchNormali (None, 56, 56, 64)   256         conv2_block3_1_conv[0][0]        \n",
      "__________________________________________________________________________________________________\n",
      "conv2_block3_1_relu (Activation (None, 56, 56, 64)   0           conv2_block3_1_bn[0][0]          \n",
      "__________________________________________________________________________________________________\n",
      "conv2_block3_2_conv (Conv2D)    (None, 56, 56, 64)   36928       conv2_block3_1_relu[0][0]        \n",
      "__________________________________________________________________________________________________\n",
      "conv2_block3_2_bn (BatchNormali (None, 56, 56, 64)   256         conv2_block3_2_conv[0][0]        \n",
      "__________________________________________________________________________________________________\n",
      "conv2_block3_2_relu (Activation (None, 56, 56, 64)   0           conv2_block3_2_bn[0][0]          \n",
      "__________________________________________________________________________________________________\n",
      "conv2_block3_3_conv (Conv2D)    (None, 56, 56, 256)  16640       conv2_block3_2_relu[0][0]        \n",
      "__________________________________________________________________________________________________\n",
      "conv2_block3_3_bn (BatchNormali (None, 56, 56, 256)  1024        conv2_block3_3_conv[0][0]        \n",
      "__________________________________________________________________________________________________\n",
      "conv2_block3_add (Add)          (None, 56, 56, 256)  0           conv2_block2_out[0][0]           \n",
      "                                                                 conv2_block3_3_bn[0][0]          \n",
      "__________________________________________________________________________________________________\n",
      "conv2_block3_out (Activation)   (None, 56, 56, 256)  0           conv2_block3_add[0][0]           \n",
      "__________________________________________________________________________________________________\n",
      "conv3_block1_1_conv (Conv2D)    (None, 28, 28, 128)  32896       conv2_block3_out[0][0]           \n",
      "__________________________________________________________________________________________________\n",
      "conv3_block1_1_bn (BatchNormali (None, 28, 28, 128)  512         conv3_block1_1_conv[0][0]        \n",
      "__________________________________________________________________________________________________\n",
      "conv3_block1_1_relu (Activation (None, 28, 28, 128)  0           conv3_block1_1_bn[0][0]          \n",
      "__________________________________________________________________________________________________\n",
      "conv3_block1_2_conv (Conv2D)    (None, 28, 28, 128)  147584      conv3_block1_1_relu[0][0]        \n",
      "__________________________________________________________________________________________________\n",
      "conv3_block1_2_bn (BatchNormali (None, 28, 28, 128)  512         conv3_block1_2_conv[0][0]        \n",
      "__________________________________________________________________________________________________\n",
      "conv3_block1_2_relu (Activation (None, 28, 28, 128)  0           conv3_block1_2_bn[0][0]          \n",
      "__________________________________________________________________________________________________\n",
      "conv3_block1_0_conv (Conv2D)    (None, 28, 28, 512)  131584      conv2_block3_out[0][0]           \n",
      "__________________________________________________________________________________________________\n",
      "conv3_block1_3_conv (Conv2D)    (None, 28, 28, 512)  66048       conv3_block1_2_relu[0][0]        \n",
      "__________________________________________________________________________________________________\n",
      "conv3_block1_0_bn (BatchNormali (None, 28, 28, 512)  2048        conv3_block1_0_conv[0][0]        \n",
      "__________________________________________________________________________________________________\n",
      "conv3_block1_3_bn (BatchNormali (None, 28, 28, 512)  2048        conv3_block1_3_conv[0][0]        \n",
      "__________________________________________________________________________________________________\n",
      "conv3_block1_add (Add)          (None, 28, 28, 512)  0           conv3_block1_0_bn[0][0]          \n",
      "                                                                 conv3_block1_3_bn[0][0]          \n",
      "__________________________________________________________________________________________________\n",
      "conv3_block1_out (Activation)   (None, 28, 28, 512)  0           conv3_block1_add[0][0]           \n",
      "__________________________________________________________________________________________________\n",
      "conv3_block2_1_conv (Conv2D)    (None, 28, 28, 128)  65664       conv3_block1_out[0][0]           \n",
      "__________________________________________________________________________________________________\n",
      "conv3_block2_1_bn (BatchNormali (None, 28, 28, 128)  512         conv3_block2_1_conv[0][0]        \n",
      "__________________________________________________________________________________________________\n",
      "conv3_block2_1_relu (Activation (None, 28, 28, 128)  0           conv3_block2_1_bn[0][0]          \n",
      "__________________________________________________________________________________________________\n",
      "conv3_block2_2_conv (Conv2D)    (None, 28, 28, 128)  147584      conv3_block2_1_relu[0][0]        \n",
      "__________________________________________________________________________________________________\n",
      "conv3_block2_2_bn (BatchNormali (None, 28, 28, 128)  512         conv3_block2_2_conv[0][0]        \n",
      "__________________________________________________________________________________________________\n",
      "conv3_block2_2_relu (Activation (None, 28, 28, 128)  0           conv3_block2_2_bn[0][0]          \n",
      "__________________________________________________________________________________________________\n",
      "conv3_block2_3_conv (Conv2D)    (None, 28, 28, 512)  66048       conv3_block2_2_relu[0][0]        \n",
      "__________________________________________________________________________________________________\n",
      "conv3_block2_3_bn (BatchNormali (None, 28, 28, 512)  2048        conv3_block2_3_conv[0][0]        \n",
      "__________________________________________________________________________________________________\n",
      "conv3_block2_add (Add)          (None, 28, 28, 512)  0           conv3_block1_out[0][0]           \n",
      "                                                                 conv3_block2_3_bn[0][0]          \n",
      "__________________________________________________________________________________________________\n",
      "conv3_block2_out (Activation)   (None, 28, 28, 512)  0           conv3_block2_add[0][0]           \n",
      "__________________________________________________________________________________________________\n",
      "conv3_block3_1_conv (Conv2D)    (None, 28, 28, 128)  65664       conv3_block2_out[0][0]           \n",
      "__________________________________________________________________________________________________\n",
      "conv3_block3_1_bn (BatchNormali (None, 28, 28, 128)  512         conv3_block3_1_conv[0][0]        \n",
      "__________________________________________________________________________________________________\n",
      "conv3_block3_1_relu (Activation (None, 28, 28, 128)  0           conv3_block3_1_bn[0][0]          \n",
      "__________________________________________________________________________________________________\n",
      "conv3_block3_2_conv (Conv2D)    (None, 28, 28, 128)  147584      conv3_block3_1_relu[0][0]        \n",
      "__________________________________________________________________________________________________\n",
      "conv3_block3_2_bn (BatchNormali (None, 28, 28, 128)  512         conv3_block3_2_conv[0][0]        \n",
      "__________________________________________________________________________________________________\n",
      "conv3_block3_2_relu (Activation (None, 28, 28, 128)  0           conv3_block3_2_bn[0][0]          \n",
      "__________________________________________________________________________________________________\n",
      "conv3_block3_3_conv (Conv2D)    (None, 28, 28, 512)  66048       conv3_block3_2_relu[0][0]        \n",
      "__________________________________________________________________________________________________\n",
      "conv3_block3_3_bn (BatchNormali (None, 28, 28, 512)  2048        conv3_block3_3_conv[0][0]        \n",
      "__________________________________________________________________________________________________\n",
      "conv3_block3_add (Add)          (None, 28, 28, 512)  0           conv3_block2_out[0][0]           \n",
      "                                                                 conv3_block3_3_bn[0][0]          \n",
      "__________________________________________________________________________________________________\n",
      "conv3_block3_out (Activation)   (None, 28, 28, 512)  0           conv3_block3_add[0][0]           \n",
      "__________________________________________________________________________________________________\n",
      "conv3_block4_1_conv (Conv2D)    (None, 28, 28, 128)  65664       conv3_block3_out[0][0]           \n",
      "__________________________________________________________________________________________________\n",
      "conv3_block4_1_bn (BatchNormali (None, 28, 28, 128)  512         conv3_block4_1_conv[0][0]        \n",
      "__________________________________________________________________________________________________\n",
      "conv3_block4_1_relu (Activation (None, 28, 28, 128)  0           conv3_block4_1_bn[0][0]          \n",
      "__________________________________________________________________________________________________\n",
      "conv3_block4_2_conv (Conv2D)    (None, 28, 28, 128)  147584      conv3_block4_1_relu[0][0]        \n",
      "__________________________________________________________________________________________________\n",
      "conv3_block4_2_bn (BatchNormali (None, 28, 28, 128)  512         conv3_block4_2_conv[0][0]        \n",
      "__________________________________________________________________________________________________\n",
      "conv3_block4_2_relu (Activation (None, 28, 28, 128)  0           conv3_block4_2_bn[0][0]          \n",
      "__________________________________________________________________________________________________\n",
      "conv3_block4_3_conv (Conv2D)    (None, 28, 28, 512)  66048       conv3_block4_2_relu[0][0]        \n",
      "__________________________________________________________________________________________________\n",
      "conv3_block4_3_bn (BatchNormali (None, 28, 28, 512)  2048        conv3_block4_3_conv[0][0]        \n",
      "__________________________________________________________________________________________________\n",
      "conv3_block4_add (Add)          (None, 28, 28, 512)  0           conv3_block3_out[0][0]           \n",
      "                                                                 conv3_block4_3_bn[0][0]          \n",
      "__________________________________________________________________________________________________\n",
      "conv3_block4_out (Activation)   (None, 28, 28, 512)  0           conv3_block4_add[0][0]           \n",
      "__________________________________________________________________________________________________\n",
      "conv4_block1_1_conv (Conv2D)    (None, 14, 14, 256)  131328      conv3_block4_out[0][0]           \n",
      "__________________________________________________________________________________________________\n",
      "conv4_block1_1_bn (BatchNormali (None, 14, 14, 256)  1024        conv4_block1_1_conv[0][0]        \n",
      "__________________________________________________________________________________________________\n",
      "conv4_block1_1_relu (Activation (None, 14, 14, 256)  0           conv4_block1_1_bn[0][0]          \n",
      "__________________________________________________________________________________________________\n",
      "conv4_block1_2_conv (Conv2D)    (None, 14, 14, 256)  590080      conv4_block1_1_relu[0][0]        \n",
      "__________________________________________________________________________________________________\n",
      "conv4_block1_2_bn (BatchNormali (None, 14, 14, 256)  1024        conv4_block1_2_conv[0][0]        \n",
      "__________________________________________________________________________________________________\n",
      "conv4_block1_2_relu (Activation (None, 14, 14, 256)  0           conv4_block1_2_bn[0][0]          \n",
      "__________________________________________________________________________________________________\n",
      "conv4_block1_0_conv (Conv2D)    (None, 14, 14, 1024) 525312      conv3_block4_out[0][0]           \n",
      "__________________________________________________________________________________________________\n",
      "conv4_block1_3_conv (Conv2D)    (None, 14, 14, 1024) 263168      conv4_block1_2_relu[0][0]        \n",
      "__________________________________________________________________________________________________\n",
      "conv4_block1_0_bn (BatchNormali (None, 14, 14, 1024) 4096        conv4_block1_0_conv[0][0]        \n",
      "__________________________________________________________________________________________________\n",
      "conv4_block1_3_bn (BatchNormali (None, 14, 14, 1024) 4096        conv4_block1_3_conv[0][0]        \n",
      "__________________________________________________________________________________________________\n",
      "conv4_block1_add (Add)          (None, 14, 14, 1024) 0           conv4_block1_0_bn[0][0]          \n",
      "                                                                 conv4_block1_3_bn[0][0]          \n",
      "__________________________________________________________________________________________________\n",
      "conv4_block1_out (Activation)   (None, 14, 14, 1024) 0           conv4_block1_add[0][0]           \n",
      "__________________________________________________________________________________________________\n",
      "conv4_block2_1_conv (Conv2D)    (None, 14, 14, 256)  262400      conv4_block1_out[0][0]           \n",
      "__________________________________________________________________________________________________\n",
      "conv4_block2_1_bn (BatchNormali (None, 14, 14, 256)  1024        conv4_block2_1_conv[0][0]        \n",
      "__________________________________________________________________________________________________\n",
      "conv4_block2_1_relu (Activation (None, 14, 14, 256)  0           conv4_block2_1_bn[0][0]          \n",
      "__________________________________________________________________________________________________\n",
      "conv4_block2_2_conv (Conv2D)    (None, 14, 14, 256)  590080      conv4_block2_1_relu[0][0]        \n",
      "__________________________________________________________________________________________________\n",
      "conv4_block2_2_bn (BatchNormali (None, 14, 14, 256)  1024        conv4_block2_2_conv[0][0]        \n",
      "__________________________________________________________________________________________________\n",
      "conv4_block2_2_relu (Activation (None, 14, 14, 256)  0           conv4_block2_2_bn[0][0]          \n",
      "__________________________________________________________________________________________________\n",
      "conv4_block2_3_conv (Conv2D)    (None, 14, 14, 1024) 263168      conv4_block2_2_relu[0][0]        \n",
      "__________________________________________________________________________________________________\n",
      "conv4_block2_3_bn (BatchNormali (None, 14, 14, 1024) 4096        conv4_block2_3_conv[0][0]        \n",
      "__________________________________________________________________________________________________\n",
      "conv4_block2_add (Add)          (None, 14, 14, 1024) 0           conv4_block1_out[0][0]           \n",
      "                                                                 conv4_block2_3_bn[0][0]          \n",
      "__________________________________________________________________________________________________\n",
      "conv4_block2_out (Activation)   (None, 14, 14, 1024) 0           conv4_block2_add[0][0]           \n",
      "__________________________________________________________________________________________________\n",
      "conv4_block3_1_conv (Conv2D)    (None, 14, 14, 256)  262400      conv4_block2_out[0][0]           \n",
      "__________________________________________________________________________________________________\n",
      "conv4_block3_1_bn (BatchNormali (None, 14, 14, 256)  1024        conv4_block3_1_conv[0][0]        \n",
      "__________________________________________________________________________________________________\n",
      "conv4_block3_1_relu (Activation (None, 14, 14, 256)  0           conv4_block3_1_bn[0][0]          \n",
      "__________________________________________________________________________________________________\n",
      "conv4_block3_2_conv (Conv2D)    (None, 14, 14, 256)  590080      conv4_block3_1_relu[0][0]        \n",
      "__________________________________________________________________________________________________\n",
      "conv4_block3_2_bn (BatchNormali (None, 14, 14, 256)  1024        conv4_block3_2_conv[0][0]        \n",
      "__________________________________________________________________________________________________\n",
      "conv4_block3_2_relu (Activation (None, 14, 14, 256)  0           conv4_block3_2_bn[0][0]          \n",
      "__________________________________________________________________________________________________\n",
      "conv4_block3_3_conv (Conv2D)    (None, 14, 14, 1024) 263168      conv4_block3_2_relu[0][0]        \n",
      "__________________________________________________________________________________________________\n",
      "conv4_block3_3_bn (BatchNormali (None, 14, 14, 1024) 4096        conv4_block3_3_conv[0][0]        \n",
      "__________________________________________________________________________________________________\n",
      "conv4_block3_add (Add)          (None, 14, 14, 1024) 0           conv4_block2_out[0][0]           \n",
      "                                                                 conv4_block3_3_bn[0][0]          \n",
      "__________________________________________________________________________________________________\n",
      "conv4_block3_out (Activation)   (None, 14, 14, 1024) 0           conv4_block3_add[0][0]           \n",
      "__________________________________________________________________________________________________\n",
      "conv4_block4_1_conv (Conv2D)    (None, 14, 14, 256)  262400      conv4_block3_out[0][0]           \n",
      "__________________________________________________________________________________________________\n",
      "conv4_block4_1_bn (BatchNormali (None, 14, 14, 256)  1024        conv4_block4_1_conv[0][0]        \n",
      "__________________________________________________________________________________________________\n",
      "conv4_block4_1_relu (Activation (None, 14, 14, 256)  0           conv4_block4_1_bn[0][0]          \n",
      "__________________________________________________________________________________________________\n",
      "conv4_block4_2_conv (Conv2D)    (None, 14, 14, 256)  590080      conv4_block4_1_relu[0][0]        \n",
      "__________________________________________________________________________________________________\n",
      "conv4_block4_2_bn (BatchNormali (None, 14, 14, 256)  1024        conv4_block4_2_conv[0][0]        \n",
      "__________________________________________________________________________________________________\n",
      "conv4_block4_2_relu (Activation (None, 14, 14, 256)  0           conv4_block4_2_bn[0][0]          \n",
      "__________________________________________________________________________________________________\n",
      "conv4_block4_3_conv (Conv2D)    (None, 14, 14, 1024) 263168      conv4_block4_2_relu[0][0]        \n",
      "__________________________________________________________________________________________________\n",
      "conv4_block4_3_bn (BatchNormali (None, 14, 14, 1024) 4096        conv4_block4_3_conv[0][0]        \n",
      "__________________________________________________________________________________________________\n",
      "conv4_block4_add (Add)          (None, 14, 14, 1024) 0           conv4_block3_out[0][0]           \n",
      "                                                                 conv4_block4_3_bn[0][0]          \n",
      "__________________________________________________________________________________________________\n",
      "conv4_block4_out (Activation)   (None, 14, 14, 1024) 0           conv4_block4_add[0][0]           \n",
      "__________________________________________________________________________________________________\n",
      "conv4_block5_1_conv (Conv2D)    (None, 14, 14, 256)  262400      conv4_block4_out[0][0]           \n",
      "__________________________________________________________________________________________________\n",
      "conv4_block5_1_bn (BatchNormali (None, 14, 14, 256)  1024        conv4_block5_1_conv[0][0]        \n",
      "__________________________________________________________________________________________________\n",
      "conv4_block5_1_relu (Activation (None, 14, 14, 256)  0           conv4_block5_1_bn[0][0]          \n",
      "__________________________________________________________________________________________________\n",
      "conv4_block5_2_conv (Conv2D)    (None, 14, 14, 256)  590080      conv4_block5_1_relu[0][0]        \n",
      "__________________________________________________________________________________________________\n",
      "conv4_block5_2_bn (BatchNormali (None, 14, 14, 256)  1024        conv4_block5_2_conv[0][0]        \n",
      "__________________________________________________________________________________________________\n",
      "conv4_block5_2_relu (Activation (None, 14, 14, 256)  0           conv4_block5_2_bn[0][0]          \n",
      "__________________________________________________________________________________________________\n",
      "conv4_block5_3_conv (Conv2D)    (None, 14, 14, 1024) 263168      conv4_block5_2_relu[0][0]        \n",
      "__________________________________________________________________________________________________\n",
      "conv4_block5_3_bn (BatchNormali (None, 14, 14, 1024) 4096        conv4_block5_3_conv[0][0]        \n",
      "__________________________________________________________________________________________________\n",
      "conv4_block5_add (Add)          (None, 14, 14, 1024) 0           conv4_block4_out[0][0]           \n",
      "                                                                 conv4_block5_3_bn[0][0]          \n",
      "__________________________________________________________________________________________________\n",
      "conv4_block5_out (Activation)   (None, 14, 14, 1024) 0           conv4_block5_add[0][0]           \n",
      "__________________________________________________________________________________________________\n",
      "conv4_block6_1_conv (Conv2D)    (None, 14, 14, 256)  262400      conv4_block5_out[0][0]           \n",
      "__________________________________________________________________________________________________\n",
      "conv4_block6_1_bn (BatchNormali (None, 14, 14, 256)  1024        conv4_block6_1_conv[0][0]        \n",
      "__________________________________________________________________________________________________\n",
      "conv4_block6_1_relu (Activation (None, 14, 14, 256)  0           conv4_block6_1_bn[0][0]          \n",
      "__________________________________________________________________________________________________\n",
      "conv4_block6_2_conv (Conv2D)    (None, 14, 14, 256)  590080      conv4_block6_1_relu[0][0]        \n",
      "__________________________________________________________________________________________________\n",
      "conv4_block6_2_bn (BatchNormali (None, 14, 14, 256)  1024        conv4_block6_2_conv[0][0]        \n",
      "__________________________________________________________________________________________________\n",
      "conv4_block6_2_relu (Activation (None, 14, 14, 256)  0           conv4_block6_2_bn[0][0]          \n",
      "__________________________________________________________________________________________________\n",
      "conv4_block6_3_conv (Conv2D)    (None, 14, 14, 1024) 263168      conv4_block6_2_relu[0][0]        \n",
      "__________________________________________________________________________________________________\n",
      "conv4_block6_3_bn (BatchNormali (None, 14, 14, 1024) 4096        conv4_block6_3_conv[0][0]        \n",
      "__________________________________________________________________________________________________\n",
      "conv4_block6_add (Add)          (None, 14, 14, 1024) 0           conv4_block5_out[0][0]           \n",
      "                                                                 conv4_block6_3_bn[0][0]          \n",
      "__________________________________________________________________________________________________\n",
      "conv4_block6_out (Activation)   (None, 14, 14, 1024) 0           conv4_block6_add[0][0]           \n",
      "__________________________________________________________________________________________________\n",
      "conv5_block1_1_conv (Conv2D)    (None, 7, 7, 512)    524800      conv4_block6_out[0][0]           \n",
      "__________________________________________________________________________________________________\n",
      "conv5_block1_1_bn (BatchNormali (None, 7, 7, 512)    2048        conv5_block1_1_conv[0][0]        \n",
      "__________________________________________________________________________________________________\n",
      "conv5_block1_1_relu (Activation (None, 7, 7, 512)    0           conv5_block1_1_bn[0][0]          \n",
      "__________________________________________________________________________________________________\n",
      "conv5_block1_2_conv (Conv2D)    (None, 7, 7, 512)    2359808     conv5_block1_1_relu[0][0]        \n",
      "__________________________________________________________________________________________________\n",
      "conv5_block1_2_bn (BatchNormali (None, 7, 7, 512)    2048        conv5_block1_2_conv[0][0]        \n",
      "__________________________________________________________________________________________________\n",
      "conv5_block1_2_relu (Activation (None, 7, 7, 512)    0           conv5_block1_2_bn[0][0]          \n",
      "__________________________________________________________________________________________________\n",
      "conv5_block1_0_conv (Conv2D)    (None, 7, 7, 2048)   2099200     conv4_block6_out[0][0]           \n",
      "__________________________________________________________________________________________________\n",
      "conv5_block1_3_conv (Conv2D)    (None, 7, 7, 2048)   1050624     conv5_block1_2_relu[0][0]        \n",
      "__________________________________________________________________________________________________\n",
      "conv5_block1_0_bn (BatchNormali (None, 7, 7, 2048)   8192        conv5_block1_0_conv[0][0]        \n",
      "__________________________________________________________________________________________________\n",
      "conv5_block1_3_bn (BatchNormali (None, 7, 7, 2048)   8192        conv5_block1_3_conv[0][0]        \n",
      "__________________________________________________________________________________________________\n",
      "conv5_block1_add (Add)          (None, 7, 7, 2048)   0           conv5_block1_0_bn[0][0]          \n",
      "                                                                 conv5_block1_3_bn[0][0]          \n",
      "__________________________________________________________________________________________________\n",
      "conv5_block1_out (Activation)   (None, 7, 7, 2048)   0           conv5_block1_add[0][0]           \n",
      "__________________________________________________________________________________________________\n",
      "conv5_block2_1_conv (Conv2D)    (None, 7, 7, 512)    1049088     conv5_block1_out[0][0]           \n",
      "__________________________________________________________________________________________________\n",
      "conv5_block2_1_bn (BatchNormali (None, 7, 7, 512)    2048        conv5_block2_1_conv[0][0]        \n",
      "__________________________________________________________________________________________________\n",
      "conv5_block2_1_relu (Activation (None, 7, 7, 512)    0           conv5_block2_1_bn[0][0]          \n",
      "__________________________________________________________________________________________________\n",
      "conv5_block2_2_conv (Conv2D)    (None, 7, 7, 512)    2359808     conv5_block2_1_relu[0][0]        \n",
      "__________________________________________________________________________________________________\n",
      "conv5_block2_2_bn (BatchNormali (None, 7, 7, 512)    2048        conv5_block2_2_conv[0][0]        \n",
      "__________________________________________________________________________________________________\n",
      "conv5_block2_2_relu (Activation (None, 7, 7, 512)    0           conv5_block2_2_bn[0][0]          \n",
      "__________________________________________________________________________________________________\n",
      "conv5_block2_3_conv (Conv2D)    (None, 7, 7, 2048)   1050624     conv5_block2_2_relu[0][0]        \n",
      "__________________________________________________________________________________________________\n",
      "conv5_block2_3_bn (BatchNormali (None, 7, 7, 2048)   8192        conv5_block2_3_conv[0][0]        \n",
      "__________________________________________________________________________________________________\n",
      "conv5_block2_add (Add)          (None, 7, 7, 2048)   0           conv5_block1_out[0][0]           \n",
      "                                                                 conv5_block2_3_bn[0][0]          \n",
      "__________________________________________________________________________________________________\n",
      "conv5_block2_out (Activation)   (None, 7, 7, 2048)   0           conv5_block2_add[0][0]           \n",
      "__________________________________________________________________________________________________\n",
      "conv5_block3_1_conv (Conv2D)    (None, 7, 7, 512)    1049088     conv5_block2_out[0][0]           \n",
      "__________________________________________________________________________________________________\n",
      "conv5_block3_1_bn (BatchNormali (None, 7, 7, 512)    2048        conv5_block3_1_conv[0][0]        \n",
      "__________________________________________________________________________________________________\n",
      "conv5_block3_1_relu (Activation (None, 7, 7, 512)    0           conv5_block3_1_bn[0][0]          \n",
      "__________________________________________________________________________________________________\n",
      "conv5_block3_2_conv (Conv2D)    (None, 7, 7, 512)    2359808     conv5_block3_1_relu[0][0]        \n",
      "__________________________________________________________________________________________________\n",
      "conv5_block3_2_bn (BatchNormali (None, 7, 7, 512)    2048        conv5_block3_2_conv[0][0]        \n",
      "__________________________________________________________________________________________________\n",
      "conv5_block3_2_relu (Activation (None, 7, 7, 512)    0           conv5_block3_2_bn[0][0]          \n",
      "__________________________________________________________________________________________________\n",
      "conv5_block3_3_conv (Conv2D)    (None, 7, 7, 2048)   1050624     conv5_block3_2_relu[0][0]        \n",
      "__________________________________________________________________________________________________\n",
      "conv5_block3_3_bn (BatchNormali (None, 7, 7, 2048)   8192        conv5_block3_3_conv[0][0]        \n",
      "__________________________________________________________________________________________________\n",
      "conv5_block3_add (Add)          (None, 7, 7, 2048)   0           conv5_block2_out[0][0]           \n",
      "                                                                 conv5_block3_3_bn[0][0]          \n",
      "__________________________________________________________________________________________________\n",
      "conv5_block3_out (Activation)   (None, 7, 7, 2048)   0           conv5_block3_add[0][0]           \n",
      "__________________________________________________________________________________________________\n",
      "global_average_pooling2d (Globa (None, 2048)         0           conv5_block3_out[0][0]           \n",
      "__________________________________________________________________________________________________\n",
      "batch_normalization (BatchNorma (None, 2048)         8192        global_average_pooling2d[0][0]   \n",
      "__________________________________________________________________________________________________\n",
      "dense (Dense)                   (None, 512)          1049088     batch_normalization[0][0]        \n",
      "__________________________________________________________________________________________________\n",
      "dense_1 (Dense)                 (None, 256)          131328      dense[0][0]                      \n",
      "__________________________________________________________________________________________________\n",
      "dropout (Dropout)               (None, 256)          0           dense_1[0][0]                    \n",
      "__________________________________________________________________________________________________\n",
      "dense_2 (Dense)                 (None, 3)            771         dropout[0][0]                    \n",
      "==================================================================================================\n",
      "Total params: 24,777,091\n",
      "Trainable params: 1,185,283\n",
      "Non-trainable params: 23,591,808\n",
      "__________________________________________________________________________________________________\n"
     ]
    }
   ],
   "source": [
    "full_model = model()\n",
    "full_model.summary()"
   ]
  },
  {
   "cell_type": "code",
   "execution_count": 14,
   "id": "f8f08ffa",
   "metadata": {},
   "outputs": [
    {
     "ename": "NameError",
     "evalue": "name 'stopper' is not defined",
     "output_type": "error",
     "traceback": [
      "\u001b[1;31m---------------------------------------------------------------------------\u001b[0m",
      "\u001b[1;31mNameError\u001b[0m                                 Traceback (most recent call last)",
      "\u001b[1;32m~\\AppData\\Local\\Temp/ipykernel_28316/2329210996.py\u001b[0m in \u001b[0;36m<module>\u001b[1;34m\u001b[0m\n\u001b[1;32m----> 1\u001b[1;33m \u001b[0mstopper\u001b[0m\u001b[1;33m\u001b[0m\u001b[1;33m\u001b[0m\u001b[0m\n\u001b[0m",
      "\u001b[1;31mNameError\u001b[0m: name 'stopper' is not defined"
     ]
    }
   ],
   "source": [
    "stopper"
   ]
  },
  {
   "cell_type": "markdown",
   "id": "9b0da3af",
   "metadata": {},
   "source": [
    "## Hyper-Parameter Tuning"
   ]
  },
  {
   "cell_type": "markdown",
   "id": "855eebf2",
   "metadata": {},
   "source": [
    "We will check the parameters that yielded the best results. A set of values on chosen parameters is given. The one that will yield the best results will be used for prediction."
   ]
  },
  {
   "cell_type": "markdown",
   "id": "4879c732",
   "metadata": {},
   "source": [
    "### Model Parameters"
   ]
  },
  {
   "cell_type": "code",
   "execution_count": 18,
   "id": "e1cb7e62",
   "metadata": {
    "ExecuteTime": {
     "end_time": "2021-09-21T02:46:03.890975Z",
     "start_time": "2021-09-21T02:46:03.880006Z"
    }
   },
   "outputs": [],
   "source": [
    "#kfold parameters\n",
    "Y = df2[['label']]\n",
    "skf = StratifiedKFold(n_splits = 5, random_state = 69, shuffle = True)\n",
    "\n",
    "#initialize parameters\n",
    "VALIDATION_ACCURACY = []                          #holds all validation_accuracy\n",
    "VALIDATION_LOSS = []                              #holds all validation_loss\n",
    "image_dir = directory + \"/ToBeUsed/train_set\"     #where the train set images are stored\n",
    "batch_size_arr = [8]                              #batch size\n",
    "fold_var = 1                                      #number of fold of the model\n",
    "n = len(df2)                                      #number of data in train set\n",
    "num_epochs_arr = [20]                             #number of epochs\n",
    "dim = (224,224)                                   #required dimensions for process_unit (ResNet50)\n",
    "lr_arr = [0.0001]                                 #learning rate Adamax\n",
    "\n",
    "param_arr = []                                    #holds the parameter values per combination\n",
    "val_acc_arr = []                                  #holds the set of validation accuracy per combination\n",
    "val_loss_arr = []                                 #holds the set of validation loss per combination\n",
    "val_acc_means = []                                #holds the means of all set of validation loss per combination\n",
    "val_loss_means = []                               #holds the means of all set of validation loss per combination"
   ]
  },
  {
   "cell_type": "markdown",
   "id": "716fb1fa",
   "metadata": {},
   "source": [
    "Train the model per combination of parameters."
   ]
  },
  {
   "cell_type": "code",
   "execution_count": 19,
   "id": "97303874",
   "metadata": {
    "ExecuteTime": {
     "end_time": "2021-09-21T02:53:39.179753Z",
     "start_time": "2021-09-21T02:46:03.892970Z"
    },
    "scrolled": true
   },
   "outputs": [
    {
     "name": "stdout",
     "output_type": "stream",
     "text": [
      "Found 432 validated image filenames belonging to 3 classes.\n",
      "Found 108 validated image filenames belonging to 3 classes.\n",
      "Fold number 1\n",
      "Epoch 1/20\n",
      "54/54 [==============================] - 14s 188ms/step - loss: 1.0040 - accuracy: 0.5139 - val_loss: 0.9736 - val_accuracy: 0.5463\n",
      "\n",
      "Epoch 00001: val_accuracy improved from -inf to 0.54630, saving model to C:/Users/user/Desktop/Model/saved_models_1\\model_1.h5\n"
     ]
    },
    {
     "name": "stderr",
     "output_type": "stream",
     "text": [
      "C:\\Users\\user\\anaconda3\\envs\\tensorflow25\\lib\\site-packages\\tensorflow\\python\\keras\\utils\\generic_utils.py:494: CustomMaskWarning: Custom mask layers require a config and must override get_config. When loading, the custom mask layer must be passed to the custom_objects argument.\n",
      "  warnings.warn('Custom mask layers require a config and must override '\n"
     ]
    },
    {
     "name": "stdout",
     "output_type": "stream",
     "text": [
      "Epoch 2/20\n",
      "54/54 [==============================] - 8s 143ms/step - loss: 0.8423 - accuracy: 0.6227 - val_loss: 0.8325 - val_accuracy: 0.6667\n",
      "\n",
      "Epoch 00002: val_accuracy improved from 0.54630 to 0.66667, saving model to C:/Users/user/Desktop/Model/saved_models_1\\model_1.h5\n",
      "Epoch 3/20\n",
      "54/54 [==============================] - 7s 132ms/step - loss: 0.7320 - accuracy: 0.6852 - val_loss: 0.7686 - val_accuracy: 0.7315\n",
      "\n",
      "Epoch 00003: val_accuracy improved from 0.66667 to 0.73148, saving model to C:/Users/user/Desktop/Model/saved_models_1\\model_1.h5\n",
      "Epoch 4/20\n",
      "54/54 [==============================] - 7s 133ms/step - loss: 0.6498 - accuracy: 0.7199 - val_loss: 0.7027 - val_accuracy: 0.7500\n",
      "\n",
      "Epoch 00004: val_accuracy improved from 0.73148 to 0.75000, saving model to C:/Users/user/Desktop/Model/saved_models_1\\model_1.h5\n",
      "Epoch 5/20\n",
      "54/54 [==============================] - 7s 126ms/step - loss: 0.6518 - accuracy: 0.7292 - val_loss: 0.6057 - val_accuracy: 0.7593\n",
      "\n",
      "Epoch 00005: val_accuracy improved from 0.75000 to 0.75926, saving model to C:/Users/user/Desktop/Model/saved_models_1\\model_1.h5\n",
      "Epoch 6/20\n",
      "54/54 [==============================] - 7s 123ms/step - loss: 0.5848 - accuracy: 0.7593 - val_loss: 0.5818 - val_accuracy: 0.7315\n",
      "\n",
      "Epoch 00006: val_accuracy did not improve from 0.75926\n",
      "Epoch 7/20\n",
      "54/54 [==============================] - 8s 142ms/step - loss: 0.5728 - accuracy: 0.7593 - val_loss: 0.5633 - val_accuracy: 0.7870\n",
      "\n",
      "Epoch 00007: val_accuracy improved from 0.75926 to 0.78704, saving model to C:/Users/user/Desktop/Model/saved_models_1\\model_1.h5\n",
      "Epoch 8/20\n",
      "54/54 [==============================] - 7s 132ms/step - loss: 0.5736 - accuracy: 0.7569 - val_loss: 0.5007 - val_accuracy: 0.7963\n",
      "\n",
      "Epoch 00008: val_accuracy improved from 0.78704 to 0.79630, saving model to C:/Users/user/Desktop/Model/saved_models_1\\model_1.h5\n",
      "Epoch 9/20\n",
      "54/54 [==============================] - 8s 153ms/step - loss: 0.5789 - accuracy: 0.7431 - val_loss: 0.5435 - val_accuracy: 0.7870\n",
      "\n",
      "Epoch 00009: val_accuracy did not improve from 0.79630\n",
      "Epoch 10/20\n",
      "54/54 [==============================] - 8s 155ms/step - loss: 0.5653 - accuracy: 0.7639 - val_loss: 0.5064 - val_accuracy: 0.8056\n",
      "\n",
      "Epoch 00010: val_accuracy improved from 0.79630 to 0.80556, saving model to C:/Users/user/Desktop/Model/saved_models_1\\model_1.h5\n",
      "Epoch 11/20\n",
      "54/54 [==============================] - 8s 148ms/step - loss: 0.4906 - accuracy: 0.8102 - val_loss: 0.4928 - val_accuracy: 0.8241\n",
      "\n",
      "Epoch 00011: val_accuracy improved from 0.80556 to 0.82407, saving model to C:/Users/user/Desktop/Model/saved_models_1\\model_1.h5\n",
      "Epoch 12/20\n",
      "54/54 [==============================] - 8s 144ms/step - loss: 0.5045 - accuracy: 0.7986 - val_loss: 0.4674 - val_accuracy: 0.7963\n",
      "\n",
      "Epoch 00012: val_accuracy did not improve from 0.82407\n",
      "Epoch 13/20\n",
      "54/54 [==============================] - 9s 158ms/step - loss: 0.5208 - accuracy: 0.8079 - val_loss: 0.5033 - val_accuracy: 0.7963\n",
      "\n",
      "Epoch 00013: val_accuracy did not improve from 0.82407\n",
      "Epoch 14/20\n",
      "54/54 [==============================] - 9s 166ms/step - loss: 0.4749 - accuracy: 0.7801 - val_loss: 0.4528 - val_accuracy: 0.7963\n",
      "\n",
      "Epoch 00014: val_accuracy did not improve from 0.82407\n",
      "Epoch 15/20\n",
      "54/54 [==============================] - 10s 175ms/step - loss: 0.4819 - accuracy: 0.8032 - val_loss: 0.4981 - val_accuracy: 0.7870\n",
      "\n",
      "Epoch 00015: val_accuracy did not improve from 0.82407\n",
      "Epoch 16/20\n",
      "54/54 [==============================] - 9s 165ms/step - loss: 0.4700 - accuracy: 0.8241 - val_loss: 0.4477 - val_accuracy: 0.8241\n",
      "\n",
      "Epoch 00016: val_accuracy did not improve from 0.82407\n",
      "Epoch 17/20\n",
      "54/54 [==============================] - 9s 161ms/step - loss: 0.4305 - accuracy: 0.8148 - val_loss: 0.5119 - val_accuracy: 0.8056\n",
      "\n",
      "Epoch 00017: val_accuracy did not improve from 0.82407\n",
      "Epoch 18/20\n",
      "54/54 [==============================] - 9s 162ms/step - loss: 0.4687 - accuracy: 0.7847 - val_loss: 0.5013 - val_accuracy: 0.7870\n",
      "\n",
      "Epoch 00018: val_accuracy did not improve from 0.82407\n",
      "Epoch 19/20\n",
      "54/54 [==============================] - 7s 132ms/step - loss: 0.4719 - accuracy: 0.8218 - val_loss: 0.4429 - val_accuracy: 0.8241\n",
      "\n",
      "Epoch 00019: val_accuracy did not improve from 0.82407\n",
      "Epoch 20/20\n",
      "54/54 [==============================] - 9s 163ms/step - loss: 0.4349 - accuracy: 0.8009 - val_loss: 0.4720 - val_accuracy: 0.8056\n",
      "\n",
      "Epoch 00020: val_accuracy did not improve from 0.82407\n"
     ]
    },
    {
     "data": {
      "image/png": "[encoded data removed]",
      "text/plain": [
       "<Figure size 432x288 with 1 Axes>"
      ]
     },
     "metadata": {
      "needs_background": "light"
     },
     "output_type": "display_data"
    },
    {
     "data": {
      "image/png": "[encoded data removed]",
      "text/plain": [
       "<Figure size 432x288 with 1 Axes>"
      ]
     },
     "metadata": {
      "needs_background": "light"
     },
     "output_type": "display_data"
    },
    {
     "name": "stdout",
     "output_type": "stream",
     "text": [
      "14/14 [==============================] - 2s 106ms/step - loss: 0.5295 - accuracy: 0.7685\n",
      "{'loss': 0.5295413136482239, 'accuracy': 0.7685185074806213}\n",
      "Found 432 validated image filenames belonging to 3 classes.\n",
      "Found 108 validated image filenames belonging to 3 classes.\n",
      "Fold number 2\n",
      "Epoch 1/20\n",
      "54/54 [==============================] - 17s 228ms/step - loss: 0.9618 - accuracy: 0.5093 - val_loss: 1.1145 - val_accuracy: 0.3981\n",
      "\n",
      "Epoch 00001: val_accuracy improved from -inf to 0.39815, saving model to C:/Users/user/Desktop/Model/saved_models_1\\model_2.h5\n",
      "Epoch 2/20\n",
      "54/54 [==============================] - 10s 192ms/step - loss: 0.8138 - accuracy: 0.6343 - val_loss: 0.9100 - val_accuracy: 0.5370\n",
      "\n",
      "Epoch 00002: val_accuracy improved from 0.39815 to 0.53704, saving model to C:/Users/user/Desktop/Model/saved_models_1\\model_2.h5\n",
      "Epoch 3/20\n",
      "54/54 [==============================] - 9s 172ms/step - loss: 0.7188 - accuracy: 0.6806 - val_loss: 0.8606 - val_accuracy: 0.6111\n",
      "\n",
      "Epoch 00003: val_accuracy improved from 0.53704 to 0.61111, saving model to C:/Users/user/Desktop/Model/saved_models_1\\model_2.h5\n",
      "Epoch 4/20\n",
      "54/54 [==============================] - 9s 162ms/step - loss: 0.6612 - accuracy: 0.7384 - val_loss: 0.7558 - val_accuracy: 0.6852\n",
      "\n",
      "Epoch 00004: val_accuracy improved from 0.61111 to 0.68519, saving model to C:/Users/user/Desktop/Model/saved_models_1\\model_2.h5\n",
      "Epoch 5/20\n",
      "54/54 [==============================] - 10s 182ms/step - loss: 0.6397 - accuracy: 0.7222 - val_loss: 0.7398 - val_accuracy: 0.6759\n",
      "\n",
      "Epoch 00005: val_accuracy did not improve from 0.68519\n",
      "Epoch 6/20\n",
      "54/54 [==============================] - 11s 205ms/step - loss: 0.6064 - accuracy: 0.7500 - val_loss: 0.7025 - val_accuracy: 0.6944\n",
      "\n",
      "Epoch 00006: val_accuracy improved from 0.68519 to 0.69444, saving model to C:/Users/user/Desktop/Model/saved_models_1\\model_2.h5\n",
      "Epoch 7/20\n",
      "54/54 [==============================] - 9s 157ms/step - loss: 0.6021 - accuracy: 0.7431 - val_loss: 0.6238 - val_accuracy: 0.7222\n",
      "\n",
      "Epoch 00007: val_accuracy improved from 0.69444 to 0.72222, saving model to C:/Users/user/Desktop/Model/saved_models_1\\model_2.h5\n",
      "Epoch 8/20\n",
      "54/54 [==============================] - 8s 150ms/step - loss: 0.6103 - accuracy: 0.7407 - val_loss: 0.5822 - val_accuracy: 0.7315\n",
      "\n",
      "Epoch 00008: val_accuracy improved from 0.72222 to 0.73148, saving model to C:/Users/user/Desktop/Model/saved_models_1\\model_2.h5\n",
      "Epoch 9/20\n",
      "54/54 [==============================] - 8s 156ms/step - loss: 0.5352 - accuracy: 0.7731 - val_loss: 0.5834 - val_accuracy: 0.7407\n",
      "\n",
      "Epoch 00009: val_accuracy improved from 0.73148 to 0.74074, saving model to C:/Users/user/Desktop/Model/saved_models_1\\model_2.h5\n",
      "Epoch 10/20\n",
      "54/54 [==============================] - 10s 176ms/step - loss: 0.5642 - accuracy: 0.7639 - val_loss: 0.5646 - val_accuracy: 0.7500\n",
      "\n",
      "Epoch 00010: val_accuracy improved from 0.74074 to 0.75000, saving model to C:/Users/user/Desktop/Model/saved_models_1\\model_2.h5\n",
      "Epoch 11/20\n",
      "54/54 [==============================] - 10s 178ms/step - loss: 0.5083 - accuracy: 0.7778 - val_loss: 0.5570 - val_accuracy: 0.7407\n",
      "\n",
      "Epoch 00011: val_accuracy did not improve from 0.75000\n",
      "Epoch 12/20\n",
      "54/54 [==============================] - 11s 211ms/step - loss: 0.5212 - accuracy: 0.8056 - val_loss: 0.5821 - val_accuracy: 0.7315\n",
      "\n",
      "Epoch 00012: val_accuracy did not improve from 0.75000\n",
      "Epoch 13/20\n",
      "54/54 [==============================] - 10s 184ms/step - loss: 0.4928 - accuracy: 0.8009 - val_loss: 0.5210 - val_accuracy: 0.7593\n",
      "\n",
      "Epoch 00013: val_accuracy improved from 0.75000 to 0.75926, saving model to C:/Users/user/Desktop/Model/saved_models_1\\model_2.h5\n",
      "Epoch 14/20\n",
      "54/54 [==============================] - 10s 185ms/step - loss: 0.4494 - accuracy: 0.8102 - val_loss: 0.4813 - val_accuracy: 0.7685\n",
      "\n",
      "Epoch 00014: val_accuracy improved from 0.75926 to 0.76852, saving model to C:/Users/user/Desktop/Model/saved_models_1\\model_2.h5\n",
      "Epoch 15/20\n",
      "54/54 [==============================] - 10s 180ms/step - loss: 0.4619 - accuracy: 0.8102 - val_loss: 0.4645 - val_accuracy: 0.8148\n",
      "\n",
      "Epoch 00015: val_accuracy improved from 0.76852 to 0.81481, saving model to C:/Users/user/Desktop/Model/saved_models_1\\model_2.h5\n",
      "Epoch 16/20\n",
      "54/54 [==============================] - 9s 157ms/step - loss: 0.4375 - accuracy: 0.8148 - val_loss: 0.4838 - val_accuracy: 0.7963\n",
      "\n",
      "Epoch 00016: val_accuracy did not improve from 0.81481\n",
      "Epoch 17/20\n",
      "54/54 [==============================] - 9s 163ms/step - loss: 0.4631 - accuracy: 0.7963 - val_loss: 0.4958 - val_accuracy: 0.8056\n",
      "\n",
      "Epoch 00017: val_accuracy did not improve from 0.81481\n",
      "Epoch 18/20\n",
      "54/54 [==============================] - 10s 181ms/step - loss: 0.4412 - accuracy: 0.8333 - val_loss: 0.5130 - val_accuracy: 0.7500\n",
      "\n",
      "Epoch 00018: val_accuracy did not improve from 0.81481\n",
      "Epoch 19/20\n",
      "54/54 [==============================] - 9s 162ms/step - loss: 0.4563 - accuracy: 0.8009 - val_loss: 0.4718 - val_accuracy: 0.7870\n",
      "\n",
      "Epoch 00019: val_accuracy did not improve from 0.81481\n",
      "Epoch 20/20\n",
      "54/54 [==============================] - 9s 157ms/step - loss: 0.4387 - accuracy: 0.8171 - val_loss: 0.5043 - val_accuracy: 0.7963\n",
      "\n",
      "Epoch 00020: val_accuracy did not improve from 0.81481\n"
     ]
    },
    {
     "data": {
      "image/png": "[encoded data removed]",
      "text/plain": [
       "<Figure size 432x288 with 1 Axes>"
      ]
     },
     "metadata": {
      "needs_background": "light"
     },
     "output_type": "display_data"
    },
    {
     "data": {
      "image/png": "[encoded data removed]",
      "text/plain": [
       "<Figure size 432x288 with 1 Axes>"
      ]
     },
     "metadata": {
      "needs_background": "light"
     },
     "output_type": "display_data"
    },
    {
     "name": "stdout",
     "output_type": "stream",
     "text": [
      "14/14 [==============================] - 2s 127ms/step - loss: 0.4863 - accuracy: 0.8148\n",
      "{'loss': 0.4863390028476715, 'accuracy': 0.8148148059844971}\n",
      "Found 432 validated image filenames belonging to 3 classes.\n",
      "Found 108 validated image filenames belonging to 3 classes.\n",
      "Fold number 3\n",
      "Epoch 1/20\n",
      "54/54 [==============================] - 16s 228ms/step - loss: 0.9688 - accuracy: 0.5509 - val_loss: 1.0044 - val_accuracy: 0.4815\n",
      "\n",
      "Epoch 00001: val_accuracy improved from -inf to 0.48148, saving model to C:/Users/user/Desktop/Model/saved_models_1\\model_3.h5\n",
      "Epoch 2/20\n",
      "54/54 [==============================] - 9s 174ms/step - loss: 0.8099 - accuracy: 0.6157 - val_loss: 0.8669 - val_accuracy: 0.6019\n",
      "\n",
      "Epoch 00002: val_accuracy improved from 0.48148 to 0.60185, saving model to C:/Users/user/Desktop/Model/saved_models_1\\model_3.h5\n",
      "Epoch 3/20\n",
      "54/54 [==============================] - 10s 190ms/step - loss: 0.7558 - accuracy: 0.6829 - val_loss: 0.7986 - val_accuracy: 0.6667\n",
      "\n",
      "Epoch 00003: val_accuracy improved from 0.60185 to 0.66667, saving model to C:/Users/user/Desktop/Model/saved_models_1\\model_3.h5\n",
      "Epoch 4/20\n",
      "54/54 [==============================] - 12s 218ms/step - loss: 0.7138 - accuracy: 0.6898 - val_loss: 0.7192 - val_accuracy: 0.6667\n",
      "\n",
      "Epoch 00004: val_accuracy did not improve from 0.66667\n",
      "Epoch 5/20\n",
      "54/54 [==============================] - 9s 161ms/step - loss: 0.6848 - accuracy: 0.7014 - val_loss: 0.6430 - val_accuracy: 0.7500\n",
      "\n",
      "Epoch 00005: val_accuracy improved from 0.66667 to 0.75000, saving model to C:/Users/user/Desktop/Model/saved_models_1\\model_3.h5\n",
      "Epoch 6/20\n",
      "54/54 [==============================] - 11s 196ms/step - loss: 0.6733 - accuracy: 0.7106 - val_loss: 0.5770 - val_accuracy: 0.8426\n",
      "\n",
      "Epoch 00006: val_accuracy improved from 0.75000 to 0.84259, saving model to C:/Users/user/Desktop/Model/saved_models_1\\model_3.h5\n",
      "Epoch 7/20\n",
      "54/54 [==============================] - 10s 193ms/step - loss: 0.6370 - accuracy: 0.7222 - val_loss: 0.5374 - val_accuracy: 0.7963\n",
      "\n",
      "Epoch 00007: val_accuracy did not improve from 0.84259\n",
      "Epoch 8/20\n",
      "54/54 [==============================] - 9s 174ms/step - loss: 0.6385 - accuracy: 0.7130 - val_loss: 0.5180 - val_accuracy: 0.8241\n",
      "\n",
      "Epoch 00008: val_accuracy did not improve from 0.84259\n",
      "Epoch 9/20\n",
      "54/54 [==============================] - 11s 197ms/step - loss: 0.5742 - accuracy: 0.7477 - val_loss: 0.4723 - val_accuracy: 0.8333\n",
      "\n",
      "Epoch 00009: val_accuracy did not improve from 0.84259\n",
      "Epoch 10/20\n",
      "54/54 [==============================] - 9s 174ms/step - loss: 0.5654 - accuracy: 0.7685 - val_loss: 0.4922 - val_accuracy: 0.8056\n",
      "\n",
      "Epoch 00010: val_accuracy did not improve from 0.84259\n",
      "Epoch 11/20\n",
      "54/54 [==============================] - 10s 192ms/step - loss: 0.5875 - accuracy: 0.7292 - val_loss: 0.4773 - val_accuracy: 0.8333\n",
      "\n",
      "Epoch 00011: val_accuracy did not improve from 0.84259\n",
      "Epoch 12/20\n",
      "54/54 [==============================] - 10s 191ms/step - loss: 0.5133 - accuracy: 0.8102 - val_loss: 0.4288 - val_accuracy: 0.8611\n",
      "\n",
      "Epoch 00012: val_accuracy improved from 0.84259 to 0.86111, saving model to C:/Users/user/Desktop/Model/saved_models_1\\model_3.h5\n",
      "Epoch 13/20\n",
      "54/54 [==============================] - 10s 187ms/step - loss: 0.5413 - accuracy: 0.7662 - val_loss: 0.4667 - val_accuracy: 0.8056\n",
      "\n",
      "Epoch 00013: val_accuracy did not improve from 0.86111\n",
      "Epoch 14/20\n",
      "54/54 [==============================] - 11s 211ms/step - loss: 0.4950 - accuracy: 0.8079 - val_loss: 0.4050 - val_accuracy: 0.8333\n",
      "\n",
      "Epoch 00014: val_accuracy did not improve from 0.86111\n",
      "Epoch 15/20\n",
      "54/54 [==============================] - 11s 195ms/step - loss: 0.4950 - accuracy: 0.7986 - val_loss: 0.4222 - val_accuracy: 0.8333\n",
      "\n",
      "Epoch 00015: val_accuracy did not improve from 0.86111\n",
      "Epoch 16/20\n",
      "54/54 [==============================] - 9s 172ms/step - loss: 0.4948 - accuracy: 0.7986 - val_loss: 0.3788 - val_accuracy: 0.8241\n",
      "\n",
      "Epoch 00016: val_accuracy did not improve from 0.86111\n",
      "Epoch 17/20\n",
      "54/54 [==============================] - 9s 159ms/step - loss: 0.4679 - accuracy: 0.8079 - val_loss: 0.4030 - val_accuracy: 0.8241\n",
      "\n",
      "Epoch 00017: val_accuracy did not improve from 0.86111\n",
      "Epoch 18/20\n",
      "54/54 [==============================] - 9s 170ms/step - loss: 0.5102 - accuracy: 0.7639 - val_loss: 0.4347 - val_accuracy: 0.8333\n",
      "\n",
      "Epoch 00018: val_accuracy did not improve from 0.86111\n",
      "Epoch 19/20\n",
      "54/54 [==============================] - 10s 192ms/step - loss: 0.4690 - accuracy: 0.8032 - val_loss: 0.4149 - val_accuracy: 0.8148\n",
      "\n",
      "Epoch 00019: val_accuracy did not improve from 0.86111\n",
      "Epoch 20/20\n",
      "54/54 [==============================] - 12s 222ms/step - loss: 0.4452 - accuracy: 0.8264 - val_loss: 0.3954 - val_accuracy: 0.8056\n",
      "\n",
      "Epoch 00020: val_accuracy did not improve from 0.86111\n"
     ]
    },
    {
     "data": {
      "image/png": "[encoded data removed]",
      "text/plain": [
       "<Figure size 432x288 with 1 Axes>"
      ]
     },
     "metadata": {
      "needs_background": "light"
     },
     "output_type": "display_data"
    },
    {
     "data": {
      "image/png": "[encoded data removed]",
      "text/plain": [
       "<Figure size 432x288 with 1 Axes>"
      ]
     },
     "metadata": {
      "needs_background": "light"
     },
     "output_type": "display_data"
    },
    {
     "name": "stdout",
     "output_type": "stream",
     "text": [
      "14/14 [==============================] - 3s 171ms/step - loss: 0.4682 - accuracy: 0.7963\n",
      "{'loss': 0.4682164490222931, 'accuracy': 0.7962962985038757}\n",
      "Found 432 validated image filenames belonging to 3 classes.\n",
      "Found 108 validated image filenames belonging to 3 classes.\n",
      "Fold number 4\n",
      "Epoch 1/20\n",
      "54/54 [==============================] - 16s 207ms/step - loss: 0.9790 - accuracy: 0.5069 - val_loss: 0.9903 - val_accuracy: 0.4630\n",
      "\n",
      "Epoch 00001: val_accuracy improved from -inf to 0.46296, saving model to C:/Users/user/Desktop/Model/saved_models_1\\model_4.h5\n",
      "Epoch 2/20\n",
      "54/54 [==============================] - 8s 152ms/step - loss: 0.8300 - accuracy: 0.6412 - val_loss: 0.8629 - val_accuracy: 0.6574\n",
      "\n",
      "Epoch 00002: val_accuracy improved from 0.46296 to 0.65741, saving model to C:/Users/user/Desktop/Model/saved_models_1\\model_4.h5\n",
      "Epoch 3/20\n",
      "54/54 [==============================] - 11s 209ms/step - loss: 0.7156 - accuracy: 0.7060 - val_loss: 0.7816 - val_accuracy: 0.7222\n",
      "\n",
      "Epoch 00003: val_accuracy improved from 0.65741 to 0.72222, saving model to C:/Users/user/Desktop/Model/saved_models_1\\model_4.h5\n",
      "Epoch 4/20\n",
      "54/54 [==============================] - 10s 184ms/step - loss: 0.6807 - accuracy: 0.6852 - val_loss: 0.7099 - val_accuracy: 0.7037\n",
      "\n",
      "Epoch 00004: val_accuracy did not improve from 0.72222\n",
      "Epoch 5/20\n",
      "54/54 [==============================] - 11s 198ms/step - loss: 0.6344 - accuracy: 0.7523 - val_loss: 0.6370 - val_accuracy: 0.7500\n",
      "\n",
      "Epoch 00005: val_accuracy improved from 0.72222 to 0.75000, saving model to C:/Users/user/Desktop/Model/saved_models_1\\model_4.h5\n",
      "Epoch 6/20\n",
      "54/54 [==============================] - 9s 171ms/step - loss: 0.6109 - accuracy: 0.7523 - val_loss: 0.6095 - val_accuracy: 0.7685\n",
      "\n",
      "Epoch 00006: val_accuracy improved from 0.75000 to 0.76852, saving model to C:/Users/user/Desktop/Model/saved_models_1\\model_4.h5\n",
      "Epoch 7/20\n",
      "54/54 [==============================] - 10s 190ms/step - loss: 0.6018 - accuracy: 0.7523 - val_loss: 0.6241 - val_accuracy: 0.7685\n",
      "\n",
      "Epoch 00007: val_accuracy did not improve from 0.76852\n",
      "Epoch 8/20\n",
      "54/54 [==============================] - 11s 206ms/step - loss: 0.5470 - accuracy: 0.7755 - val_loss: 0.5369 - val_accuracy: 0.7778\n",
      "\n",
      "Epoch 00008: val_accuracy improved from 0.76852 to 0.77778, saving model to C:/Users/user/Desktop/Model/saved_models_1\\model_4.h5\n",
      "Epoch 9/20\n",
      "54/54 [==============================] - 9s 166ms/step - loss: 0.5366 - accuracy: 0.7847 - val_loss: 0.5075 - val_accuracy: 0.7778\n",
      "\n",
      "Epoch 00009: val_accuracy did not improve from 0.77778\n",
      "Epoch 10/20\n",
      "54/54 [==============================] - 10s 189ms/step - loss: 0.5246 - accuracy: 0.7685 - val_loss: 0.4739 - val_accuracy: 0.8426\n",
      "\n",
      "Epoch 00010: val_accuracy improved from 0.77778 to 0.84259, saving model to C:/Users/user/Desktop/Model/saved_models_1\\model_4.h5\n",
      "Epoch 11/20\n",
      "54/54 [==============================] - 11s 197ms/step - loss: 0.5495 - accuracy: 0.7847 - val_loss: 0.4657 - val_accuracy: 0.8241\n",
      "\n",
      "Epoch 00011: val_accuracy did not improve from 0.84259\n",
      "Epoch 12/20\n",
      "54/54 [==============================] - 10s 182ms/step - loss: 0.4767 - accuracy: 0.8287 - val_loss: 0.4846 - val_accuracy: 0.7870\n",
      "\n",
      "Epoch 00012: val_accuracy did not improve from 0.84259\n",
      "Epoch 13/20\n",
      "54/54 [==============================] - 9s 161ms/step - loss: 0.4782 - accuracy: 0.8194 - val_loss: 0.4954 - val_accuracy: 0.8148\n",
      "\n",
      "Epoch 00013: val_accuracy did not improve from 0.84259\n",
      "Epoch 14/20\n",
      "54/54 [==============================] - 10s 179ms/step - loss: 0.5011 - accuracy: 0.7685 - val_loss: 0.4607 - val_accuracy: 0.8148\n",
      "\n",
      "Epoch 00014: val_accuracy did not improve from 0.84259\n",
      "Epoch 15/20\n",
      "54/54 [==============================] - 10s 189ms/step - loss: 0.4878 - accuracy: 0.7940 - val_loss: 0.4612 - val_accuracy: 0.8056\n",
      "\n",
      "Epoch 00015: val_accuracy did not improve from 0.84259\n",
      "Epoch 16/20\n",
      "54/54 [==============================] - 9s 169ms/step - loss: 0.4593 - accuracy: 0.8171 - val_loss: 0.4729 - val_accuracy: 0.7870\n",
      "\n",
      "Epoch 00016: val_accuracy did not improve from 0.84259\n",
      "Epoch 17/20\n",
      "54/54 [==============================] - 10s 185ms/step - loss: 0.4471 - accuracy: 0.8241 - val_loss: 0.4702 - val_accuracy: 0.7963\n",
      "\n",
      "Epoch 00017: val_accuracy did not improve from 0.84259\n",
      "Epoch 18/20\n",
      "54/54 [==============================] - 9s 172ms/step - loss: 0.4281 - accuracy: 0.8310 - val_loss: 0.4081 - val_accuracy: 0.8241\n",
      "\n",
      "Epoch 00018: val_accuracy did not improve from 0.84259\n",
      "Epoch 19/20\n",
      "54/54 [==============================] - 9s 165ms/step - loss: 0.4043 - accuracy: 0.8310 - val_loss: 0.4554 - val_accuracy: 0.8056\n",
      "\n",
      "Epoch 00019: val_accuracy did not improve from 0.84259\n",
      "Epoch 20/20\n",
      "54/54 [==============================] - 10s 182ms/step - loss: 0.4363 - accuracy: 0.8287 - val_loss: 0.4992 - val_accuracy: 0.7870\n",
      "\n",
      "Epoch 00020: val_accuracy did not improve from 0.84259\n"
     ]
    },
    {
     "data": {
      "image/png": "[encoded data removed]",
      "text/plain": [
       "<Figure size 432x288 with 1 Axes>"
      ]
     },
     "metadata": {
      "needs_background": "light"
     },
     "output_type": "display_data"
    },
    {
     "data": {
      "image/png": "[encoded data removed]",
      "text/plain": [
       "<Figure size 432x288 with 1 Axes>"
      ]
     },
     "metadata": {
      "needs_background": "light"
     },
     "output_type": "display_data"
    },
    {
     "name": "stdout",
     "output_type": "stream",
     "text": [
      "14/14 [==============================] - 2s 133ms/step - loss: 0.4934 - accuracy: 0.8148\n",
      "{'loss': 0.49337324500083923, 'accuracy': 0.8148148059844971}\n",
      "Found 432 validated image filenames belonging to 3 classes.\n",
      "Found 108 validated image filenames belonging to 3 classes.\n",
      "Fold number 5\n",
      "Epoch 1/20\n",
      "54/54 [==============================] - 15s 214ms/step - loss: 0.9302 - accuracy: 0.5718 - val_loss: 0.9918 - val_accuracy: 0.5185\n",
      "\n",
      "Epoch 00001: val_accuracy improved from -inf to 0.51852, saving model to C:/Users/user/Desktop/Model/saved_models_1\\model_5.h5\n",
      "Epoch 2/20\n",
      "54/54 [==============================] - 10s 185ms/step - loss: 0.8079 - accuracy: 0.6667 - val_loss: 0.9142 - val_accuracy: 0.6204\n",
      "\n",
      "Epoch 00002: val_accuracy improved from 0.51852 to 0.62037, saving model to C:/Users/user/Desktop/Model/saved_models_1\\model_5.h5\n",
      "Epoch 3/20\n",
      "54/54 [==============================] - 10s 191ms/step - loss: 0.7412 - accuracy: 0.6875 - val_loss: 0.7780 - val_accuracy: 0.6944\n",
      "\n",
      "Epoch 00003: val_accuracy improved from 0.62037 to 0.69444, saving model to C:/Users/user/Desktop/Model/saved_models_1\\model_5.h5\n",
      "Epoch 4/20\n",
      "54/54 [==============================] - 12s 217ms/step - loss: 0.6459 - accuracy: 0.7014 - val_loss: 0.7161 - val_accuracy: 0.7315\n",
      "\n",
      "Epoch 00004: val_accuracy improved from 0.69444 to 0.73148, saving model to C:/Users/user/Desktop/Model/saved_models_1\\model_5.h5\n",
      "Epoch 5/20\n",
      "54/54 [==============================] - 11s 194ms/step - loss: 0.6069 - accuracy: 0.7361 - val_loss: 0.6929 - val_accuracy: 0.6852\n",
      "\n",
      "Epoch 00005: val_accuracy did not improve from 0.73148\n",
      "Epoch 6/20\n",
      "54/54 [==============================] - 11s 193ms/step - loss: 0.6104 - accuracy: 0.7431 - val_loss: 0.6206 - val_accuracy: 0.7130\n",
      "\n",
      "Epoch 00006: val_accuracy did not improve from 0.73148\n",
      "Epoch 7/20\n",
      "54/54 [==============================] - 11s 195ms/step - loss: 0.5699 - accuracy: 0.7778 - val_loss: 0.5794 - val_accuracy: 0.7778\n",
      "\n",
      "Epoch 00007: val_accuracy improved from 0.73148 to 0.77778, saving model to C:/Users/user/Desktop/Model/saved_models_1\\model_5.h5\n",
      "Epoch 8/20\n",
      "54/54 [==============================] - 11s 194ms/step - loss: 0.5472 - accuracy: 0.7546 - val_loss: 0.6009 - val_accuracy: 0.7222\n",
      "\n",
      "Epoch 00008: val_accuracy did not improve from 0.77778\n",
      "Epoch 9/20\n",
      "54/54 [==============================] - 10s 177ms/step - loss: 0.5612 - accuracy: 0.7639 - val_loss: 0.5583 - val_accuracy: 0.7778\n",
      "\n",
      "Epoch 00009: val_accuracy did not improve from 0.77778\n",
      "Epoch 10/20\n",
      "54/54 [==============================] - 9s 174ms/step - loss: 0.5446 - accuracy: 0.7593 - val_loss: 0.5701 - val_accuracy: 0.7778\n",
      "\n",
      "Epoch 00010: val_accuracy did not improve from 0.77778\n",
      "Epoch 11/20\n",
      "54/54 [==============================] - 9s 170ms/step - loss: 0.5108 - accuracy: 0.7801 - val_loss: 0.5701 - val_accuracy: 0.7593\n",
      "\n",
      "Epoch 00011: val_accuracy did not improve from 0.77778\n",
      "Epoch 12/20\n",
      "54/54 [==============================] - 10s 193ms/step - loss: 0.5348 - accuracy: 0.7708 - val_loss: 0.5145 - val_accuracy: 0.7870\n",
      "\n",
      "Epoch 00012: val_accuracy improved from 0.77778 to 0.78704, saving model to C:/Users/user/Desktop/Model/saved_models_1\\model_5.h5\n",
      "Epoch 13/20\n",
      "54/54 [==============================] - 11s 208ms/step - loss: 0.5058 - accuracy: 0.7940 - val_loss: 0.4767 - val_accuracy: 0.7963\n",
      "\n",
      "Epoch 00013: val_accuracy improved from 0.78704 to 0.79630, saving model to C:/Users/user/Desktop/Model/saved_models_1\\model_5.h5\n",
      "Epoch 14/20\n",
      "54/54 [==============================] - 11s 205ms/step - loss: 0.4838 - accuracy: 0.8056 - val_loss: 0.5066 - val_accuracy: 0.7778\n",
      "\n",
      "Epoch 00014: val_accuracy did not improve from 0.79630\n",
      "Epoch 15/20\n",
      "54/54 [==============================] - 15s 275ms/step - loss: 0.5320 - accuracy: 0.7870 - val_loss: 0.5206 - val_accuracy: 0.8056\n",
      "\n",
      "Epoch 00015: val_accuracy improved from 0.79630 to 0.80556, saving model to C:/Users/user/Desktop/Model/saved_models_1\\model_5.h5\n",
      "Epoch 16/20\n",
      "54/54 [==============================] - 10s 192ms/step - loss: 0.4782 - accuracy: 0.7801 - val_loss: 0.4866 - val_accuracy: 0.7870\n",
      "\n",
      "Epoch 00016: val_accuracy did not improve from 0.80556\n",
      "Epoch 17/20\n",
      "54/54 [==============================] - 12s 217ms/step - loss: 0.4039 - accuracy: 0.8403 - val_loss: 0.4050 - val_accuracy: 0.8426\n",
      "\n",
      "Epoch 00017: val_accuracy improved from 0.80556 to 0.84259, saving model to C:/Users/user/Desktop/Model/saved_models_1\\model_5.h5\n",
      "Epoch 18/20\n",
      "54/54 [==============================] - 12s 218ms/step - loss: 0.4114 - accuracy: 0.8194 - val_loss: 0.4686 - val_accuracy: 0.7963\n",
      "\n",
      "Epoch 00018: val_accuracy did not improve from 0.84259\n",
      "Epoch 19/20\n",
      "54/54 [==============================] - 11s 202ms/step - loss: 0.4373 - accuracy: 0.8264 - val_loss: 0.4797 - val_accuracy: 0.8148\n",
      "\n",
      "Epoch 00019: val_accuracy did not improve from 0.84259\n",
      "Epoch 20/20\n",
      "54/54 [==============================] - 11s 196ms/step - loss: 0.4400 - accuracy: 0.8148 - val_loss: 0.4634 - val_accuracy: 0.8241\n",
      "\n",
      "Epoch 00020: val_accuracy did not improve from 0.84259\n"
     ]
    },
    {
     "data": {
      "image/png": "[encoded data removed]",
      "text/plain": [
       "<Figure size 432x288 with 1 Axes>"
      ]
     },
     "metadata": {
      "needs_background": "light"
     },
     "output_type": "display_data"
    },
    {
     "data": {
      "image/png": "[encoded data removed]",
      "text/plain": [
       "<Figure size 432x288 with 1 Axes>"
      ]
     },
     "metadata": {
      "needs_background": "light"
     },
     "output_type": "display_data"
    },
    {
     "name": "stdout",
     "output_type": "stream",
     "text": [
      "14/14 [==============================] - 2s 138ms/step - loss: 0.4891 - accuracy: 0.8241\n",
      "{'loss': 0.4890751242637634, 'accuracy': 0.8240740895271301}\n"
     ]
    }
   ],
   "source": [
    "for x in range(len(batch_size_arr)):\n",
    "    #for batch size values\n",
    "    if len(param_arr) == 0:\n",
    "        param_arr.append([])\n",
    "    \n",
    "    for y in range(len(num_epochs_arr)):\n",
    "        #for epoch values\n",
    "        if len(param_arr) == 1:\n",
    "            param_arr.append([])\n",
    "        \n",
    "        for z in range(len(lr_arr)):\n",
    "            #for learning rate values\n",
    "            if len(param_arr) == 2:\n",
    "                param_arr.append([])\n",
    "            \n",
    "            #append the values per combo\n",
    "            param_arr[0].append(batch_size_arr[x])\n",
    "            param_arr[1].append(num_epochs_arr[y])\n",
    "            param_arr[2].append(lr_arr[z])\n",
    "            \n",
    "            VALIDATION_ACCURACY = []\n",
    "            VALIDATION_LOSS = []\n",
    "            \n",
    "            #change save_dir value per combination\n",
    "            save_dir = savemodel()\n",
    "            fold_var = 1\n",
    "            \n",
    "            for train_index, val_index in skf.split(np.zeros(n),Y):\n",
    "\n",
    "                training_data = df2.iloc[train_index]\n",
    "                validation_data = df2.iloc[val_index]\n",
    "\n",
    "                train_data_generator = imgdatagen.flow_from_dataframe(training_data, directory = image_dir,\n",
    "                                           x_col = \"filename\", y_col = \"label\",\n",
    "                                          class_mode = \"categorical\", target_size = dim, batch_size = batch_size_arr[x],\n",
    "                                            shuffle = True)\n",
    "                valid_data_generator  = imgdatagen.flow_from_dataframe(validation_data, directory = image_dir,\n",
    "                                        x_col = \"filename\", y_col = \"label\",\n",
    "                                        class_mode = \"categorical\", target_size = dim, batch_size = batch_size_arr[x],\n",
    "                                            shuffle = True)\n",
    "                \n",
    "                full_model = model()\n",
    "                # Compile the model\n",
    "                full_model.compile(loss='categorical_crossentropy',\n",
    "                              optimizer=keras.optimizers.Adamax(learning_rate=lr_arr[z]),\n",
    "                              metrics=['accuracy']) #categorical_crossentropy cause it is more than 2 classes\n",
    "\n",
    "                # Create callbacks\n",
    "                checkpoint = tf.keras.callbacks.ModelCheckpoint((save_dir+\"/\"+ \"model_\" + str(fold_var) + \".h5\"), \n",
    "                                        monitor='val_accuracy', verbose=1, \n",
    "                                        save_best_only=True, mode='max')\n",
    "                callbacks_list = [checkpoint]\n",
    "                # This saves the best model\n",
    "\n",
    "                print(\"Fold number \" + str(fold_var))\n",
    "\n",
    "                # Fit the model\n",
    "                history = full_model.fit(train_data_generator,\n",
    "                                         epochs=num_epochs_arr[y],\n",
    "                                         callbacks=callbacks_list,\n",
    "                                         validation_data=valid_data_generator)\n",
    "\n",
    "                #Plot the history\n",
    "                plot_history(history, yrange=(0.2,1))\n",
    "\n",
    "                # Load the best model instance to evaluate the performance of the model\n",
    "                full_model.load_weights(save_dir+\"/model_\"+str(fold_var)+\".h5\")\n",
    "\n",
    "                results = full_model.evaluate(valid_data_generator)\n",
    "                results = dict(zip(full_model.metrics_names,results))\n",
    "\n",
    "                print(results)\n",
    "\n",
    "                VALIDATION_ACCURACY.append(results['accuracy'])\n",
    "                VALIDATION_LOSS.append(results['loss'])\n",
    "\n",
    "                tf.keras.backend.clear_session()\n",
    "\n",
    "                fold_var += 1\n",
    "                \n",
    "            val_acc_arr.append(VALIDATION_ACCURACY)\n",
    "            val_loss_arr.append(VALIDATION_LOSS)"
   ]
  },
  {
   "cell_type": "code",
   "execution_count": 20,
   "id": "8a265fcf",
   "metadata": {
    "scrolled": true
   },
   "outputs": [],
   "source": [
    "#append means of accuracy and loss sets per combo\n",
    "for x in range(len(val_acc_arr)):\n",
    "    val_acc_means.append(np.mean(val_acc_arr[x]))                                \n",
    "    val_loss_means.append(np.mean(val_loss_arr[x]))"
   ]
  },
  {
   "cell_type": "markdown",
   "id": "6d4b8157",
   "metadata": {},
   "source": [
    "### Display Values Per Combination of Parameters"
   ]
  },
  {
   "cell_type": "markdown",
   "id": "158053e7",
   "metadata": {},
   "source": [
    "We will put the combination of parameters and the resulting means of accuracy and loss together in a dataframe in order to display it nicely."
   ]
  },
  {
   "cell_type": "code",
   "execution_count": 21,
   "id": "aa720823",
   "metadata": {},
   "outputs": [
    {
     "data": {
      "text/html": [
       "<div>\n",
       "<style scoped>\n",
       "    .dataframe tbody tr th:only-of-type {\n",
       "        vertical-align: middle;\n",
       "    }\n",
       "\n",
       "    .dataframe tbody tr th {\n",
       "        vertical-align: top;\n",
       "    }\n",
       "\n",
       "    .dataframe thead th {\n",
       "        text-align: right;\n",
       "    }\n",
       "</style>\n",
       "<table border=\"1\" class=\"dataframe\">\n",
       "  <thead>\n",
       "    <tr style=\"text-align: right;\">\n",
       "      <th></th>\n",
       "      <th>batch size</th>\n",
       "      <th>number of epoch</th>\n",
       "      <th>learning rate</th>\n",
       "      <th>accuracy</th>\n",
       "      <th>loss</th>\n",
       "    </tr>\n",
       "  </thead>\n",
       "  <tbody>\n",
       "    <tr>\n",
       "      <th>0</th>\n",
       "      <td>8</td>\n",
       "      <td>20</td>\n",
       "      <td>0.0001</td>\n",
       "      <td>0.803704</td>\n",
       "      <td>0.493309</td>\n",
       "    </tr>\n",
       "  </tbody>\n",
       "</table>\n",
       "</div>"
      ],
      "text/plain": [
       "   batch size  number of epoch  learning rate  accuracy      loss\n",
       "0           8               20         0.0001  0.803704  0.493309"
      ]
     },
     "execution_count": 21,
     "metadata": {},
     "output_type": "execute_result"
    }
   ],
   "source": [
    "df_hyperparam = pd.DataFrame(list(zip(param_arr[0],param_arr[1],param_arr[2],val_acc_means,val_loss_means))\n",
    "                             ,columns=['batch size','number of epoch', 'learning rate', 'accuracy', 'loss'])\n",
    "\n",
    "df_hyperparam"
   ]
  },
  {
   "cell_type": "markdown",
   "id": "0019dd7b",
   "metadata": {},
   "source": [
    "### Best Accuracy"
   ]
  },
  {
   "cell_type": "markdown",
   "id": "45bb1593",
   "metadata": {},
   "source": [
    "The combination that yielded the best results is then picked."
   ]
  },
  {
   "cell_type": "code",
   "execution_count": 22,
   "id": "7e431191",
   "metadata": {
    "scrolled": false
   },
   "outputs": [
    {
     "data": {
      "text/html": [
       "<div>\n",
       "<style scoped>\n",
       "    .dataframe tbody tr th:only-of-type {\n",
       "        vertical-align: middle;\n",
       "    }\n",
       "\n",
       "    .dataframe tbody tr th {\n",
       "        vertical-align: top;\n",
       "    }\n",
       "\n",
       "    .dataframe thead th {\n",
       "        text-align: right;\n",
       "    }\n",
       "</style>\n",
       "<table border=\"1\" class=\"dataframe\">\n",
       "  <thead>\n",
       "    <tr style=\"text-align: right;\">\n",
       "      <th></th>\n",
       "      <th>batch size</th>\n",
       "      <th>number of epoch</th>\n",
       "      <th>learning rate</th>\n",
       "      <th>accuracy</th>\n",
       "      <th>loss</th>\n",
       "    </tr>\n",
       "  </thead>\n",
       "  <tbody>\n",
       "    <tr>\n",
       "      <th>0</th>\n",
       "      <td>8</td>\n",
       "      <td>20</td>\n",
       "      <td>0.0001</td>\n",
       "      <td>0.803704</td>\n",
       "      <td>0.493309</td>\n",
       "    </tr>\n",
       "  </tbody>\n",
       "</table>\n",
       "</div>"
      ],
      "text/plain": [
       "   batch size  number of epoch  learning rate  accuracy      loss\n",
       "0           8               20         0.0001  0.803704  0.493309"
      ]
     },
     "execution_count": 22,
     "metadata": {},
     "output_type": "execute_result"
    }
   ],
   "source": [
    "df_hyperparam.loc[df_hyperparam['accuracy'] == max(df_hyperparam['accuracy'])]"
   ]
  },
  {
   "cell_type": "code",
   "execution_count": 23,
   "id": "f09223d9",
   "metadata": {},
   "outputs": [
    {
     "ename": "NameError",
     "evalue": "name 'stopper' is not defined",
     "output_type": "error",
     "traceback": [
      "\u001b[1;31m---------------------------------------------------------------------------\u001b[0m",
      "\u001b[1;31mNameError\u001b[0m                                 Traceback (most recent call last)",
      "\u001b[1;32m~\\AppData\\Local\\Temp/ipykernel_28316/2329210996.py\u001b[0m in \u001b[0;36m<module>\u001b[1;34m\u001b[0m\n\u001b[1;32m----> 1\u001b[1;33m \u001b[0mstopper\u001b[0m\u001b[1;33m\u001b[0m\u001b[1;33m\u001b[0m\u001b[0m\n\u001b[0m",
      "\u001b[1;31mNameError\u001b[0m: name 'stopper' is not defined"
     ]
    }
   ],
   "source": [
    "stopper"
   ]
  },
  {
   "cell_type": "markdown",
   "id": "44439d90",
   "metadata": {},
   "source": [
    "## Kfold Evaluation Results"
   ]
  },
  {
   "cell_type": "markdown",
   "id": "67806e39",
   "metadata": {},
   "source": [
    "Below are the validation accuracy and validation loss per fold and their average of the best combination."
   ]
  },
  {
   "cell_type": "code",
   "execution_count": 24,
   "id": "a03456cc",
   "metadata": {
    "ExecuteTime": {
     "end_time": "2021-09-21T02:53:39.211658Z",
     "start_time": "2021-09-21T02:53:39.182736Z"
    },
    "scrolled": true
   },
   "outputs": [
    {
     "name": "stdout",
     "output_type": "stream",
     "text": [
      "Validation Accuracy of All Folds:\n",
      "Fold 1 Accuracy: 0.7685185074806213\n",
      "Fold 2 Accuracy: 0.8148148059844971\n",
      "Fold 3 Accuracy: 0.7962962985038757\n",
      "Fold 4 Accuracy: 0.8148148059844971\n",
      "Fold 5 Accuracy: 0.8240740895271301\n",
      "Mean Validation Accuracy: 0.8037037014961242\n",
      "\n",
      "Validation Loss of All Folds:\n",
      "Fold 1 Loss: 0.5295413136482239\n",
      "Fold 2 Loss: 0.4863390028476715\n",
      "Fold 3 Loss: 0.4682164490222931\n",
      "Fold 4 Loss: 0.49337324500083923\n",
      "Fold 5 Loss: 0.4890751242637634\n",
      "Mean Validation Loss: 0.4933090269565582\n"
     ]
    }
   ],
   "source": [
    "print(\"Validation Accuracy of All Folds:\")\n",
    "n = 1\n",
    "for x in val_acc_arr[0]:\n",
    "    print(\"Fold \"+ str(n) +\" Accuracy:\",x)\n",
    "    n=n+1    \n",
    "print(\"Mean Validation Accuracy: \" + str(np.mean(val_acc_arr[0])))\n",
    "\n",
    "print(\"\")\n",
    "\n",
    "print(\"Validation Loss of All Folds:\")\n",
    "n=1\n",
    "for x in val_loss_arr[0]:\n",
    "    print(\"Fold \"+ str(n) +\" Loss:\",x)\n",
    "    n=n+1    \n",
    "print(\"Mean Validation Loss: \" + str(np.mean(val_loss_arr[0])))"
   ]
  },
  {
   "cell_type": "code",
   "execution_count": null,
   "id": "666d1a91",
   "metadata": {},
   "outputs": [],
   "source": [
    "stopper"
   ]
  },
  {
   "cell_type": "markdown",
   "id": "e5f648d1",
   "metadata": {},
   "source": [
    "## Model Prediction and Evaluation"
   ]
  },
  {
   "cell_type": "markdown",
   "id": "ac8fbc37",
   "metadata": {},
   "source": [
    "Load the images in the test set and predict what class it is in all models of the best combination. There are three values of confidence level. The one with the highest confidence level is the predicted class of the image. The order of classes is [0 1 2]. The results will be feed to the eval function defined below in order to get the metrics."
   ]
  },
  {
   "cell_type": "code",
   "execution_count": null,
   "id": "1302a3c6",
   "metadata": {},
   "outputs": [],
   "source": [
    "#make the labels to integer to get the model metrics\n",
    "yt = pd.to_numeric(y_test['label'])"
   ]
  },
  {
   "cell_type": "markdown",
   "id": "18ce9939",
   "metadata": {},
   "source": [
    "The content displayed are the metrics, roc auc of each class (balut/penoy,salted,table), and confusion matrix per fold, as well as the sum and mean of those confusion matrices and roc auc of each class for all folds."
   ]
  },
  {
   "cell_type": "code",
   "execution_count": null,
   "id": "1a7a8971",
   "metadata": {},
   "outputs": [],
   "source": [
    "#Metrics\n",
    "def evaluate(yhat_probs, \n",
    "             yhat_classes, \n",
    "             total_acc, \n",
    "             total_precision, \n",
    "             total_recall, \n",
    "             total_f1_score, \n",
    "             matrix_sum,\n",
    "             fold_num,\n",
    "             fpr_total,\n",
    "             tpr_total):\n",
    "\n",
    "    # accuracy: (tp + tn) / (p + n)\n",
    "    accuracy = accuracy_score(yt, yhat_classes)\n",
    "    total_acc.append(accuracy)\n",
    "    print('Accuracy: %f' % accuracy)\n",
    "    # precision tp / (tp + fp)\n",
    "    precision = precision_score(yt, yhat_classes, average=\"weighted\")\n",
    "    total_precision.append(precision)\n",
    "    print('Precision: %f' % precision)\n",
    "    # recall: tp / (tp + fn)\n",
    "    recall = recall_score(yt, yhat_classes, average=\"weighted\")\n",
    "    total_recall.append(recall)\n",
    "    print('Recall: %f' % recall)\n",
    "    # f1: 2 tp / (2 tp + fp + fn)\n",
    "    f1 = f1_score(yt, yhat_classes, average=\"weighted\")\n",
    "    total_f1_score.append(f1)\n",
    "    print('F1 score: %f' % f1)\n",
    "    \n",
    "    #ROC AUC\n",
    "    #-------------------------------------------------------------------------------\n",
    "    # Binarize the true label\n",
    "    ytbin = label_binarize(yt, classes=[0, 1, 2])\n",
    "    n_classes = ytbin.shape[1]\n",
    "\n",
    "    # Compute ROC curve and ROC area for each class\n",
    "    fpr = dict()\n",
    "    tpr = dict()\n",
    "    roc_auc = dict()\n",
    "      \n",
    "    for i in range(n_classes):\n",
    "        fpr[i], tpr[i], _ = roc_curve(ytbin[:, i], yhat_probs[:, i])\n",
    "        roc_auc[i] = auc(fpr[i], tpr[i])\n",
    "     \n",
    "        if fold_num == 0:\n",
    "            fpr_total.append([])\n",
    "\n",
    "        fpr_total[i].append(fpr[i])\n",
    "        \n",
    "        if fold_num == 0:\n",
    "            tpr_total.append([])\n",
    "\n",
    "        tpr_total[i].append(tpr[i]) \n",
    "\n",
    "    # Compute micro-average ROC curve and ROC area\n",
    "    fpr[\"macro\"], tpr[\"macro\"], _ = roc_curve(ytbin.ravel(), yhat_probs.ravel())\n",
    "    roc_auc[\"macro\"] = auc(fpr[\"macro\"], tpr[\"macro\"])\n",
    "\n",
    "    plt.rcParams['axes.facecolor'] = 'white'\n",
    "    plt.rcParams[\"axes.edgecolor\"] = 'black'\n",
    "    plt.rcParams[\"axes.linewidth\"]  = 1.25\n",
    "    \n",
    "    #balut-penoy\n",
    "    plt.figure()\n",
    "    lw = 2\n",
    "    plt.plot(fpr[0], tpr[0], color='darkorange',\n",
    "             lw=lw, label='ROC curve (area = %0.4f)' % roc_auc[0])\n",
    "    plt.plot([0, 1], [0, 1], color='navy', lw=lw, linestyle='--')\n",
    "    plt.xlim([0.0, 1.0])\n",
    "    plt.ylim([0.0, 1.05])\n",
    "    plt.xlabel('False Positive Rate')\n",
    "    plt.ylabel('True Positive Rate')\n",
    "    plt.title('ROC Balut-Penoy Fold ' + str(fold_num+1))\n",
    "    plt.legend(loc=\"lower right\")\n",
    "    plt.show()\n",
    "\n",
    "    #salted egg\n",
    "    plt.figure()\n",
    "    lw = 2\n",
    "    plt.plot(fpr[1], tpr[1], color='darkorange',\n",
    "             lw=lw, label='ROC curve (area = %0.4f)' % roc_auc[1])\n",
    "    plt.plot([0, 1], [0, 1], color='navy', lw=lw, linestyle='--')\n",
    "    plt.xlim([0.0, 1.0])\n",
    "    plt.ylim([0.0, 1.05])\n",
    "    plt.xlabel('False Positive Rate')\n",
    "    plt.ylabel('True Positive Rate')\n",
    "    plt.title('ROC Salted Egg Fold ' + str(fold_num+1))\n",
    "    plt.legend(loc=\"lower right\")\n",
    "    plt.show()\n",
    "\n",
    "    #table egg\n",
    "    plt.figure()\n",
    "    lw = 2\n",
    "    plt.plot(fpr[2], tpr[2], color='darkorange',\n",
    "             lw=lw, label='ROC curve (area = %0.4f)' % roc_auc[2])\n",
    "    plt.plot([0, 1], [0, 1], color='navy', lw=lw, linestyle='--')\n",
    "    plt.xlim([0.0, 1.0])\n",
    "    plt.ylim([0.0, 1.05])\n",
    "    plt.xlabel('False Positive Rate')\n",
    "    plt.ylabel('True Positive Rate')\n",
    "    plt.title('ROC Table Egg Fold ' + str(fold_num+1))\n",
    "    plt.legend(loc=\"lower right\")\n",
    "    plt.show()\n",
    "    #-------------------------------------------------------------------------------\n",
    "    \n",
    "    #confusion matrix\n",
    "    matrix = confusion_matrix(yt, yhat_classes)\n",
    "    \n",
    "    if len(total_acc) == 1:\n",
    "        matrix_sum = matrix\n",
    "    elif len(total_acc) > 1:\n",
    "        matrix_sum = [[matrix_sum[i][j] + matrix[i][j]  \n",
    "                       for j in range(len(matrix_sum[0]))] \n",
    "                      for i in range(len(matrix_sum))]\n",
    "    \n",
    "    df_cm = pd.DataFrame(matrix, range(matrix.shape[0]), range(matrix.shape[1]))\n",
    "    df_cm = df_cm.rename(columns={0:'Balut/Penoy', 1:'Salted Egg', 2:'Table Egg'}, \n",
    "                         index={0:'Balut/Penoy', 1:'Salted Egg', 2:'Table Egg'})\n",
    "    \n",
    "    sn.set(font_scale=1.4) # for label size\n",
    "    sn.heatmap(df_cm, annot=True, annot_kws={\"size\": 16}) # font size\n",
    "    plt.xlabel(\"Actual\")\n",
    "    plt.ylabel(\"Predicted\")\n",
    "    plt.title('Confusion Matrix Fold ' + str(fold_num+1))\n",
    "    plt.show()\n",
    "    \n",
    "    return total_acc, total_precision, total_recall, total_f1_score, matrix_sum, fpr_total, tpr_total"
   ]
  },
  {
   "cell_type": "code",
   "execution_count": null,
   "id": "9b52b487",
   "metadata": {
    "scrolled": true
   },
   "outputs": [],
   "source": [
    "fold = 5\n",
    "modelname = \"saved_models_1\"\n",
    "\n",
    "#for fold number and average string\n",
    "fold_ave = []\n",
    "\n",
    "#for metrics values\n",
    "total_acc = []\n",
    "total_precision = []\n",
    "total_recall = []\n",
    "total_f1_score = []\n",
    "\n",
    "#for confusion matrix sum of folds\n",
    "matrix_sum = np.array([])\n",
    "\n",
    "#for roc auc of folds per class\n",
    "fpr_bp = []\n",
    "tpr_bp = []\n",
    "\n",
    "fpr_se = []\n",
    "tpr_se = []\n",
    "\n",
    "fpr_te = []\n",
    "tpr_te = []\n",
    "\n",
    "fpr_total = []\n",
    "tpr_total = []\n",
    "\n",
    "#for validating misclassified images\n",
    "yhat_classes_total = []\n",
    "\n",
    "for fold_num in range(fold):\n",
    "    \n",
    "    full_model = model()\n",
    "    \n",
    "    #load the weights of bet model\n",
    "    model_dir = gen_dir + \"/\"+modelname+\"/model_\"+str(fold_num+1)+\".h5\"\n",
    "    full_model.load_weights(model_dir)\n",
    "\n",
    "    test_set = directory + \"/ToBeUsed/test_set\"\n",
    "\n",
    "    testX = []\n",
    "\n",
    "    for img_path in X_test['filename']:\n",
    "        img = im.load_img(img_path, target_size=(224,224))\n",
    "        x = im.img_to_array(img)\n",
    "        x = np.expand_dims(x, axis=0)\n",
    "        x = preprocess_input(x)\n",
    "        x = x.reshape(224,224,3)\n",
    "        testX.append(x)\n",
    "\n",
    "    testX = np.array(testX)    \n",
    "\n",
    "    # predict probabilities for test set, y_test\n",
    "    yhat_probs = full_model.predict(testX, verbose=0)\n",
    "\n",
    "    # predict crisp classes for test set\n",
    "    yhat_classes = yhat_probs.argmax(axis=-1)\n",
    "    \n",
    "    yhat_classes_total.append(yhat_classes)\n",
    "    \n",
    "    print(\"fold \"+str(fold_num+1) +\" metrics:\")\n",
    "    total_acc, total_precision, total_recall, total_f1_score, matrix_sum, fpr_total, tpr_total  = evaluate(yhat_probs,\n",
    "                                                                                                           yhat_classes,\n",
    "                                                                                                           total_acc,\n",
    "                                                                                                           total_precision,\n",
    "                                                                                                           total_recall,\n",
    "                                                                                                           total_f1_score,\n",
    "                                                                                                           matrix_sum,\n",
    "                                                                                                           fold_num,\n",
    "                                                                                                           fpr_total,\n",
    "                                                                                                           tpr_total)\n",
    "    \n",
    "    fold_ave.append(str(fold_num+1))\n",
    "    \n",
    "    print('')\n"
   ]
  },
  {
   "cell_type": "code",
   "execution_count": null,
   "id": "3c70fe30",
   "metadata": {},
   "outputs": [],
   "source": [
    "#Metrics\n",
    "#-------------------------------------------------------------------------------------------------------------\n",
    "fold_ave.append(\"Ave:\")\n",
    "total_acc.append(np.mean(total_acc))\n",
    "total_precision.append(np.mean(total_precision))\n",
    "total_recall.append(np.mean(total_recall))\n",
    "total_f1_score.append(np.mean(total_recall))\n",
    "    \n",
    "df_eval = pd.DataFrame(data = list(zip(fold_ave,\n",
    "                                       total_acc,\n",
    "                                       total_precision,\n",
    "                                       total_recall,\n",
    "                                       total_f1_score)), columns=[\"Fold\",\n",
    "                                                                  \"Accuracy\",\n",
    "                                                                  \"Precision\",\n",
    "                                                                  \"Recall\",\n",
    "                                                                  \"F1 Score\"])\n",
    "\n",
    "#set fold_ave as the index\n",
    "df_eval.set_index(\"Fold\",inplace=True)\n",
    "\n",
    "df_eval\n",
    "#-------------------------------------------------------------------------------------------------------------"
   ]
  },
  {
   "cell_type": "code",
   "execution_count": null,
   "id": "5fb5d43a",
   "metadata": {},
   "outputs": [],
   "source": [
    "#Confusion Matrix\n",
    "#-------------------------------------------------------------------------------------------------------------\n",
    "#confusion matrix sum of folds\n",
    "matrix_sum = np.array(matrix_sum)\n",
    "\n",
    "df_cm = pd.DataFrame(matrix_sum, range(matrix_sum.shape[0]), range(matrix_sum.shape[1]))\n",
    "df_cm = df_cm.rename(columns={0:'Balut/Penoy', 1:'Salted Egg', 2:'Table Egg'}, \n",
    "                     index={0:'Balut/Penoy', 1:'Salted Egg', 2:'Table Egg'})\n",
    "\n",
    "# plt.figure(figsize=(10,7))\n",
    "sn.set(font_scale=1.4) # for label size\n",
    "sn.heatmap(df_cm, annot=True, annot_kws={\"size\": 16}) # font size\n",
    "plt.xlabel(\"Actual\")\n",
    "plt.ylabel(\"Predicted\")\n",
    "plt.title(\"Confusion Matrix Sum of Folds\")\n",
    "plt.show()\n",
    "\n",
    "#confusion matrix ave of sum of folds\n",
    "matrix_ave = [[matrix_sum[i][j]/fold \n",
    "               for j in range(len(matrix_sum[0]))] \n",
    "              for i in range(len(matrix_sum))]\n",
    "\n",
    "matrix_ave = np.array(matrix_ave)\n",
    "\n",
    "df_cm = pd.DataFrame(matrix_ave, range(matrix_ave.shape[0]), range(matrix_ave.shape[1]))\n",
    "df_cm = df_cm.rename(columns={0:'Balut/Penoy', 1:'Salted Egg', 2:'Table Egg'}, \n",
    "                     index={0:'Balut/Penoy', 1:'Salted Egg', 2:'Table Egg'})\n",
    "\n",
    "sn.set(font_scale=1.4) # for label size\n",
    "sn.heatmap(df_cm, annot=True, annot_kws={\"size\": 16}) # font size\n",
    "plt.xlabel(\"Actual\")\n",
    "plt.ylabel(\"Predicted\")\n",
    "plt.title(\"Confusion Matrix Average of Sum of Folds\")\n",
    "plt.show()\n",
    "#-------------------------------------------------------------------------------------------------------------"
   ]
  },
  {
   "cell_type": "code",
   "execution_count": null,
   "id": "52759530",
   "metadata": {},
   "outputs": [],
   "source": [
    "#ROC AUC\n",
    "#-------------------------------------------------------------------------------------------------------------\n",
    "fpr_total = np.array(fpr_total)\n",
    "tpr_total = np.array(tpr_total)\n",
    "\n",
    "#print(\"fpr_total\")\n",
    "#print(fpr_total)\n",
    "#print(\"\\ntpr_total\")\n",
    "#print(tpr_total)\n",
    "\n",
    "classes = [\"Balut/Penoy\",\"Salted Egg\",\"Table Egg\"]\n",
    "\n",
    "for x in range(len(fpr_total)):\n",
    "    \n",
    "    fpr = dict()\n",
    "    tpr = dict()\n",
    "    roc_auc = dict()\n",
    "    \n",
    "    for i in range(fold):\n",
    "        fpr[i] = fpr_total[x][i]\n",
    "        tpr[i] = tpr_total[x][i]\n",
    "        roc_auc[i] = auc(fpr[i], tpr[i])\n",
    "    \n",
    "    # First aggregate all false positive rates\n",
    "    all_fpr = np.unique(np.concatenate([fpr[i] for i in range(fold)]))\n",
    "    \n",
    "    # Then interpolate all ROC curves at this points\n",
    "    mean_tpr = np.zeros_like(all_fpr)\n",
    "    for i in range(fold):\n",
    "        mean_tpr += interp(all_fpr, fpr[i], tpr[i])\n",
    "\n",
    "    # Finally average it and compute AUC\n",
    "    mean_tpr /= fold\n",
    "   \n",
    "    fpr[\"macro\"] = all_fpr\n",
    "    tpr[\"macro\"] = mean_tpr\n",
    "    \n",
    "    roc_auc[\"macro\"] = auc(fpr[\"macro\"], tpr[\"macro\"])\n",
    "    \n",
    "    plt.rcParams['axes.facecolor'] = 'white'\n",
    "    plt.rcParams[\"axes.edgecolor\"] = 'black'\n",
    "    plt.rcParams[\"axes.linewidth\"]  = 1.25\n",
    "\n",
    "    # Plot all ROC curves\n",
    "    plt.figure(figsize=(12, 8))\n",
    "    lw = 2\n",
    "   \n",
    "    colors = cycle(['brown', 'darkorange', 'cornflowerblue', 'green', 'red'])\n",
    "    for i, color in zip(range(fold), colors):\n",
    "        plt.plot(fpr[i], tpr[i], color=color, lw=lw,\n",
    "                 label='ROC curve of fold {0} (area = {1:0.4f})'\n",
    "                 ''.format(i, roc_auc[i]))\n",
    "    \n",
    "    plt.plot([0, 1], [0, 1], 'k--', lw=lw)\n",
    "    plt.xlim([0.0, 1.0])\n",
    "    plt.ylim([0.0, 1.05])\n",
    "    plt.xlabel('False Positive Rate')\n",
    "    plt.ylabel('True Positive Rate')\n",
    "    plt.title('ROC of all folds for class ' + classes[x])\n",
    "    plt.legend(loc=\"lower right\")\n",
    "    plt.show()\n",
    "#-------------------------------------------------------------------------------------------------------------"
   ]
  },
  {
   "cell_type": "markdown",
   "id": "6bc7c0ba",
   "metadata": {},
   "source": [
    "## Validating Misclassified Images"
   ]
  },
  {
   "cell_type": "markdown",
   "id": "bd9a4cea",
   "metadata": {},
   "source": [
    "We will check whether or not the predicted classes of the images match with the true classes that they have. We will display the correct and incorrect predictions."
   ]
  },
  {
   "cell_type": "code",
   "execution_count": null,
   "id": "0fe77c99",
   "metadata": {
    "ExecuteTime": {
     "end_time": "2021-09-21T02:53:46.339657Z",
     "start_time": "2021-09-21T02:53:46.328687Z"
    }
   },
   "outputs": [],
   "source": [
    "for yhat_classes in yhat_classes_total:\n",
    "    print(yhat_classes.shape, yt.shape)"
   ]
  },
  {
   "cell_type": "markdown",
   "id": "e6d06276",
   "metadata": {},
   "source": [
    "We will get the images from the directories stored under the filename column."
   ]
  },
  {
   "cell_type": "code",
   "execution_count": null,
   "id": "382a3973",
   "metadata": {
    "ExecuteTime": {
     "end_time": "2021-09-21T02:53:46.431838Z",
     "start_time": "2021-09-21T02:53:46.343646Z"
    }
   },
   "outputs": [],
   "source": [
    "testX2 = []\n",
    "\n",
    "for img_path in X_test['filename']:\n",
    "    img = cv2.imread(img_path)\n",
    "    testX2.append(img)\n",
    "\n",
    "testX2 = np.array(testX2)"
   ]
  },
  {
   "cell_type": "markdown",
   "id": "13664885",
   "metadata": {},
   "source": [
    "### Correct predictions"
   ]
  },
  {
   "cell_type": "code",
   "execution_count": null,
   "id": "84589da4",
   "metadata": {
    "ExecuteTime": {
     "end_time": "2021-09-21T02:53:51.815021Z",
     "start_time": "2021-09-21T02:53:46.435408Z"
    },
    "scrolled": true
   },
   "outputs": [],
   "source": [
    "for x in range(len(yhat_classes_total)):\n",
    "    print(\"Fold \" + str(x+1))\n",
    "    \n",
    "    correct = np.where(yhat_classes_total[x]==yt)[0]\n",
    "\n",
    "    print (\"Found %d correct labels\" % len(correct))\n",
    "\n",
    "    print(correct[8])\n",
    "    \n",
    "    plt.figure(figsize=(10,8))\n",
    "    for i, correct in enumerate(correct[:9]):\n",
    "        plt.subplot(3,3,i+1)\n",
    "        RGB_img = cv2.cvtColor(testX2[correct], cv2.COLOR_BGR2RGB)\n",
    "        plt.imshow(RGB_img) #, interpolation='none') #, cmap='gray')\n",
    "        plt.title(\"Predict {0}, Class {1}\".format(str(yhat_classes_total[x][correct]),str(yt.values[correct])))\n",
    "        plt.grid(False)\n",
    "        plt.axis('off')\n",
    "    \n",
    "    plt.show()"
   ]
  },
  {
   "cell_type": "markdown",
   "id": "83d562f3",
   "metadata": {},
   "source": [
    "### Incorrect predictions"
   ]
  },
  {
   "cell_type": "code",
   "execution_count": null,
   "id": "5364f2d2",
   "metadata": {
    "ExecuteTime": {
     "end_time": "2021-09-21T02:53:56.044640Z",
     "start_time": "2021-09-21T02:53:51.818013Z"
    },
    "scrolled": true
   },
   "outputs": [],
   "source": [
    "for x in range(len(yhat_classes_total)):\n",
    "    print(\"Fold \" + str(x+1))\n",
    "    \n",
    "    incorrect = np.where(yhat_classes_total[x]!=yt)[0]\n",
    "    \n",
    "    print (\"Found %d incorrect labels\" % len(incorrect))\n",
    "    \n",
    "    plt.figure(figsize=(10,8))\n",
    "    for i, incorrect in enumerate(incorrect[:9]):\n",
    "        plt.subplot(3,3,i+1)\n",
    "        RGB_img = cv2.cvtColor(testX2[incorrect], cv2.COLOR_BGR2RGB)\n",
    "        plt.imshow(RGB_img) #, interpolation='none') #, cmap='gray')\n",
    "        plt.title(\"Predicted {0}, Class {1}\".format(str(yhat_classes_total[x][incorrect]), str(yt.values[incorrect])))\n",
    "        plt.grid(False)\n",
    "        plt.axis('off')\n",
    "    \n",
    "    plt.show()"
   ]
  },
  {
   "cell_type": "code",
   "execution_count": null,
   "id": "6b0160b9",
   "metadata": {},
   "outputs": [],
   "source": []
  }
 ],
 "metadata": {
  "jupytext": {
   "formats": "ipynb,py"
  },
  "kernelspec": {
   "display_name": "Python 3 (ipykernel)",
   "language": "python",
   "name": "python3"
  },
  "language_info": {
   "codemirror_mode": {
    "name": "ipython",
    "version": 3
   },
   "file_extension": ".py",
   "mimetype": "text/x-python",
   "name": "python",
   "nbconvert_exporter": "python",
   "pygments_lexer": "ipython3",
   "version": "3.8.11"
  },
  "varInspector": {
   "cols": {
    "lenName": 16,
    "lenType": 16,
    "lenVar": 40
   },
   "kernels_config": {
    "python": {
     "delete_cmd_postfix": "",
     "delete_cmd_prefix": "del ",
     "library": "var_list.py",
     "varRefreshCmd": "print(var_dic_list())"
    },
    "r": {
     "delete_cmd_postfix": ") ",
     "delete_cmd_prefix": "rm(",
     "library": "var_list.r",
     "varRefreshCmd": "cat(var_dic_list()) "
    }
   },
   "types_to_exclude": [
    "module",
    "function",
    "builtin_function_or_method",
    "instance",
    "_Feature"
   ],
   "window_display": false
  }
 },
 "nbformat": 4,
 "nbformat_minor": 5
}
