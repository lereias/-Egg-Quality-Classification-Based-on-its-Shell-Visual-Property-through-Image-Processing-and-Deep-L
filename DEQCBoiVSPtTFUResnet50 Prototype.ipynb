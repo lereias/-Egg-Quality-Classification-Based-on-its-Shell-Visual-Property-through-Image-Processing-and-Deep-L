{
 "cells": [
  {
   "cell_type": "code",
   "execution_count": 1,
   "id": "023d1b7a",
   "metadata": {
    "scrolled": false
   },
   "outputs": [
    {
     "name": "stdout",
     "output_type": "stream",
     "text": [
      "Requirement already satisfied: gradio in c:\\users\\user\\anaconda3\\envs\\tensorflow25\\lib\\site-packages (2.3.6)\n",
      "Requirement already satisfied: pandas in c:\\users\\user\\anaconda3\\envs\\tensorflow25\\lib\\site-packages (from gradio) (1.3.2)\n",
      "Requirement already satisfied: pycryptodome in c:\\users\\user\\anaconda3\\envs\\tensorflow25\\lib\\site-packages (from gradio) (3.11.0)\n",
      "Requirement already satisfied: analytics-python in c:\\users\\user\\anaconda3\\envs\\tensorflow25\\lib\\site-packages (from gradio) (1.4.0)\n",
      "Requirement already satisfied: matplotlib in c:\\users\\user\\anaconda3\\envs\\tensorflow25\\lib\\site-packages (from gradio) (3.4.2)\n",
      "Requirement already satisfied: paramiko in c:\\users\\user\\anaconda3\\envs\\tensorflow25\\lib\\site-packages (from gradio) (2.8.0)\n",
      "Requirement already satisfied: numpy in c:\\users\\user\\anaconda3\\envs\\tensorflow25\\lib\\site-packages (from gradio) (1.20.3)\n",
      "Requirement already satisfied: Flask-Cors>=3.0.8 in c:\\users\\user\\anaconda3\\envs\\tensorflow25\\lib\\site-packages (from gradio) (3.0.10)\n",
      "Requirement already satisfied: requests in c:\\users\\user\\anaconda3\\envs\\tensorflow25\\lib\\site-packages (from gradio) (2.26.0)\n",
      "Requirement already satisfied: Flask>=1.1.1 in c:\\users\\user\\anaconda3\\envs\\tensorflow25\\lib\\site-packages (from gradio) (2.0.2)\n",
      "Requirement already satisfied: Flask-Login in c:\\users\\user\\anaconda3\\envs\\tensorflow25\\lib\\site-packages (from gradio) (0.5.0)\n",
      "Requirement already satisfied: scipy in c:\\users\\user\\anaconda3\\envs\\tensorflow25\\lib\\site-packages (from gradio) (1.7.1)\n",
      "Requirement already satisfied: markdown2 in c:\\users\\user\\anaconda3\\envs\\tensorflow25\\lib\\site-packages (from gradio) (2.4.1)\n",
      "Requirement already satisfied: pillow in c:\\users\\user\\anaconda3\\envs\\tensorflow25\\lib\\site-packages (from gradio) (8.3.1)\n",
      "Requirement already satisfied: ffmpy in c:\\users\\user\\anaconda3\\envs\\tensorflow25\\lib\\site-packages (from gradio) (0.3.0)\n",
      "Requirement already satisfied: flask-cachebuster in c:\\users\\user\\anaconda3\\envs\\tensorflow25\\lib\\site-packages (from gradio) (1.0.0)\n",
      "Requirement already satisfied: Jinja2>=3.0 in c:\\users\\user\\anaconda3\\envs\\tensorflow25\\lib\\site-packages (from Flask>=1.1.1->gradio) (3.0.1)\n",
      "Requirement already satisfied: itsdangerous>=2.0 in c:\\users\\user\\anaconda3\\envs\\tensorflow25\\lib\\site-packages (from Flask>=1.1.1->gradio) (2.0.1)\n",
      "Requirement already satisfied: Werkzeug>=2.0 in c:\\users\\user\\anaconda3\\envs\\tensorflow25\\lib\\site-packages (from Flask>=1.1.1->gradio) (2.0.1)\n",
      "Requirement already satisfied: click>=7.1.2 in c:\\users\\user\\anaconda3\\envs\\tensorflow25\\lib\\site-packages (from Flask>=1.1.1->gradio) (8.0.2)\n",
      "Requirement already satisfied: colorama in c:\\users\\user\\anaconda3\\envs\\tensorflow25\\lib\\site-packages (from click>=7.1.2->Flask>=1.1.1->gradio) (0.4.4)\n",
      "Requirement already satisfied: Six in c:\\users\\user\\anaconda3\\envs\\tensorflow25\\lib\\site-packages (from Flask-Cors>=3.0.8->gradio) (1.16.0)\n",
      "Requirement already satisfied: MarkupSafe>=2.0 in c:\\users\\user\\anaconda3\\envs\\tensorflow25\\lib\\site-packages (from Jinja2>=3.0->Flask>=1.1.1->gradio) (2.0.1)\n",
      "Requirement already satisfied: monotonic>=1.5 in c:\\users\\user\\anaconda3\\envs\\tensorflow25\\lib\\site-packages (from analytics-python->gradio) (1.6)\n",
      "Requirement already satisfied: backoff==1.10.0 in c:\\users\\user\\anaconda3\\envs\\tensorflow25\\lib\\site-packages (from analytics-python->gradio) (1.10.0)\n",
      "Requirement already satisfied: python-dateutil>2.1 in c:\\users\\user\\anaconda3\\envs\\tensorflow25\\lib\\site-packages (from analytics-python->gradio) (2.8.2)\n",
      "Requirement already satisfied: urllib3<1.27,>=1.21.1 in c:\\users\\user\\anaconda3\\envs\\tensorflow25\\lib\\site-packages (from requests->gradio) (1.26.6)\n",
      "Requirement already satisfied: idna<4,>=2.5 in c:\\users\\user\\anaconda3\\envs\\tensorflow25\\lib\\site-packages (from requests->gradio) (3.2)\n",
      "Requirement already satisfied: certifi>=2017.4.17 in c:\\users\\user\\anaconda3\\envs\\tensorflow25\\lib\\site-packages (from requests->gradio) (2021.5.30)\n",
      "Requirement already satisfied: charset-normalizer~=2.0.0 in c:\\users\\user\\anaconda3\\envs\\tensorflow25\\lib\\site-packages (from requests->gradio) (2.0.5)\n",
      "Requirement already satisfied: cycler>=0.10 in c:\\users\\user\\anaconda3\\envs\\tensorflow25\\lib\\site-packages (from matplotlib->gradio) (0.10.0)\n",
      "Requirement already satisfied: kiwisolver>=1.0.1 in c:\\users\\user\\anaconda3\\envs\\tensorflow25\\lib\\site-packages (from matplotlib->gradio) (1.3.1)\n",
      "Requirement already satisfied: pyparsing>=2.2.1 in c:\\users\\user\\anaconda3\\envs\\tensorflow25\\lib\\site-packages (from matplotlib->gradio) (2.4.7)\n",
      "Requirement already satisfied: pytz>=2017.3 in c:\\users\\user\\anaconda3\\envs\\tensorflow25\\lib\\site-packages (from pandas->gradio) (2021.1)\n",
      "Requirement already satisfied: bcrypt>=3.1.3 in c:\\users\\user\\anaconda3\\envs\\tensorflow25\\lib\\site-packages (from paramiko->gradio) (3.2.0)\n",
      "Requirement already satisfied: cryptography>=2.5 in c:\\users\\user\\anaconda3\\envs\\tensorflow25\\lib\\site-packages (from paramiko->gradio) (35.0.0)\n",
      "Requirement already satisfied: pynacl>=1.0.1 in c:\\users\\user\\anaconda3\\envs\\tensorflow25\\lib\\site-packages (from paramiko->gradio) (1.4.0)\n",
      "Requirement already satisfied: cffi>=1.1 in c:\\users\\user\\anaconda3\\envs\\tensorflow25\\lib\\site-packages (from bcrypt>=3.1.3->paramiko->gradio) (1.14.6)\n",
      "Requirement already satisfied: pycparser in c:\\users\\user\\anaconda3\\envs\\tensorflow25\\lib\\site-packages (from cffi>=1.1->bcrypt>=3.1.3->paramiko->gradio) (2.20)\n"
     ]
    }
   ],
   "source": [
    "!pip install gradio"
   ]
  },
  {
   "cell_type": "code",
   "execution_count": 2,
   "id": "46656540",
   "metadata": {},
   "outputs": [],
   "source": [
    "import tensorflow.keras as keras\n",
    "from tensorflow.keras.preprocessing import image as im                   #load image\n",
    "from tensorflow.keras.applications.resnet50 import preprocess_input      #preprocess image"
   ]
  },
  {
   "cell_type": "code",
   "execution_count": 3,
   "id": "4709623d",
   "metadata": {},
   "outputs": [],
   "source": [
    "def create_model():\n",
    "    resnet50 = keras.applications.resnet50\n",
    "    \n",
    "    conv_model = resnet50.ResNet50(weights='imagenet', include_top=False, input_shape=(224,224,3))\n",
    "\n",
    "    for layer in conv_model.layers:\n",
    "        layer.trainable = False\n",
    "\n",
    "    x = keras.layers.GlobalAveragePooling2D()(conv_model.output)\n",
    "    x = keras.layers.Dense(512, activation='relu')(x)\n",
    "    x = keras.layers.Dense(256, activation='relu')(x)\n",
    "    x = keras.layers.BatchNormalization()(x)\n",
    "    x = keras.layers.Dropout(0.2)(x)\n",
    "    predictions = keras.layers.Dense(3, activation='softmax')(x)\n",
    "\n",
    "    full_model = keras.models.Model(inputs=conv_model.input, outputs=predictions)\n",
    "\n",
    "    return full_model"
   ]
  },
  {
   "cell_type": "code",
   "execution_count": 4,
   "id": "a8132027",
   "metadata": {
    "scrolled": false
   },
   "outputs": [
    {
     "name": "stdout",
     "output_type": "stream",
     "text": [
      "Running locally at: http://127.0.0.1:7860/\n",
      "To create a public link, set `share=True` in `launch()`.\n",
      "Interface loading below...\n"
     ]
    },
    {
     "data": {
      "text/html": [
       "\n",
       "        <iframe\n",
       "            width=\"900\"\n",
       "            height=\"500\"\n",
       "            src=\"http://127.0.0.1:7860/\"\n",
       "            frameborder=\"0\"\n",
       "            allowfullscreen\n",
       "        ></iframe>\n",
       "        "
      ],
      "text/plain": [
       "<IPython.lib.display.IFrame at 0x1361cce7f40>"
      ]
     },
     "metadata": {},
     "output_type": "display_data"
    },
    {
     "data": {
      "text/plain": [
       "(<Flask 'gradio.networking'>, 'http://127.0.0.1:7860/', None)"
      ]
     },
     "execution_count": 4,
     "metadata": {},
     "output_type": "execute_result"
    }
   ],
   "source": [
    "import gradio as gr\n",
    "import numpy as np\n",
    "\n",
    "labels = ['Balut/Penoy','Salted egg','Table egg']\n",
    "\n",
    "def sepia(img):\n",
    "    \n",
    "    img = img.reshape((-1, 224, 224, 3))\n",
    "\n",
    "    full_model = create_model()\n",
    "    \n",
    "    save_dir = \"C:/Users/user/Desktop/Model/saved_finalmodel_1\"\n",
    "    \n",
    "    # Load the best model instance to evaluate the performance of the model\n",
    "    full_model.load_weights(save_dir+\"/\"+ \"finalmodel_1.h5\")\n",
    "    \n",
    "    predictionu = full_model.predict(img, verbose=0).flatten() \n",
    "    #print(predictionu)\n",
    "    \n",
    "    return {labels[i]: float(predictionu[i]) for i in range(len(labels))}\n",
    "\n",
    "iface = gr.Interface(sepia, gr.inputs.Image(shape = (224, 224)), gr.outputs.Label(num_top_classes = 3))\n",
    "iface.launch()"
   ]
  }
 ],
 "metadata": {
  "kernelspec": {
   "display_name": "Python 3 (ipykernel)",
   "language": "python",
   "name": "python3"
  },
  "language_info": {
   "codemirror_mode": {
    "name": "ipython",
    "version": 3
   },
   "file_extension": ".py",
   "mimetype": "text/x-python",
   "name": "python",
   "nbconvert_exporter": "python",
   "pygments_lexer": "ipython3",
   "version": "3.8.11"
  }
 },
 "nbformat": 4,
 "nbformat_minor": 5
}
