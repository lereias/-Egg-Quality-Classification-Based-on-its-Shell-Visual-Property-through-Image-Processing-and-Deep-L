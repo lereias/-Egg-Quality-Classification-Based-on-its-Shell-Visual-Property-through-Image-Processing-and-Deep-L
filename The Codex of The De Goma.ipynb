{
 "cells": [
  {
   "cell_type": "markdown",
   "id": "4d37d7c1",
   "metadata": {},
   "source": [
    "# Duck Egg Quality Classification Based on its Shell Visual Property through Image Processing and Deep Learning\n"
   ]
  },
  {
   "cell_type": "markdown",
   "id": "3bab25e6",
   "metadata": {},
   "source": [
    "Group CGM: <br>\n",
    "\n",
    "Caguioa, JV Bryan <br>\n",
    "Guinto, Ryhle Nodnyhlson <br>\n",
    "Mesias, Lee Reuben"
   ]
  },
  {
   "cell_type": "markdown",
   "id": "976e157b",
   "metadata": {},
   "source": [
    "# References"
   ]
  },
  {
   "cell_type": "markdown",
   "id": "86ed03b6",
   "metadata": {},
   "source": [
    "https://thedatafrog.com/en/articles/image-recognition-transfer-learning/ <br>\n",
    "https://medium.com/the-owl/k-fold-cross-validation-in-keras-3ec4a3a00538 <br>\n",
    "https://www.datacamp.com/community/tutorials/convolutional-neural-networks-python"
   ]
  },
  {
   "cell_type": "markdown",
   "id": "d6c29596",
   "metadata": {},
   "source": [
    "## Imports"
   ]
  },
  {
   "cell_type": "code",
   "execution_count": 1,
   "id": "caf98030",
   "metadata": {
    "ExecuteTime": {
     "end_time": "2021-09-28T18:54:47.963474Z",
     "start_time": "2021-09-28T18:54:44.732526Z"
    }
   },
   "outputs": [],
   "source": [
    "# the directory where the data is stored\n",
    "directory = \"C:/Users/user/Desktop/Dataset\"\n",
    "#directory where set of models per training are stored\n",
    "gen_dir = \"C:/Users/user/Desktop/Model\"\n",
    "\n",
    "import os                                              # define and move to dataset and model directory\n",
    "import random                                          # for image name\n",
    "import shutil                                          # dupli\n",
    "import sys\n",
    "import cv2     \n",
    "\n",
    "import tensorflow.keras as keras\n",
    "import numpy as np\n",
    "import tensorflow as tf                                 #for callbacks\n",
    "import seaborn as sn\n",
    "import pandas as pd \n",
    "%matplotlib inline\n",
    "import matplotlib.pyplot as plt                         #histograph/confusion matrix\n",
    "\n",
    "from sklearn.model_selection import StratifiedKFold     #k-fold cross validation\n",
    "from sklearn.model_selection import train_test_split    #split the dataset to train-test\n",
    "\n",
    "from tensorflow.keras.preprocessing.image import ImageDataGenerator      # data augmentation\n",
    "from tensorflow.keras.preprocessing import image as im                   #load image\n",
    "from tensorflow.keras.applications.resnet50 import preprocess_input      #preprocess image                                                               \n",
    "\n",
    "from sklearn.metrics import accuracy_score\n",
    "from sklearn.metrics import log_loss\n",
    "from sklearn.metrics import precision_score\n",
    "from sklearn.metrics import recall_score\n",
    "from sklearn.metrics import roc_curve, auc       \n",
    "from sklearn.metrics import roc_auc_score\n",
    "from sklearn.metrics import confusion_matrix\n",
    "from sklearn.metrics import plot_confusion_matrix\n",
    "from sklearn.preprocessing import label_binarize\n",
    "\n",
    "from scipy import interp                            #interpolation needed for plotting all classes into one roc plot\n",
    "from itertools import cycle                         #for the color of lines on that multiclass plot\n",
    "\n",
    "import warnings\n",
    "warnings.filterwarnings(\"ignore\")"
   ]
  },
  {
   "cell_type": "markdown",
   "id": "eab583ca",
   "metadata": {},
   "source": [
    "## Put Dataset in a Dataframe"
   ]
  },
  {
   "cell_type": "markdown",
   "id": "f11561c6",
   "metadata": {},
   "source": [
    "The directory of the images are put in a dataframe in order to prepare for splitting the dataset into train and test set."
   ]
  },
  {
   "cell_type": "code",
   "execution_count": 2,
   "id": "9ef7d10b",
   "metadata": {
    "ExecuteTime": {
     "end_time": "2021-09-28T18:54:47.979198Z",
     "start_time": "2021-09-28T18:54:47.965672Z"
    }
   },
   "outputs": [],
   "source": [
    "totaldsdirect = directory + \"/CombinedTwoAngleEggs\"\n",
    "\n",
    "image = []\n",
    "\n",
    "if not os.path.exists(totaldsdirect):\n",
    "    print(\"Directory does not exist. Please run the code on data cleaning notebook.\")\n",
    "    sys.exit()\n",
    "\n",
    "for x in os.listdir(totaldsdirect):\n",
    "    totaldsdirect2 = totaldsdirect + \"/\" + x\n",
    "    for y in os.listdir(totaldsdirect2):\n",
    "        if x == \"Balut-penoy2\":\n",
    "            lbl = \"0\"\n",
    "        elif x == \"Salted egg2\":\n",
    "            lbl = \"1\"\n",
    "        else:\n",
    "            lbl = \"2\"\n",
    "                 \n",
    "        #append to image array\n",
    "        image.append([totaldsdirect2 + \"/\" + y,lbl])"
   ]
  },
  {
   "cell_type": "code",
   "execution_count": 3,
   "id": "f1b6f4d8",
   "metadata": {
    "ExecuteTime": {
     "end_time": "2021-09-28T18:54:47.995170Z",
     "start_time": "2021-09-28T18:54:47.980207Z"
    },
    "scrolled": true
   },
   "outputs": [
    {
     "data": {
      "text/html": [
       "<div>\n",
       "<style scoped>\n",
       "    .dataframe tbody tr th:only-of-type {\n",
       "        vertical-align: middle;\n",
       "    }\n",
       "\n",
       "    .dataframe tbody tr th {\n",
       "        vertical-align: top;\n",
       "    }\n",
       "\n",
       "    .dataframe thead th {\n",
       "        text-align: right;\n",
       "    }\n",
       "</style>\n",
       "<table border=\"1\" class=\"dataframe\">\n",
       "  <thead>\n",
       "    <tr style=\"text-align: right;\">\n",
       "      <th></th>\n",
       "      <th>filename</th>\n",
       "      <th>label</th>\n",
       "    </tr>\n",
       "  </thead>\n",
       "  <tbody>\n",
       "    <tr>\n",
       "      <th>0</th>\n",
       "      <td>C:/Users/user/Desktop/Dataset/CombinedTwoAngle...</td>\n",
       "      <td>0</td>\n",
       "    </tr>\n",
       "    <tr>\n",
       "      <th>1</th>\n",
       "      <td>C:/Users/user/Desktop/Dataset/CombinedTwoAngle...</td>\n",
       "      <td>0</td>\n",
       "    </tr>\n",
       "    <tr>\n",
       "      <th>2</th>\n",
       "      <td>C:/Users/user/Desktop/Dataset/CombinedTwoAngle...</td>\n",
       "      <td>0</td>\n",
       "    </tr>\n",
       "    <tr>\n",
       "      <th>3</th>\n",
       "      <td>C:/Users/user/Desktop/Dataset/CombinedTwoAngle...</td>\n",
       "      <td>0</td>\n",
       "    </tr>\n",
       "    <tr>\n",
       "      <th>4</th>\n",
       "      <td>C:/Users/user/Desktop/Dataset/CombinedTwoAngle...</td>\n",
       "      <td>0</td>\n",
       "    </tr>\n",
       "    <tr>\n",
       "      <th>...</th>\n",
       "      <td>...</td>\n",
       "      <td>...</td>\n",
       "    </tr>\n",
       "    <tr>\n",
       "      <th>595</th>\n",
       "      <td>C:/Users/user/Desktop/Dataset/CombinedTwoAngle...</td>\n",
       "      <td>2</td>\n",
       "    </tr>\n",
       "    <tr>\n",
       "      <th>596</th>\n",
       "      <td>C:/Users/user/Desktop/Dataset/CombinedTwoAngle...</td>\n",
       "      <td>2</td>\n",
       "    </tr>\n",
       "    <tr>\n",
       "      <th>597</th>\n",
       "      <td>C:/Users/user/Desktop/Dataset/CombinedTwoAngle...</td>\n",
       "      <td>2</td>\n",
       "    </tr>\n",
       "    <tr>\n",
       "      <th>598</th>\n",
       "      <td>C:/Users/user/Desktop/Dataset/CombinedTwoAngle...</td>\n",
       "      <td>2</td>\n",
       "    </tr>\n",
       "    <tr>\n",
       "      <th>599</th>\n",
       "      <td>C:/Users/user/Desktop/Dataset/CombinedTwoAngle...</td>\n",
       "      <td>2</td>\n",
       "    </tr>\n",
       "  </tbody>\n",
       "</table>\n",
       "<p>600 rows × 2 columns</p>\n",
       "</div>"
      ],
      "text/plain": [
       "                                              filename label\n",
       "0    C:/Users/user/Desktop/Dataset/CombinedTwoAngle...     0\n",
       "1    C:/Users/user/Desktop/Dataset/CombinedTwoAngle...     0\n",
       "2    C:/Users/user/Desktop/Dataset/CombinedTwoAngle...     0\n",
       "3    C:/Users/user/Desktop/Dataset/CombinedTwoAngle...     0\n",
       "4    C:/Users/user/Desktop/Dataset/CombinedTwoAngle...     0\n",
       "..                                                 ...   ...\n",
       "595  C:/Users/user/Desktop/Dataset/CombinedTwoAngle...     2\n",
       "596  C:/Users/user/Desktop/Dataset/CombinedTwoAngle...     2\n",
       "597  C:/Users/user/Desktop/Dataset/CombinedTwoAngle...     2\n",
       "598  C:/Users/user/Desktop/Dataset/CombinedTwoAngle...     2\n",
       "599  C:/Users/user/Desktop/Dataset/CombinedTwoAngle...     2\n",
       "\n",
       "[600 rows x 2 columns]"
      ]
     },
     "execution_count": 3,
     "metadata": {},
     "output_type": "execute_result"
    }
   ],
   "source": [
    "df = pd.DataFrame(image,columns=['filename','label'])\n",
    "df"
   ]
  },
  {
   "cell_type": "markdown",
   "id": "18af8ee7",
   "metadata": {},
   "source": [
    "Classes: <br>\n",
    "0 - Balut/Penoy <br> \n",
    "1 - Salted <br>\n",
    "2 - Table"
   ]
  },
  {
   "cell_type": "markdown",
   "id": "d45903ac",
   "metadata": {},
   "source": [
    "## Split Data to train and test set"
   ]
  },
  {
   "cell_type": "markdown",
   "id": "22b4c490",
   "metadata": {},
   "source": [
    "We will need to split the dataset to train and test set. Only the train set will be used for transfer learning with K-fold validation. Test set will be used for model prediction and use that for model evaluation. Stratify is used in order to split the data in equal numbers under the classes specified."
   ]
  },
  {
   "cell_type": "code",
   "execution_count": 4,
   "id": "1d1d3e41",
   "metadata": {
    "ExecuteTime": {
     "end_time": "2021-09-29T09:49:28.996176Z",
     "start_time": "2021-09-29T09:49:28.925443Z"
    }
   },
   "outputs": [],
   "source": [
    "# Split the data to train and test\n",
    "X = df[['filename']]\n",
    "y = df[['label']]\n",
    "X_train, X_test, y_train, y_test = train_test_split(X, y, test_size=0.1, stratify=y, random_state=420)"
   ]
  },
  {
   "cell_type": "markdown",
   "id": "283bbdd6",
   "metadata": {},
   "source": [
    "Save the split sets to train and test set folders."
   ]
  },
  {
   "cell_type": "code",
   "execution_count": 5,
   "id": "2aad4898",
   "metadata": {
    "ExecuteTime": {
     "end_time": "2021-09-29T09:49:30.830230Z",
     "start_time": "2021-09-29T09:49:29.744432Z"
    },
    "scrolled": false
   },
   "outputs": [],
   "source": [
    "#folder to store the train and test set folders\n",
    "fortraintest = directory + \"/ToBeUsed\"\n",
    "if not os.path.exists(fortraintest):\n",
    "    os.makedirs(fortraintest)\n",
    "\n",
    "#train set folder\n",
    "tr = fortraintest + \"/train_set\"\n",
    "if not os.path.exists(tr):\n",
    "    os.makedirs(tr)\n",
    "else:\n",
    "    #remove previous folder and create new one\n",
    "    shutil.rmtree(tr)\n",
    "    os.makedirs(tr)\n",
    "    \n",
    "#test set folder\n",
    "te = fortraintest + \"/test_set\"\n",
    "if not os.path.exists(te):\n",
    "    os.makedirs(te)\n",
    "else:\n",
    "    #remove previous folder and create new one\n",
    "    shutil.rmtree(te)\n",
    "    os.makedirs(te)\n",
    "\n",
    "#copying the images to the train set folder\n",
    "for index, row in X_train.iterrows():\n",
    "    trcpy = shutil.copy2(row['filename'], tr)\n",
    "    X_train.loc[X_train['filename']==row['filename'],'filename']=trcpy #change to directory where image is copied\n",
    "    \n",
    "#copying the images to the test set folder\n",
    "for index, row in X_test.iterrows():\n",
    "    tecpy = shutil.copy2(row['filename'], te)\n",
    "    X_test.loc[X_test['filename']==row['filename'],'filename']=tecpy #change to directory where image is copiedb"
   ]
  },
  {
   "cell_type": "code",
   "execution_count": 6,
   "id": "5c2d7592",
   "metadata": {
    "ExecuteTime": {
     "end_time": "2021-09-29T09:49:31.169745Z",
     "start_time": "2021-09-29T09:49:31.140253Z"
    },
    "scrolled": true
   },
   "outputs": [
    {
     "data": {
      "text/html": [
       "<div>\n",
       "<style scoped>\n",
       "    .dataframe tbody tr th:only-of-type {\n",
       "        vertical-align: middle;\n",
       "    }\n",
       "\n",
       "    .dataframe tbody tr th {\n",
       "        vertical-align: top;\n",
       "    }\n",
       "\n",
       "    .dataframe thead th {\n",
       "        text-align: right;\n",
       "    }\n",
       "</style>\n",
       "<table border=\"1\" class=\"dataframe\">\n",
       "  <thead>\n",
       "    <tr style=\"text-align: right;\">\n",
       "      <th></th>\n",
       "      <th>filename</th>\n",
       "      <th>label</th>\n",
       "    </tr>\n",
       "  </thead>\n",
       "  <tbody>\n",
       "    <tr>\n",
       "      <th>11</th>\n",
       "      <td>C:/Users/user/Desktop/Dataset/ToBeUsed/train_s...</td>\n",
       "      <td>0</td>\n",
       "    </tr>\n",
       "    <tr>\n",
       "      <th>581</th>\n",
       "      <td>C:/Users/user/Desktop/Dataset/ToBeUsed/train_s...</td>\n",
       "      <td>2</td>\n",
       "    </tr>\n",
       "    <tr>\n",
       "      <th>377</th>\n",
       "      <td>C:/Users/user/Desktop/Dataset/ToBeUsed/train_s...</td>\n",
       "      <td>1</td>\n",
       "    </tr>\n",
       "    <tr>\n",
       "      <th>487</th>\n",
       "      <td>C:/Users/user/Desktop/Dataset/ToBeUsed/train_s...</td>\n",
       "      <td>2</td>\n",
       "    </tr>\n",
       "    <tr>\n",
       "      <th>216</th>\n",
       "      <td>C:/Users/user/Desktop/Dataset/ToBeUsed/train_s...</td>\n",
       "      <td>1</td>\n",
       "    </tr>\n",
       "    <tr>\n",
       "      <th>...</th>\n",
       "      <td>...</td>\n",
       "      <td>...</td>\n",
       "    </tr>\n",
       "    <tr>\n",
       "      <th>273</th>\n",
       "      <td>C:/Users/user/Desktop/Dataset/ToBeUsed/train_s...</td>\n",
       "      <td>1</td>\n",
       "    </tr>\n",
       "    <tr>\n",
       "      <th>486</th>\n",
       "      <td>C:/Users/user/Desktop/Dataset/ToBeUsed/train_s...</td>\n",
       "      <td>2</td>\n",
       "    </tr>\n",
       "    <tr>\n",
       "      <th>86</th>\n",
       "      <td>C:/Users/user/Desktop/Dataset/ToBeUsed/train_s...</td>\n",
       "      <td>0</td>\n",
       "    </tr>\n",
       "    <tr>\n",
       "      <th>200</th>\n",
       "      <td>C:/Users/user/Desktop/Dataset/ToBeUsed/train_s...</td>\n",
       "      <td>1</td>\n",
       "    </tr>\n",
       "    <tr>\n",
       "      <th>538</th>\n",
       "      <td>C:/Users/user/Desktop/Dataset/ToBeUsed/train_s...</td>\n",
       "      <td>2</td>\n",
       "    </tr>\n",
       "  </tbody>\n",
       "</table>\n",
       "<p>540 rows × 2 columns</p>\n",
       "</div>"
      ],
      "text/plain": [
       "                                              filename label\n",
       "11   C:/Users/user/Desktop/Dataset/ToBeUsed/train_s...     0\n",
       "581  C:/Users/user/Desktop/Dataset/ToBeUsed/train_s...     2\n",
       "377  C:/Users/user/Desktop/Dataset/ToBeUsed/train_s...     1\n",
       "487  C:/Users/user/Desktop/Dataset/ToBeUsed/train_s...     2\n",
       "216  C:/Users/user/Desktop/Dataset/ToBeUsed/train_s...     1\n",
       "..                                                 ...   ...\n",
       "273  C:/Users/user/Desktop/Dataset/ToBeUsed/train_s...     1\n",
       "486  C:/Users/user/Desktop/Dataset/ToBeUsed/train_s...     2\n",
       "86   C:/Users/user/Desktop/Dataset/ToBeUsed/train_s...     0\n",
       "200  C:/Users/user/Desktop/Dataset/ToBeUsed/train_s...     1\n",
       "538  C:/Users/user/Desktop/Dataset/ToBeUsed/train_s...     2\n",
       "\n",
       "[540 rows x 2 columns]"
      ]
     },
     "execution_count": 6,
     "metadata": {},
     "output_type": "execute_result"
    }
   ],
   "source": [
    "df2 = pd.concat([X_train,y_train],axis=1)\n",
    "df2"
   ]
  },
  {
   "cell_type": "markdown",
   "id": "61160bbf",
   "metadata": {},
   "source": [
    "To check whether or not there are equal amounts of images per class in the train set, we have done what is shown below."
   ]
  },
  {
   "cell_type": "code",
   "execution_count": 7,
   "id": "2b243cef",
   "metadata": {},
   "outputs": [],
   "source": [
    "counto = [0,0,0]\n",
    "\n",
    "counto_count = 0\n",
    "\n",
    "for x in df2['label'].unique():\n",
    "    for y in df2['label']:\n",
    "        if x == y:\n",
    "            if counto_count == 0:\n",
    "                counto[0] += 1\n",
    "            elif counto_count == 1:\n",
    "                counto[1] += 1\n",
    "            else:\n",
    "                counto[2] += 1\n",
    "                \n",
    "    counto_count += 1"
   ]
  },
  {
   "cell_type": "code",
   "execution_count": 8,
   "id": "3e0b9a68",
   "metadata": {},
   "outputs": [
    {
     "name": "stdout",
     "output_type": "stream",
     "text": [
      "[180, 180, 180]\n"
     ]
    }
   ],
   "source": [
    "print(counto)"
   ]
  },
  {
   "cell_type": "code",
   "execution_count": 9,
   "id": "3f73ea82",
   "metadata": {
    "scrolled": true
   },
   "outputs": [
    {
     "data": {
      "text/html": [
       "<div>\n",
       "<style scoped>\n",
       "    .dataframe tbody tr th:only-of-type {\n",
       "        vertical-align: middle;\n",
       "    }\n",
       "\n",
       "    .dataframe tbody tr th {\n",
       "        vertical-align: top;\n",
       "    }\n",
       "\n",
       "    .dataframe thead th {\n",
       "        text-align: right;\n",
       "    }\n",
       "</style>\n",
       "<table border=\"1\" class=\"dataframe\">\n",
       "  <thead>\n",
       "    <tr style=\"text-align: right;\">\n",
       "      <th></th>\n",
       "      <th>filename</th>\n",
       "      <th>label</th>\n",
       "    </tr>\n",
       "  </thead>\n",
       "  <tbody>\n",
       "    <tr>\n",
       "      <th>177</th>\n",
       "      <td>C:/Users/user/Desktop/Dataset/ToBeUsed/test_se...</td>\n",
       "      <td>0</td>\n",
       "    </tr>\n",
       "    <tr>\n",
       "      <th>535</th>\n",
       "      <td>C:/Users/user/Desktop/Dataset/ToBeUsed/test_se...</td>\n",
       "      <td>2</td>\n",
       "    </tr>\n",
       "    <tr>\n",
       "      <th>563</th>\n",
       "      <td>C:/Users/user/Desktop/Dataset/ToBeUsed/test_se...</td>\n",
       "      <td>2</td>\n",
       "    </tr>\n",
       "    <tr>\n",
       "      <th>498</th>\n",
       "      <td>C:/Users/user/Desktop/Dataset/ToBeUsed/test_se...</td>\n",
       "      <td>2</td>\n",
       "    </tr>\n",
       "    <tr>\n",
       "      <th>502</th>\n",
       "      <td>C:/Users/user/Desktop/Dataset/ToBeUsed/test_se...</td>\n",
       "      <td>2</td>\n",
       "    </tr>\n",
       "    <tr>\n",
       "      <th>257</th>\n",
       "      <td>C:/Users/user/Desktop/Dataset/ToBeUsed/test_se...</td>\n",
       "      <td>1</td>\n",
       "    </tr>\n",
       "    <tr>\n",
       "      <th>559</th>\n",
       "      <td>C:/Users/user/Desktop/Dataset/ToBeUsed/test_se...</td>\n",
       "      <td>2</td>\n",
       "    </tr>\n",
       "    <tr>\n",
       "      <th>134</th>\n",
       "      <td>C:/Users/user/Desktop/Dataset/ToBeUsed/test_se...</td>\n",
       "      <td>0</td>\n",
       "    </tr>\n",
       "    <tr>\n",
       "      <th>298</th>\n",
       "      <td>C:/Users/user/Desktop/Dataset/ToBeUsed/test_se...</td>\n",
       "      <td>1</td>\n",
       "    </tr>\n",
       "    <tr>\n",
       "      <th>10</th>\n",
       "      <td>C:/Users/user/Desktop/Dataset/ToBeUsed/test_se...</td>\n",
       "      <td>0</td>\n",
       "    </tr>\n",
       "    <tr>\n",
       "      <th>154</th>\n",
       "      <td>C:/Users/user/Desktop/Dataset/ToBeUsed/test_se...</td>\n",
       "      <td>0</td>\n",
       "    </tr>\n",
       "    <tr>\n",
       "      <th>126</th>\n",
       "      <td>C:/Users/user/Desktop/Dataset/ToBeUsed/test_se...</td>\n",
       "      <td>0</td>\n",
       "    </tr>\n",
       "    <tr>\n",
       "      <th>348</th>\n",
       "      <td>C:/Users/user/Desktop/Dataset/ToBeUsed/test_se...</td>\n",
       "      <td>1</td>\n",
       "    </tr>\n",
       "    <tr>\n",
       "      <th>275</th>\n",
       "      <td>C:/Users/user/Desktop/Dataset/ToBeUsed/test_se...</td>\n",
       "      <td>1</td>\n",
       "    </tr>\n",
       "    <tr>\n",
       "      <th>142</th>\n",
       "      <td>C:/Users/user/Desktop/Dataset/ToBeUsed/test_se...</td>\n",
       "      <td>0</td>\n",
       "    </tr>\n",
       "    <tr>\n",
       "      <th>152</th>\n",
       "      <td>C:/Users/user/Desktop/Dataset/ToBeUsed/test_se...</td>\n",
       "      <td>0</td>\n",
       "    </tr>\n",
       "    <tr>\n",
       "      <th>63</th>\n",
       "      <td>C:/Users/user/Desktop/Dataset/ToBeUsed/test_se...</td>\n",
       "      <td>0</td>\n",
       "    </tr>\n",
       "    <tr>\n",
       "      <th>356</th>\n",
       "      <td>C:/Users/user/Desktop/Dataset/ToBeUsed/test_se...</td>\n",
       "      <td>1</td>\n",
       "    </tr>\n",
       "    <tr>\n",
       "      <th>422</th>\n",
       "      <td>C:/Users/user/Desktop/Dataset/ToBeUsed/test_se...</td>\n",
       "      <td>2</td>\n",
       "    </tr>\n",
       "    <tr>\n",
       "      <th>427</th>\n",
       "      <td>C:/Users/user/Desktop/Dataset/ToBeUsed/test_se...</td>\n",
       "      <td>2</td>\n",
       "    </tr>\n",
       "    <tr>\n",
       "      <th>115</th>\n",
       "      <td>C:/Users/user/Desktop/Dataset/ToBeUsed/test_se...</td>\n",
       "      <td>0</td>\n",
       "    </tr>\n",
       "    <tr>\n",
       "      <th>361</th>\n",
       "      <td>C:/Users/user/Desktop/Dataset/ToBeUsed/test_se...</td>\n",
       "      <td>1</td>\n",
       "    </tr>\n",
       "    <tr>\n",
       "      <th>326</th>\n",
       "      <td>C:/Users/user/Desktop/Dataset/ToBeUsed/test_se...</td>\n",
       "      <td>1</td>\n",
       "    </tr>\n",
       "    <tr>\n",
       "      <th>478</th>\n",
       "      <td>C:/Users/user/Desktop/Dataset/ToBeUsed/test_se...</td>\n",
       "      <td>2</td>\n",
       "    </tr>\n",
       "    <tr>\n",
       "      <th>506</th>\n",
       "      <td>C:/Users/user/Desktop/Dataset/ToBeUsed/test_se...</td>\n",
       "      <td>2</td>\n",
       "    </tr>\n",
       "    <tr>\n",
       "      <th>35</th>\n",
       "      <td>C:/Users/user/Desktop/Dataset/ToBeUsed/test_se...</td>\n",
       "      <td>0</td>\n",
       "    </tr>\n",
       "    <tr>\n",
       "      <th>278</th>\n",
       "      <td>C:/Users/user/Desktop/Dataset/ToBeUsed/test_se...</td>\n",
       "      <td>1</td>\n",
       "    </tr>\n",
       "    <tr>\n",
       "      <th>415</th>\n",
       "      <td>C:/Users/user/Desktop/Dataset/ToBeUsed/test_se...</td>\n",
       "      <td>2</td>\n",
       "    </tr>\n",
       "    <tr>\n",
       "      <th>205</th>\n",
       "      <td>C:/Users/user/Desktop/Dataset/ToBeUsed/test_se...</td>\n",
       "      <td>1</td>\n",
       "    </tr>\n",
       "    <tr>\n",
       "      <th>174</th>\n",
       "      <td>C:/Users/user/Desktop/Dataset/ToBeUsed/test_se...</td>\n",
       "      <td>0</td>\n",
       "    </tr>\n",
       "    <tr>\n",
       "      <th>47</th>\n",
       "      <td>C:/Users/user/Desktop/Dataset/ToBeUsed/test_se...</td>\n",
       "      <td>0</td>\n",
       "    </tr>\n",
       "    <tr>\n",
       "      <th>537</th>\n",
       "      <td>C:/Users/user/Desktop/Dataset/ToBeUsed/test_se...</td>\n",
       "      <td>2</td>\n",
       "    </tr>\n",
       "    <tr>\n",
       "      <th>578</th>\n",
       "      <td>C:/Users/user/Desktop/Dataset/ToBeUsed/test_se...</td>\n",
       "      <td>2</td>\n",
       "    </tr>\n",
       "    <tr>\n",
       "      <th>262</th>\n",
       "      <td>C:/Users/user/Desktop/Dataset/ToBeUsed/test_se...</td>\n",
       "      <td>1</td>\n",
       "    </tr>\n",
       "    <tr>\n",
       "      <th>31</th>\n",
       "      <td>C:/Users/user/Desktop/Dataset/ToBeUsed/test_se...</td>\n",
       "      <td>0</td>\n",
       "    </tr>\n",
       "    <tr>\n",
       "      <th>151</th>\n",
       "      <td>C:/Users/user/Desktop/Dataset/ToBeUsed/test_se...</td>\n",
       "      <td>0</td>\n",
       "    </tr>\n",
       "    <tr>\n",
       "      <th>304</th>\n",
       "      <td>C:/Users/user/Desktop/Dataset/ToBeUsed/test_se...</td>\n",
       "      <td>1</td>\n",
       "    </tr>\n",
       "    <tr>\n",
       "      <th>393</th>\n",
       "      <td>C:/Users/user/Desktop/Dataset/ToBeUsed/test_se...</td>\n",
       "      <td>1</td>\n",
       "    </tr>\n",
       "    <tr>\n",
       "      <th>72</th>\n",
       "      <td>C:/Users/user/Desktop/Dataset/ToBeUsed/test_se...</td>\n",
       "      <td>0</td>\n",
       "    </tr>\n",
       "    <tr>\n",
       "      <th>85</th>\n",
       "      <td>C:/Users/user/Desktop/Dataset/ToBeUsed/test_se...</td>\n",
       "      <td>0</td>\n",
       "    </tr>\n",
       "    <tr>\n",
       "      <th>327</th>\n",
       "      <td>C:/Users/user/Desktop/Dataset/ToBeUsed/test_se...</td>\n",
       "      <td>1</td>\n",
       "    </tr>\n",
       "    <tr>\n",
       "      <th>238</th>\n",
       "      <td>C:/Users/user/Desktop/Dataset/ToBeUsed/test_se...</td>\n",
       "      <td>1</td>\n",
       "    </tr>\n",
       "    <tr>\n",
       "      <th>132</th>\n",
       "      <td>C:/Users/user/Desktop/Dataset/ToBeUsed/test_se...</td>\n",
       "      <td>0</td>\n",
       "    </tr>\n",
       "    <tr>\n",
       "      <th>243</th>\n",
       "      <td>C:/Users/user/Desktop/Dataset/ToBeUsed/test_se...</td>\n",
       "      <td>1</td>\n",
       "    </tr>\n",
       "    <tr>\n",
       "      <th>403</th>\n",
       "      <td>C:/Users/user/Desktop/Dataset/ToBeUsed/test_se...</td>\n",
       "      <td>2</td>\n",
       "    </tr>\n",
       "    <tr>\n",
       "      <th>277</th>\n",
       "      <td>C:/Users/user/Desktop/Dataset/ToBeUsed/test_se...</td>\n",
       "      <td>1</td>\n",
       "    </tr>\n",
       "    <tr>\n",
       "      <th>544</th>\n",
       "      <td>C:/Users/user/Desktop/Dataset/ToBeUsed/test_se...</td>\n",
       "      <td>2</td>\n",
       "    </tr>\n",
       "    <tr>\n",
       "      <th>37</th>\n",
       "      <td>C:/Users/user/Desktop/Dataset/ToBeUsed/test_se...</td>\n",
       "      <td>0</td>\n",
       "    </tr>\n",
       "    <tr>\n",
       "      <th>533</th>\n",
       "      <td>C:/Users/user/Desktop/Dataset/ToBeUsed/test_se...</td>\n",
       "      <td>2</td>\n",
       "    </tr>\n",
       "    <tr>\n",
       "      <th>518</th>\n",
       "      <td>C:/Users/user/Desktop/Dataset/ToBeUsed/test_se...</td>\n",
       "      <td>2</td>\n",
       "    </tr>\n",
       "    <tr>\n",
       "      <th>185</th>\n",
       "      <td>C:/Users/user/Desktop/Dataset/ToBeUsed/test_se...</td>\n",
       "      <td>0</td>\n",
       "    </tr>\n",
       "    <tr>\n",
       "      <th>213</th>\n",
       "      <td>C:/Users/user/Desktop/Dataset/ToBeUsed/test_se...</td>\n",
       "      <td>1</td>\n",
       "    </tr>\n",
       "    <tr>\n",
       "      <th>220</th>\n",
       "      <td>C:/Users/user/Desktop/Dataset/ToBeUsed/test_se...</td>\n",
       "      <td>1</td>\n",
       "    </tr>\n",
       "    <tr>\n",
       "      <th>198</th>\n",
       "      <td>C:/Users/user/Desktop/Dataset/ToBeUsed/test_se...</td>\n",
       "      <td>0</td>\n",
       "    </tr>\n",
       "    <tr>\n",
       "      <th>350</th>\n",
       "      <td>C:/Users/user/Desktop/Dataset/ToBeUsed/test_se...</td>\n",
       "      <td>1</td>\n",
       "    </tr>\n",
       "    <tr>\n",
       "      <th>414</th>\n",
       "      <td>C:/Users/user/Desktop/Dataset/ToBeUsed/test_se...</td>\n",
       "      <td>2</td>\n",
       "    </tr>\n",
       "    <tr>\n",
       "      <th>569</th>\n",
       "      <td>C:/Users/user/Desktop/Dataset/ToBeUsed/test_se...</td>\n",
       "      <td>2</td>\n",
       "    </tr>\n",
       "    <tr>\n",
       "      <th>421</th>\n",
       "      <td>C:/Users/user/Desktop/Dataset/ToBeUsed/test_se...</td>\n",
       "      <td>2</td>\n",
       "    </tr>\n",
       "    <tr>\n",
       "      <th>517</th>\n",
       "      <td>C:/Users/user/Desktop/Dataset/ToBeUsed/test_se...</td>\n",
       "      <td>2</td>\n",
       "    </tr>\n",
       "    <tr>\n",
       "      <th>245</th>\n",
       "      <td>C:/Users/user/Desktop/Dataset/ToBeUsed/test_se...</td>\n",
       "      <td>1</td>\n",
       "    </tr>\n",
       "  </tbody>\n",
       "</table>\n",
       "</div>"
      ],
      "text/plain": [
       "                                              filename label\n",
       "177  C:/Users/user/Desktop/Dataset/ToBeUsed/test_se...     0\n",
       "535  C:/Users/user/Desktop/Dataset/ToBeUsed/test_se...     2\n",
       "563  C:/Users/user/Desktop/Dataset/ToBeUsed/test_se...     2\n",
       "498  C:/Users/user/Desktop/Dataset/ToBeUsed/test_se...     2\n",
       "502  C:/Users/user/Desktop/Dataset/ToBeUsed/test_se...     2\n",
       "257  C:/Users/user/Desktop/Dataset/ToBeUsed/test_se...     1\n",
       "559  C:/Users/user/Desktop/Dataset/ToBeUsed/test_se...     2\n",
       "134  C:/Users/user/Desktop/Dataset/ToBeUsed/test_se...     0\n",
       "298  C:/Users/user/Desktop/Dataset/ToBeUsed/test_se...     1\n",
       "10   C:/Users/user/Desktop/Dataset/ToBeUsed/test_se...     0\n",
       "154  C:/Users/user/Desktop/Dataset/ToBeUsed/test_se...     0\n",
       "126  C:/Users/user/Desktop/Dataset/ToBeUsed/test_se...     0\n",
       "348  C:/Users/user/Desktop/Dataset/ToBeUsed/test_se...     1\n",
       "275  C:/Users/user/Desktop/Dataset/ToBeUsed/test_se...     1\n",
       "142  C:/Users/user/Desktop/Dataset/ToBeUsed/test_se...     0\n",
       "152  C:/Users/user/Desktop/Dataset/ToBeUsed/test_se...     0\n",
       "63   C:/Users/user/Desktop/Dataset/ToBeUsed/test_se...     0\n",
       "356  C:/Users/user/Desktop/Dataset/ToBeUsed/test_se...     1\n",
       "422  C:/Users/user/Desktop/Dataset/ToBeUsed/test_se...     2\n",
       "427  C:/Users/user/Desktop/Dataset/ToBeUsed/test_se...     2\n",
       "115  C:/Users/user/Desktop/Dataset/ToBeUsed/test_se...     0\n",
       "361  C:/Users/user/Desktop/Dataset/ToBeUsed/test_se...     1\n",
       "326  C:/Users/user/Desktop/Dataset/ToBeUsed/test_se...     1\n",
       "478  C:/Users/user/Desktop/Dataset/ToBeUsed/test_se...     2\n",
       "506  C:/Users/user/Desktop/Dataset/ToBeUsed/test_se...     2\n",
       "35   C:/Users/user/Desktop/Dataset/ToBeUsed/test_se...     0\n",
       "278  C:/Users/user/Desktop/Dataset/ToBeUsed/test_se...     1\n",
       "415  C:/Users/user/Desktop/Dataset/ToBeUsed/test_se...     2\n",
       "205  C:/Users/user/Desktop/Dataset/ToBeUsed/test_se...     1\n",
       "174  C:/Users/user/Desktop/Dataset/ToBeUsed/test_se...     0\n",
       "47   C:/Users/user/Desktop/Dataset/ToBeUsed/test_se...     0\n",
       "537  C:/Users/user/Desktop/Dataset/ToBeUsed/test_se...     2\n",
       "578  C:/Users/user/Desktop/Dataset/ToBeUsed/test_se...     2\n",
       "262  C:/Users/user/Desktop/Dataset/ToBeUsed/test_se...     1\n",
       "31   C:/Users/user/Desktop/Dataset/ToBeUsed/test_se...     0\n",
       "151  C:/Users/user/Desktop/Dataset/ToBeUsed/test_se...     0\n",
       "304  C:/Users/user/Desktop/Dataset/ToBeUsed/test_se...     1\n",
       "393  C:/Users/user/Desktop/Dataset/ToBeUsed/test_se...     1\n",
       "72   C:/Users/user/Desktop/Dataset/ToBeUsed/test_se...     0\n",
       "85   C:/Users/user/Desktop/Dataset/ToBeUsed/test_se...     0\n",
       "327  C:/Users/user/Desktop/Dataset/ToBeUsed/test_se...     1\n",
       "238  C:/Users/user/Desktop/Dataset/ToBeUsed/test_se...     1\n",
       "132  C:/Users/user/Desktop/Dataset/ToBeUsed/test_se...     0\n",
       "243  C:/Users/user/Desktop/Dataset/ToBeUsed/test_se...     1\n",
       "403  C:/Users/user/Desktop/Dataset/ToBeUsed/test_se...     2\n",
       "277  C:/Users/user/Desktop/Dataset/ToBeUsed/test_se...     1\n",
       "544  C:/Users/user/Desktop/Dataset/ToBeUsed/test_se...     2\n",
       "37   C:/Users/user/Desktop/Dataset/ToBeUsed/test_se...     0\n",
       "533  C:/Users/user/Desktop/Dataset/ToBeUsed/test_se...     2\n",
       "518  C:/Users/user/Desktop/Dataset/ToBeUsed/test_se...     2\n",
       "185  C:/Users/user/Desktop/Dataset/ToBeUsed/test_se...     0\n",
       "213  C:/Users/user/Desktop/Dataset/ToBeUsed/test_se...     1\n",
       "220  C:/Users/user/Desktop/Dataset/ToBeUsed/test_se...     1\n",
       "198  C:/Users/user/Desktop/Dataset/ToBeUsed/test_se...     0\n",
       "350  C:/Users/user/Desktop/Dataset/ToBeUsed/test_se...     1\n",
       "414  C:/Users/user/Desktop/Dataset/ToBeUsed/test_se...     2\n",
       "569  C:/Users/user/Desktop/Dataset/ToBeUsed/test_se...     2\n",
       "421  C:/Users/user/Desktop/Dataset/ToBeUsed/test_se...     2\n",
       "517  C:/Users/user/Desktop/Dataset/ToBeUsed/test_se...     2\n",
       "245  C:/Users/user/Desktop/Dataset/ToBeUsed/test_se...     1"
      ]
     },
     "execution_count": 9,
     "metadata": {},
     "output_type": "execute_result"
    }
   ],
   "source": [
    "df3 = pd.concat([X_test,y_test],axis=1)\n",
    "df3"
   ]
  },
  {
   "cell_type": "markdown",
   "id": "922d8d09",
   "metadata": {},
   "source": [
    "Same with the train set, we checked whether or not there is an equal distribution of images"
   ]
  },
  {
   "cell_type": "code",
   "execution_count": 10,
   "id": "61c174f4",
   "metadata": {},
   "outputs": [],
   "source": [
    "counto = [0,0,0]\n",
    "\n",
    "counto_count = 0\n",
    "\n",
    "for x in df3['label'].unique():\n",
    "    for y in df3['label']:\n",
    "        if x == y:\n",
    "            if counto_count == 0:\n",
    "                counto[0] += 1\n",
    "            elif counto_count == 1:\n",
    "                counto[1] += 1\n",
    "            else:\n",
    "                counto[2] += 1\n",
    "                \n",
    "    counto_count += 1"
   ]
  },
  {
   "cell_type": "code",
   "execution_count": 11,
   "id": "0a72793a",
   "metadata": {},
   "outputs": [
    {
     "name": "stdout",
     "output_type": "stream",
     "text": [
      "[20, 20, 20]\n"
     ]
    }
   ],
   "source": [
    "print(counto)"
   ]
  },
  {
   "cell_type": "markdown",
   "id": "0ba53ab2",
   "metadata": {},
   "source": [
    "## Functions"
   ]
  },
  {
   "cell_type": "markdown",
   "id": "82a5dd7d",
   "metadata": {},
   "source": [
    "### Create Plot History"
   ]
  },
  {
   "cell_type": "markdown",
   "id": "7ddf84bd",
   "metadata": {},
   "source": [
    "Plot history will display the training and validation accuracy, and training and validation loss in every epoch in a fold."
   ]
  },
  {
   "cell_type": "code",
   "execution_count": 12,
   "id": "2e26f5b9",
   "metadata": {
    "ExecuteTime": {
     "end_time": "2021-09-28T18:54:48.742719Z",
     "start_time": "2021-09-28T18:54:48.728430Z"
    }
   },
   "outputs": [],
   "source": [
    "def plot_history(history, yrange):\n",
    "    #Plot loss and accuracy as a function of the epoch,\n",
    "    #for the training and validation datasets.\n",
    "    \n",
    "    acc = history.history['accuracy']\n",
    "    val_acc = history.history['val_accuracy']\n",
    "    loss = history.history['loss']\n",
    "    val_loss = history.history['val_loss']\n",
    "\n",
    "    # Get number of epochs\n",
    "    epochs = range(len(acc))\n",
    "\n",
    "    # Plot training and validation accuracy per epoch\n",
    "    plt.plot(epochs, acc)\n",
    "    plt.plot(epochs, val_acc)\n",
    "    plt.title('Training and validation accuracy')\n",
    "    plt.legend(['train_accuracy','val_accuracy'])\n",
    "    plt.ylim(yrange)\n",
    "    \n",
    "    # Plot training and validation loss per epoch\n",
    "    plt.figure()\n",
    "\n",
    "    plt.plot(epochs, loss)\n",
    "    plt.plot(epochs, val_loss)\n",
    "    plt.title('Training and validation loss')\n",
    "    plt.legend(['train_loss','val_loss'])\n",
    "    \n",
    "    plt.show() "
   ]
  },
  {
   "cell_type": "markdown",
   "id": "5ca04f34",
   "metadata": {},
   "source": [
    "### Save Models"
   ]
  },
  {
   "cell_type": "markdown",
   "id": "d2e38fce",
   "metadata": {},
   "source": [
    "K-fold cross validation will be used in training the model.The set of models produced per fold will be saved in an automatic generated folder. Every training will generated another folder to save the new set of models."
   ]
  },
  {
   "cell_type": "code",
   "execution_count": 13,
   "id": "5339dd2c",
   "metadata": {
    "ExecuteTime": {
     "end_time": "2021-09-28T18:54:48.757896Z",
     "start_time": "2021-09-28T18:54:48.743630Z"
    }
   },
   "outputs": [],
   "source": [
    "def savemodel():\n",
    "    save_cur = \"\"  #check if there is any saved_models folders\n",
    "\n",
    "    svnum = 0\n",
    "    svnum2 = 0\n",
    "\n",
    "    for x in os.listdir(gen_dir):\n",
    "        if \"saved_models\" in x:\n",
    "            save_cur = x\n",
    "            if not save_cur == \"\":\n",
    "                for word in save_cur.split(\"_\"):\n",
    "                    if word.isdigit():\n",
    "                        svnum2 = int(word)\n",
    "                        if svnum < svnum2:\n",
    "                            svnum = svnum2\n",
    "\n",
    "\n",
    "    #save_dir is where the created models using the current set of parameters are added        \n",
    "    if save_cur == \"\":\n",
    "        save_dir = gen_dir + \"/saved_models_1\"\n",
    "        os.makedirs(save_dir)\n",
    "    else:\n",
    "        save_dir = gen_dir + \"/saved_models_\" + str(svnum + 1)\n",
    "        os.makedirs(save_dir)\n",
    "        \n",
    "    return save_dir"
   ]
  },
  {
   "cell_type": "markdown",
   "id": "f0d3cee2",
   "metadata": {},
   "source": [
    "## Data Augmentation"
   ]
  },
  {
   "cell_type": "markdown",
   "id": "bd91a3f5",
   "metadata": {},
   "source": [
    "We will apply data augmentation to the dataset to increase the accuracy of the models. For the training and validation set, we will use data augmentation per epoch in order to generate unique images in order to increase the dataset. For the test set, we will apply the same preprocessing used for the training and validation set so that it will match with the generated images."
   ]
  },
  {
   "cell_type": "markdown",
   "id": "5d2ccc5c",
   "metadata": {},
   "source": [
    "### For training set and validation set"
   ]
  },
  {
   "cell_type": "code",
   "execution_count": 14,
   "id": "59aa260c",
   "metadata": {
    "ExecuteTime": {
     "end_time": "2021-09-28T18:54:48.774030Z",
     "start_time": "2021-09-28T18:54:48.759279Z"
    }
   },
   "outputs": [],
   "source": [
    "resnet50 = keras.applications.resnet50\n",
    "\n",
    "imgdatagen = ImageDataGenerator(\n",
    "        preprocessing_function = resnet50.preprocess_input,\n",
    "        horizontal_flip = True,\n",
    "        vertical_flip = True,\n",
    "        width_shift_range = 10,\n",
    "        height_shift_range = 10,\n",
    "        rotation_range = 5,\n",
    "        brightness_range = [0.8,1.3],\n",
    "        fill_mode = \"nearest\"\n",
    "    )"
   ]
  },
  {
   "cell_type": "markdown",
   "id": "69bab234",
   "metadata": {},
   "source": [
    "### For test set"
   ]
  },
  {
   "cell_type": "code",
   "execution_count": 15,
   "id": "27fc9484",
   "metadata": {},
   "outputs": [],
   "source": [
    "resnet50 = keras.applications.resnet50\n",
    "\n",
    "imgdatagen2 = ImageDataGenerator(\n",
    "        preprocessing_function = resnet50.preprocess_input,\n",
    "    )"
   ]
  },
  {
   "cell_type": "markdown",
   "id": "989e6754",
   "metadata": {},
   "source": [
    "## Model Creation"
   ]
  },
  {
   "cell_type": "markdown",
   "id": "362d8a8f",
   "metadata": {},
   "source": [
    "The model will be based on ResNet50 Architecture. The classifier block will be changed to suit to our dataset."
   ]
  },
  {
   "cell_type": "code",
   "execution_count": 16,
   "id": "fb57ebbe",
   "metadata": {
    "ExecuteTime": {
     "end_time": "2021-09-28T18:54:48.789938Z",
     "start_time": "2021-09-28T18:54:48.777813Z"
    }
   },
   "outputs": [],
   "source": [
    "def create_model():\n",
    "    conv_model = resnet50.ResNet50(weights='imagenet', include_top=False, input_shape=(224,224,3))\n",
    "\n",
    "    for layer in conv_model.layers:\n",
    "        layer.trainable = False\n",
    "\n",
    "    x = keras.layers.GlobalAveragePooling2D()(conv_model.output)\n",
    "    x = keras.layers.Dense(512, activation='relu')(x)\n",
    "    x = keras.layers.Dense(256, activation='relu')(x)\n",
    "    x = keras.layers.BatchNormalization()(x)\n",
    "    x = keras.layers.Dropout(0.2)(x)\n",
    "    predictions = keras.layers.Dense(3, activation='softmax')(x)\n",
    "\n",
    "    full_model = keras.models.Model(inputs=conv_model.input, outputs=predictions)\n",
    "\n",
    "    return full_model"
   ]
  },
  {
   "cell_type": "code",
   "execution_count": 17,
   "id": "2d3a7a6b",
   "metadata": {
    "ExecuteTime": {
     "end_time": "2021-09-28T18:54:50.784010Z",
     "start_time": "2021-09-28T18:54:48.790888Z"
    }
   },
   "outputs": [
    {
     "name": "stdout",
     "output_type": "stream",
     "text": [
      "Model: \"model\"\n",
      "__________________________________________________________________________________________________\n",
      "Layer (type)                    Output Shape         Param #     Connected to                     \n",
      "==================================================================================================\n",
      "input_1 (InputLayer)            [(None, 224, 224, 3) 0                                            \n",
      "__________________________________________________________________________________________________\n",
      "conv1_pad (ZeroPadding2D)       (None, 230, 230, 3)  0           input_1[0][0]                    \n",
      "__________________________________________________________________________________________________\n",
      "conv1_conv (Conv2D)             (None, 112, 112, 64) 9472        conv1_pad[0][0]                  \n",
      "__________________________________________________________________________________________________\n",
      "conv1_bn (BatchNormalization)   (None, 112, 112, 64) 256         conv1_conv[0][0]                 \n",
      "__________________________________________________________________________________________________\n",
      "conv1_relu (Activation)         (None, 112, 112, 64) 0           conv1_bn[0][0]                   \n",
      "__________________________________________________________________________________________________\n",
      "pool1_pad (ZeroPadding2D)       (None, 114, 114, 64) 0           conv1_relu[0][0]                 \n",
      "__________________________________________________________________________________________________\n",
      "pool1_pool (MaxPooling2D)       (None, 56, 56, 64)   0           pool1_pad[0][0]                  \n",
      "__________________________________________________________________________________________________\n",
      "conv2_block1_1_conv (Conv2D)    (None, 56, 56, 64)   4160        pool1_pool[0][0]                 \n",
      "__________________________________________________________________________________________________\n",
      "conv2_block1_1_bn (BatchNormali (None, 56, 56, 64)   256         conv2_block1_1_conv[0][0]        \n",
      "__________________________________________________________________________________________________\n",
      "conv2_block1_1_relu (Activation (None, 56, 56, 64)   0           conv2_block1_1_bn[0][0]          \n",
      "__________________________________________________________________________________________________\n",
      "conv2_block1_2_conv (Conv2D)    (None, 56, 56, 64)   36928       conv2_block1_1_relu[0][0]        \n",
      "__________________________________________________________________________________________________\n",
      "conv2_block1_2_bn (BatchNormali (None, 56, 56, 64)   256         conv2_block1_2_conv[0][0]        \n",
      "__________________________________________________________________________________________________\n",
      "conv2_block1_2_relu (Activation (None, 56, 56, 64)   0           conv2_block1_2_bn[0][0]          \n",
      "__________________________________________________________________________________________________\n",
      "conv2_block1_0_conv (Conv2D)    (None, 56, 56, 256)  16640       pool1_pool[0][0]                 \n",
      "__________________________________________________________________________________________________\n",
      "conv2_block1_3_conv (Conv2D)    (None, 56, 56, 256)  16640       conv2_block1_2_relu[0][0]        \n",
      "__________________________________________________________________________________________________\n",
      "conv2_block1_0_bn (BatchNormali (None, 56, 56, 256)  1024        conv2_block1_0_conv[0][0]        \n",
      "__________________________________________________________________________________________________\n",
      "conv2_block1_3_bn (BatchNormali (None, 56, 56, 256)  1024        conv2_block1_3_conv[0][0]        \n",
      "__________________________________________________________________________________________________\n",
      "conv2_block1_add (Add)          (None, 56, 56, 256)  0           conv2_block1_0_bn[0][0]          \n",
      "                                                                 conv2_block1_3_bn[0][0]          \n",
      "__________________________________________________________________________________________________\n",
      "conv2_block1_out (Activation)   (None, 56, 56, 256)  0           conv2_block1_add[0][0]           \n",
      "__________________________________________________________________________________________________\n",
      "conv2_block2_1_conv (Conv2D)    (None, 56, 56, 64)   16448       conv2_block1_out[0][0]           \n",
      "__________________________________________________________________________________________________\n",
      "conv2_block2_1_bn (BatchNormali (None, 56, 56, 64)   256         conv2_block2_1_conv[0][0]        \n",
      "__________________________________________________________________________________________________\n",
      "conv2_block2_1_relu (Activation (None, 56, 56, 64)   0           conv2_block2_1_bn[0][0]          \n",
      "__________________________________________________________________________________________________\n",
      "conv2_block2_2_conv (Conv2D)    (None, 56, 56, 64)   36928       conv2_block2_1_relu[0][0]        \n",
      "__________________________________________________________________________________________________\n",
      "conv2_block2_2_bn (BatchNormali (None, 56, 56, 64)   256         conv2_block2_2_conv[0][0]        \n",
      "__________________________________________________________________________________________________\n",
      "conv2_block2_2_relu (Activation (None, 56, 56, 64)   0           conv2_block2_2_bn[0][0]          \n",
      "__________________________________________________________________________________________________\n",
      "conv2_block2_3_conv (Conv2D)    (None, 56, 56, 256)  16640       conv2_block2_2_relu[0][0]        \n",
      "__________________________________________________________________________________________________\n",
      "conv2_block2_3_bn (BatchNormali (None, 56, 56, 256)  1024        conv2_block2_3_conv[0][0]        \n",
      "__________________________________________________________________________________________________\n",
      "conv2_block2_add (Add)          (None, 56, 56, 256)  0           conv2_block1_out[0][0]           \n",
      "                                                                 conv2_block2_3_bn[0][0]          \n",
      "__________________________________________________________________________________________________\n",
      "conv2_block2_out (Activation)   (None, 56, 56, 256)  0           conv2_block2_add[0][0]           \n",
      "__________________________________________________________________________________________________\n",
      "conv2_block3_1_conv (Conv2D)    (None, 56, 56, 64)   16448       conv2_block2_out[0][0]           \n",
      "__________________________________________________________________________________________________\n",
      "conv2_block3_1_bn (BatchNormali (None, 56, 56, 64)   256         conv2_block3_1_conv[0][0]        \n",
      "__________________________________________________________________________________________________\n",
      "conv2_block3_1_relu (Activation (None, 56, 56, 64)   0           conv2_block3_1_bn[0][0]          \n",
      "__________________________________________________________________________________________________\n",
      "conv2_block3_2_conv (Conv2D)    (None, 56, 56, 64)   36928       conv2_block3_1_relu[0][0]        \n",
      "__________________________________________________________________________________________________\n",
      "conv2_block3_2_bn (BatchNormali (None, 56, 56, 64)   256         conv2_block3_2_conv[0][0]        \n",
      "__________________________________________________________________________________________________\n",
      "conv2_block3_2_relu (Activation (None, 56, 56, 64)   0           conv2_block3_2_bn[0][0]          \n",
      "__________________________________________________________________________________________________\n",
      "conv2_block3_3_conv (Conv2D)    (None, 56, 56, 256)  16640       conv2_block3_2_relu[0][0]        \n",
      "__________________________________________________________________________________________________\n",
      "conv2_block3_3_bn (BatchNormali (None, 56, 56, 256)  1024        conv2_block3_3_conv[0][0]        \n",
      "__________________________________________________________________________________________________\n",
      "conv2_block3_add (Add)          (None, 56, 56, 256)  0           conv2_block2_out[0][0]           \n",
      "                                                                 conv2_block3_3_bn[0][0]          \n",
      "__________________________________________________________________________________________________\n",
      "conv2_block3_out (Activation)   (None, 56, 56, 256)  0           conv2_block3_add[0][0]           \n",
      "__________________________________________________________________________________________________\n",
      "conv3_block1_1_conv (Conv2D)    (None, 28, 28, 128)  32896       conv2_block3_out[0][0]           \n",
      "__________________________________________________________________________________________________\n",
      "conv3_block1_1_bn (BatchNormali (None, 28, 28, 128)  512         conv3_block1_1_conv[0][0]        \n",
      "__________________________________________________________________________________________________\n",
      "conv3_block1_1_relu (Activation (None, 28, 28, 128)  0           conv3_block1_1_bn[0][0]          \n",
      "__________________________________________________________________________________________________\n",
      "conv3_block1_2_conv (Conv2D)    (None, 28, 28, 128)  147584      conv3_block1_1_relu[0][0]        \n",
      "__________________________________________________________________________________________________\n",
      "conv3_block1_2_bn (BatchNormali (None, 28, 28, 128)  512         conv3_block1_2_conv[0][0]        \n",
      "__________________________________________________________________________________________________\n",
      "conv3_block1_2_relu (Activation (None, 28, 28, 128)  0           conv3_block1_2_bn[0][0]          \n",
      "__________________________________________________________________________________________________\n",
      "conv3_block1_0_conv (Conv2D)    (None, 28, 28, 512)  131584      conv2_block3_out[0][0]           \n",
      "__________________________________________________________________________________________________\n",
      "conv3_block1_3_conv (Conv2D)    (None, 28, 28, 512)  66048       conv3_block1_2_relu[0][0]        \n",
      "__________________________________________________________________________________________________\n",
      "conv3_block1_0_bn (BatchNormali (None, 28, 28, 512)  2048        conv3_block1_0_conv[0][0]        \n",
      "__________________________________________________________________________________________________\n",
      "conv3_block1_3_bn (BatchNormali (None, 28, 28, 512)  2048        conv3_block1_3_conv[0][0]        \n",
      "__________________________________________________________________________________________________\n",
      "conv3_block1_add (Add)          (None, 28, 28, 512)  0           conv3_block1_0_bn[0][0]          \n",
      "                                                                 conv3_block1_3_bn[0][0]          \n",
      "__________________________________________________________________________________________________\n",
      "conv3_block1_out (Activation)   (None, 28, 28, 512)  0           conv3_block1_add[0][0]           \n",
      "__________________________________________________________________________________________________\n",
      "conv3_block2_1_conv (Conv2D)    (None, 28, 28, 128)  65664       conv3_block1_out[0][0]           \n",
      "__________________________________________________________________________________________________\n",
      "conv3_block2_1_bn (BatchNormali (None, 28, 28, 128)  512         conv3_block2_1_conv[0][0]        \n",
      "__________________________________________________________________________________________________\n",
      "conv3_block2_1_relu (Activation (None, 28, 28, 128)  0           conv3_block2_1_bn[0][0]          \n",
      "__________________________________________________________________________________________________\n",
      "conv3_block2_2_conv (Conv2D)    (None, 28, 28, 128)  147584      conv3_block2_1_relu[0][0]        \n",
      "__________________________________________________________________________________________________\n",
      "conv3_block2_2_bn (BatchNormali (None, 28, 28, 128)  512         conv3_block2_2_conv[0][0]        \n",
      "__________________________________________________________________________________________________\n",
      "conv3_block2_2_relu (Activation (None, 28, 28, 128)  0           conv3_block2_2_bn[0][0]          \n",
      "__________________________________________________________________________________________________\n",
      "conv3_block2_3_conv (Conv2D)    (None, 28, 28, 512)  66048       conv3_block2_2_relu[0][0]        \n",
      "__________________________________________________________________________________________________\n",
      "conv3_block2_3_bn (BatchNormali (None, 28, 28, 512)  2048        conv3_block2_3_conv[0][0]        \n",
      "__________________________________________________________________________________________________\n",
      "conv3_block2_add (Add)          (None, 28, 28, 512)  0           conv3_block1_out[0][0]           \n",
      "                                                                 conv3_block2_3_bn[0][0]          \n",
      "__________________________________________________________________________________________________\n",
      "conv3_block2_out (Activation)   (None, 28, 28, 512)  0           conv3_block2_add[0][0]           \n",
      "__________________________________________________________________________________________________\n",
      "conv3_block3_1_conv (Conv2D)    (None, 28, 28, 128)  65664       conv3_block2_out[0][0]           \n",
      "__________________________________________________________________________________________________\n",
      "conv3_block3_1_bn (BatchNormali (None, 28, 28, 128)  512         conv3_block3_1_conv[0][0]        \n",
      "__________________________________________________________________________________________________\n",
      "conv3_block3_1_relu (Activation (None, 28, 28, 128)  0           conv3_block3_1_bn[0][0]          \n",
      "__________________________________________________________________________________________________\n",
      "conv3_block3_2_conv (Conv2D)    (None, 28, 28, 128)  147584      conv3_block3_1_relu[0][0]        \n",
      "__________________________________________________________________________________________________\n",
      "conv3_block3_2_bn (BatchNormali (None, 28, 28, 128)  512         conv3_block3_2_conv[0][0]        \n",
      "__________________________________________________________________________________________________\n",
      "conv3_block3_2_relu (Activation (None, 28, 28, 128)  0           conv3_block3_2_bn[0][0]          \n",
      "__________________________________________________________________________________________________\n",
      "conv3_block3_3_conv (Conv2D)    (None, 28, 28, 512)  66048       conv3_block3_2_relu[0][0]        \n",
      "__________________________________________________________________________________________________\n",
      "conv3_block3_3_bn (BatchNormali (None, 28, 28, 512)  2048        conv3_block3_3_conv[0][0]        \n",
      "__________________________________________________________________________________________________\n",
      "conv3_block3_add (Add)          (None, 28, 28, 512)  0           conv3_block2_out[0][0]           \n",
      "                                                                 conv3_block3_3_bn[0][0]          \n",
      "__________________________________________________________________________________________________\n",
      "conv3_block3_out (Activation)   (None, 28, 28, 512)  0           conv3_block3_add[0][0]           \n",
      "__________________________________________________________________________________________________\n",
      "conv3_block4_1_conv (Conv2D)    (None, 28, 28, 128)  65664       conv3_block3_out[0][0]           \n",
      "__________________________________________________________________________________________________\n",
      "conv3_block4_1_bn (BatchNormali (None, 28, 28, 128)  512         conv3_block4_1_conv[0][0]        \n",
      "__________________________________________________________________________________________________\n",
      "conv3_block4_1_relu (Activation (None, 28, 28, 128)  0           conv3_block4_1_bn[0][0]          \n",
      "__________________________________________________________________________________________________\n",
      "conv3_block4_2_conv (Conv2D)    (None, 28, 28, 128)  147584      conv3_block4_1_relu[0][0]        \n",
      "__________________________________________________________________________________________________\n",
      "conv3_block4_2_bn (BatchNormali (None, 28, 28, 128)  512         conv3_block4_2_conv[0][0]        \n",
      "__________________________________________________________________________________________________\n",
      "conv3_block4_2_relu (Activation (None, 28, 28, 128)  0           conv3_block4_2_bn[0][0]          \n",
      "__________________________________________________________________________________________________\n",
      "conv3_block4_3_conv (Conv2D)    (None, 28, 28, 512)  66048       conv3_block4_2_relu[0][0]        \n",
      "__________________________________________________________________________________________________\n",
      "conv3_block4_3_bn (BatchNormali (None, 28, 28, 512)  2048        conv3_block4_3_conv[0][0]        \n",
      "__________________________________________________________________________________________________\n",
      "conv3_block4_add (Add)          (None, 28, 28, 512)  0           conv3_block3_out[0][0]           \n",
      "                                                                 conv3_block4_3_bn[0][0]          \n",
      "__________________________________________________________________________________________________\n",
      "conv3_block4_out (Activation)   (None, 28, 28, 512)  0           conv3_block4_add[0][0]           \n",
      "__________________________________________________________________________________________________\n",
      "conv4_block1_1_conv (Conv2D)    (None, 14, 14, 256)  131328      conv3_block4_out[0][0]           \n",
      "__________________________________________________________________________________________________\n",
      "conv4_block1_1_bn (BatchNormali (None, 14, 14, 256)  1024        conv4_block1_1_conv[0][0]        \n",
      "__________________________________________________________________________________________________\n",
      "conv4_block1_1_relu (Activation (None, 14, 14, 256)  0           conv4_block1_1_bn[0][0]          \n",
      "__________________________________________________________________________________________________\n",
      "conv4_block1_2_conv (Conv2D)    (None, 14, 14, 256)  590080      conv4_block1_1_relu[0][0]        \n",
      "__________________________________________________________________________________________________\n",
      "conv4_block1_2_bn (BatchNormali (None, 14, 14, 256)  1024        conv4_block1_2_conv[0][0]        \n",
      "__________________________________________________________________________________________________\n",
      "conv4_block1_2_relu (Activation (None, 14, 14, 256)  0           conv4_block1_2_bn[0][0]          \n",
      "__________________________________________________________________________________________________\n",
      "conv4_block1_0_conv (Conv2D)    (None, 14, 14, 1024) 525312      conv3_block4_out[0][0]           \n",
      "__________________________________________________________________________________________________\n",
      "conv4_block1_3_conv (Conv2D)    (None, 14, 14, 1024) 263168      conv4_block1_2_relu[0][0]        \n",
      "__________________________________________________________________________________________________\n",
      "conv4_block1_0_bn (BatchNormali (None, 14, 14, 1024) 4096        conv4_block1_0_conv[0][0]        \n",
      "__________________________________________________________________________________________________\n",
      "conv4_block1_3_bn (BatchNormali (None, 14, 14, 1024) 4096        conv4_block1_3_conv[0][0]        \n",
      "__________________________________________________________________________________________________\n",
      "conv4_block1_add (Add)          (None, 14, 14, 1024) 0           conv4_block1_0_bn[0][0]          \n",
      "                                                                 conv4_block1_3_bn[0][0]          \n",
      "__________________________________________________________________________________________________\n",
      "conv4_block1_out (Activation)   (None, 14, 14, 1024) 0           conv4_block1_add[0][0]           \n",
      "__________________________________________________________________________________________________\n",
      "conv4_block2_1_conv (Conv2D)    (None, 14, 14, 256)  262400      conv4_block1_out[0][0]           \n",
      "__________________________________________________________________________________________________\n",
      "conv4_block2_1_bn (BatchNormali (None, 14, 14, 256)  1024        conv4_block2_1_conv[0][0]        \n",
      "__________________________________________________________________________________________________\n",
      "conv4_block2_1_relu (Activation (None, 14, 14, 256)  0           conv4_block2_1_bn[0][0]          \n",
      "__________________________________________________________________________________________________\n",
      "conv4_block2_2_conv (Conv2D)    (None, 14, 14, 256)  590080      conv4_block2_1_relu[0][0]        \n",
      "__________________________________________________________________________________________________\n",
      "conv4_block2_2_bn (BatchNormali (None, 14, 14, 256)  1024        conv4_block2_2_conv[0][0]        \n",
      "__________________________________________________________________________________________________\n",
      "conv4_block2_2_relu (Activation (None, 14, 14, 256)  0           conv4_block2_2_bn[0][0]          \n",
      "__________________________________________________________________________________________________\n",
      "conv4_block2_3_conv (Conv2D)    (None, 14, 14, 1024) 263168      conv4_block2_2_relu[0][0]        \n",
      "__________________________________________________________________________________________________\n",
      "conv4_block2_3_bn (BatchNormali (None, 14, 14, 1024) 4096        conv4_block2_3_conv[0][0]        \n",
      "__________________________________________________________________________________________________\n",
      "conv4_block2_add (Add)          (None, 14, 14, 1024) 0           conv4_block1_out[0][0]           \n",
      "                                                                 conv4_block2_3_bn[0][0]          \n",
      "__________________________________________________________________________________________________\n",
      "conv4_block2_out (Activation)   (None, 14, 14, 1024) 0           conv4_block2_add[0][0]           \n",
      "__________________________________________________________________________________________________\n",
      "conv4_block3_1_conv (Conv2D)    (None, 14, 14, 256)  262400      conv4_block2_out[0][0]           \n",
      "__________________________________________________________________________________________________\n",
      "conv4_block3_1_bn (BatchNormali (None, 14, 14, 256)  1024        conv4_block3_1_conv[0][0]        \n",
      "__________________________________________________________________________________________________\n",
      "conv4_block3_1_relu (Activation (None, 14, 14, 256)  0           conv4_block3_1_bn[0][0]          \n",
      "__________________________________________________________________________________________________\n",
      "conv4_block3_2_conv (Conv2D)    (None, 14, 14, 256)  590080      conv4_block3_1_relu[0][0]        \n",
      "__________________________________________________________________________________________________\n",
      "conv4_block3_2_bn (BatchNormali (None, 14, 14, 256)  1024        conv4_block3_2_conv[0][0]        \n",
      "__________________________________________________________________________________________________\n",
      "conv4_block3_2_relu (Activation (None, 14, 14, 256)  0           conv4_block3_2_bn[0][0]          \n",
      "__________________________________________________________________________________________________\n",
      "conv4_block3_3_conv (Conv2D)    (None, 14, 14, 1024) 263168      conv4_block3_2_relu[0][0]        \n",
      "__________________________________________________________________________________________________\n",
      "conv4_block3_3_bn (BatchNormali (None, 14, 14, 1024) 4096        conv4_block3_3_conv[0][0]        \n",
      "__________________________________________________________________________________________________\n",
      "conv4_block3_add (Add)          (None, 14, 14, 1024) 0           conv4_block2_out[0][0]           \n",
      "                                                                 conv4_block3_3_bn[0][0]          \n",
      "__________________________________________________________________________________________________\n",
      "conv4_block3_out (Activation)   (None, 14, 14, 1024) 0           conv4_block3_add[0][0]           \n",
      "__________________________________________________________________________________________________\n",
      "conv4_block4_1_conv (Conv2D)    (None, 14, 14, 256)  262400      conv4_block3_out[0][0]           \n",
      "__________________________________________________________________________________________________\n",
      "conv4_block4_1_bn (BatchNormali (None, 14, 14, 256)  1024        conv4_block4_1_conv[0][0]        \n",
      "__________________________________________________________________________________________________\n",
      "conv4_block4_1_relu (Activation (None, 14, 14, 256)  0           conv4_block4_1_bn[0][0]          \n",
      "__________________________________________________________________________________________________\n",
      "conv4_block4_2_conv (Conv2D)    (None, 14, 14, 256)  590080      conv4_block4_1_relu[0][0]        \n",
      "__________________________________________________________________________________________________\n",
      "conv4_block4_2_bn (BatchNormali (None, 14, 14, 256)  1024        conv4_block4_2_conv[0][0]        \n",
      "__________________________________________________________________________________________________\n",
      "conv4_block4_2_relu (Activation (None, 14, 14, 256)  0           conv4_block4_2_bn[0][0]          \n",
      "__________________________________________________________________________________________________\n",
      "conv4_block4_3_conv (Conv2D)    (None, 14, 14, 1024) 263168      conv4_block4_2_relu[0][0]        \n",
      "__________________________________________________________________________________________________\n",
      "conv4_block4_3_bn (BatchNormali (None, 14, 14, 1024) 4096        conv4_block4_3_conv[0][0]        \n",
      "__________________________________________________________________________________________________\n",
      "conv4_block4_add (Add)          (None, 14, 14, 1024) 0           conv4_block3_out[0][0]           \n",
      "                                                                 conv4_block4_3_bn[0][0]          \n",
      "__________________________________________________________________________________________________\n",
      "conv4_block4_out (Activation)   (None, 14, 14, 1024) 0           conv4_block4_add[0][0]           \n",
      "__________________________________________________________________________________________________\n",
      "conv4_block5_1_conv (Conv2D)    (None, 14, 14, 256)  262400      conv4_block4_out[0][0]           \n",
      "__________________________________________________________________________________________________\n",
      "conv4_block5_1_bn (BatchNormali (None, 14, 14, 256)  1024        conv4_block5_1_conv[0][0]        \n",
      "__________________________________________________________________________________________________\n",
      "conv4_block5_1_relu (Activation (None, 14, 14, 256)  0           conv4_block5_1_bn[0][0]          \n",
      "__________________________________________________________________________________________________\n",
      "conv4_block5_2_conv (Conv2D)    (None, 14, 14, 256)  590080      conv4_block5_1_relu[0][0]        \n",
      "__________________________________________________________________________________________________\n",
      "conv4_block5_2_bn (BatchNormali (None, 14, 14, 256)  1024        conv4_block5_2_conv[0][0]        \n",
      "__________________________________________________________________________________________________\n",
      "conv4_block5_2_relu (Activation (None, 14, 14, 256)  0           conv4_block5_2_bn[0][0]          \n",
      "__________________________________________________________________________________________________\n",
      "conv4_block5_3_conv (Conv2D)    (None, 14, 14, 1024) 263168      conv4_block5_2_relu[0][0]        \n",
      "__________________________________________________________________________________________________\n",
      "conv4_block5_3_bn (BatchNormali (None, 14, 14, 1024) 4096        conv4_block5_3_conv[0][0]        \n",
      "__________________________________________________________________________________________________\n",
      "conv4_block5_add (Add)          (None, 14, 14, 1024) 0           conv4_block4_out[0][0]           \n",
      "                                                                 conv4_block5_3_bn[0][0]          \n",
      "__________________________________________________________________________________________________\n",
      "conv4_block5_out (Activation)   (None, 14, 14, 1024) 0           conv4_block5_add[0][0]           \n",
      "__________________________________________________________________________________________________\n",
      "conv4_block6_1_conv (Conv2D)    (None, 14, 14, 256)  262400      conv4_block5_out[0][0]           \n",
      "__________________________________________________________________________________________________\n",
      "conv4_block6_1_bn (BatchNormali (None, 14, 14, 256)  1024        conv4_block6_1_conv[0][0]        \n",
      "__________________________________________________________________________________________________\n",
      "conv4_block6_1_relu (Activation (None, 14, 14, 256)  0           conv4_block6_1_bn[0][0]          \n",
      "__________________________________________________________________________________________________\n",
      "conv4_block6_2_conv (Conv2D)    (None, 14, 14, 256)  590080      conv4_block6_1_relu[0][0]        \n",
      "__________________________________________________________________________________________________\n",
      "conv4_block6_2_bn (BatchNormali (None, 14, 14, 256)  1024        conv4_block6_2_conv[0][0]        \n",
      "__________________________________________________________________________________________________\n",
      "conv4_block6_2_relu (Activation (None, 14, 14, 256)  0           conv4_block6_2_bn[0][0]          \n",
      "__________________________________________________________________________________________________\n",
      "conv4_block6_3_conv (Conv2D)    (None, 14, 14, 1024) 263168      conv4_block6_2_relu[0][0]        \n",
      "__________________________________________________________________________________________________\n",
      "conv4_block6_3_bn (BatchNormali (None, 14, 14, 1024) 4096        conv4_block6_3_conv[0][0]        \n",
      "__________________________________________________________________________________________________\n",
      "conv4_block6_add (Add)          (None, 14, 14, 1024) 0           conv4_block5_out[0][0]           \n",
      "                                                                 conv4_block6_3_bn[0][0]          \n",
      "__________________________________________________________________________________________________\n",
      "conv4_block6_out (Activation)   (None, 14, 14, 1024) 0           conv4_block6_add[0][0]           \n",
      "__________________________________________________________________________________________________\n",
      "conv5_block1_1_conv (Conv2D)    (None, 7, 7, 512)    524800      conv4_block6_out[0][0]           \n",
      "__________________________________________________________________________________________________\n",
      "conv5_block1_1_bn (BatchNormali (None, 7, 7, 512)    2048        conv5_block1_1_conv[0][0]        \n",
      "__________________________________________________________________________________________________\n",
      "conv5_block1_1_relu (Activation (None, 7, 7, 512)    0           conv5_block1_1_bn[0][0]          \n",
      "__________________________________________________________________________________________________\n",
      "conv5_block1_2_conv (Conv2D)    (None, 7, 7, 512)    2359808     conv5_block1_1_relu[0][0]        \n",
      "__________________________________________________________________________________________________\n",
      "conv5_block1_2_bn (BatchNormali (None, 7, 7, 512)    2048        conv5_block1_2_conv[0][0]        \n",
      "__________________________________________________________________________________________________\n",
      "conv5_block1_2_relu (Activation (None, 7, 7, 512)    0           conv5_block1_2_bn[0][0]          \n",
      "__________________________________________________________________________________________________\n",
      "conv5_block1_0_conv (Conv2D)    (None, 7, 7, 2048)   2099200     conv4_block6_out[0][0]           \n",
      "__________________________________________________________________________________________________\n",
      "conv5_block1_3_conv (Conv2D)    (None, 7, 7, 2048)   1050624     conv5_block1_2_relu[0][0]        \n",
      "__________________________________________________________________________________________________\n",
      "conv5_block1_0_bn (BatchNormali (None, 7, 7, 2048)   8192        conv5_block1_0_conv[0][0]        \n",
      "__________________________________________________________________________________________________\n",
      "conv5_block1_3_bn (BatchNormali (None, 7, 7, 2048)   8192        conv5_block1_3_conv[0][0]        \n",
      "__________________________________________________________________________________________________\n",
      "conv5_block1_add (Add)          (None, 7, 7, 2048)   0           conv5_block1_0_bn[0][0]          \n",
      "                                                                 conv5_block1_3_bn[0][0]          \n",
      "__________________________________________________________________________________________________\n",
      "conv5_block1_out (Activation)   (None, 7, 7, 2048)   0           conv5_block1_add[0][0]           \n",
      "__________________________________________________________________________________________________\n",
      "conv5_block2_1_conv (Conv2D)    (None, 7, 7, 512)    1049088     conv5_block1_out[0][0]           \n",
      "__________________________________________________________________________________________________\n",
      "conv5_block2_1_bn (BatchNormali (None, 7, 7, 512)    2048        conv5_block2_1_conv[0][0]        \n",
      "__________________________________________________________________________________________________\n",
      "conv5_block2_1_relu (Activation (None, 7, 7, 512)    0           conv5_block2_1_bn[0][0]          \n",
      "__________________________________________________________________________________________________\n",
      "conv5_block2_2_conv (Conv2D)    (None, 7, 7, 512)    2359808     conv5_block2_1_relu[0][0]        \n",
      "__________________________________________________________________________________________________\n",
      "conv5_block2_2_bn (BatchNormali (None, 7, 7, 512)    2048        conv5_block2_2_conv[0][0]        \n",
      "__________________________________________________________________________________________________\n",
      "conv5_block2_2_relu (Activation (None, 7, 7, 512)    0           conv5_block2_2_bn[0][0]          \n",
      "__________________________________________________________________________________________________\n",
      "conv5_block2_3_conv (Conv2D)    (None, 7, 7, 2048)   1050624     conv5_block2_2_relu[0][0]        \n",
      "__________________________________________________________________________________________________\n",
      "conv5_block2_3_bn (BatchNormali (None, 7, 7, 2048)   8192        conv5_block2_3_conv[0][0]        \n",
      "__________________________________________________________________________________________________\n",
      "conv5_block2_add (Add)          (None, 7, 7, 2048)   0           conv5_block1_out[0][0]           \n",
      "                                                                 conv5_block2_3_bn[0][0]          \n",
      "__________________________________________________________________________________________________\n",
      "conv5_block2_out (Activation)   (None, 7, 7, 2048)   0           conv5_block2_add[0][0]           \n",
      "__________________________________________________________________________________________________\n",
      "conv5_block3_1_conv (Conv2D)    (None, 7, 7, 512)    1049088     conv5_block2_out[0][0]           \n",
      "__________________________________________________________________________________________________\n",
      "conv5_block3_1_bn (BatchNormali (None, 7, 7, 512)    2048        conv5_block3_1_conv[0][0]        \n",
      "__________________________________________________________________________________________________\n",
      "conv5_block3_1_relu (Activation (None, 7, 7, 512)    0           conv5_block3_1_bn[0][0]          \n",
      "__________________________________________________________________________________________________\n",
      "conv5_block3_2_conv (Conv2D)    (None, 7, 7, 512)    2359808     conv5_block3_1_relu[0][0]        \n",
      "__________________________________________________________________________________________________\n",
      "conv5_block3_2_bn (BatchNormali (None, 7, 7, 512)    2048        conv5_block3_2_conv[0][0]        \n",
      "__________________________________________________________________________________________________\n",
      "conv5_block3_2_relu (Activation (None, 7, 7, 512)    0           conv5_block3_2_bn[0][0]          \n",
      "__________________________________________________________________________________________________\n",
      "conv5_block3_3_conv (Conv2D)    (None, 7, 7, 2048)   1050624     conv5_block3_2_relu[0][0]        \n",
      "__________________________________________________________________________________________________\n",
      "conv5_block3_3_bn (BatchNormali (None, 7, 7, 2048)   8192        conv5_block3_3_conv[0][0]        \n",
      "__________________________________________________________________________________________________\n",
      "conv5_block3_add (Add)          (None, 7, 7, 2048)   0           conv5_block2_out[0][0]           \n",
      "                                                                 conv5_block3_3_bn[0][0]          \n",
      "__________________________________________________________________________________________________\n",
      "conv5_block3_out (Activation)   (None, 7, 7, 2048)   0           conv5_block3_add[0][0]           \n",
      "__________________________________________________________________________________________________\n",
      "global_average_pooling2d (Globa (None, 2048)         0           conv5_block3_out[0][0]           \n",
      "__________________________________________________________________________________________________\n",
      "dense (Dense)                   (None, 512)          1049088     global_average_pooling2d[0][0]   \n",
      "__________________________________________________________________________________________________\n",
      "dense_1 (Dense)                 (None, 256)          131328      dense[0][0]                      \n",
      "__________________________________________________________________________________________________\n",
      "batch_normalization (BatchNorma (None, 256)          1024        dense_1[0][0]                    \n",
      "__________________________________________________________________________________________________\n",
      "dropout (Dropout)               (None, 256)          0           batch_normalization[0][0]        \n",
      "__________________________________________________________________________________________________\n",
      "dense_2 (Dense)                 (None, 3)            771         dropout[0][0]                    \n",
      "==================================================================================================\n",
      "Total params: 24,769,923\n",
      "Trainable params: 1,181,699\n",
      "Non-trainable params: 23,588,224\n",
      "__________________________________________________________________________________________________\n"
     ]
    }
   ],
   "source": [
    "full_model = create_model()\n",
    "full_model.summary()"
   ]
  },
  {
   "cell_type": "markdown",
   "id": "9b0da3af",
   "metadata": {},
   "source": [
    "## Hyper-Parameter Tuning"
   ]
  },
  {
   "cell_type": "markdown",
   "id": "855eebf2",
   "metadata": {},
   "source": [
    "We will check the parameters that yielded the best results. A set of values on chosen parameters is given. The one that will yield the best results will be used for prediction."
   ]
  },
  {
   "cell_type": "markdown",
   "id": "4879c732",
   "metadata": {},
   "source": [
    "### Model Parameters"
   ]
  },
  {
   "cell_type": "code",
   "execution_count": 29,
   "id": "2b6cbc49",
   "metadata": {
    "ExecuteTime": {
     "end_time": "2021-09-28T18:54:50.800784Z",
     "start_time": "2021-09-28T18:54:50.786539Z"
    }
   },
   "outputs": [],
   "source": [
    "batch_size_arr = [200]                              #batch size\n",
    "num_epochs_arr = [1]                                #number of epochs\n",
    "lr_arr = [0.0001]                                   #learning rate Adamax"
   ]
  },
  {
   "cell_type": "markdown",
   "id": "a689a9eb",
   "metadata": {},
   "source": [
    "### Initialize Variables"
   ]
  },
  {
   "cell_type": "code",
   "execution_count": 30,
   "id": "e1cb7e62",
   "metadata": {
    "ExecuteTime": {
     "end_time": "2021-09-28T18:54:50.815849Z",
     "start_time": "2021-09-28T18:54:50.801853Z"
    }
   },
   "outputs": [],
   "source": [
    "VALIDATION_ACCURACY = []                          #holds all validation_accuracy\n",
    "VALIDATION_LOSS = []                              #holds all validation_loss\n",
    "\n",
    "TRAIN_ACCURACY = []                               #holds all train_accuracy\n",
    "TRAIN_LOSS = []                                   #holds all train_loss\n",
    "\n",
    "TEST_ACCURACY = []                                #holds all test_accuracy\n",
    "TEST_LOSS = []                                    #holds all test_loss\n",
    "\n",
    "param_arr = []                                    #holds the parameter values per combination\n",
    "\n",
    "val_acc_arr = []                                  #holds the set of validation accuracy per combination\n",
    "val_loss_arr = []                                 #holds the set of validation loss per combination\n",
    "val_acc_means = []                                #holds the means of all set of validation accuracy per combination\n",
    "val_loss_means = []                               #holds the means of all set of validation loss per combination\n",
    "\n",
    "train_acc_arr = []                                #holds the set of train accuracy per combination\n",
    "train_loss_arr = []                               #holds the set of train loss per combination\n",
    "train_acc_means = []                              #holds the means of all set of train accuracy per combination\n",
    "train_loss_means = []                             #holds the means of all set of train loss per combination\n",
    "\n",
    "test_acc_arr = []                                 #holds the set of test accuracy per combination\n",
    "test_loss_arr = []                                #holds the set of test loss per combination\n",
    "test_acc_means = []                               #holds the means of all set of test accuracy per combination\n",
    "test_loss_means = []                              #holds the means of all set of test loss per combination"
   ]
  },
  {
   "cell_type": "markdown",
   "id": "af299f30",
   "metadata": {},
   "source": [
    "### Train, Validation, Test data settings"
   ]
  },
  {
   "cell_type": "code",
   "execution_count": 31,
   "id": "339830ec",
   "metadata": {
    "ExecuteTime": {
     "end_time": "2021-09-28T18:54:51.065668Z",
     "start_time": "2021-09-28T18:54:50.816813Z"
    }
   },
   "outputs": [],
   "source": [
    "train_dir = directory + \"/ToBeUsed/train_set\"     #where the train set images are stored\n",
    "test_dir = directory + \"/ToBeUsed/test_set\"\n",
    "\n",
    "#kfold parameters\n",
    "Y = df2[['label']]\n",
    "skf = StratifiedKFold(n_splits = 5, random_state = 69, shuffle = True)\n",
    "\n",
    "yt = pd.to_numeric(y_test['label'])                #make the labels to integer to get the model metrics"
   ]
  },
  {
   "cell_type": "markdown",
   "id": "72d18005",
   "metadata": {},
   "source": [
    "Train the model per combination of parameters."
   ]
  },
  {
   "cell_type": "code",
   "execution_count": 32,
   "id": "97303874",
   "metadata": {
    "ExecuteTime": {
     "end_time": "2021-09-29T02:44:21.153943Z",
     "start_time": "2021-09-28T18:54:51.066606Z"
    },
    "scrolled": true
   },
   "outputs": [
    {
     "name": "stdout",
     "output_type": "stream",
     "text": [
      "\n",
      "batch size:  200\n",
      "epochs:  1\n",
      "learning rate:  0.0001\n",
      "\n",
      "\n",
      "Fold number 1\n",
      "Found 432 validated image filenames belonging to 3 classes.\n",
      "Found 108 validated image filenames belonging to 3 classes.\n",
      "Found 60 validated image filenames belonging to 3 classes.\n",
      "3/3 [==============================] - 15s 4s/step - loss: 1.5848 - accuracy: 0.3079 - val_loss: 1.3425 - val_accuracy: 0.3333\n",
      "\n",
      "Epoch 00001: val_accuracy improved from -inf to 0.33333, saving model to C:/Users/user/Desktop/Model/saved_models_1\\model_1.h5\n"
     ]
    },
    {
     "data": {
      "image/png": "[encoded data removed]",
      "text/plain": [
       "<Figure size 432x288 with 1 Axes>"
      ]
     },
     "metadata": {
      "needs_background": "light"
     },
     "output_type": "display_data"
    },
    {
     "data": {
      "image/png": "[encoded data removed]",
      "text/plain": [
       "<Figure size 432x288 with 1 Axes>"
      ]
     },
     "metadata": {
      "needs_background": "light"
     },
     "output_type": "display_data"
    },
    {
     "name": "stdout",
     "output_type": "stream",
     "text": [
      "1/1 [==============================] - 2s 2s/step - loss: 1.3057 - accuracy: 0.3333\n",
      "\n",
      "Fold number 2\n",
      "Found 432 validated image filenames belonging to 3 classes.\n",
      "Found 108 validated image filenames belonging to 3 classes.\n",
      "Found 60 validated image filenames belonging to 3 classes.\n",
      "3/3 [==============================] - 14s 5s/step - loss: 1.4185 - accuracy: 0.3588 - val_loss: 1.7407 - val_accuracy: 0.3333\n",
      "\n",
      "Epoch 00001: val_accuracy improved from -inf to 0.33333, saving model to C:/Users/user/Desktop/Model/saved_models_1\\model_2.h5\n"
     ]
    },
    {
     "data": {
      "image/png": "[encoded data removed]",
      "text/plain": [
       "<Figure size 432x288 with 1 Axes>"
      ]
     },
     "metadata": {
      "needs_background": "light"
     },
     "output_type": "display_data"
    },
    {
     "data": {
      "image/png": "[encoded data removed]",
      "text/plain": [
       "<Figure size 432x288 with 1 Axes>"
      ]
     },
     "metadata": {
      "needs_background": "light"
     },
     "output_type": "display_data"
    },
    {
     "name": "stdout",
     "output_type": "stream",
     "text": [
      "1/1 [==============================] - 2s 2s/step - loss: 1.7800 - accuracy: 0.3333\n",
      "\n",
      "Fold number 3\n",
      "Found 432 validated image filenames belonging to 3 classes.\n",
      "Found 108 validated image filenames belonging to 3 classes.\n",
      "Found 60 validated image filenames belonging to 3 classes.\n",
      "3/3 [==============================] - 18s 5s/step - loss: 1.6625 - accuracy: 0.2986 - val_loss: 1.3432 - val_accuracy: 0.3426\n",
      "\n",
      "Epoch 00001: val_accuracy improved from -inf to 0.34259, saving model to C:/Users/user/Desktop/Model/saved_models_1\\model_3.h5\n"
     ]
    },
    {
     "data": {
      "image/png": "[encoded data removed]",
      "text/plain": [
       "<Figure size 432x288 with 1 Axes>"
      ]
     },
     "metadata": {
      "needs_background": "light"
     },
     "output_type": "display_data"
    },
    {
     "data": {
      "image/png": "[encoded data removed]",
      "text/plain": [
       "<Figure size 432x288 with 1 Axes>"
      ]
     },
     "metadata": {
      "needs_background": "light"
     },
     "output_type": "display_data"
    },
    {
     "name": "stdout",
     "output_type": "stream",
     "text": [
      "1/1 [==============================] - 3s 3s/step - loss: 1.3540 - accuracy: 0.3333\n",
      "\n",
      "Fold number 4\n",
      "Found 432 validated image filenames belonging to 3 classes.\n",
      "Found 108 validated image filenames belonging to 3 classes.\n",
      "Found 60 validated image filenames belonging to 3 classes.\n",
      "3/3 [==============================] - 15s 4s/step - loss: 1.3745 - accuracy: 0.3958 - val_loss: 1.0114 - val_accuracy: 0.3981\n",
      "\n",
      "Epoch 00001: val_accuracy improved from -inf to 0.39815, saving model to C:/Users/user/Desktop/Model/saved_models_1\\model_4.h5\n"
     ]
    },
    {
     "data": {
      "image/png": "[encoded data removed]",
      "text/plain": [
       "<Figure size 432x288 with 1 Axes>"
      ]
     },
     "metadata": {
      "needs_background": "light"
     },
     "output_type": "display_data"
    },
    {
     "data": {
      "image/png": "[encoded data removed]",
      "text/plain": [
       "<Figure size 432x288 with 1 Axes>"
      ]
     },
     "metadata": {
      "needs_background": "light"
     },
     "output_type": "display_data"
    },
    {
     "name": "stdout",
     "output_type": "stream",
     "text": [
      "1/1 [==============================] - 2s 2s/step - loss: 0.9852 - accuracy: 0.5278\n",
      "\n",
      "Fold number 5\n",
      "Found 432 validated image filenames belonging to 3 classes.\n",
      "Found 108 validated image filenames belonging to 3 classes.\n",
      "Found 60 validated image filenames belonging to 3 classes.\n",
      "3/3 [==============================] - 14s 4s/step - loss: 1.3191 - accuracy: 0.4005 - val_loss: 1.1646 - val_accuracy: 0.3519\n",
      "\n",
      "Epoch 00001: val_accuracy improved from -inf to 0.35185, saving model to C:/Users/user/Desktop/Model/saved_models_1\\model_5.h5\n"
     ]
    },
    {
     "data": {
      "image/png": "[encoded data removed]",
      "text/plain": [
       "<Figure size 432x288 with 1 Axes>"
      ]
     },
     "metadata": {
      "needs_background": "light"
     },
     "output_type": "display_data"
    },
    {
     "data": {
      "image/png": "[encoded data removed]",
      "text/plain": [
       "<Figure size 432x288 with 1 Axes>"
      ]
     },
     "metadata": {
      "needs_background": "light"
     },
     "output_type": "display_data"
    },
    {
     "name": "stdout",
     "output_type": "stream",
     "text": [
      "1/1 [==============================] - 2s 2s/step - loss: 1.1741 - accuracy: 0.3611\n"
     ]
    }
   ],
   "source": [
    "for x in range(len(batch_size_arr)):\n",
    "    \n",
    "    #for batch size values\n",
    "    if len(param_arr) == 0:\n",
    "        param_arr.append([])\n",
    "    \n",
    "    for y in range(len(num_epochs_arr)):\n",
    "\n",
    "        #for epoch values\n",
    "        if len(param_arr) == 1:\n",
    "            param_arr.append([])\n",
    "        \n",
    "        for z in range(len(lr_arr)):\n",
    "            \n",
    "            #for learning rate values\n",
    "            if len(param_arr) == 2:\n",
    "                param_arr.append([])\n",
    "                \n",
    "            print('')\n",
    "            print(\"batch size: \", batch_size_arr[x])\n",
    "            print(\"epochs: \", num_epochs_arr[y])\n",
    "            print(\"learning rate: \", lr_arr[z])\n",
    "            print('')\n",
    "            \n",
    "            #append the values per combo\n",
    "            param_arr[0].append(batch_size_arr[x])\n",
    "            param_arr[1].append(num_epochs_arr[y])\n",
    "            param_arr[2].append(lr_arr[z])\n",
    "            \n",
    "            VALIDATION_ACCURACY = []\n",
    "            VALIDATION_LOSS = []\n",
    "            \n",
    "            TRAIN_ACCURACY = []\n",
    "            TRAIN_LOSS = []\n",
    "            \n",
    "            TEST_ACCURACY = []\n",
    "            TEST_LOSS = []\n",
    "            \n",
    "            #change save_dir value per combination\n",
    "            save_dir = savemodel()\n",
    "            fold_var = 1\n",
    "            \n",
    "            for train_index, val_index in skf.split(np.zeros(len(df2)),Y):\n",
    "\n",
    "                training_data = df2.iloc[train_index]\n",
    "                validation_data = df2.iloc[val_index]\n",
    "                \n",
    "                print('')\n",
    "                print(\"Fold number \" + str(fold_var))\n",
    "                \n",
    "                train_data_generator = imgdatagen.flow_from_dataframe(training_data, directory = train_dir,\n",
    "                                       x_col = \"filename\", y_col = \"label\",\n",
    "                                       class_mode = \"categorical\", target_size = (224,224), batch_size = batch_size_arr[x],\n",
    "                                            shuffle = True)\n",
    "                valid_data_generator  = imgdatagen.flow_from_dataframe(validation_data, directory = train_dir,\n",
    "                                        x_col = \"filename\", y_col = \"label\",\n",
    "                                        class_mode = \"categorical\", target_size = (224,224), batch_size = batch_size_arr[x],\n",
    "                                            shuffle = True)\n",
    "                \n",
    "                test_data = df3\n",
    "                \n",
    "                test_data_preprocessed = imgdatagen2.flow_from_dataframe(test_data, directory = test_dir,\n",
    "                                         x_col = \"filename\", y_col = \"label\")\n",
    "                \n",
    "                full_model = create_model()\n",
    "                # Compile the model\n",
    "                full_model.compile(loss='categorical_crossentropy',\n",
    "                              optimizer=keras.optimizers.Adamax(learning_rate=lr_arr[z]),\n",
    "                              metrics=['accuracy']) #categorical_crossentropy cause it is more than 2 classes\n",
    "\n",
    "                # Create callbacks\n",
    "                checkpoint = tf.keras.callbacks.ModelCheckpoint((save_dir+\"/\"+ \"model_\" + str(fold_var) + \".h5\"), \n",
    "                                        monitor='val_accuracy', verbose=1, \n",
    "                                        save_best_only=True, mode='max')\n",
    "                callbacks_list = [checkpoint]\n",
    "                # This saves the best model\n",
    "\n",
    "\n",
    "                # Fit the model\n",
    "                history = full_model.fit(train_data_generator,\n",
    "                                         epochs=num_epochs_arr[y],\n",
    "                                         callbacks=callbacks_list,\n",
    "                                         validation_data=valid_data_generator,\n",
    "                                         verbose=1)\n",
    "\n",
    "                # Plot the history\n",
    "                plot_history(history, yrange=(0.2,1))\n",
    "\n",
    "                # Load the best model instance to evaluate the performance of the model\n",
    "                full_model.load_weights(save_dir+\"/model_\"+str(fold_var)+\".h5\")\n",
    "\n",
    "                results = full_model.evaluate(valid_data_generator)\n",
    "                results = dict(zip(full_model.metrics_names,results))\n",
    "                \n",
    "                results2 = full_model.predict(valid_data_generator)\n",
    "                \n",
    "                # Store Validation accuracy/loss\n",
    "                VALIDATION_ACCURACY.append(results['accuracy'])\n",
    "                VALIDATION_LOSS.append(results['loss'])\n",
    "                \n",
    "                # Store Train accuracy/loss\n",
    "                TRAIN_ACCURACY.append(np.mean(history.history['accuracy']))\n",
    "                TRAIN_LOSS.append(np.mean(history.history['loss']))\n",
    "                \n",
    "                # Predict test set to get the test accuracy/loss\n",
    "                yhat_probs = full_model.predict(test_data_preprocessed, verbose=0)\n",
    "                yhat_classes = yhat_probs.argmax(axis=-1)\n",
    "                \n",
    "                # Test accuracy and loss score\n",
    "                accuracy = accuracy_score(yt, yhat_classes)\n",
    "                loss = log_loss(yt, yhat_probs)\n",
    "                \n",
    "                # Store Test accuracy and loss\n",
    "                TEST_ACCURACY.append(accuracy)\n",
    "                TEST_LOSS.append(loss)\n",
    "                \n",
    "                tf.keras.backend.clear_session()\n",
    "\n",
    "                fold_var += 1\n",
    "                \n",
    "            val_acc_arr.append(VALIDATION_ACCURACY)\n",
    "            val_loss_arr.append(VALIDATION_LOSS)\n",
    "            \n",
    "            train_acc_arr.append(TRAIN_ACCURACY)                            \n",
    "            train_loss_arr.append(TRAIN_LOSS)\n",
    "            \n",
    "            test_acc_arr.append(TEST_ACCURACY)\n",
    "            test_loss_arr.append(TEST_LOSS)"
   ]
  },
  {
   "cell_type": "code",
   "execution_count": 33,
   "id": "8b537b3d",
   "metadata": {},
   "outputs": [
    {
     "ename": "NameError",
     "evalue": "name 'stopper' is not defined",
     "output_type": "error",
     "traceback": [
      "\u001b[1;31m---------------------------------------------------------------------------\u001b[0m",
      "\u001b[1;31mNameError\u001b[0m                                 Traceback (most recent call last)",
      "\u001b[1;32m~\\AppData\\Local\\Temp/ipykernel_17520/2329210996.py\u001b[0m in \u001b[0;36m<module>\u001b[1;34m\u001b[0m\n\u001b[1;32m----> 1\u001b[1;33m \u001b[0mstopper\u001b[0m\u001b[1;33m\u001b[0m\u001b[1;33m\u001b[0m\u001b[0m\n\u001b[0m",
      "\u001b[1;31mNameError\u001b[0m: name 'stopper' is not defined"
     ]
    }
   ],
   "source": [
    "stopper"
   ]
  },
  {
   "cell_type": "markdown",
   "id": "6d4b8157",
   "metadata": {},
   "source": [
    "### Display Values Per Combination of Parameters"
   ]
  },
  {
   "cell_type": "markdown",
   "id": "3fbfe699",
   "metadata": {},
   "source": [
    "We will put the combination of parameters and the resulting means of accuracy and loss together in a dataframe in order to display it nicely."
   ]
  },
  {
   "cell_type": "code",
   "execution_count": 34,
   "id": "aa720823",
   "metadata": {
    "ExecuteTime": {
     "end_time": "2021-09-29T14:31:32.077186Z",
     "start_time": "2021-09-29T14:31:32.017869Z"
    }
   },
   "outputs": [
    {
     "data": {
      "text/html": [
       "<div>\n",
       "<style scoped>\n",
       "    .dataframe tbody tr th:only-of-type {\n",
       "        vertical-align: middle;\n",
       "    }\n",
       "\n",
       "    .dataframe tbody tr th {\n",
       "        vertical-align: top;\n",
       "    }\n",
       "\n",
       "    .dataframe thead th {\n",
       "        text-align: right;\n",
       "    }\n",
       "</style>\n",
       "<table border=\"1\" class=\"dataframe\">\n",
       "  <thead>\n",
       "    <tr style=\"text-align: right;\">\n",
       "      <th></th>\n",
       "      <th>batch size</th>\n",
       "      <th>number of epoch</th>\n",
       "      <th>learning rate</th>\n",
       "      <th>train accuracy</th>\n",
       "      <th>train loss</th>\n",
       "      <th>val accuracy</th>\n",
       "      <th>val loss</th>\n",
       "      <th>test accuracy</th>\n",
       "      <th>test loss</th>\n",
       "    </tr>\n",
       "  </thead>\n",
       "  <tbody>\n",
       "    <tr>\n",
       "      <th>0</th>\n",
       "      <td>200</td>\n",
       "      <td>1</td>\n",
       "      <td>0.0001</td>\n",
       "      <td>0.352315</td>\n",
       "      <td>1.471866</td>\n",
       "      <td>0.377778</td>\n",
       "      <td>1.319797</td>\n",
       "      <td>0.35</td>\n",
       "      <td>1.404621</td>\n",
       "    </tr>\n",
       "  </tbody>\n",
       "</table>\n",
       "</div>"
      ],
      "text/plain": [
       "   batch size  number of epoch  learning rate  train accuracy  train loss  \\\n",
       "0         200                1         0.0001        0.352315    1.471866   \n",
       "\n",
       "   val accuracy  val loss  test accuracy  test loss  \n",
       "0      0.377778  1.319797           0.35   1.404621  "
      ]
     },
     "execution_count": 34,
     "metadata": {},
     "output_type": "execute_result"
    }
   ],
   "source": [
    "#append means of accuracy and loss sets per combo\n",
    "for x in range(len(val_acc_arr)):\n",
    "    val_acc_means.append(np.mean(val_acc_arr[x]))                                \n",
    "    val_loss_means.append(np.mean(val_loss_arr[x]))\n",
    "    \n",
    "    train_acc_means.append(np.mean(train_acc_arr[x]))                              \n",
    "    train_loss_means.append(np.mean(train_loss_arr[x]))                             \n",
    "\n",
    "    test_acc_means.append(np.mean(test_acc_arr[x]))                               \n",
    "    test_loss_means.append(np.mean(test_loss_arr[x])) \n",
    "    \n",
    "df_hyperparam = pd.DataFrame(list(zip(param_arr[0],param_arr[1],param_arr[2],\n",
    "                                      train_acc_means, train_loss_means,\n",
    "                                      val_acc_means,val_loss_means,\n",
    "                                      test_acc_means, test_loss_means))\n",
    "                             ,columns=['batch size','number of epoch', 'learning rate', \n",
    "                                       'train accuracy', 'train loss',\n",
    "                                       'val accuracy', 'val loss',\n",
    "                                       'test accuracy', 'test loss'])\n",
    "\n",
    "df_hyperparam = df_hyperparam.sort_values(ascending=False,by = 'val accuracy')\n",
    "\n",
    "#df_hyperparam.to_excel(\"hyperparam_result.xlsx\")\n",
    "\n",
    "df_hyperparam\n",
    "\n"
   ]
  },
  {
   "cell_type": "code",
   "execution_count": null,
   "id": "21be7afe",
   "metadata": {},
   "outputs": [],
   "source": [
    "stopper"
   ]
  },
  {
   "cell_type": "markdown",
   "id": "44439d90",
   "metadata": {},
   "source": [
    "### Each fold results of a selected model"
   ]
  },
  {
   "cell_type": "markdown",
   "id": "67806e39",
   "metadata": {},
   "source": [
    "Below are the validation accuracy and validation loss per fold and their average of the best combination."
   ]
  },
  {
   "cell_type": "code",
   "execution_count": 36,
   "id": "5b2b50e4",
   "metadata": {
    "ExecuteTime": {
     "end_time": "2021-09-29T16:41:32.356102Z",
     "start_time": "2021-09-29T16:41:32.320718Z"
    }
   },
   "outputs": [
    {
     "data": {
      "text/html": [
       "<div>\n",
       "<style scoped>\n",
       "    .dataframe tbody tr th:only-of-type {\n",
       "        vertical-align: middle;\n",
       "    }\n",
       "\n",
       "    .dataframe tbody tr th {\n",
       "        vertical-align: top;\n",
       "    }\n",
       "\n",
       "    .dataframe thead th {\n",
       "        text-align: right;\n",
       "    }\n",
       "</style>\n",
       "<table border=\"1\" class=\"dataframe\">\n",
       "  <thead>\n",
       "    <tr style=\"text-align: right;\">\n",
       "      <th></th>\n",
       "      <th>Training Accuracy</th>\n",
       "      <th>Training Loss</th>\n",
       "      <th>Validation Accuracy</th>\n",
       "      <th>Validation Loss</th>\n",
       "      <th>Test Accuracy</th>\n",
       "      <th>Test Loss</th>\n",
       "    </tr>\n",
       "    <tr>\n",
       "      <th>fold</th>\n",
       "      <th></th>\n",
       "      <th></th>\n",
       "      <th></th>\n",
       "      <th></th>\n",
       "      <th></th>\n",
       "      <th></th>\n",
       "    </tr>\n",
       "  </thead>\n",
       "  <tbody>\n",
       "    <tr>\n",
       "      <th>1</th>\n",
       "      <td>0.307870</td>\n",
       "      <td>1.584765</td>\n",
       "      <td>0.333333</td>\n",
       "      <td>1.305660</td>\n",
       "      <td>0.383333</td>\n",
       "      <td>1.153930</td>\n",
       "    </tr>\n",
       "    <tr>\n",
       "      <th>2</th>\n",
       "      <td>0.358796</td>\n",
       "      <td>1.418512</td>\n",
       "      <td>0.333333</td>\n",
       "      <td>1.779964</td>\n",
       "      <td>0.333333</td>\n",
       "      <td>1.884528</td>\n",
       "    </tr>\n",
       "    <tr>\n",
       "      <th>3</th>\n",
       "      <td>0.298611</td>\n",
       "      <td>1.662450</td>\n",
       "      <td>0.333333</td>\n",
       "      <td>1.354014</td>\n",
       "      <td>0.333333</td>\n",
       "      <td>1.550761</td>\n",
       "    </tr>\n",
       "    <tr>\n",
       "      <th>4</th>\n",
       "      <td>0.395833</td>\n",
       "      <td>1.374478</td>\n",
       "      <td>0.527778</td>\n",
       "      <td>0.985250</td>\n",
       "      <td>0.383333</td>\n",
       "      <td>1.125639</td>\n",
       "    </tr>\n",
       "    <tr>\n",
       "      <th>5</th>\n",
       "      <td>0.400463</td>\n",
       "      <td>1.319125</td>\n",
       "      <td>0.361111</td>\n",
       "      <td>1.174096</td>\n",
       "      <td>0.316667</td>\n",
       "      <td>1.308246</td>\n",
       "    </tr>\n",
       "    <tr>\n",
       "      <th>mean</th>\n",
       "      <td>0.352315</td>\n",
       "      <td>1.471866</td>\n",
       "      <td>0.377778</td>\n",
       "      <td>1.319797</td>\n",
       "      <td>0.350000</td>\n",
       "      <td>1.404621</td>\n",
       "    </tr>\n",
       "  </tbody>\n",
       "</table>\n",
       "</div>"
      ],
      "text/plain": [
       "      Training Accuracy  Training Loss  Validation Accuracy  Validation Loss  \\\n",
       "fold                                                                           \n",
       "1              0.307870       1.584765             0.333333         1.305660   \n",
       "2              0.358796       1.418512             0.333333         1.779964   \n",
       "3              0.298611       1.662450             0.333333         1.354014   \n",
       "4              0.395833       1.374478             0.527778         0.985250   \n",
       "5              0.400463       1.319125             0.361111         1.174096   \n",
       "mean           0.352315       1.471866             0.377778         1.319797   \n",
       "\n",
       "      Test Accuracy  Test Loss  \n",
       "fold                            \n",
       "1          0.383333   1.153930  \n",
       "2          0.333333   1.884528  \n",
       "3          0.333333   1.550761  \n",
       "4          0.383333   1.125639  \n",
       "5          0.316667   1.308246  \n",
       "mean       0.350000   1.404621  "
      ]
     },
     "execution_count": 36,
     "metadata": {},
     "output_type": "execute_result"
    }
   ],
   "source": [
    "comb_no = 0\n",
    "fold_num = [*range(1,6)]\n",
    "\n",
    "fold_eval = pd.DataFrame(list(zip(fold_num,train_acc_arr[comb_no],train_loss_arr[comb_no],\n",
    "                                  val_acc_arr[comb_no],val_loss_arr[comb_no],\n",
    "                                  test_acc_arr[comb_no],test_loss_arr[comb_no]))\n",
    "                         ,columns=['fold','Training Accuracy','Training Loss',\n",
    "                                   'Validation Accuracy','Validation Loss',\n",
    "                                   'Test Accuracy','Test Loss'])\n",
    "\n",
    "fold_eval.set_index('fold', inplace=True)\n",
    "fold_eval.loc['mean'] = fold_eval.mean()\n",
    "\n",
    "#fold_eval.to_excel('fold_eval.xlsx')\n",
    "fold_eval"
   ]
  },
  {
   "cell_type": "markdown",
   "id": "e5f648d1",
   "metadata": {},
   "source": [
    "## Model Prediction and Evaluation"
   ]
  },
  {
   "cell_type": "markdown",
   "id": "ac8fbc37",
   "metadata": {},
   "source": [
    "Load the images in the test set and predict what class it is in all models of the best combination. There are three values of confidence level. The one with the highest confidence level is the predicted class of the image. The order of classes is [0 1 2]. The results will be feed to the eval function defined below in order to get the metrics."
   ]
  },
  {
   "cell_type": "code",
   "execution_count": null,
   "id": "1302a3c6",
   "metadata": {
    "ExecuteTime": {
     "end_time": "2021-09-29T16:41:33.880289Z",
     "start_time": "2021-09-29T16:41:33.866939Z"
    }
   },
   "outputs": [],
   "source": [
    "#make the labels to integer to get the model metrics\n",
    "yt = pd.to_numeric(y_test['label'])"
   ]
  },
  {
   "cell_type": "markdown",
   "id": "a7eabb98",
   "metadata": {},
   "source": [
    "The content displayed are the metrics, roc auc of each class (balut/penoy,salted,table), and confusion matrix per fold, as well as the sum and mean of those confusion matrices and roc auc of each class for all folds."
   ]
  },
  {
   "cell_type": "code",
   "execution_count": null,
   "id": "1a7a8971",
   "metadata": {
    "ExecuteTime": {
     "end_time": "2021-09-29T16:41:34.527030Z",
     "start_time": "2021-09-29T16:41:34.498498Z"
    }
   },
   "outputs": [],
   "source": [
    "#Metrics\n",
    "def evaluate(yhat_probs, \n",
    "             yhat_classes, \n",
    "             total_acc,\n",
    "             total_loss,\n",
    "             total_precision, \n",
    "             total_recall,\n",
    "             tot_acc_per_class,\n",
    "             tot_prec_per_class,\n",
    "             tot_rec_per_class,\n",
    "             matrix_sum,\n",
    "             fold_num,\n",
    "             fpr_total,\n",
    "             tpr_total):\n",
    "\n",
    "    # accuracy: (tp + tn) / (p + n)\n",
    "    accuracy = accuracy_score(yt, yhat_classes)\n",
    "    total_acc.append(accuracy)\n",
    "    print('Accuracy: %f' % accuracy)\n",
    "    matrix = confusion_matrix(yt, yhat_classes)\n",
    "    accuracy2 = matrix.diagonal()/matrix.sum(axis=1)\n",
    "    tot_acc_per_class.append(accuracy2)\n",
    "    print('Accuracy per class: ' + str(accuracy2))\n",
    "    # loss\n",
    "    loss = log_loss(yt, yhat_probs)\n",
    "    total_loss.append(loss)\n",
    "    print('Loss: %f' % loss)\n",
    "    # precision tp / (tp + fp)\n",
    "    precision = precision_score(yt, yhat_classes, average=\"weighted\")\n",
    "    total_precision.append(precision)\n",
    "    print('Precision: %f' % precision)\n",
    "    precision2 = precision_score(yt, yhat_classes, average=None)\n",
    "    tot_prec_per_class.append(precision2)\n",
    "    print('Precision per class: ' + str(precision2))\n",
    "    # recall: tp / (tp + fn)\n",
    "    recall = recall_score(yt, yhat_classes, average=\"weighted\")\n",
    "    total_recall.append(recall)\n",
    "    print('Recall: %f' % recall)\n",
    "    recall2 = recall_score(yt, yhat_classes, average=None)\n",
    "    tot_rec_per_class.append(recall2)\n",
    "    print('Recall per class: ' + str(recall2))\n",
    "    \n",
    "    #ROC AUC\n",
    "    #-------------------------------------------------------------------------------\n",
    "    # Binarize the true label\n",
    "    ytbin = label_binarize(yt, classes=[0, 1, 2])\n",
    "    n_classes = ytbin.shape[1]\n",
    "\n",
    "    # Compute ROC curve and ROC area for each class\n",
    "    fpr = dict()\n",
    "    tpr = dict()\n",
    "    roc_auc = dict()\n",
    "      \n",
    "    for i in range(n_classes):\n",
    "        fpr[i], tpr[i], _ = roc_curve(ytbin[:, i], yhat_probs[:, i])\n",
    "        roc_auc[i] = auc(fpr[i], tpr[i])\n",
    "     \n",
    "        if fold_num == 0:\n",
    "            fpr_total.append([])\n",
    "\n",
    "        fpr_total[i].append(fpr[i])\n",
    "        \n",
    "        if fold_num == 0:\n",
    "            tpr_total.append([])\n",
    "\n",
    "        tpr_total[i].append(tpr[i]) \n",
    "\n",
    "    # Compute micro-average ROC curve and ROC area\n",
    "    fpr[\"macro\"], tpr[\"macro\"], _ = roc_curve(ytbin.ravel(), yhat_probs.ravel())\n",
    "    roc_auc[\"macro\"] = auc(fpr[\"macro\"], tpr[\"macro\"])\n",
    "\n",
    "    plt.rcParams['axes.facecolor'] = 'white'\n",
    "    plt.rcParams[\"axes.edgecolor\"] = 'black'\n",
    "    plt.rcParams[\"axes.linewidth\"]  = 1.25\n",
    "    \n",
    "    #balut-penoy\n",
    "    plt.figure()\n",
    "    lw = 2\n",
    "    plt.plot(fpr[0], tpr[0], color='darkorange',\n",
    "             lw=lw, label='ROC curve (area = %0.4f)' % roc_auc[0])\n",
    "    plt.plot([0, 1], [0, 1], color='navy', lw=lw, linestyle='--')\n",
    "    plt.xlim([0.0, 1.0])\n",
    "    plt.ylim([0.0, 1.05])\n",
    "    plt.xlabel('False Positive Rate')\n",
    "    plt.ylabel('True Positive Rate')\n",
    "    plt.title('ROC Balut-Penoy Fold ' + str(fold_num+1))\n",
    "    plt.legend(loc=\"lower right\")\n",
    "    plt.show()\n",
    "\n",
    "    #salted egg\n",
    "    plt.figure()\n",
    "    lw = 2\n",
    "    plt.plot(fpr[1], tpr[1], color='darkorange',\n",
    "             lw=lw, label='ROC curve (area = %0.4f)' % roc_auc[1])\n",
    "    plt.plot([0, 1], [0, 1], color='navy', lw=lw, linestyle='--')\n",
    "    plt.xlim([0.0, 1.0])\n",
    "    plt.ylim([0.0, 1.05])\n",
    "    plt.xlabel('False Positive Rate')\n",
    "    plt.ylabel('True Positive Rate')\n",
    "    plt.title('ROC Salted Egg Fold ' + str(fold_num+1))\n",
    "    plt.legend(loc=\"lower right\")\n",
    "    plt.show()\n",
    "\n",
    "    #table egg\n",
    "    plt.figure()\n",
    "    lw = 2\n",
    "    plt.plot(fpr[2], tpr[2], color='darkorange',\n",
    "             lw=lw, label='ROC curve (area = %0.4f)' % roc_auc[2])\n",
    "    plt.plot([0, 1], [0, 1], color='navy', lw=lw, linestyle='--')\n",
    "    plt.xlim([0.0, 1.0])\n",
    "    plt.ylim([0.0, 1.05])\n",
    "    plt.xlabel('False Positive Rate')\n",
    "    plt.ylabel('True Positive Rate')\n",
    "    plt.title('ROC Table Egg Fold ' + str(fold_num+1))\n",
    "    plt.legend(loc=\"lower right\")\n",
    "    plt.show()\n",
    "    #-------------------------------------------------------------------------------\n",
    "    \n",
    "    #confusion matrix\n",
    "    matrix = confusion_matrix(yt, yhat_classes)\n",
    "    \n",
    "    if len(total_acc) == 1:\n",
    "        matrix_sum = matrix\n",
    "    elif len(total_acc) > 1:\n",
    "        matrix_sum = [[matrix_sum[i][j] + matrix[i][j]  \n",
    "                       for j in range(len(matrix_sum[0]))] \n",
    "                      for i in range(len(matrix_sum))]\n",
    "    \n",
    "    df_cm = pd.DataFrame(matrix, range(matrix.shape[0]), range(matrix.shape[1]))\n",
    "    df_cm = df_cm.rename(columns={0:'Balut/Penoy', 1:'Salted Egg', 2:'Table Egg'}, \n",
    "                         index={0:'Balut/Penoy', 1:'Salted Egg', 2:'Table Egg'})\n",
    "    \n",
    "    sn.set(font_scale=1.4) # for label size\n",
    "    sn.heatmap(df_cm, annot=True, annot_kws={\"size\": 16}) # font size\n",
    "    plt.xlabel(\"Actual\")\n",
    "    plt.ylabel(\"Predicted\")\n",
    "    plt.title('Confusion Matrix Fold ' + str(fold_num+1))\n",
    "    plt.show()\n",
    "    \n",
    "    return total_acc, total_loss, total_precision, total_recall, tot_acc_per_class, tot_prec_per_class, tot_rec_per_class, matrix_sum, fpr_total, tpr_total"
   ]
  },
  {
   "cell_type": "markdown",
   "id": "ebc0f6b7",
   "metadata": {},
   "source": [
    "### Metrics, Confusion Matrix, and ROC AUC per Class per Fold"
   ]
  },
  {
   "cell_type": "code",
   "execution_count": null,
   "id": "9b52b487",
   "metadata": {
    "ExecuteTime": {
     "end_time": "2021-09-29T16:42:27.461915Z",
     "start_time": "2021-09-29T16:41:35.083157Z"
    },
    "scrolled": true
   },
   "outputs": [],
   "source": [
    "fold = 5\n",
    "\n",
    "modelname = \"saved_models_1\"\n",
    "#modelname = \"saved_models_\"+str(model_no+3)\n",
    "\n",
    "#for fold number and average string\n",
    "fold_ave = []\n",
    "\n",
    "#for metrics values\n",
    "total_acc = []\n",
    "total_loss = []\n",
    "total_precision = []\n",
    "total_recall = []\n",
    "\n",
    "tot_acc_per_class = []\n",
    "tot_prec_per_class = []\n",
    "tot_rec_per_class = []\n",
    "\n",
    "#for confusion matrix sum of folds\n",
    "matrix_sum = np.array([])\n",
    "\n",
    "#for roc auc of folds per class\n",
    "fpr_bp = []\n",
    "tpr_bp = []\n",
    "\n",
    "fpr_se = []\n",
    "tpr_se = []\n",
    "\n",
    "fpr_te = []\n",
    "tpr_te = []\n",
    "\n",
    "fpr_total = []\n",
    "tpr_total = []\n",
    "\n",
    "#for validating misclassified images\n",
    "yhat_classes_total = []\n",
    "\n",
    "for fold_num in range(fold):\n",
    "    \n",
    "    full_model = create_model()\n",
    "    \n",
    "    #load the weights of bet model\n",
    "    model_dir = gen_dir + \"/\"+modelname+\"/model_\"+str(fold_num+1)+\".h5\"\n",
    "    full_model.load_weights(model_dir)\n",
    "\n",
    "    test_set = directory + \"/ToBeUsed/test_set\"\n",
    "\n",
    "    testX = []\n",
    "\n",
    "    for img_path in X_test['filename']:\n",
    "        img = im.load_img(img_path, target_size=(224,224))\n",
    "        x = im.img_to_array(img)\n",
    "        x = np.expand_dims(x, axis=0)\n",
    "        x = preprocess_input(x)\n",
    "        x = x.reshape(224,224,3)\n",
    "        testX.append(x)\n",
    "\n",
    "    testX = np.array(testX)    \n",
    "\n",
    "    # predict probabilities for test set, y_test\n",
    "    yhat_probs = full_model.predict(testX, verbose=0)\n",
    "\n",
    "    # predict crisp classes for test set\n",
    "    yhat_classes = yhat_probs.argmax(axis=-1)\n",
    "    \n",
    "    yhat_classes_total.append(yhat_classes)\n",
    "    \n",
    "    print(\"fold \"+str(fold_num+1) +\" metrics:\")\n",
    "    total_acc, total_loss, total_precision, total_recall, tot_acc_per_class, tot_prec_per_class, tot_rec_per_class, matrix_sum, fpr_total, tpr_total  = evaluate(yhat_probs,\n",
    "                                                                                                                                                               yhat_classes,\n",
    "                                                                                                                                                               total_acc,\n",
    "                                                                                                                                                               total_loss,\n",
    "                                                                                                                                                               total_precision,\n",
    "                                                                                                                                                               total_recall,\n",
    "                                                                                                                                                               tot_acc_per_class,\n",
    "                                                                                                                                                               tot_prec_per_class,\n",
    "                                                                                                                                                               tot_rec_per_class,\n",
    "                                                                                                                                                               matrix_sum,\n",
    "                                                                                                                                                               fold_num,\n",
    "                                                                                                                                                               fpr_total,\n",
    "                                                                                                                                                               tpr_total)\n",
    "    \n",
    "    fold_ave.append(str(fold_num+1))\n",
    "    \n",
    "    print('')\n"
   ]
  },
  {
   "cell_type": "markdown",
   "id": "6c08234a",
   "metadata": {},
   "source": [
    "### Overall Metrics"
   ]
  },
  {
   "cell_type": "code",
   "execution_count": null,
   "id": "0ce426ad",
   "metadata": {
    "ExecuteTime": {
     "end_time": "2021-09-29T16:42:27.879264Z",
     "start_time": "2021-09-29T16:42:27.851153Z"
    }
   },
   "outputs": [],
   "source": [
    "fold_ave.append(\"Ave:\")\n",
    "total_acc.append(np.mean(total_acc))\n",
    "total_loss.append(np.mean(total_loss))\n",
    "total_precision.append(np.mean(total_precision))\n",
    "total_recall.append(np.mean(total_recall))\n",
    "\n",
    "df_eval = pd.DataFrame(data = list(zip(fold_ave,total_acc,total_loss,total_precision,total_recall)), \n",
    "                       columns=[\"Fold\",\"Accuracy\",\"Loss\",\"Precision\",\"Recall\"])\n",
    "\n",
    "#set fold_ave as the index\n",
    "df_eval.set_index(\"Fold\",inplace=True)\n",
    "\n",
    "df_eval.to_excel('best_model_accuracy_fold.xlsx')"
   ]
  },
  {
   "cell_type": "markdown",
   "id": "51992a07",
   "metadata": {},
   "source": [
    "### Average metrics per class"
   ]
  },
  {
   "cell_type": "code",
   "execution_count": null,
   "id": "205d2aed",
   "metadata": {},
   "outputs": [],
   "source": [
    "fold = 5\n",
    "\n",
    "tot_acc_per_class_mean = [0,0,0]\n",
    "tot_prec_per_class_mean = [0,0,0]\n",
    "tot_rec_per_class_mean = [0,0,0]\n",
    "\n",
    "for y in range(len(tot_acc_per_class)):\n",
    "    tot_acc_per_class_mean[0] += tot_acc_per_class[y][0]\n",
    "    tot_acc_per_class_mean[1] += tot_acc_per_class[y][1]\n",
    "    tot_acc_per_class_mean[2] += tot_acc_per_class[y][2]\n",
    "    \n",
    "    tot_prec_per_class_mean[0] += tot_prec_per_class[y][0]\n",
    "    tot_prec_per_class_mean[1] += tot_prec_per_class[y][1]\n",
    "    tot_prec_per_class_mean[2] += tot_prec_per_class[y][2]\n",
    "    \n",
    "    tot_rec_per_class_mean[0] += tot_rec_per_class[y][0]\n",
    "    tot_rec_per_class_mean[1] += tot_rec_per_class[y][1]\n",
    "    tot_rec_per_class_mean[2] += tot_rec_per_class[y][2]\n",
    "\n",
    "for x in range(len(tot_acc_per_class_mean)):\n",
    "    tot_acc_per_class_mean[x] = tot_acc_per_class_mean[x]/fold\n",
    "    tot_prec_per_class_mean[x] = tot_prec_per_class_mean[x]/fold\n",
    "    tot_rec_per_class_mean[x] = tot_rec_per_class_mean[x]/fold"
   ]
  },
  {
   "cell_type": "code",
   "execution_count": null,
   "id": "ed59e592",
   "metadata": {},
   "outputs": [],
   "source": [
    "label = ['Balut/Penoy','Salted','Table']\n",
    "\n",
    "df_eval_per_class = pd.DataFrame(data = list(zip(label,tot_acc_per_class_mean,tot_prec_per_class_mean,tot_rec_per_class_mean)), \n",
    "                       columns=[\"Class\",\"Accuracy\",\"Precision\",\"Recall\"])\n",
    "\n",
    "#set fold_ave as the index\n",
    "df_eval_per_class.set_index(\"Class\",inplace=True)\n",
    "\n",
    "df_eval_per_class"
   ]
  },
  {
   "cell_type": "markdown",
   "id": "f788d184",
   "metadata": {},
   "source": [
    "### Confusion Matrix Sum of Folds and its Average"
   ]
  },
  {
   "cell_type": "code",
   "execution_count": null,
   "id": "4e74fad1",
   "metadata": {
    "ExecuteTime": {
     "end_time": "2021-09-29T16:44:25.176546Z",
     "start_time": "2021-09-29T16:44:24.852175Z"
    }
   },
   "outputs": [],
   "source": [
    "#confusion Matrix sum of folds\n",
    "matrix_sum = np.array(matrix_sum)\n",
    "\n",
    "df_cm = pd.DataFrame(matrix_sum, range(matrix_sum.shape[0]), range(matrix_sum.shape[1]))\n",
    "df_cm = df_cm.rename(columns={0:'Balut/Penoy', 1:'Salted Egg', 2:'Table Egg'}, \n",
    "                     index={0:'Balut/Penoy', 1:'Salted Egg', 2:'Table Egg'})\n",
    "\n",
    "# plt.figure(figsize=(10,7))\n",
    "sn.set(font_scale=1.4) # for label size\n",
    "sn.heatmap(df_cm, annot=True, annot_kws={\"size\": 16}) # font size\n",
    "plt.xlabel(\"Actual\")\n",
    "plt.ylabel(\"Predicted\")\n",
    "plt.title(\"Confusion Matrix Sum of Folds\")\n",
    "plt.show()\n",
    "\n",
    "#confusion matrix ave of sum of folds\n",
    "matrix_ave = [[matrix_sum[i][j]/fold\n",
    "               for j in range(len(matrix_sum[0]))] \n",
    "              for i in range(len(matrix_sum))]\n",
    "\n",
    "matrix_ave = np.array(matrix_ave)\n",
    "\n",
    "#print(matrix_ave)\n",
    "\n",
    "df_cm = pd.DataFrame(matrix_ave, range(matrix_ave.shape[0]), range(matrix_ave.shape[1]))\n",
    "df_cm = df_cm.rename(columns={0:'Balut/Penoy', 1:'Salted Egg', 2:'Table Egg'}, \n",
    "                     index={0:'Balut/Penoy', 1:'Salted Egg', 2:'Table Egg'})\n",
    "\n",
    "sn.set(font_scale=1.4) # for label size\n",
    "sn.heatmap(df_cm, annot=True, annot_kws={\"size\": 16}, fmt=\".1f\") # font size\n",
    "plt.xlabel(\"Actual\")\n",
    "plt.ylabel(\"Predicted\")\n",
    "plt.title(\"Confusion Matrix Average of Sum of Folds\")\n",
    "plt.show()"
   ]
  },
  {
   "cell_type": "markdown",
   "id": "afad2c51",
   "metadata": {},
   "source": [
    "### ROC AUC of all folds per class"
   ]
  },
  {
   "cell_type": "code",
   "execution_count": null,
   "id": "50f41ca7",
   "metadata": {
    "ExecuteTime": {
     "end_time": "2021-09-29T16:44:26.205874Z",
     "start_time": "2021-09-29T16:44:25.567011Z"
    }
   },
   "outputs": [],
   "source": [
    "#ROC AUC\n",
    "fpr_total = np.array(fpr_total)\n",
    "tpr_total = np.array(tpr_total)\n",
    "\n",
    "classes = [\"Balut/Penoy\",\"Salted Egg\",\"Table Egg\"]\n",
    "\n",
    "for x in range(len(fpr_total)):\n",
    "    \n",
    "    fpr = dict()\n",
    "    tpr = dict()\n",
    "    roc_auc = dict()\n",
    "    \n",
    "    for i in range(fold):\n",
    "        fpr[i] = fpr_total[x][i]\n",
    "        tpr[i] = tpr_total[x][i]\n",
    "        roc_auc[i] = auc(fpr[i], tpr[i])\n",
    "    \n",
    "    # First aggregate all false positive rates\n",
    "    all_fpr = np.unique(np.concatenate([fpr[i] for i in range(fold)]))\n",
    "    \n",
    "    # Then interpolate all ROC curves at this points\n",
    "    mean_tpr = np.zeros_like(all_fpr)\n",
    "    for i in range(fold):\n",
    "        mean_tpr += interp(all_fpr, fpr[i], tpr[i])\n",
    "\n",
    "    # Finally average it and compute AUC\n",
    "    mean_tpr /= fold\n",
    "   \n",
    "    fpr[\"macro\"] = all_fpr\n",
    "    tpr[\"macro\"] = mean_tpr\n",
    "    \n",
    "    roc_auc[\"macro\"] = auc(fpr[\"macro\"], tpr[\"macro\"])\n",
    "    \n",
    "    plt.rcParams['axes.facecolor'] = 'white'\n",
    "    plt.rcParams[\"axes.edgecolor\"] = 'black'\n",
    "    plt.rcParams[\"axes.linewidth\"]  = 1.25\n",
    "\n",
    "    # Plot all ROC curves\n",
    "    plt.figure(figsize=(12, 8))\n",
    "    lw = 2\n",
    "   \n",
    "    colors = cycle(['brown', 'darkorange', 'cornflowerblue', 'green', 'red'])\n",
    "    for i, color in zip(range(fold), colors):\n",
    "        plt.plot(fpr[i], tpr[i], color=color, lw=lw,\n",
    "                 label='ROC curve of fold {0} (area = {1:0.4f})'\n",
    "                 ''.format(i, roc_auc[i]))\n",
    "    \n",
    "    plt.plot([0, 1], [0, 1], 'k--', lw=lw)\n",
    "    plt.xlim([0.0, 1.0])\n",
    "    plt.ylim([0.0, 1.05])\n",
    "    plt.xlabel('False Positive Rate')\n",
    "    plt.ylabel('True Positive Rate')\n",
    "    plt.title('ROC of all folds for class ' + classes[x])\n",
    "    plt.legend(loc=\"lower right\")\n",
    "    plt.show()"
   ]
  },
  {
   "cell_type": "markdown",
   "id": "6bc7c0ba",
   "metadata": {},
   "source": [
    "## Validating Misclassified Images"
   ]
  },
  {
   "cell_type": "markdown",
   "id": "ce750d65",
   "metadata": {},
   "source": [
    "We will check whether or not the predicted classes of the images match with the true classes that they have. We will display the correct and incorrect predictions."
   ]
  },
  {
   "cell_type": "code",
   "execution_count": null,
   "id": "0fe77c99",
   "metadata": {
    "ExecuteTime": {
     "end_time": "2021-09-29T16:44:30.527277Z",
     "start_time": "2021-09-29T16:44:30.514373Z"
    }
   },
   "outputs": [],
   "source": [
    "for yhat_classes in yhat_classes_total:\n",
    "    print(yhat_classes.shape, yt.shape)"
   ]
  },
  {
   "cell_type": "markdown",
   "id": "ba989169",
   "metadata": {},
   "source": [
    "We will get the images from the directories stored under the filename column."
   ]
  },
  {
   "cell_type": "code",
   "execution_count": null,
   "id": "382a3973",
   "metadata": {
    "ExecuteTime": {
     "end_time": "2021-09-29T16:44:31.354461Z",
     "start_time": "2021-09-29T16:44:31.287676Z"
    }
   },
   "outputs": [],
   "source": [
    "testX2 = []\n",
    "\n",
    "for img_path in X_test['filename']:\n",
    "    img = cv2.imread(img_path)\n",
    "    testX2.append(img)\n",
    "\n",
    "testX2 = np.array(testX2)"
   ]
  },
  {
   "cell_type": "markdown",
   "id": "13664885",
   "metadata": {},
   "source": [
    "### Correct predictions"
   ]
  },
  {
   "cell_type": "code",
   "execution_count": null,
   "id": "84589da4",
   "metadata": {
    "ExecuteTime": {
     "end_time": "2021-09-29T16:44:35.361689Z",
     "start_time": "2021-09-29T16:44:32.438363Z"
    },
    "scrolled": true
   },
   "outputs": [],
   "source": [
    "for x in range(len(yhat_classes_total)):\n",
    "    print(\"Fold \" + str(x+1))\n",
    "    \n",
    "    correct = np.where(yhat_classes_total[x]==yt)[0]\n",
    "\n",
    "    print (\"Found %d correct labels\" % len(correct))\n",
    "\n",
    "    plt.figure(figsize=(20,60))\n",
    "    for i, correct in enumerate(correct[:6]):\n",
    "        plt.subplot(3,2,i+1)\n",
    "        RGB_img = cv2.cvtColor(testX2[correct], cv2.COLOR_BGR2RGB)\n",
    "        plt.imshow(RGB_img) #, interpolation='none') #, cmap='gray')\n",
    "        plt.title(\"Predict {0}, Class {1}\".format(str(yhat_classes_total[x][correct]),str(yt.values[correct])))\n",
    "        plt.grid(False)\n",
    "        plt.axis('off')\n",
    "    \n",
    "    plt.show()"
   ]
  },
  {
   "cell_type": "markdown",
   "id": "83d562f3",
   "metadata": {},
   "source": [
    "### Incorrect predictions"
   ]
  },
  {
   "cell_type": "code",
   "execution_count": null,
   "id": "5364f2d2",
   "metadata": {
    "ExecuteTime": {
     "end_time": "2021-09-29T16:44:38.293051Z",
     "start_time": "2021-09-29T16:44:35.810381Z"
    },
    "scrolled": true
   },
   "outputs": [],
   "source": [
    "for x in range(len(yhat_classes_total)):\n",
    "    print(\"Fold \" + str(x+1))\n",
    "    \n",
    "    incorrect = np.where(yhat_classes_total[x]!=yt)[0]\n",
    "    \n",
    "    print (\"Found %d incorrect labels\" % len(incorrect))\n",
    "    \n",
    "    plt.figure(figsize=(20,60))\n",
    "    for i, incorrect in enumerate(incorrect[:6]):\n",
    "        plt.subplot(3,2,i+1)\n",
    "        RGB_img = cv2.cvtColor(testX2[incorrect], cv2.COLOR_BGR2RGB)\n",
    "        plt.imshow(RGB_img) #, interpolation='none') #, cmap='gray')\n",
    "        plt.title(\"Predicted {0}, Class {1}\".format(str(yhat_classes_total[x][incorrect]), str(yt.values[incorrect])))\n",
    "        plt.grid(False)\n",
    "        plt.axis('off')\n",
    "    \n",
    "    plt.show()"
   ]
  },
  {
   "cell_type": "code",
   "execution_count": null,
   "id": "6b0160b9",
   "metadata": {},
   "outputs": [],
   "source": []
  }
 ],
 "metadata": {
  "jupytext": {
   "formats": "ipynb,py"
  },
  "kernelspec": {
   "display_name": "Python 3 (ipykernel)",
   "language": "python",
   "name": "python3"
  },
  "language_info": {
   "codemirror_mode": {
    "name": "ipython",
    "version": 3
   },
   "file_extension": ".py",
   "mimetype": "text/x-python",
   "name": "python",
   "nbconvert_exporter": "python",
   "pygments_lexer": "ipython3",
   "version": "3.8.11"
  },
  "varInspector": {
   "cols": {
    "lenName": 16,
    "lenType": 16,
    "lenVar": 40
   },
   "kernels_config": {
    "python": {
     "delete_cmd_postfix": "",
     "delete_cmd_prefix": "del ",
     "library": "var_list.py",
     "varRefreshCmd": "print(var_dic_list())"
    },
    "r": {
     "delete_cmd_postfix": ") ",
     "delete_cmd_prefix": "rm(",
     "library": "var_list.r",
     "varRefreshCmd": "cat(var_dic_list()) "
    }
   },
   "types_to_exclude": [
    "module",
    "function",
    "builtin_function_or_method",
    "instance",
    "_Feature"
   ],
   "window_display": false
  }
 },
 "nbformat": 4,
 "nbformat_minor": 5
}
