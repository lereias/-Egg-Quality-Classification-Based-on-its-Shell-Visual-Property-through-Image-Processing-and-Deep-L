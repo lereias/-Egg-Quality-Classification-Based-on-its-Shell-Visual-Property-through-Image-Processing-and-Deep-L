{
 "cells": [
  {
   "cell_type": "markdown",
   "id": "4d37d7c1",
   "metadata": {},
   "source": [
    "# Transfer Learning Thesis"
   ]
  },
  {
   "cell_type": "markdown",
   "id": "86ed03b6",
   "metadata": {},
   "source": [
    "https://thedatafrog.com/en/articles/image-recognition-transfer-learning/"
   ]
  },
  {
   "cell_type": "markdown",
   "id": "d6c29596",
   "metadata": {},
   "source": [
    "## Imports"
   ]
  },
  {
   "cell_type": "code",
   "execution_count": 1,
   "id": "938e225b",
   "metadata": {},
   "outputs": [],
   "source": [
    "# openCV to concatenate\n",
    "import cv2\n",
    "import numpy as np\n",
    "\n",
    "# for image name\n",
    "import random\n",
    "\n",
    "# define and move to dataset directory\n",
    "import os\n",
    "# the directory where the data is stored\n",
    "directory = \"C:/Users/user/Desktop/Dataset\"\n",
    "os.chdir(directory)\n",
    "\n",
    "# duplicate combined image to other directory\n",
    "import shutil\n",
    "\n",
    "#for stopping code if not the right amount of images\n",
    "import sys\n",
    "\n",
    "# import the needed packages\n",
    "import matplotlib.pyplot as plt\n",
    "import matplotlib.image as img\n",
    "import tensorflow.keras as keras\n",
    "import numpy as np\n",
    "\n",
    "# data augmentation\n",
    "from tensorflow.keras.preprocessing.image import ImageDataGenerator\n",
    "\n",
    "#k-fold cross validation\n",
    "import pandas as pd                                     #store all images and their class/label\n",
    "from sklearn.model_selection import StratifiedKFold     \n",
    "from sklearn.model_selection import KFold\n",
    "from sklearn.model_selection import train_test_split    #split the dataset to train-test\n",
    "import tensorflow as tf                                 #for callbacks"
   ]
  },
  {
   "cell_type": "markdown",
   "id": "fb5cfcf6",
   "metadata": {},
   "source": [
    "## Crop Image to Reduce Background"
   ]
  },
  {
   "cell_type": "markdown",
   "id": "6956aef8",
   "metadata": {},
   "source": [
    "We shall crop the image in order to reduce the background so that the egg in the image would be more focused on. The cropping procedure will not affect the size diference of the eggs from one another."
   ]
  },
  {
   "cell_type": "markdown",
   "id": "fa999e9a",
   "metadata": {},
   "source": [
    "https://stackoverflow.com/questions/61927877/how-to-crop-opencv-image-from-center"
   ]
  },
  {
   "cell_type": "code",
   "execution_count": null,
   "id": "1b79b0cb",
   "metadata": {
    "scrolled": true
   },
   "outputs": [],
   "source": [
    "tadirect = directory + \"/TwoAngleEggs\"\n",
    "#crop width and height\n",
    "width = 3600\n",
    "height = 3600\n",
    "\n",
    "for x in os.listdir(tadirect):\n",
    "    directory2 = \"\"\n",
    "    directory2 = tadirect + \"/\" + x     #images to be cropped\n",
    "    #print(directory2)\n",
    "    \n",
    "    curdir = os.listdir(directory2)\n",
    "    \n",
    "    for z in curdir:\n",
    "        tempim1 = directory2 + \"/\" + z\n",
    "        \n",
    "        im1 = cv2.imread(tempim1)\n",
    "        \n",
    "        center = (im1.shape[0] / 2, im1.shape[1] / 2)\n",
    "        #print(center)\n",
    "        x = center[0] - width/2\n",
    "        y = center[1] - height/2\n",
    "\n",
    "        #print(x)\n",
    "        #print(y)\n",
    "        \n",
    "        #slicing to perform cropping\n",
    "        print(\"cropping \" + z + \" in dimensions (\" + str(width) + \",\" + str(height) + \")\")\n",
    "        crop_img = im1[int(y):int(y+width), int(x):int(x+height)]\n",
    "        \n",
    "        #save and replace the image\n",
    "        cv2.imwrite(tempim1, crop_img)\n",
    "        print(\"crop finish \" + z)\n",
    "\n",
    "print(\"\\nAll finished\")"
   ]
  },
  {
   "cell_type": "markdown",
   "id": "3940d0b3",
   "metadata": {},
   "source": [
    "## Concatenate two angles of egg"
   ]
  },
  {
   "cell_type": "markdown",
   "id": "f009f74d",
   "metadata": {},
   "source": [
    "two images of an egg are taken, one at its front and one at its back."
   ]
  },
  {
   "cell_type": "code",
   "execution_count": null,
   "id": "a840cd0a",
   "metadata": {
    "scrolled": true
   },
   "outputs": [],
   "source": [
    "#\"\"\"\n",
    "tadirect = directory + \"/TwoAngleEggs\"\n",
    "\n",
    "#check if there is the right amount of images (1 for each angle of egg)\n",
    "for w in os.listdir(tadirect):\n",
    "    directory2 = \"\"\n",
    "    directory2 = tadirect + \"/\" + w\n",
    "    curdir = os.listdir(directory2)\n",
    "\n",
    "    #number of files in directory\n",
    "    filecnt = len([name for name in curdir])\n",
    "    \n",
    "    if filecnt%2 == 1:\n",
    "        print(\"ERROR (\" + w + \"): Incorrect number of images.\")\n",
    "        sys.exit()\n",
    "\n",
    "for x in os.listdir(tadirect):\n",
    "    directory2 = \"\"\n",
    "    directory2 = tadirect + \"/\" + x                            #where the two images of two angles of egg is stored\n",
    "    directory3 = directory  + \"/CombinedTwoAngleEggs/\" + x     #where to put the combined image of the angles\n",
    "    directory4 = directory  + \"/ToBeUsed/\" + x                 #where combined and data augmented of the image are stored\n",
    "    #print(directory2)\n",
    "    \n",
    "    curdir = os.listdir(directory2)\n",
    "    #print(curdir)\n",
    "    \n",
    "    #number of files in directory\n",
    "    filecnt = len([name for name in curdir])\n",
    "    \n",
    "    for y in range(filecnt):\n",
    "        if y%2 == 0:\n",
    "            #print(directory2 + \"/\" + curdir[y])\n",
    "            tempim1 = directory2 + \"/\" + curdir[y]\n",
    "            im1 = cv2.imread(tempim1)\n",
    "            #im1 = cv2.cvtColor(im1, cv2.COLOR_RGB2GRAY)\n",
    "            \n",
    "            #print(directory2 + \"/\" + curdir[y+1])\n",
    "            tempim2 = directory2 + \"/\" + curdir[y+1]\n",
    "            im2 = cv2.imread(tempim2)\n",
    "            \n",
    "            # vertically concatenates images \n",
    "            # of same width \n",
    "            \n",
    "            #resize for ResNet50\n",
    "            width = 224\n",
    "            height = 224\n",
    "\n",
    "            dim = (width,height)\n",
    "            \n",
    "            im_v = cv2.vconcat([cv2.resize(im1, dim), cv2.resize(im2, dim)])\n",
    "            #im_v = cv2.vconcat(im1,im2)\n",
    "            \n",
    "            # show the output image\n",
    "            #cv2.imshow(\"image\",im_v)\n",
    "            #save image\n",
    "            \n",
    "            #create folder to store concatenated images if not existing\n",
    "            newpath = directory3 + \"2\"\n",
    "            if not os.path.exists(newpath):\n",
    "                os.makedirs(newpath)\n",
    "            \"\"\"    \n",
    "            newpath2 = directory4 + \"3\"\n",
    "            if not os.path.exists(newpath2):\n",
    "                os.makedirs(newpath2)\n",
    "            \"\"\"\n",
    "            \n",
    "            combine_img = newpath + \"/IMG_\" + str(random.randint(0,99999999)) + \"_\" + str(random.randint(0,999999)) + \".jpg\"\n",
    "            \n",
    "            cv2.imwrite(combine_img,cv2.resize(im_v, dim))\n",
    "            #shutil.copy2(combine_img, newpath2)bv\n",
    "            \n",
    "            print(curdir[y] + \" and \" + curdir[y+1] + \" combined.\")\n",
    "\n",
    "print(\"All finished\")\n",
    "#\"\"\"\n",
    "           \n",
    "\"\"\"\n",
    "im1 = cv2.imread(\"C:/Users/user/Desktop/Dataset/Balut-penoy/IMG_20210902_081744.jpg\")\n",
    "im2 = cv2.imread(\"C:/Users/user/Desktop/Dataset/Balut-penoy/IMG_20210902_081801.jpg\")\n",
    "#im1 = cv2.cvtColor(im1, cv2.COLOR_RGB2GRAY)\n",
    "\n",
    "width = 224\n",
    "height = 224\n",
    "\n",
    "dim = (width,height)\n",
    "\n",
    "im_v = cv2.vconcat([cv2.resize(im1, dim), cv2.resize(im2, dim)])\n",
    "\n",
    "cv2.imshow(\"wew\",im_v)\n",
    "cv2.waitKey()\n",
    "\n",
    "#create a new image from the images\n",
    "#cv2.imwrite('C:/Users/user/Desktop/Dataset/Balut-penoy/Lolo3.jpg', im_v)\n",
    "\"\"\"\n",
    "\n",
    "print()"
   ]
  },
  {
   "cell_type": "markdown",
   "id": "eab583ca",
   "metadata": {},
   "source": [
    "## Put Dataset in a Dataframe and Place Images on a Single Folder"
   ]
  },
  {
   "cell_type": "markdown",
   "id": "f11561c6",
   "metadata": {},
   "source": [
    "The directory of the images are needed to be put on a dataframe together with its class (the folder where it is placed). This way, it is easier to split it to train and test set, and do transfer learning with K-fold cross validation. The images are needed to be on one folder only so we copy all images to a new folder."
   ]
  },
  {
   "cell_type": "code",
   "execution_count": 4,
   "id": "9ef7d10b",
   "metadata": {},
   "outputs": [],
   "source": [
    "combdirect = directory + \"/CombinedTwoAngleEggs\"\n",
    "fulldataset = directory + \"/ToBeUsed\"\n",
    "\n",
    "if not os.path.exists(fulldataset):\n",
    "    os.makedirs(fulldataset)\n",
    "\n",
    "#needed for k-fold validation later on\n",
    "image = []\n",
    "\n",
    "if not os.path.exists(combdirect):\n",
    "    print(\"Folder does not exist. Run the code above.\")\n",
    "    sys.exit()\n",
    "\n",
    "for x in os.listdir(combdirect):\n",
    "    combdirect2 = combdirect + \"/\" + x\n",
    "    for y in os.listdir(combdirect2):\n",
    "        if x == \"Balut-penoy2\":\n",
    "            lbl = \"0\"\n",
    "        elif x == \"Salted egg2\":\n",
    "            lbl = \"1\"\n",
    "        else:\n",
    "            lbl = \"2\"\n",
    "         \n",
    "        #print(combdirect2 + \"/\" + y)\n",
    "        \n",
    "        #copy that image to the full dataset folder\n",
    "        shutil.copy2(combdirect2 + \"/\" + y, fulldataset)\n",
    "        \n",
    "        #append to image array\n",
    "        image.append([fulldataset + \"/\" + y,lbl])"
   ]
  },
  {
   "cell_type": "code",
   "execution_count": 3,
   "id": "f1b6f4d8",
   "metadata": {},
   "outputs": [
    {
     "data": {
      "text/html": [
       "<div>\n",
       "<style scoped>\n",
       "    .dataframe tbody tr th:only-of-type {\n",
       "        vertical-align: middle;\n",
       "    }\n",
       "\n",
       "    .dataframe tbody tr th {\n",
       "        vertical-align: top;\n",
       "    }\n",
       "\n",
       "    .dataframe thead th {\n",
       "        text-align: right;\n",
       "    }\n",
       "</style>\n",
       "<table border=\"1\" class=\"dataframe\">\n",
       "  <thead>\n",
       "    <tr style=\"text-align: right;\">\n",
       "      <th></th>\n",
       "      <th>filename</th>\n",
       "      <th>label</th>\n",
       "    </tr>\n",
       "  </thead>\n",
       "  <tbody>\n",
       "    <tr>\n",
       "      <th>0</th>\n",
       "      <td>C:/Users/user/Desktop/Dataset/ToBeUsed/IMG_105...</td>\n",
       "      <td>0</td>\n",
       "    </tr>\n",
       "    <tr>\n",
       "      <th>1</th>\n",
       "      <td>C:/Users/user/Desktop/Dataset/ToBeUsed/IMG_110...</td>\n",
       "      <td>0</td>\n",
       "    </tr>\n",
       "    <tr>\n",
       "      <th>2</th>\n",
       "      <td>C:/Users/user/Desktop/Dataset/ToBeUsed/IMG_113...</td>\n",
       "      <td>0</td>\n",
       "    </tr>\n",
       "    <tr>\n",
       "      <th>3</th>\n",
       "      <td>C:/Users/user/Desktop/Dataset/ToBeUsed/IMG_120...</td>\n",
       "      <td>0</td>\n",
       "    </tr>\n",
       "    <tr>\n",
       "      <th>4</th>\n",
       "      <td>C:/Users/user/Desktop/Dataset/ToBeUsed/IMG_129...</td>\n",
       "      <td>0</td>\n",
       "    </tr>\n",
       "    <tr>\n",
       "      <th>...</th>\n",
       "      <td>...</td>\n",
       "      <td>...</td>\n",
       "    </tr>\n",
       "    <tr>\n",
       "      <th>229</th>\n",
       "      <td>C:/Users/user/Desktop/Dataset/ToBeUsed/IMG_739...</td>\n",
       "      <td>2</td>\n",
       "    </tr>\n",
       "    <tr>\n",
       "      <th>230</th>\n",
       "      <td>C:/Users/user/Desktop/Dataset/ToBeUsed/IMG_862...</td>\n",
       "      <td>2</td>\n",
       "    </tr>\n",
       "    <tr>\n",
       "      <th>231</th>\n",
       "      <td>C:/Users/user/Desktop/Dataset/ToBeUsed/IMG_905...</td>\n",
       "      <td>2</td>\n",
       "    </tr>\n",
       "    <tr>\n",
       "      <th>232</th>\n",
       "      <td>C:/Users/user/Desktop/Dataset/ToBeUsed/IMG_941...</td>\n",
       "      <td>2</td>\n",
       "    </tr>\n",
       "    <tr>\n",
       "      <th>233</th>\n",
       "      <td>C:/Users/user/Desktop/Dataset/ToBeUsed/IMG_944...</td>\n",
       "      <td>2</td>\n",
       "    </tr>\n",
       "  </tbody>\n",
       "</table>\n",
       "<p>234 rows × 2 columns</p>\n",
       "</div>"
      ],
      "text/plain": [
       "                                              filename label\n",
       "0    C:/Users/user/Desktop/Dataset/ToBeUsed/IMG_105...     0\n",
       "1    C:/Users/user/Desktop/Dataset/ToBeUsed/IMG_110...     0\n",
       "2    C:/Users/user/Desktop/Dataset/ToBeUsed/IMG_113...     0\n",
       "3    C:/Users/user/Desktop/Dataset/ToBeUsed/IMG_120...     0\n",
       "4    C:/Users/user/Desktop/Dataset/ToBeUsed/IMG_129...     0\n",
       "..                                                 ...   ...\n",
       "229  C:/Users/user/Desktop/Dataset/ToBeUsed/IMG_739...     2\n",
       "230  C:/Users/user/Desktop/Dataset/ToBeUsed/IMG_862...     2\n",
       "231  C:/Users/user/Desktop/Dataset/ToBeUsed/IMG_905...     2\n",
       "232  C:/Users/user/Desktop/Dataset/ToBeUsed/IMG_941...     2\n",
       "233  C:/Users/user/Desktop/Dataset/ToBeUsed/IMG_944...     2\n",
       "\n",
       "[234 rows x 2 columns]"
      ]
     },
     "execution_count": 3,
     "metadata": {},
     "output_type": "execute_result"
    }
   ],
   "source": [
    "df = pd.DataFrame(image,columns=['filename','label'])\n",
    "df"
   ]
  },
  {
   "cell_type": "code",
   "execution_count": 5,
   "id": "21d5fab2",
   "metadata": {
    "scrolled": true
   },
   "outputs": [
    {
     "name": "stdout",
     "output_type": "stream",
     "text": [
      "filename    False\n",
      "label       False\n",
      "dtype: bool\n"
     ]
    }
   ],
   "source": [
    "print(df.isna().any())"
   ]
  },
  {
   "cell_type": "markdown",
   "id": "a2fa70c1",
   "metadata": {},
   "source": [
    "## K-fold validation on train set"
   ]
  },
  {
   "cell_type": "markdown",
   "id": "668ca0a4",
   "metadata": {},
   "source": [
    "https://medium.com/the-owl/k-fold-cross-validation-in-keras-3ec4a3a00538"
   ]
  },
  {
   "cell_type": "code",
   "execution_count": 6,
   "id": "075e8303",
   "metadata": {},
   "outputs": [],
   "source": [
    "Y = df[['label']]\n",
    "\n",
    "kf = KFold(n_splits = 5random_state = 7, shuffle = True)\n",
    "                         \n",
    "skf = StratifiedKFold(n_splits = 5, random_state = 7, shuffle = True)"
   ]
  },
  {
   "cell_type": "markdown",
   "id": "331f3dfc",
   "metadata": {},
   "source": [
    "## Data Augmentation"
   ]
  },
  {
   "cell_type": "markdown",
   "id": "ad4a5826",
   "metadata": {},
   "source": [
    "We will apply data augmentation of the dataset per epoch in order to increase the accuracy of the model"
   ]
  },
  {
   "cell_type": "code",
   "execution_count": 7,
   "id": "4f45ab56",
   "metadata": {},
   "outputs": [],
   "source": [
    "resnet50 = keras.applications.resnet50\n",
    "\n",
    "imgdatagen = ImageDataGenerator(\n",
    "        preprocessing_function = resnet50.preprocess_input,\n",
    "        horizontal_flip = True,\n",
    "        vertical_flip = True,\n",
    "    )"
   ]
  },
  {
   "cell_type": "markdown",
   "id": "82a5dd7d",
   "metadata": {},
   "source": [
    "## Create Plot History"
   ]
  },
  {
   "cell_type": "markdown",
   "id": "7ddf84bd",
   "metadata": {},
   "source": [
    "Plot history will display the training and validation accuracy, and training and validation loss in every epoch in a fold."
   ]
  },
  {
   "cell_type": "code",
   "execution_count": 8,
   "id": "2e26f5b9",
   "metadata": {},
   "outputs": [],
   "source": [
    "def plot_history(history, yrange):\n",
    "    '''Plot loss and accuracy as a function of the epoch,\n",
    "    for the training and validation datasets.\n",
    "    '''\n",
    "    acc = history.history['accuracy']\n",
    "    val_acc = history.history['val_accuracy']\n",
    "    loss = history.history['loss']\n",
    "    val_loss = history.history['val_loss']\n",
    "\n",
    "    # Get number of epochs\n",
    "    epochs = range(len(acc))\n",
    "\n",
    "    # Plot training and validation accuracy per epoch\n",
    "    plt.plot(epochs, acc)\n",
    "    plt.plot(epochs, val_acc)\n",
    "    plt.title('Training and validation accuracy')\n",
    "    plt.legend(['train_accuracy','val_accuracy'])\n",
    "    plt.ylim(yrange)\n",
    "    \n",
    "    # Plot training and validation loss per epoch\n",
    "    plt.figure()\n",
    "\n",
    "    plt.plot(epochs, loss)\n",
    "    plt.plot(epochs, val_loss)\n",
    "    plt.title('Training and validation loss')\n",
    "    plt.legend(['train_loss','val_loss'])\n",
    "    \n",
    "    plt.show() "
   ]
  },
  {
   "cell_type": "markdown",
   "id": "34bdba51",
   "metadata": {},
   "source": [
    "## Train Model"
   ]
  },
  {
   "cell_type": "markdown",
   "id": "416b036b",
   "metadata": {},
   "source": [
    "train the model with K-fold Cross Validation. Parameters can be set each and every training to get the best accuracy as possible. Data generators are needed in order to do data augmentation through the use of the ImageDataGenerator stated above."
   ]
  },
  {
   "cell_type": "code",
   "execution_count": 9,
   "id": "6e870544",
   "metadata": {
    "scrolled": true
   },
   "outputs": [
    {
     "name": "stdout",
     "output_type": "stream",
     "text": [
      "Found 187 validated image filenames belonging to 3 classes.\n",
      "Found 47 validated image filenames belonging to 1 classes.\n",
      "Fold number 1\n",
      "6/6 [==============================] - 16s 2s/step - loss: 1.2133 - accuracy: 0.5561 - val_loss: 6.2198 - val_accuracy: 0.5532\n",
      "\n",
      "Epoch 00001: val_accuracy improved from -inf to 0.55319, saving model to C:/Users/user/Desktop/saved_models3\\model_1.h5\n"
     ]
    },
    {
     "name": "stderr",
     "output_type": "stream",
     "text": [
      "C:\\Users\\user\\anaconda3\\lib\\site-packages\\keras\\utils\\generic_utils.py:494: CustomMaskWarning: Custom mask layers require a config and must override get_config. When loading, the custom mask layer must be passed to the custom_objects argument.\n",
      "  warnings.warn('Custom mask layers require a config and must override '\n"
     ]
    },
    {
     "data": {
      "image/png": "[encoded data removed]",
      "text/plain": [
       "<Figure size 432x288 with 1 Axes>"
      ]
     },
     "metadata": {
      "needs_background": "light"
     },
     "output_type": "display_data"
    },
    {
     "data": {
      "image/png": "[encoded data removed]",
      "text/plain": [
       "<Figure size 432x288 with 1 Axes>"
      ]
     },
     "metadata": {
      "needs_background": "light"
     },
     "output_type": "display_data"
    },
    {
     "name": "stdout",
     "output_type": "stream",
     "text": [
      "2/2 [==============================] - 3s 788ms/step - loss: 6.2653 - accuracy: 0.5532\n",
      "{'loss': 6.265327453613281, 'accuracy': 0.5531914830207825}\n",
      "Found 187 validated image filenames belonging to 3 classes.\n",
      "Found 47 validated image filenames belonging to 1 classes.\n",
      "Fold number 2\n",
      "6/6 [==============================] - 19s 3s/step - loss: 1.9548 - accuracy: 0.4652 - val_loss: 7.4045 - val_accuracy: 0.3404\n",
      "\n",
      "Epoch 00001: val_accuracy improved from -inf to 0.34043, saving model to C:/Users/user/Desktop/saved_models3\\model_2.h5\n"
     ]
    },
    {
     "name": "stderr",
     "output_type": "stream",
     "text": [
      "C:\\Users\\user\\anaconda3\\lib\\site-packages\\keras\\utils\\generic_utils.py:494: CustomMaskWarning: Custom mask layers require a config and must override get_config. When loading, the custom mask layer must be passed to the custom_objects argument.\n",
      "  warnings.warn('Custom mask layers require a config and must override '\n"
     ]
    },
    {
     "data": {
      "image/png": "[encoded data removed]",
      "text/plain": [
       "<Figure size 432x288 with 1 Axes>"
      ]
     },
     "metadata": {
      "needs_background": "light"
     },
     "output_type": "display_data"
    },
    {
     "data": {
      "image/png": "[encoded data removed]",
      "text/plain": [
       "<Figure size 432x288 with 1 Axes>"
      ]
     },
     "metadata": {
      "needs_background": "light"
     },
     "output_type": "display_data"
    },
    {
     "name": "stdout",
     "output_type": "stream",
     "text": [
      "2/2 [==============================] - 3s 875ms/step - loss: 7.5996 - accuracy: 0.3830\n",
      "{'loss': 7.599593639373779, 'accuracy': 0.38297873735427856}\n",
      "Found 187 validated image filenames belonging to 3 classes.\n",
      "Found 47 validated image filenames belonging to 2 classes.\n",
      "Fold number 3\n",
      "6/6 [==============================] - ETA: 0s - loss: 1.3840 - accuracy: 0.5561"
     ]
    },
    {
     "ename": "InvalidArgumentError",
     "evalue": " logits and labels must be broadcastable: logits_size=[32,3] labels_size=[32,2]\n\t [[node categorical_crossentropy/softmax_cross_entropy_with_logits (defined at <ipython-input-9-3dda60245af2>:82) ]] [Op:__inference_test_function_32215]\n\nFunction call stack:\ntest_function\n",
     "output_type": "error",
     "traceback": [
      "\u001b[1;31m---------------------------------------------------------------------------\u001b[0m",
      "\u001b[1;31mInvalidArgumentError\u001b[0m                      Traceback (most recent call last)",
      "\u001b[1;32m<ipython-input-9-3dda60245af2>\u001b[0m in \u001b[0;36m<module>\u001b[1;34m\u001b[0m\n\u001b[0;32m     80\u001b[0m \u001b[1;33m\u001b[0m\u001b[0m\n\u001b[0;32m     81\u001b[0m     \u001b[1;31m# FIT THE MODEL\u001b[0m\u001b[1;33m\u001b[0m\u001b[1;33m\u001b[0m\u001b[1;33m\u001b[0m\u001b[0m\n\u001b[1;32m---> 82\u001b[1;33m     history = full_model.fit(train_data_generator,\n\u001b[0m\u001b[0;32m     83\u001b[0m                              \u001b[0mepochs\u001b[0m\u001b[1;33m=\u001b[0m\u001b[0mnum_epochs\u001b[0m\u001b[1;33m,\u001b[0m\u001b[1;33m\u001b[0m\u001b[1;33m\u001b[0m\u001b[0m\n\u001b[0;32m     84\u001b[0m                              \u001b[0mcallbacks\u001b[0m\u001b[1;33m=\u001b[0m\u001b[0mcallbacks_list\u001b[0m\u001b[1;33m,\u001b[0m\u001b[1;33m\u001b[0m\u001b[1;33m\u001b[0m\u001b[0m\n",
      "\u001b[1;32m~\\anaconda3\\lib\\site-packages\\keras\\engine\\training.py\u001b[0m in \u001b[0;36mfit\u001b[1;34m(self, x, y, batch_size, epochs, verbose, callbacks, validation_split, validation_data, shuffle, class_weight, sample_weight, initial_epoch, steps_per_epoch, validation_steps, validation_batch_size, validation_freq, max_queue_size, workers, use_multiprocessing)\u001b[0m\n\u001b[0;32m   1213\u001b[0m                 \u001b[0mmodel\u001b[0m\u001b[1;33m=\u001b[0m\u001b[0mself\u001b[0m\u001b[1;33m,\u001b[0m\u001b[1;33m\u001b[0m\u001b[1;33m\u001b[0m\u001b[0m\n\u001b[0;32m   1214\u001b[0m                 steps_per_execution=self._steps_per_execution)\n\u001b[1;32m-> 1215\u001b[1;33m           val_logs = self.evaluate(\n\u001b[0m\u001b[0;32m   1216\u001b[0m               \u001b[0mx\u001b[0m\u001b[1;33m=\u001b[0m\u001b[0mval_x\u001b[0m\u001b[1;33m,\u001b[0m\u001b[1;33m\u001b[0m\u001b[1;33m\u001b[0m\u001b[0m\n\u001b[0;32m   1217\u001b[0m               \u001b[0my\u001b[0m\u001b[1;33m=\u001b[0m\u001b[0mval_y\u001b[0m\u001b[1;33m,\u001b[0m\u001b[1;33m\u001b[0m\u001b[1;33m\u001b[0m\u001b[0m\n",
      "\u001b[1;32m~\\anaconda3\\lib\\site-packages\\keras\\engine\\training.py\u001b[0m in \u001b[0;36mevaluate\u001b[1;34m(self, x, y, batch_size, verbose, sample_weight, steps, callbacks, max_queue_size, workers, use_multiprocessing, return_dict, **kwargs)\u001b[0m\n\u001b[0;32m   1499\u001b[0m             \u001b[1;32mwith\u001b[0m \u001b[0mtf\u001b[0m\u001b[1;33m.\u001b[0m\u001b[0mprofiler\u001b[0m\u001b[1;33m.\u001b[0m\u001b[0mexperimental\u001b[0m\u001b[1;33m.\u001b[0m\u001b[0mTrace\u001b[0m\u001b[1;33m(\u001b[0m\u001b[1;34m'test'\u001b[0m\u001b[1;33m,\u001b[0m \u001b[0mstep_num\u001b[0m\u001b[1;33m=\u001b[0m\u001b[0mstep\u001b[0m\u001b[1;33m,\u001b[0m \u001b[0m_r\u001b[0m\u001b[1;33m=\u001b[0m\u001b[1;36m1\u001b[0m\u001b[1;33m)\u001b[0m\u001b[1;33m:\u001b[0m\u001b[1;33m\u001b[0m\u001b[1;33m\u001b[0m\u001b[0m\n\u001b[0;32m   1500\u001b[0m               \u001b[0mcallbacks\u001b[0m\u001b[1;33m.\u001b[0m\u001b[0mon_test_batch_begin\u001b[0m\u001b[1;33m(\u001b[0m\u001b[0mstep\u001b[0m\u001b[1;33m)\u001b[0m\u001b[1;33m\u001b[0m\u001b[1;33m\u001b[0m\u001b[0m\n\u001b[1;32m-> 1501\u001b[1;33m               \u001b[0mtmp_logs\u001b[0m \u001b[1;33m=\u001b[0m \u001b[0mself\u001b[0m\u001b[1;33m.\u001b[0m\u001b[0mtest_function\u001b[0m\u001b[1;33m(\u001b[0m\u001b[0miterator\u001b[0m\u001b[1;33m)\u001b[0m\u001b[1;33m\u001b[0m\u001b[1;33m\u001b[0m\u001b[0m\n\u001b[0m\u001b[0;32m   1502\u001b[0m               \u001b[1;32mif\u001b[0m \u001b[0mdata_handler\u001b[0m\u001b[1;33m.\u001b[0m\u001b[0mshould_sync\u001b[0m\u001b[1;33m:\u001b[0m\u001b[1;33m\u001b[0m\u001b[1;33m\u001b[0m\u001b[0m\n\u001b[0;32m   1503\u001b[0m                 \u001b[0mcontext\u001b[0m\u001b[1;33m.\u001b[0m\u001b[0masync_wait\u001b[0m\u001b[1;33m(\u001b[0m\u001b[1;33m)\u001b[0m\u001b[1;33m\u001b[0m\u001b[1;33m\u001b[0m\u001b[0m\n",
      "\u001b[1;32m~\\anaconda3\\lib\\site-packages\\tensorflow\\python\\eager\\def_function.py\u001b[0m in \u001b[0;36m__call__\u001b[1;34m(self, *args, **kwds)\u001b[0m\n\u001b[0;32m    883\u001b[0m \u001b[1;33m\u001b[0m\u001b[0m\n\u001b[0;32m    884\u001b[0m       \u001b[1;32mwith\u001b[0m \u001b[0mOptionalXlaContext\u001b[0m\u001b[1;33m(\u001b[0m\u001b[0mself\u001b[0m\u001b[1;33m.\u001b[0m\u001b[0m_jit_compile\u001b[0m\u001b[1;33m)\u001b[0m\u001b[1;33m:\u001b[0m\u001b[1;33m\u001b[0m\u001b[1;33m\u001b[0m\u001b[0m\n\u001b[1;32m--> 885\u001b[1;33m         \u001b[0mresult\u001b[0m \u001b[1;33m=\u001b[0m \u001b[0mself\u001b[0m\u001b[1;33m.\u001b[0m\u001b[0m_call\u001b[0m\u001b[1;33m(\u001b[0m\u001b[1;33m*\u001b[0m\u001b[0margs\u001b[0m\u001b[1;33m,\u001b[0m \u001b[1;33m**\u001b[0m\u001b[0mkwds\u001b[0m\u001b[1;33m)\u001b[0m\u001b[1;33m\u001b[0m\u001b[1;33m\u001b[0m\u001b[0m\n\u001b[0m\u001b[0;32m    886\u001b[0m \u001b[1;33m\u001b[0m\u001b[0m\n\u001b[0;32m    887\u001b[0m       \u001b[0mnew_tracing_count\u001b[0m \u001b[1;33m=\u001b[0m \u001b[0mself\u001b[0m\u001b[1;33m.\u001b[0m\u001b[0mexperimental_get_tracing_count\u001b[0m\u001b[1;33m(\u001b[0m\u001b[1;33m)\u001b[0m\u001b[1;33m\u001b[0m\u001b[1;33m\u001b[0m\u001b[0m\n",
      "\u001b[1;32m~\\anaconda3\\lib\\site-packages\\tensorflow\\python\\eager\\def_function.py\u001b[0m in \u001b[0;36m_call\u001b[1;34m(self, *args, **kwds)\u001b[0m\n\u001b[0;32m    954\u001b[0m               *args, **kwds)\n\u001b[0;32m    955\u001b[0m       \u001b[1;31m# If we did not create any variables the trace we have is good enough.\u001b[0m\u001b[1;33m\u001b[0m\u001b[1;33m\u001b[0m\u001b[1;33m\u001b[0m\u001b[0m\n\u001b[1;32m--> 956\u001b[1;33m       return self._concrete_stateful_fn._call_flat(\n\u001b[0m\u001b[0;32m    957\u001b[0m           filtered_flat_args, self._concrete_stateful_fn.captured_inputs)  # pylint: disable=protected-access\n\u001b[0;32m    958\u001b[0m \u001b[1;33m\u001b[0m\u001b[0m\n",
      "\u001b[1;32m~\\anaconda3\\lib\\site-packages\\tensorflow\\python\\eager\\function.py\u001b[0m in \u001b[0;36m_call_flat\u001b[1;34m(self, args, captured_inputs, cancellation_manager)\u001b[0m\n\u001b[0;32m   1961\u001b[0m         and executing_eagerly):\n\u001b[0;32m   1962\u001b[0m       \u001b[1;31m# No tape is watching; skip to running the function.\u001b[0m\u001b[1;33m\u001b[0m\u001b[1;33m\u001b[0m\u001b[1;33m\u001b[0m\u001b[0m\n\u001b[1;32m-> 1963\u001b[1;33m       return self._build_call_outputs(self._inference_function.call(\n\u001b[0m\u001b[0;32m   1964\u001b[0m           ctx, args, cancellation_manager=cancellation_manager))\n\u001b[0;32m   1965\u001b[0m     forward_backward = self._select_forward_and_backward_functions(\n",
      "\u001b[1;32m~\\anaconda3\\lib\\site-packages\\tensorflow\\python\\eager\\function.py\u001b[0m in \u001b[0;36mcall\u001b[1;34m(self, ctx, args, cancellation_manager)\u001b[0m\n\u001b[0;32m    589\u001b[0m       \u001b[1;32mwith\u001b[0m \u001b[0m_InterpolateFunctionError\u001b[0m\u001b[1;33m(\u001b[0m\u001b[0mself\u001b[0m\u001b[1;33m)\u001b[0m\u001b[1;33m:\u001b[0m\u001b[1;33m\u001b[0m\u001b[1;33m\u001b[0m\u001b[0m\n\u001b[0;32m    590\u001b[0m         \u001b[1;32mif\u001b[0m \u001b[0mcancellation_manager\u001b[0m \u001b[1;32mis\u001b[0m \u001b[1;32mNone\u001b[0m\u001b[1;33m:\u001b[0m\u001b[1;33m\u001b[0m\u001b[1;33m\u001b[0m\u001b[0m\n\u001b[1;32m--> 591\u001b[1;33m           outputs = execute.execute(\n\u001b[0m\u001b[0;32m    592\u001b[0m               \u001b[0mstr\u001b[0m\u001b[1;33m(\u001b[0m\u001b[0mself\u001b[0m\u001b[1;33m.\u001b[0m\u001b[0msignature\u001b[0m\u001b[1;33m.\u001b[0m\u001b[0mname\u001b[0m\u001b[1;33m)\u001b[0m\u001b[1;33m,\u001b[0m\u001b[1;33m\u001b[0m\u001b[1;33m\u001b[0m\u001b[0m\n\u001b[0;32m    593\u001b[0m               \u001b[0mnum_outputs\u001b[0m\u001b[1;33m=\u001b[0m\u001b[0mself\u001b[0m\u001b[1;33m.\u001b[0m\u001b[0m_num_outputs\u001b[0m\u001b[1;33m,\u001b[0m\u001b[1;33m\u001b[0m\u001b[1;33m\u001b[0m\u001b[0m\n",
      "\u001b[1;32m~\\anaconda3\\lib\\site-packages\\tensorflow\\python\\eager\\execute.py\u001b[0m in \u001b[0;36mquick_execute\u001b[1;34m(op_name, num_outputs, inputs, attrs, ctx, name)\u001b[0m\n\u001b[0;32m     57\u001b[0m   \u001b[1;32mtry\u001b[0m\u001b[1;33m:\u001b[0m\u001b[1;33m\u001b[0m\u001b[1;33m\u001b[0m\u001b[0m\n\u001b[0;32m     58\u001b[0m     \u001b[0mctx\u001b[0m\u001b[1;33m.\u001b[0m\u001b[0mensure_initialized\u001b[0m\u001b[1;33m(\u001b[0m\u001b[1;33m)\u001b[0m\u001b[1;33m\u001b[0m\u001b[1;33m\u001b[0m\u001b[0m\n\u001b[1;32m---> 59\u001b[1;33m     tensors = pywrap_tfe.TFE_Py_Execute(ctx._handle, device_name, op_name,\n\u001b[0m\u001b[0;32m     60\u001b[0m                                         inputs, attrs, num_outputs)\n\u001b[0;32m     61\u001b[0m   \u001b[1;32mexcept\u001b[0m \u001b[0mcore\u001b[0m\u001b[1;33m.\u001b[0m\u001b[0m_NotOkStatusException\u001b[0m \u001b[1;32mas\u001b[0m \u001b[0me\u001b[0m\u001b[1;33m:\u001b[0m\u001b[1;33m\u001b[0m\u001b[1;33m\u001b[0m\u001b[0m\n",
      "\u001b[1;31mInvalidArgumentError\u001b[0m:  logits and labels must be broadcastable: logits_size=[32,3] labels_size=[32,2]\n\t [[node categorical_crossentropy/softmax_cross_entropy_with_logits (defined at <ipython-input-9-3dda60245af2>:82) ]] [Op:__inference_test_function_32215]\n\nFunction call stack:\ntest_function\n"
     ]
    }
   ],
   "source": [
    "#initialize parameters\n",
    "VALIDATION_ACCURACY = []                          #store all validation_accuracy\n",
    "VALIDATION_LOSS = []                              #store all validation_loss\n",
    "image_dir = directory + \"/Com\"                                    #where the train set images are stored\n",
    "batch_size = 32                                   #batch size\n",
    "fold_var = 1                                      #number of fold of the model to be called back\n",
    "n = len(df)                                      #number of data in train set\n",
    "num_epochs = 1                                    #number of epochs\n",
    "dim = (224,224)                                   #required dimensions for process_unit (ResNet50)\n",
    "\n",
    "\n",
    "#===========if exist, create new one for another set of models with new parameters======================\n",
    "\n",
    "#directory where models per set parameters are stored\n",
    "gen_dir = \"C:/Users/user/Desktop\"\n",
    "\n",
    "save_cur = \"\"  #check if there is any saved_models folders\n",
    "\n",
    "for x in os.listdir(gen_dir):\n",
    "    if \"saved_models\" in x:\n",
    "        #print(x)\n",
    "        save_cur = x\n",
    "\n",
    "#save_dir is where the created models using the current set of parameters are added        \n",
    "        \n",
    "if save_cur == \"\":\n",
    "    save_dir = gen_dir + \"/saved_models1\"\n",
    "    #print(save_dir)\n",
    "    os.makedirs(save_dir)\n",
    "else:\n",
    "    save_dir = gen_dir + \"/saved_models\" + str(int(save_cur[-1]) + 1)\n",
    "    #print(save_dir)\n",
    "    os.makedirs(save_dir)\n",
    "\n",
    "#=========================================================================================================    \n",
    "    \n",
    "for train_index, val_index in skf.split(np.zeros(n),Y):\n",
    "    #print(train_index)\n",
    "    #print(val_index)\n",
    "    training_data = df.iloc[train_index]\n",
    "    validation_data = df.iloc[val_index]\n",
    "\n",
    "    train_data_generator = imgdatagen.flow_from_dataframe(training_data, directory = image_dir,\n",
    "                               x_col = \"filename\", y_col = \"label\",\n",
    "                              class_mode = \"categorical\", target_size = dim, batch_size = batch_size,\n",
    "                                shuffle = True)\n",
    "    valid_data_generator  = imgdatagen.flow_from_dataframe(validation_data, directory = image_dir,\n",
    "                            x_col = \"filename\", y_col = \"label\",\n",
    "                            class_mode = \"categorical\", target_size = dim, batch_size = batch_size,\n",
    "                                shuffle = True)\n",
    "\n",
    "    # CREATE NEW MODEL\n",
    "    conv_model = resnet50.ResNet50(weights='imagenet', include_top=False, input_shape=(224,224,3))\n",
    "    for layer in conv_model.layers:\n",
    "        layer.trainable = False\n",
    "    x = keras.layers.Flatten()(conv_model.output)\n",
    "    x = keras.layers.Dense(100, activation='relu')(x)\n",
    "    x = keras.layers.Dense(100, activation='relu')(x)\n",
    "    #x = keras.layers.Dense(100, activation='relu')(x)\n",
    "\n",
    "    x = keras.layers.Dropout(0.2)(x) #to further reduce overfitting\n",
    "\n",
    "    predictions = keras.layers.Dense(3, activation='softmax')(x)\n",
    "    full_model = keras.models.Model(inputs=conv_model.input, outputs=predictions)\n",
    "    \n",
    "    # COMPILE NEW MODEL\n",
    "    full_model.compile(loss='categorical_crossentropy',\n",
    "                  optimizer=keras.optimizers.Adamax(learning_rate=0.0001),\n",
    "                  metrics=['accuracy']) #categorical_crossentropy cause it is more than 2 classes\n",
    "\n",
    "    # CREATE CALLBACKS\n",
    "    checkpoint = tf.keras.callbacks.ModelCheckpoint((save_dir+\"/\"+ \"model_\" + str(fold_var) + \".h5\"), \n",
    "                            monitor='val_accuracy', verbose=1, \n",
    "                            save_best_only=True, mode='max')\n",
    "    callbacks_list = [checkpoint]\n",
    "    # There can be other callbacks, but just showing one because it involves the model name\n",
    "    # This saves the best model\n",
    "   \n",
    "    print(\"Fold number \" + str(fold_var))\n",
    "\n",
    "    # FIT THE MODEL\n",
    "    history = full_model.fit(train_data_generator,\n",
    "                             epochs=num_epochs,\n",
    "                             callbacks=callbacks_list,\n",
    "                             validation_data=valid_data_generator)\n",
    "    \n",
    "    #PLOT HISTORY\n",
    "    plot_history(history, yrange=(0.9,1))\n",
    "\n",
    "    # LOAD BEST MODEL to evaluate the performance of the model\n",
    "    full_model.load_weights(save_dir+\"/model_\"+str(fold_var)+\".h5\")\n",
    "    \n",
    "    results = full_model.evaluate(valid_data_generator)\n",
    "    results = dict(zip(full_model.metrics_names,results))\n",
    "    \n",
    "    print(results)\n",
    "    \n",
    "    VALIDATION_ACCURACY.append(results['accuracy'])\n",
    "    VALIDATION_LOSS.append(results['loss'])\n",
    "\n",
    "    tf.keras.backend.clear_session()\n",
    "\n",
    "    fold_var += 1    "
   ]
  },
  {
   "cell_type": "code",
   "execution_count": null,
   "id": "a03456cc",
   "metadata": {},
   "outputs": [],
   "source": [
    "print(\"Validation Accuracy of All Folds:\")\n",
    "print(VALIDATION_ACCURACY)\n",
    "print(\"Validation Loss of All Folds:\")\n",
    "print(VALIDATION_LOSS)"
   ]
  }
 ],
 "metadata": {
  "jupytext": {
   "formats": "ipynb,py"
  },
  "kernelspec": {
   "display_name": "Python 3",
   "language": "python",
   "name": "python3"
  },
  "language_info": {
   "codemirror_mode": {
    "name": "ipython",
    "version": 3
   },
   "file_extension": ".py",
   "mimetype": "text/x-python",
   "name": "python",
   "nbconvert_exporter": "python",
   "pygments_lexer": "ipython3",
   "version": "3.8.8"
  }
 },
 "nbformat": 4,
 "nbformat_minor": 5
}
