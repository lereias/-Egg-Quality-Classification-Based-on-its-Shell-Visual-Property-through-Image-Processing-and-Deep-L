{
 "cells": [
  {
   "cell_type": "markdown",
   "id": "4d37d7c1",
   "metadata": {},
   "source": [
    "# Transfer Learning Thesis"
   ]
  },
  {
   "cell_type": "markdown",
   "id": "86ed03b6",
   "metadata": {},
   "source": [
    "https://thedatafrog.com/en/articles/image-recognition-transfer-learning/"
   ]
  },
  {
   "cell_type": "markdown",
   "id": "d6c29596",
   "metadata": {},
   "source": [
    "## Imports"
   ]
  },
  {
   "cell_type": "code",
   "execution_count": 1,
   "id": "938e225b",
   "metadata": {},
   "outputs": [],
   "source": [
    "# openCV to concatenate\n",
    "import cv2\n",
    "import numpy as np\n",
    "\n",
    "# for image name\n",
    "import random\n",
    "\n",
    "# define and move to dataset directory\n",
    "import os\n",
    "# the directory where the data is stored\n",
    "directory = \"C:/Users/user/Desktop/Dataset\"\n",
    "os.chdir(directory)\n",
    "\n",
    "# duplicate combined image to other directory\n",
    "import shutil\n",
    "\n",
    "#for stopping code if not the right amount of images\n",
    "import sys\n",
    "\n",
    "# import the needed packages\n",
    "import matplotlib.pyplot as plt\n",
    "import matplotlib.image as img\n",
    "import tensorflow.keras as keras\n",
    "import numpy as np\n",
    "\n",
    "# data augmentation\n",
    "from tensorflow.keras.preprocessing.image import ImageDataGenerator\n",
    "\n",
    "#k-fold cross validation\n",
    "import pandas as pd                                     #store all images and their class/label\n",
    "from sklearn.model_selection import StratifiedKFold     \n",
    "from sklearn.model_selection import KFold\n",
    "from sklearn.model_selection import train_test_split    #split the dataset to train-test\n",
    "import tensorflow as tf                                 #for callbacks"
   ]
  },
  {
   "cell_type": "markdown",
   "id": "fb5cfcf6",
   "metadata": {},
   "source": [
    "## Crop Image to Reduce Background"
   ]
  },
  {
   "cell_type": "markdown",
   "id": "6956aef8",
   "metadata": {},
   "source": [
    "We shall crop the image in order to reduce the background so that the egg in the image would be more focused on. The cropping procedure will not affect the size diference of the eggs from one another."
   ]
  },
  {
   "cell_type": "markdown",
   "id": "fa999e9a",
   "metadata": {},
   "source": [
    "https://stackoverflow.com/questions/61927877/how-to-crop-opencv-image-from-center"
   ]
  },
  {
   "cell_type": "code",
   "execution_count": null,
   "id": "1b79b0cb",
   "metadata": {
    "scrolled": true
   },
   "outputs": [],
   "source": [
    "tadirect = directory + \"/TwoAngleEggs\"\n",
    "#crop width and height\n",
    "width = 3600\n",
    "height = 3600\n",
    "\n",
    "for x in os.listdir(tadirect):\n",
    "    directory2 = \"\"\n",
    "    directory2 = tadirect + \"/\" + x     #images to be cropped\n",
    "    #print(directory2)\n",
    "    \n",
    "    curdir = os.listdir(directory2)\n",
    "    \n",
    "    for z in curdir:\n",
    "        tempim1 = directory2 + \"/\" + z\n",
    "        \n",
    "        im1 = cv2.imread(tempim1)\n",
    "        \n",
    "        center = (im1.shape[0] / 2, im1.shape[1] / 2)\n",
    "        #print(center)\n",
    "        x = center[0] - width/2\n",
    "        y = center[1] - height/2\n",
    "\n",
    "        #print(x)\n",
    "        #print(y)\n",
    "        \n",
    "        #slicing to perform cropping\n",
    "        print(\"cropping \" + z + \" in dimensions (\" + str(width) + \",\" + str(height) + \")\")\n",
    "        crop_img = im1[int(y):int(y+width), int(x):int(x+height)]\n",
    "        \n",
    "        #save and replace the image\n",
    "        cv2.imwrite(tempim1, crop_img)\n",
    "        print(\"crop finish \" + z)\n",
    "\n",
    "print(\"\\nAll finished\")"
   ]
  },
  {
   "cell_type": "markdown",
   "id": "3940d0b3",
   "metadata": {},
   "source": [
    "## Concatenate two angles of egg"
   ]
  },
  {
   "cell_type": "markdown",
   "id": "f009f74d",
   "metadata": {},
   "source": [
    "two images of an egg are taken, one at its front and one at its back."
   ]
  },
  {
   "cell_type": "code",
   "execution_count": 2,
   "id": "a840cd0a",
   "metadata": {
    "scrolled": true
   },
   "outputs": [
    {
     "name": "stdout",
     "output_type": "stream",
     "text": [
      "IMG_20210903_205211.jpg and IMG_20210903_205222.jpg combined.\n",
      "IMG_20210903_205244.jpg and IMG_20210903_205254.jpg combined.\n",
      "IMG_20210903_205318.jpg and IMG_20210903_205330.jpg combined.\n",
      "IMG_20210903_205408.jpg and IMG_20210903_205417.jpg combined.\n",
      "IMG_20210903_205447.jpg and IMG_20210903_205456.jpg combined.\n",
      "IMG_20210903_205514.jpg and IMG_20210903_205522.jpg combined.\n",
      "IMG_20210903_205546.jpg and IMG_20210903_205555.jpg combined.\n",
      "IMG_20210903_205617.jpg and IMG_20210903_205629.jpg combined.\n",
      "IMG_20210903_205653.jpg and IMG_20210903_205704.jpg combined.\n",
      "IMG_20210903_205741.jpg and IMG_20210903_205750.jpg combined.\n",
      "IMG_20210903_205849.jpg and IMG_20210903_205901.jpg combined.\n",
      "IMG_20210903_205925.jpg and IMG_20210903_205934.jpg combined.\n",
      "IMG_20210903_205956.jpg and IMG_20210903_210006.jpg combined.\n",
      "IMG_20210903_210030.jpg and IMG_20210903_210037.jpg combined.\n",
      "IMG_20210903_210100.jpg and IMG_20210903_210112.jpg combined.\n",
      "IMG_20210903_210203.jpg and IMG_20210903_210211.jpg combined.\n",
      "IMG_20210903_210229.jpg and IMG_20210903_210237.jpg combined.\n",
      "IMG_20210903_210303.jpg and IMG_20210903_210316.jpg combined.\n",
      "IMG_20210903_210335.jpg and IMG_20210903_210346.jpg combined.\n",
      "IMG_20210903_210420.jpg and IMG_20210903_210428.jpg combined.\n",
      "IMG_20210903_210448.jpg and IMG_20210903_210456.jpg combined.\n",
      "IMG_20210903_210520.jpg and IMG_20210903_210528.jpg combined.\n",
      "IMG_20210903_210548.jpg and IMG_20210903_210556.jpg combined.\n",
      "IMG_20210903_210615.jpg and IMG_20210903_210622.jpg combined.\n",
      "IMG_20210903_210649.jpg and IMG_20210903_210658.jpg combined.\n",
      "IMG_20210903_210740.jpg and IMG_20210903_210748.jpg combined.\n",
      "IMG_20210903_210806.jpg and IMG_20210903_210815.jpg combined.\n",
      "IMG_20210903_210849.jpg and IMG_20210903_210857.jpg combined.\n",
      "IMG_20210903_210923.jpg and IMG_20210903_210934.jpg combined.\n",
      "IMG_20210903_210953.jpg and IMG_20210903_211002.jpg combined.\n",
      "IMG_20210903_211147.jpg and IMG_20210903_211155.jpg combined.\n",
      "IMG_20210903_211214.jpg and IMG_20210903_211224.jpg combined.\n",
      "IMG_20210903_211245.jpg and IMG_20210903_211256.jpg combined.\n",
      "IMG_20210903_211323.jpg and IMG_20210903_211332.jpg combined.\n",
      "IMG_20210903_211359.jpg and IMG_20210903_211406.jpg combined.\n",
      "IMG_20210903_211433.jpg and IMG_20210903_211443.jpg combined.\n",
      "IMG_20210903_211524.jpg and IMG_20210903_211532.jpg combined.\n",
      "IMG_20210903_211553.jpg and IMG_20210903_211602.jpg combined.\n",
      "IMG_20210903_211629.jpg and IMG_20210903_211638.jpg combined.\n",
      "IMG_20210903_211659.jpg and IMG_20210903_211709.jpg combined.\n",
      "IMG_20210903_211830.jpg and IMG_20210903_211841.jpg combined.\n",
      "IMG_20210903_211904.jpg and IMG_20210903_212005.jpg combined.\n",
      "IMG_20210903_212246.jpg and IMG_20210903_212254.jpg combined.\n",
      "IMG_20210903_212315.jpg and IMG_20210903_212321.jpg combined.\n",
      "IMG_20210903_212339.jpg and IMG_20210903_212347.jpg combined.\n",
      "IMG_20210903_212410.jpg and IMG_20210903_212421.jpg combined.\n",
      "IMG_20210903_212454.jpg and IMG_20210903_212502.jpg combined.\n",
      "IMG_20210903_212529.jpg and IMG_20210903_212537.jpg combined.\n",
      "IMG_20210903_212559.jpg and IMG_20210903_212607.jpg combined.\n",
      "IMG_20210903_212629.jpg and IMG_20210903_212637.jpg combined.\n",
      "IMG_20210903_212658.jpg and IMG_20210903_212708.jpg combined.\n",
      "IMG_20210903_212732.jpg and IMG_20210903_212740.jpg combined.\n",
      "IMG_20210904_012341.jpg and IMG_20210904_012350.jpg combined.\n",
      "IMG_20210904_012412.jpg and IMG_20210904_012420.jpg combined.\n",
      "IMG_20210904_012439.jpg and IMG_20210904_012447.jpg combined.\n",
      "IMG_20210904_012507.jpg and IMG_20210904_012516.jpg combined.\n",
      "IMG_20210904_012534.jpg and IMG_20210904_012541.jpg combined.\n",
      "IMG_20210904_012604.jpg and IMG_20210904_012614.jpg combined.\n",
      "IMG_20210904_012634.jpg and IMG_20210904_012641.jpg combined.\n",
      "IMG_20210904_012707.jpg and IMG_20210904_012714.jpg combined.\n",
      "IMG_20210904_012736.jpg and IMG_20210904_012744.jpg combined.\n",
      "IMG_20210904_012915.jpg and IMG_20210904_012926.jpg combined.\n",
      "IMG_20210904_012946.jpg and IMG_20210904_012959.jpg combined.\n",
      "IMG_20210904_013018.jpg and IMG_20210904_013029.jpg combined.\n",
      "IMG_20210904_013047.jpg and IMG_20210904_013054.jpg combined.\n",
      "IMG_20210904_013111.jpg and IMG_20210904_013119.jpg combined.\n",
      "IMG_20210904_013136.jpg and IMG_20210904_013144.jpg combined.\n",
      "IMG_20210904_013202.jpg and IMG_20210904_013208.jpg combined.\n",
      "IMG_20210904_013228.jpg and IMG_20210904_013236.jpg combined.\n",
      "IMG_20210904_013253.jpg and IMG_20210904_013300.jpg combined.\n",
      "IMG_20210904_013326.jpg and IMG_20210904_013334.jpg combined.\n",
      "IMG_20210904_013351.jpg and IMG_20210904_013359.jpg combined.\n",
      "IMG_20210904_013417.jpg and IMG_20210904_013425.jpg combined.\n",
      "IMG_20210904_013454.jpg and IMG_20210904_013503.jpg combined.\n",
      "IMG_20210904_013520.jpg and IMG_20210904_013527.jpg combined.\n",
      "IMG_20210904_013547.jpg and IMG_20210904_013555.jpg combined.\n",
      "IMG_20210904_013611.jpg and IMG_20210904_013619.jpg combined.\n",
      "IMG_20210904_013637.jpg and IMG_20210904_013644.jpg combined.\n",
      "IMG_20210904_013700.jpg and IMG_20210904_013708.jpg combined.\n",
      "IMG_20210904_013727.jpg and IMG_20210904_013735.jpg combined.\n",
      "IMG_20210904_013751.jpg and IMG_20210904_013758.jpg combined.\n",
      "IMG_20210904_013815.jpg and IMG_20210904_013822.jpg combined.\n",
      "IMG_20210904_013838.jpg and IMG_20210904_013846.jpg combined.\n",
      "IMG_20210904_013907.jpg and IMG_20210904_013915.jpg combined.\n",
      "IMG_20210904_014413.jpg and IMG_20210904_014419.jpg combined.\n",
      "IMG_20210904_014435.jpg and IMG_20210904_014442.jpg combined.\n",
      "IMG_20210904_014457.jpg and IMG_20210904_014504.jpg combined.\n",
      "IMG_20210904_014519.jpg and IMG_20210904_014526.jpg combined.\n",
      "IMG_20210904_014539.jpg and IMG_20210904_014544.jpg combined.\n",
      "IMG_20210904_014602.jpg and IMG_20210904_014607.jpg combined.\n",
      "IMG_20210904_014623.jpg and IMG_20210904_014629.jpg combined.\n",
      "IMG_20210904_014646.jpg and IMG_20210904_014652.jpg combined.\n",
      "IMG_20210904_014709.jpg and IMG_20210904_014716.jpg combined.\n",
      "IMG_20210904_014743.jpg and IMG_20210904_014750.jpg combined.\n",
      "IMG_20210904_014830.jpg and IMG_20210904_014836.jpg combined.\n",
      "IMG_20210904_014852.jpg and IMG_20210904_014926.jpg combined.\n",
      "IMG_20210904_014954.jpg and IMG_20210904_015000.jpg combined.\n",
      "IMG_20210904_015016.jpg and IMG_20210904_015022.jpg combined.\n",
      "IMG_20210904_015046.jpg and IMG_20210904_015052.jpg combined.\n",
      "IMG_20210904_015108.jpg and IMG_20210904_015115.jpg combined.\n",
      "IMG_20210904_024137.jpg and IMG_20210904_024148.jpg combined.\n",
      "IMG_20210904_024206.jpg and IMG_20210904_024214.jpg combined.\n",
      "IMG_20210904_024234.jpg and IMG_20210904_024241.jpg combined.\n",
      "IMG_20210904_024306.jpg and IMG_20210904_024313.jpg combined.\n",
      "IMG_20210904_024330.jpg and IMG_20210904_024338.jpg combined.\n",
      "IMG_20210904_024359.jpg and IMG_20210904_024405.jpg combined.\n",
      "IMG_20210904_024430.jpg and IMG_20210904_024437.jpg combined.\n",
      "IMG_20210904_024454.jpg and IMG_20210904_024501.jpg combined.\n",
      "IMG_20210904_024516.jpg and IMG_20210904_024523.jpg combined.\n",
      "IMG_20210904_024538.jpg and IMG_20210904_024546.jpg combined.\n",
      "IMG_20210904_024605.jpg and IMG_20210904_024612.jpg combined.\n",
      "IMG_20210904_024628.jpg and IMG_20210904_024635.jpg combined.\n",
      "IMG_20210904_024658.jpg and IMG_20210904_024709.jpg combined.\n",
      "IMG_20210904_024725.jpg and IMG_20210904_024732.jpg combined.\n",
      "IMG_20210904_024749.jpg and IMG_20210904_024755.jpg combined.\n",
      "IMG_20210904_024810.jpg and IMG_20210904_024816.jpg combined.\n",
      "IMG_20210904_024833.jpg and IMG_20210904_024840.jpg combined.\n",
      "IMG_20210904_024900.jpg and IMG_20210904_024908.jpg combined.\n",
      "IMG_20210904_024936.jpg and IMG_20210904_024942.jpg combined.\n",
      "IMG_20210904_025011.jpg and IMG_20210904_025019.jpg combined.\n",
      "IMG_20210904_025040.jpg and IMG_20210904_025048.jpg combined.\n",
      "IMG_20210904_025105.jpg and IMG_20210904_025112.jpg combined.\n",
      "IMG_20210904_025128.jpg and IMG_20210904_025135.jpg combined.\n",
      "IMG_20210904_025158.jpg and IMG_20210904_025205.jpg combined.\n",
      "IMG_20210904_025224.jpg and IMG_20210904_025231.jpg combined.\n",
      "IMG_20210904_025246.jpg and IMG_20210904_025253.jpg combined.\n",
      "IMG_20210904_025309.jpg and IMG_20210904_025317.jpg combined.\n",
      "IMG_20210904_025336.jpg and IMG_20210904_025344.jpg combined.\n",
      "IMG_20210904_025403.jpg and IMG_20210904_025410.jpg combined.\n",
      "IMG_20210904_025432.jpg and IMG_20210904_025441.jpg combined.\n",
      "IMG_20210904_025537.jpg and IMG_20210904_025546.jpg combined.\n",
      "IMG_20210904_025602.jpg and IMG_20210904_025610.jpg combined.\n",
      "IMG_20210904_025624.jpg and IMG_20210904_025643.jpg combined.\n"
     ]
    },
    {
     "name": "stdout",
     "output_type": "stream",
     "text": [
      "IMG_20210904_025711.jpg and IMG_20210904_025720.jpg combined.\n",
      "IMG_20210904_025736.jpg and IMG_20210904_025743.jpg combined.\n",
      "IMG_20210904_025801.jpg and IMG_20210904_025808.jpg combined.\n",
      "IMG_20210904_025828.jpg and IMG_20210904_025836.jpg combined.\n",
      "IMG_20210904_025852.jpg and IMG_20210904_025900.jpg combined.\n",
      "IMG_20210904_025914.jpg and IMG_20210904_025921.jpg combined.\n",
      "IMG_20210904_025945.jpg and IMG_20210904_025956.jpg combined.\n",
      "IMG_20210904_030018.jpg and IMG_20210904_030026.jpg combined.\n",
      "IMG_20210904_030050.jpg and IMG_20210904_030057.jpg combined.\n",
      "IMG_20210904_030113.jpg and IMG_20210904_030120.jpg combined.\n",
      "IMG_20210904_030145.jpg and IMG_20210904_030153.jpg combined.\n",
      "IMG_20210904_030210.jpg and IMG_20210904_030216.jpg combined.\n",
      "IMG_20210904_030238.jpg and IMG_20210904_030245.jpg combined.\n",
      "IMG_20210904_030301.jpg and IMG_20210904_030311.jpg combined.\n",
      "IMG_20210904_030331.jpg and IMG_20210904_030339.jpg combined.\n",
      "IMG_20210904_030403.jpg and IMG_20210904_030412.jpg combined.\n",
      "IMG_20210904_030432.jpg and IMG_20210904_030440.jpg combined.\n",
      "IMG_20210904_030507.jpg and IMG_20210904_030515.jpg combined.\n",
      "IMG_20210904_030550.jpg and IMG_20210904_030558.jpg combined.\n",
      "IMG_20210904_030624.jpg and IMG_20210904_030632.jpg combined.\n",
      "IMG_20210904_030654.jpg and IMG_20210904_030700.jpg combined.\n",
      "IMG_20210904_030725.jpg and IMG_20210904_030733.jpg combined.\n",
      "IMG_20210904_030752.jpg and IMG_20210904_030801.jpg combined.\n",
      "IMG_20210904_030818.jpg and IMG_20210904_030825.jpg combined.\n",
      "IMG_20210904_030840.jpg and IMG_20210904_030846.jpg combined.\n",
      "IMG_20210904_030903.jpg and IMG_20210904_030910.jpg combined.\n",
      "IMG_20210904_033942.jpg and IMG_20210904_033950.jpg combined.\n",
      "IMG_20210904_034005.jpg and IMG_20210904_034019.jpg combined.\n",
      "IMG_20210904_034032.jpg and IMG_20210904_034054.jpg combined.\n",
      "IMG_20210904_034140.jpg and IMG_20210904_034148.jpg combined.\n",
      "IMG_20210904_034204.jpg and IMG_20210904_034213.jpg combined.\n",
      "IMG_20210904_034231.jpg and IMG_20210904_034239.jpg combined.\n",
      "IMG_20210904_034254.jpg and IMG_20210904_034302.jpg combined.\n",
      "IMG_20210904_034323.jpg and IMG_20210904_034330.jpg combined.\n",
      "IMG_20210904_034350.jpg and IMG_20210904_034358.jpg combined.\n",
      "IMG_20210904_034415.jpg and IMG_20210904_034423.jpg combined.\n",
      "IMG_20210904_034444.jpg and IMG_20210904_034452.jpg combined.\n",
      "IMG_20210904_034515.jpg and IMG_20210904_034524.jpg combined.\n",
      "IMG_20210904_034543.jpg and IMG_20210904_034555.jpg combined.\n",
      "IMG_20210904_034613.jpg and IMG_20210904_034621.jpg combined.\n",
      "IMG_20210904_034637.jpg and IMG_20210904_034646.jpg combined.\n",
      "IMG_20210904_034706.jpg and IMG_20210904_034719.jpg combined.\n",
      "IMG_20210904_034740.jpg and IMG_20210904_034747.jpg combined.\n",
      "IMG_20210904_034805.jpg and IMG_20210904_034813.jpg combined.\n",
      "IMG_20210904_034838.jpg and IMG_20210904_034848.jpg combined.\n",
      "IMG_20210904_034909.jpg and IMG_20210904_034917.jpg combined.\n",
      "IMG_20210904_034944.jpg and IMG_20210904_034951.jpg combined.\n",
      "IMG_20210904_035009.jpg and IMG_20210904_035016.jpg combined.\n",
      "IMG_20210904_035033.jpg and IMG_20210904_035040.jpg combined.\n",
      "IMG_20210904_035058.jpg and IMG_20210904_035105.jpg combined.\n",
      "IMG_20210904_035123.jpg and IMG_20210904_035130.jpg combined.\n",
      "IMG_20210904_035149.jpg and IMG_20210904_035157.jpg combined.\n",
      "IMG_20210904_035215.jpg and IMG_20210904_035224.jpg combined.\n",
      "IMG_20210904_035244.jpg and IMG_20210904_035252.jpg combined.\n",
      "IMG_20210904_035313.jpg and IMG_20210904_035324.jpg combined.\n",
      "IMG_20210904_035342.jpg and IMG_20210904_035350.jpg combined.\n",
      "IMG_20210904_035417.jpg and IMG_20210904_035424.jpg combined.\n",
      "IMG_20210904_035541.jpg and IMG_20210904_035550.jpg combined.\n",
      "IMG_20210904_035605.jpg and IMG_20210904_035611.jpg combined.\n",
      "IMG_20210904_035627.jpg and IMG_20210904_035634.jpg combined.\n",
      "IMG_20210904_035649.jpg and IMG_20210904_035656.jpg combined.\n",
      "IMG_20210904_035709.jpg and IMG_20210904_035716.jpg combined.\n",
      "IMG_20210904_035743.jpg and IMG_20210904_035752.jpg combined.\n",
      "IMG_20210904_035809.jpg and IMG_20210904_035816.jpg combined.\n",
      "IMG_20210904_035849.jpg and IMG_20210904_035857.jpg combined.\n",
      "IMG_20210904_035915.jpg and IMG_20210904_035924.jpg combined.\n",
      "IMG_20210904_035942.jpg and IMG_20210904_035949.jpg combined.\n",
      "IMG_20210904_040005.jpg and IMG_20210904_040011.jpg combined.\n",
      "IMG_20210904_044407.jpg and IMG_20210904_044417.jpg combined.\n",
      "IMG_20210904_044443.jpg and IMG_20210904_044453.jpg combined.\n",
      "IMG_20210904_044552.jpg and IMG_20210904_044602.jpg combined.\n",
      "IMG_20210904_044631.jpg and IMG_20210904_044639.jpg combined.\n",
      "IMG_20210904_044704.jpg and IMG_20210904_044715.jpg combined.\n",
      "IMG_20210904_044736.jpg and IMG_20210904_044744.jpg combined.\n",
      "IMG_20210904_044902.jpg and IMG_20210904_044911.jpg combined.\n",
      "IMG_20210904_042920.jpg and IMG_20210904_042927.jpg combined.\n",
      "IMG_20210904_042948.jpg and IMG_20210904_042956.jpg combined.\n",
      "IMG_20210904_043013.jpg and IMG_20210904_043020.jpg combined.\n",
      "IMG_20210904_043043.jpg and IMG_20210904_043052.jpg combined.\n",
      "IMG_20210904_043111.jpg and IMG_20210904_043117.jpg combined.\n",
      "IMG_20210904_043134.jpg and IMG_20210904_043146.jpg combined.\n",
      "IMG_20210904_043201.jpg and IMG_20210904_043212.jpg combined.\n",
      "IMG_20210904_043229.jpg and IMG_20210904_043235.jpg combined.\n",
      "IMG_20210904_043257.jpg and IMG_20210904_043305.jpg combined.\n",
      "IMG_20210904_045146.jpg and IMG_20210904_045154.jpg combined.\n",
      "IMG_20210904_045231.jpg and IMG_20210904_045241.jpg combined.\n",
      "IMG_20210904_045313.jpg and IMG_20210904_045322.jpg combined.\n",
      "IMG_20210904_045431.jpg and IMG_20210904_045439.jpg combined.\n",
      "IMG_20210904_195600.jpg and IMG_20210904_195607.jpg combined.\n",
      "IMG_20210904_195626.jpg and IMG_20210904_195632.jpg combined.\n",
      "IMG_20210904_195650.jpg and IMG_20210904_195657.jpg combined.\n",
      "IMG_20210904_195718.jpg and IMG_20210904_195725.jpg combined.\n",
      "IMG_20210904_195751.jpg and IMG_20210904_195757.jpg combined.\n",
      "IMG_20210904_195815.jpg and IMG_20210904_195821.jpg combined.\n",
      "IMG_20210904_195901.jpg and IMG_20210904_195908.jpg combined.\n",
      "IMG_20210904_200034.jpg and IMG_20210904_200042.jpg combined.\n",
      "IMG_20210904_200116.jpg and IMG_20210904_200123.jpg combined.\n",
      "IMG_20210904_200152.jpg and IMG_20210904_200158.jpg combined.\n",
      "IMG_20210904_200220.jpg and IMG_20210904_200230.jpg combined.\n",
      "IMG_20210904_200256.jpg and IMG_20210904_200303.jpg combined.\n",
      "IMG_20210904_200324.jpg and IMG_20210904_200331.jpg combined.\n",
      "All finished\n",
      "\n"
     ]
    }
   ],
   "source": [
    "#\"\"\"\n",
    "tadirect = directory + \"/TwoAngleEggs\"\n",
    "\n",
    "#check if there is the right amount of images (1 for each angle of egg)\n",
    "for w in os.listdir(tadirect):\n",
    "    directory2 = \"\"\n",
    "    directory2 = tadirect + \"/\" + w\n",
    "    curdir = os.listdir(directory2)\n",
    "\n",
    "    #number of files in directory\n",
    "    filecnt = len([name for name in curdir])\n",
    "    \n",
    "    if filecnt%2 == 1:\n",
    "        print(\"ERROR (\" + w + \"): Incorrect number of images.\")\n",
    "        sys.exit()\n",
    "\n",
    "for x in os.listdir(tadirect):\n",
    "    directory2 = \"\"\n",
    "    directory2 = tadirect + \"/\" + x                            #where the two images of two angles of egg is stored\n",
    "    directory3 = directory  + \"/CombinedTwoAngleEggs/\" + x     #where to put the combined image of the angles\n",
    "    directory4 = directory  + \"/ToBeUsed/\" + x                 #where combined and data augmented of the image are stored\n",
    "    #print(directory2)\n",
    "    \n",
    "    curdir = os.listdir(directory2)\n",
    "    #print(curdir)\n",
    "    \n",
    "    #number of files in directory\n",
    "    filecnt = len([name for name in curdir])\n",
    "    \n",
    "    for y in range(filecnt):\n",
    "        if y%2 == 0:\n",
    "            #print(directory2 + \"/\" + curdir[y])\n",
    "            tempim1 = directory2 + \"/\" + curdir[y]\n",
    "            im1 = cv2.imread(tempim1)\n",
    "            #im1 = cv2.cvtColor(im1, cv2.COLOR_RGB2GRAY)\n",
    "            \n",
    "            #print(directory2 + \"/\" + curdir[y+1])\n",
    "            tempim2 = directory2 + \"/\" + curdir[y+1]\n",
    "            im2 = cv2.imread(tempim2)\n",
    "            \n",
    "            # vertically concatenates images \n",
    "            # of same width \n",
    "            \n",
    "            #resize for ResNet50\n",
    "            width = 224\n",
    "            height = 224\n",
    "\n",
    "            dim = (width,height)\n",
    "            \n",
    "            im_v = cv2.vconcat([cv2.resize(im1, dim), cv2.resize(im2, dim)])\n",
    "            #im_v = cv2.vconcat(im1,im2)\n",
    "            \n",
    "            # show the output image\n",
    "            #cv2.imshow(\"image\",im_v)\n",
    "            #save image\n",
    "            \n",
    "            #create folder to store concatenated images if not existing\n",
    "            newpath = directory3 + \"2\"\n",
    "            if not os.path.exists(newpath):\n",
    "                os.makedirs(newpath)\n",
    "            \"\"\"    \n",
    "            newpath2 = directory4 + \"3\"\n",
    "            if not os.path.exists(newpath2):\n",
    "                os.makedirs(newpath2)\n",
    "            \"\"\"\n",
    "            \n",
    "            combine_img = newpath + \"/IMG_\" + str(random.randint(0,99999999)) + \"_\" + str(random.randint(0,999999)) + \".jpg\"\n",
    "            \n",
    "            cv2.imwrite(combine_img,cv2.resize(im_v, dim))\n",
    "            #shutil.copy2(combine_img, newpath2)bv\n",
    "            \n",
    "            print(curdir[y] + \" and \" + curdir[y+1] + \" combined.\")\n",
    "\n",
    "print(\"All finished\")\n",
    "#\"\"\"\n",
    "           \n",
    "\"\"\"\n",
    "im1 = cv2.imread(\"C:/Users/user/Desktop/Dataset/Balut-penoy/IMG_20210902_081744.jpg\")\n",
    "im2 = cv2.imread(\"C:/Users/user/Desktop/Dataset/Balut-penoy/IMG_20210902_081801.jpg\")\n",
    "#im1 = cv2.cvtColor(im1, cv2.COLOR_RGB2GRAY)\n",
    "\n",
    "width = 224\n",
    "height = 224\n",
    "\n",
    "dim = (width,height)\n",
    "\n",
    "im_v = cv2.vconcat([cv2.resize(im1, dim), cv2.resize(im2, dim)])\n",
    "\n",
    "cv2.imshow(\"wew\",im_v)\n",
    "cv2.waitKey()\n",
    "\n",
    "#create a new image from the images\n",
    "#cv2.imwrite('C:/Users/user/Desktop/Dataset/Balut-penoy/Lolo3.jpg', im_v)\n",
    "\"\"\"\n",
    "\n",
    "print()"
   ]
  },
  {
   "cell_type": "markdown",
   "id": "eab583ca",
   "metadata": {},
   "source": [
    "## Put Dataset in a Dataframe"
   ]
  },
  {
   "cell_type": "markdown",
   "id": "f11561c6",
   "metadata": {},
   "source": [
    "The directory of the images are needed to be put on a dataframe together with its class (the folder where it is placed). This way, it is easier to split it to train and test set, and do transfer learning with K-fold cross validation."
   ]
  },
  {
   "cell_type": "code",
   "execution_count": 3,
   "id": "9ef7d10b",
   "metadata": {},
   "outputs": [],
   "source": [
    "combdirect = directory + \"/CombinedTwoAngleEggs\"\n",
    "\n",
    "#needed for k-fold validation later on\n",
    "image = []\n",
    "\n",
    "if not os.path.exists(combdirect):\n",
    "    print(\"Folder does not exist. Run the code above.\")\n",
    "    sys.exit()\n",
    "\n",
    "for x in os.listdir(combdirect):\n",
    "    combdirect2 = combdirect + \"/\" + x\n",
    "    for y in os.listdir(combdirect2):\n",
    "        if x == \"Balut-penoy2\":\n",
    "            lbl = \"0\"\n",
    "        elif x == \"Salted egg2\":\n",
    "            lbl = \"1\"\n",
    "        else:\n",
    "            lbl = \"2\"\n",
    "         \n",
    "        #print(combdirect2 + \"/\" + y)\n",
    "        image.append([combdirect2 + \"/\" + y,lbl])"
   ]
  },
  {
   "cell_type": "code",
   "execution_count": 4,
   "id": "f1b6f4d8",
   "metadata": {},
   "outputs": [
    {
     "data": {
      "text/html": [
       "<div>\n",
       "<style scoped>\n",
       "    .dataframe tbody tr th:only-of-type {\n",
       "        vertical-align: middle;\n",
       "    }\n",
       "\n",
       "    .dataframe tbody tr th {\n",
       "        vertical-align: top;\n",
       "    }\n",
       "\n",
       "    .dataframe thead th {\n",
       "        text-align: right;\n",
       "    }\n",
       "</style>\n",
       "<table border=\"1\" class=\"dataframe\">\n",
       "  <thead>\n",
       "    <tr style=\"text-align: right;\">\n",
       "      <th></th>\n",
       "      <th>filename</th>\n",
       "      <th>label</th>\n",
       "    </tr>\n",
       "  </thead>\n",
       "  <tbody>\n",
       "    <tr>\n",
       "      <th>0</th>\n",
       "      <td>C:/Users/user/Desktop/Dataset/CombinedTwoAngle...</td>\n",
       "      <td>0</td>\n",
       "    </tr>\n",
       "    <tr>\n",
       "      <th>1</th>\n",
       "      <td>C:/Users/user/Desktop/Dataset/CombinedTwoAngle...</td>\n",
       "      <td>0</td>\n",
       "    </tr>\n",
       "    <tr>\n",
       "      <th>2</th>\n",
       "      <td>C:/Users/user/Desktop/Dataset/CombinedTwoAngle...</td>\n",
       "      <td>0</td>\n",
       "    </tr>\n",
       "    <tr>\n",
       "      <th>3</th>\n",
       "      <td>C:/Users/user/Desktop/Dataset/CombinedTwoAngle...</td>\n",
       "      <td>0</td>\n",
       "    </tr>\n",
       "    <tr>\n",
       "      <th>4</th>\n",
       "      <td>C:/Users/user/Desktop/Dataset/CombinedTwoAngle...</td>\n",
       "      <td>0</td>\n",
       "    </tr>\n",
       "    <tr>\n",
       "      <th>...</th>\n",
       "      <td>...</td>\n",
       "      <td>...</td>\n",
       "    </tr>\n",
       "    <tr>\n",
       "      <th>229</th>\n",
       "      <td>C:/Users/user/Desktop/Dataset/CombinedTwoAngle...</td>\n",
       "      <td>2</td>\n",
       "    </tr>\n",
       "    <tr>\n",
       "      <th>230</th>\n",
       "      <td>C:/Users/user/Desktop/Dataset/CombinedTwoAngle...</td>\n",
       "      <td>2</td>\n",
       "    </tr>\n",
       "    <tr>\n",
       "      <th>231</th>\n",
       "      <td>C:/Users/user/Desktop/Dataset/CombinedTwoAngle...</td>\n",
       "      <td>2</td>\n",
       "    </tr>\n",
       "    <tr>\n",
       "      <th>232</th>\n",
       "      <td>C:/Users/user/Desktop/Dataset/CombinedTwoAngle...</td>\n",
       "      <td>2</td>\n",
       "    </tr>\n",
       "    <tr>\n",
       "      <th>233</th>\n",
       "      <td>C:/Users/user/Desktop/Dataset/CombinedTwoAngle...</td>\n",
       "      <td>2</td>\n",
       "    </tr>\n",
       "  </tbody>\n",
       "</table>\n",
       "<p>234 rows × 2 columns</p>\n",
       "</div>"
      ],
      "text/plain": [
       "                                              filename label\n",
       "0    C:/Users/user/Desktop/Dataset/CombinedTwoAngle...     0\n",
       "1    C:/Users/user/Desktop/Dataset/CombinedTwoAngle...     0\n",
       "2    C:/Users/user/Desktop/Dataset/CombinedTwoAngle...     0\n",
       "3    C:/Users/user/Desktop/Dataset/CombinedTwoAngle...     0\n",
       "4    C:/Users/user/Desktop/Dataset/CombinedTwoAngle...     0\n",
       "..                                                 ...   ...\n",
       "229  C:/Users/user/Desktop/Dataset/CombinedTwoAngle...     2\n",
       "230  C:/Users/user/Desktop/Dataset/CombinedTwoAngle...     2\n",
       "231  C:/Users/user/Desktop/Dataset/CombinedTwoAngle...     2\n",
       "232  C:/Users/user/Desktop/Dataset/CombinedTwoAngle...     2\n",
       "233  C:/Users/user/Desktop/Dataset/CombinedTwoAngle...     2\n",
       "\n",
       "[234 rows x 2 columns]"
      ]
     },
     "execution_count": 4,
     "metadata": {},
     "output_type": "execute_result"
    }
   ],
   "source": [
    "df = pd.DataFrame(image,columns=['filename','label'])\n",
    "df"
   ]
  },
  {
   "cell_type": "code",
   "execution_count": 5,
   "id": "21d5fab2",
   "metadata": {
    "scrolled": true
   },
   "outputs": [
    {
     "name": "stdout",
     "output_type": "stream",
     "text": [
      "filename    False\n",
      "label       False\n",
      "dtype: bool\n"
     ]
    }
   ],
   "source": [
    "print(df.isna().any())"
   ]
  },
  {
   "cell_type": "markdown",
   "id": "39725df9",
   "metadata": {},
   "source": [
    "## Split Data to train and test set"
   ]
  },
  {
   "cell_type": "markdown",
   "id": "743281cd",
   "metadata": {},
   "source": [
    "We will need to split the dataset to train and test set. Only the train set will be used for transfer learning with K-fold validation. Test set will be used for final evaluation of the model."
   ]
  },
  {
   "cell_type": "code",
   "execution_count": 6,
   "id": "8e213027",
   "metadata": {},
   "outputs": [],
   "source": [
    "## Split the data to train and test\n",
    "X = df[['filename']]\n",
    "y = df[['label']]\n",
    "X_train, X_test, y_train, y_test = train_test_split(X, y, test_size=0.2, stratify=y)"
   ]
  },
  {
   "cell_type": "markdown",
   "id": "39e3a446",
   "metadata": {},
   "source": [
    "Save the split sets to train and test set folders."
   ]
  },
  {
   "cell_type": "code",
   "execution_count": 7,
   "id": "5ce28a13",
   "metadata": {},
   "outputs": [
    {
     "name": "stderr",
     "output_type": "stream",
     "text": [
      "C:\\Users\\user\\anaconda3\\lib\\site-packages\\pandas\\core\\indexing.py:1637: SettingWithCopyWarning: \n",
      "A value is trying to be set on a copy of a slice from a DataFrame\n",
      "\n",
      "See the caveats in the documentation: https://pandas.pydata.org/pandas-docs/stable/user_guide/indexing.html#returning-a-view-versus-a-copy\n",
      "  self._setitem_single_block(indexer, value, name)\n",
      "C:\\Users\\user\\anaconda3\\lib\\site-packages\\pandas\\core\\indexing.py:692: SettingWithCopyWarning: \n",
      "A value is trying to be set on a copy of a slice from a DataFrame\n",
      "\n",
      "See the caveats in the documentation: https://pandas.pydata.org/pandas-docs/stable/user_guide/indexing.html#returning-a-view-versus-a-copy\n",
      "  iloc._setitem_with_indexer(indexer, value, self.name)\n"
     ]
    }
   ],
   "source": [
    "#folder to store the train and test set folders\n",
    "fortraintest = directory + \"/ToBeUsed\"\n",
    "if not os.path.exists(fortraintest):\n",
    "    os.makedirs(fortraintest)\n",
    "\n",
    "#train set folder\n",
    "tr = fortraintest + \"/train_set\"\n",
    "if not os.path.exists(tr):\n",
    "    os.makedirs(tr)\n",
    "else:\n",
    "    #remove previous folder and create new one\n",
    "    shutil.rmtree(tr)\n",
    "    os.makedirs(tr)\n",
    "    \n",
    "#test set folder\n",
    "te = fortraintest + \"/test_set\"\n",
    "if not os.path.exists(te):\n",
    "    os.makedirs(te)\n",
    "else:\n",
    "    #remove previous folder and create new one\n",
    "    shutil.rmtree(te)\n",
    "    os.makedirs(te)\n",
    "\n",
    "#copying the images to the train set folder\n",
    "for index, row in X_train.iterrows():\n",
    "    trcpy = shutil.copy2(row['filename'], tr)\n",
    "    X_train.loc[X_train['filename']==row['filename'],'filename']=trcpy #change to directory where image is copied\n",
    "    \n",
    "#copying the images to the test set folder\n",
    "for index, row in X_test.iterrows():\n",
    "    tecpy = shutil.copy2(row['filename'], te)\n",
    "    X_test.loc[X_test['filename']==row['filename'],'filename']=tecpy #change to directory where image is copied"
   ]
  },
  {
   "cell_type": "code",
   "execution_count": 8,
   "id": "66e6bb54",
   "metadata": {
    "scrolled": false
   },
   "outputs": [
    {
     "data": {
      "text/html": [
       "<div>\n",
       "<style scoped>\n",
       "    .dataframe tbody tr th:only-of-type {\n",
       "        vertical-align: middle;\n",
       "    }\n",
       "\n",
       "    .dataframe tbody tr th {\n",
       "        vertical-align: top;\n",
       "    }\n",
       "\n",
       "    .dataframe thead th {\n",
       "        text-align: right;\n",
       "    }\n",
       "</style>\n",
       "<table border=\"1\" class=\"dataframe\">\n",
       "  <thead>\n",
       "    <tr style=\"text-align: right;\">\n",
       "      <th></th>\n",
       "      <th>filename</th>\n",
       "      <th>label</th>\n",
       "    </tr>\n",
       "  </thead>\n",
       "  <tbody>\n",
       "    <tr>\n",
       "      <th>25</th>\n",
       "      <td>C:/Users/user/Desktop/Dataset/ToBeUsed/train_s...</td>\n",
       "      <td>0</td>\n",
       "    </tr>\n",
       "    <tr>\n",
       "      <th>68</th>\n",
       "      <td>C:/Users/user/Desktop/Dataset/ToBeUsed/train_s...</td>\n",
       "      <td>0</td>\n",
       "    </tr>\n",
       "    <tr>\n",
       "      <th>35</th>\n",
       "      <td>C:/Users/user/Desktop/Dataset/ToBeUsed/train_s...</td>\n",
       "      <td>0</td>\n",
       "    </tr>\n",
       "    <tr>\n",
       "      <th>104</th>\n",
       "      <td>C:/Users/user/Desktop/Dataset/ToBeUsed/train_s...</td>\n",
       "      <td>1</td>\n",
       "    </tr>\n",
       "    <tr>\n",
       "      <th>188</th>\n",
       "      <td>C:/Users/user/Desktop/Dataset/ToBeUsed/train_s...</td>\n",
       "      <td>1</td>\n",
       "    </tr>\n",
       "    <tr>\n",
       "      <th>...</th>\n",
       "      <td>...</td>\n",
       "      <td>...</td>\n",
       "    </tr>\n",
       "    <tr>\n",
       "      <th>102</th>\n",
       "      <td>C:/Users/user/Desktop/Dataset/ToBeUsed/train_s...</td>\n",
       "      <td>1</td>\n",
       "    </tr>\n",
       "    <tr>\n",
       "      <th>111</th>\n",
       "      <td>C:/Users/user/Desktop/Dataset/ToBeUsed/train_s...</td>\n",
       "      <td>1</td>\n",
       "    </tr>\n",
       "    <tr>\n",
       "      <th>70</th>\n",
       "      <td>C:/Users/user/Desktop/Dataset/ToBeUsed/train_s...</td>\n",
       "      <td>0</td>\n",
       "    </tr>\n",
       "    <tr>\n",
       "      <th>33</th>\n",
       "      <td>C:/Users/user/Desktop/Dataset/ToBeUsed/train_s...</td>\n",
       "      <td>0</td>\n",
       "    </tr>\n",
       "    <tr>\n",
       "      <th>210</th>\n",
       "      <td>C:/Users/user/Desktop/Dataset/ToBeUsed/train_s...</td>\n",
       "      <td>2</td>\n",
       "    </tr>\n",
       "  </tbody>\n",
       "</table>\n",
       "<p>187 rows × 2 columns</p>\n",
       "</div>"
      ],
      "text/plain": [
       "                                              filename label\n",
       "25   C:/Users/user/Desktop/Dataset/ToBeUsed/train_s...     0\n",
       "68   C:/Users/user/Desktop/Dataset/ToBeUsed/train_s...     0\n",
       "35   C:/Users/user/Desktop/Dataset/ToBeUsed/train_s...     0\n",
       "104  C:/Users/user/Desktop/Dataset/ToBeUsed/train_s...     1\n",
       "188  C:/Users/user/Desktop/Dataset/ToBeUsed/train_s...     1\n",
       "..                                                 ...   ...\n",
       "102  C:/Users/user/Desktop/Dataset/ToBeUsed/train_s...     1\n",
       "111  C:/Users/user/Desktop/Dataset/ToBeUsed/train_s...     1\n",
       "70   C:/Users/user/Desktop/Dataset/ToBeUsed/train_s...     0\n",
       "33   C:/Users/user/Desktop/Dataset/ToBeUsed/train_s...     0\n",
       "210  C:/Users/user/Desktop/Dataset/ToBeUsed/train_s...     2\n",
       "\n",
       "[187 rows x 2 columns]"
      ]
     },
     "execution_count": 8,
     "metadata": {},
     "output_type": "execute_result"
    }
   ],
   "source": [
    "df2 = pd.concat([X_train,y_train],axis=1)\n",
    "df2"
   ]
  },
  {
   "cell_type": "markdown",
   "id": "a2fa70c1",
   "metadata": {},
   "source": [
    "## K-fold validation on train set"
   ]
  },
  {
   "cell_type": "markdown",
   "id": "668ca0a4",
   "metadata": {},
   "source": [
    "https://medium.com/the-owl/k-fold-cross-validation-in-keras-3ec4a3a00538"
   ]
  },
  {
   "cell_type": "code",
   "execution_count": 9,
   "id": "075e8303",
   "metadata": {},
   "outputs": [],
   "source": [
    "Y = df2[['label']]\n",
    "\n",
    "kf = KFold(n_splits = 5)\n",
    "                         \n",
    "skf = StratifiedKFold(n_splits = 5, random_state = 7, shuffle = True)"
   ]
  },
  {
   "cell_type": "markdown",
   "id": "331f3dfc",
   "metadata": {},
   "source": [
    "## Data Augmentation"
   ]
  },
  {
   "cell_type": "markdown",
   "id": "ad4a5826",
   "metadata": {},
   "source": [
    "We will apply data augmentation of the dataset per epoch in order to increase the accuracy of the model"
   ]
  },
  {
   "cell_type": "code",
   "execution_count": 10,
   "id": "4f45ab56",
   "metadata": {},
   "outputs": [],
   "source": [
    "resnet50 = keras.applications.resnet50\n",
    "\n",
    "imgdatagen = ImageDataGenerator(\n",
    "        preprocessing_function = resnet50.preprocess_input,\n",
    "        horizontal_flip = True,\n",
    "        vertical_flip = True,\n",
    "    )"
   ]
  },
  {
   "cell_type": "markdown",
   "id": "82a5dd7d",
   "metadata": {},
   "source": [
    "## Create Plot History"
   ]
  },
  {
   "cell_type": "markdown",
   "id": "7ddf84bd",
   "metadata": {},
   "source": [
    "Plot history will display the training and validation accuracy, and training and validation loss in every epoch in a fold."
   ]
  },
  {
   "cell_type": "code",
   "execution_count": 12,
   "id": "2e26f5b9",
   "metadata": {},
   "outputs": [],
   "source": [
    "def plot_history(history, yrange):\n",
    "    '''Plot loss and accuracy as a function of the epoch,\n",
    "    for the training and validation datasets.\n",
    "    '''\n",
    "    acc = history.history['accuracy']\n",
    "    val_acc = history.history['val_accuracy']\n",
    "    loss = history.history['loss']\n",
    "    val_loss = history.history['val_loss']\n",
    "\n",
    "    # Get number of epochs\n",
    "    epochs = range(len(acc))\n",
    "\n",
    "    # Plot training and validation accuracy per epoch\n",
    "    plt.plot(epochs, acc)\n",
    "    plt.plot(epochs, val_acc)\n",
    "    plt.title('Training and validation accuracy')\n",
    "    plt.legend(['train_accuracy','val_accuracy'])\n",
    "    plt.ylim(yrange)\n",
    "    \n",
    "    # Plot training and validation loss per epoch\n",
    "    plt.figure()\n",
    "\n",
    "    plt.plot(epochs, loss)\n",
    "    plt.plot(epochs, val_loss)\n",
    "    plt.title('Training and validation loss')\n",
    "    plt.legend(['train_loss','val_loss'])\n",
    "    \n",
    "    plt.show() "
   ]
  },
  {
   "cell_type": "markdown",
   "id": "34bdba51",
   "metadata": {},
   "source": [
    "## Train Model"
   ]
  },
  {
   "cell_type": "markdown",
   "id": "416b036b",
   "metadata": {},
   "source": [
    "train the model with K-fold Cross Validation. Parameters can be set each and every training to get the best accuracy as possible. Data generators are needed in order to do data augmentation through the use of the ImageDataGenerator stated above."
   ]
  },
  {
   "cell_type": "code",
   "execution_count": 25,
   "id": "6e870544",
   "metadata": {
    "scrolled": true
   },
   "outputs": [
    {
     "name": "stdout",
     "output_type": "stream",
     "text": [
      "Found 149 validated image filenames belonging to 3 classes.\n",
      "Found 38 validated image filenames belonging to 3 classes.\n",
      "Fold number 1\n",
      "5/5 [==============================] - 14s 2s/step - loss: 2.6757 - accuracy: 0.4362 - val_loss: 1.4814 - val_accuracy: 0.6053\n",
      "\n",
      "Epoch 00001: val_accuracy improved from -inf to 0.60526, saving model to C:/Users/user/Desktop/saved_models2\\model_1.h5\n"
     ]
    },
    {
     "name": "stderr",
     "output_type": "stream",
     "text": [
      "C:\\Users\\user\\anaconda3\\lib\\site-packages\\keras\\utils\\generic_utils.py:494: CustomMaskWarning: Custom mask layers require a config and must override get_config. When loading, the custom mask layer must be passed to the custom_objects argument.\n",
      "  warnings.warn('Custom mask layers require a config and must override '\n"
     ]
    },
    {
     "data": {
      "image/png": "[encoded data removed]",
      "text/plain": [
       "<Figure size 432x288 with 1 Axes>"
      ]
     },
     "metadata": {
      "needs_background": "light"
     },
     "output_type": "display_data"
    },
    {
     "data": {
      "image/png": "[encoded data removed]",
      "text/plain": [
       "<Figure size 432x288 with 1 Axes>"
      ]
     },
     "metadata": {
      "needs_background": "light"
     },
     "output_type": "display_data"
    },
    {
     "name": "stdout",
     "output_type": "stream",
     "text": [
      "2/2 [==============================] - 2s 350ms/step - loss: 1.4000 - accuracy: 0.6316\n",
      "{'loss': 1.4000117778778076, 'accuracy': 0.6315789222717285}\n",
      "Found 149 validated image filenames belonging to 3 classes.\n",
      "Found 38 validated image filenames belonging to 3 classes.\n",
      "Fold number 2\n",
      "5/5 [==============================] - 14s 2s/step - loss: 1.6032 - accuracy: 0.5302 - val_loss: 0.6316 - val_accuracy: 0.7632\n",
      "\n",
      "Epoch 00001: val_accuracy improved from -inf to 0.76316, saving model to C:/Users/user/Desktop/saved_models2\\model_2.h5\n"
     ]
    },
    {
     "name": "stderr",
     "output_type": "stream",
     "text": [
      "C:\\Users\\user\\anaconda3\\lib\\site-packages\\keras\\utils\\generic_utils.py:494: CustomMaskWarning: Custom mask layers require a config and must override get_config. When loading, the custom mask layer must be passed to the custom_objects argument.\n",
      "  warnings.warn('Custom mask layers require a config and must override '\n"
     ]
    },
    {
     "data": {
      "image/png": "[encoded data removed]",
      "text/plain": [
       "<Figure size 432x288 with 1 Axes>"
      ]
     },
     "metadata": {
      "needs_background": "light"
     },
     "output_type": "display_data"
    },
    {
     "data": {
      "image/png": "[encoded data removed]",
      "text/plain": [
       "<Figure size 432x288 with 1 Axes>"
      ]
     },
     "metadata": {
      "needs_background": "light"
     },
     "output_type": "display_data"
    },
    {
     "name": "stdout",
     "output_type": "stream",
     "text": [
      "2/2 [==============================] - 3s 404ms/step - loss: 0.6695 - accuracy: 0.7368\n",
      "{'loss': 0.6695216298103333, 'accuracy': 0.7368420958518982}\n",
      "Found 150 validated image filenames belonging to 3 classes.\n",
      "Found 37 validated image filenames belonging to 3 classes.\n",
      "Fold number 3\n",
      "5/5 [==============================] - 15s 3s/step - loss: 1.7589 - accuracy: 0.5400 - val_loss: 0.7898 - val_accuracy: 0.6757\n",
      "\n",
      "Epoch 00001: val_accuracy improved from -inf to 0.67568, saving model to C:/Users/user/Desktop/saved_models2\\model_3.h5\n"
     ]
    },
    {
     "name": "stderr",
     "output_type": "stream",
     "text": [
      "C:\\Users\\user\\anaconda3\\lib\\site-packages\\keras\\utils\\generic_utils.py:494: CustomMaskWarning: Custom mask layers require a config and must override get_config. When loading, the custom mask layer must be passed to the custom_objects argument.\n",
      "  warnings.warn('Custom mask layers require a config and must override '\n"
     ]
    },
    {
     "data": {
      "image/png": "[encoded data removed]",
      "text/plain": [
       "<Figure size 432x288 with 1 Axes>"
      ]
     },
     "metadata": {
      "needs_background": "light"
     },
     "output_type": "display_data"
    },
    {
     "data": {
      "image/png": "[encoded data removed]",
      "text/plain": [
       "<Figure size 432x288 with 1 Axes>"
      ]
     },
     "metadata": {
      "needs_background": "light"
     },
     "output_type": "display_data"
    },
    {
     "name": "stdout",
     "output_type": "stream",
     "text": [
      "2/2 [==============================] - 2s 329ms/step - loss: 0.8570 - accuracy: 0.6486\n",
      "{'loss': 0.8569571375846863, 'accuracy': 0.6486486196517944}\n",
      "Found 150 validated image filenames belonging to 3 classes.\n",
      "Found 37 validated image filenames belonging to 3 classes.\n",
      "Fold number 4\n",
      "5/5 [==============================] - 14s 2s/step - loss: 1.5817 - accuracy: 0.5133 - val_loss: 0.4705 - val_accuracy: 0.8108\n",
      "\n",
      "Epoch 00001: val_accuracy improved from -inf to 0.81081, saving model to C:/Users/user/Desktop/saved_models2\\model_4.h5\n"
     ]
    },
    {
     "name": "stderr",
     "output_type": "stream",
     "text": [
      "C:\\Users\\user\\anaconda3\\lib\\site-packages\\keras\\utils\\generic_utils.py:494: CustomMaskWarning: Custom mask layers require a config and must override get_config. When loading, the custom mask layer must be passed to the custom_objects argument.\n",
      "  warnings.warn('Custom mask layers require a config and must override '\n"
     ]
    },
    {
     "data": {
      "image/png": "[encoded data removed]",
      "text/plain": [
       "<Figure size 432x288 with 1 Axes>"
      ]
     },
     "metadata": {
      "needs_background": "light"
     },
     "output_type": "display_data"
    },
    {
     "data": {
      "image/png": "[encoded data removed]",
      "text/plain": [
       "<Figure size 432x288 with 1 Axes>"
      ]
     },
     "metadata": {
      "needs_background": "light"
     },
     "output_type": "display_data"
    },
    {
     "name": "stdout",
     "output_type": "stream",
     "text": [
      "2/2 [==============================] - 2s 300ms/step - loss: 0.4694 - accuracy: 0.8378\n",
      "{'loss': 0.46938854455947876, 'accuracy': 0.837837815284729}\n",
      "Found 150 validated image filenames belonging to 3 classes.\n",
      "Found 37 validated image filenames belonging to 3 classes.\n",
      "Fold number 5\n",
      "5/5 [==============================] - 15s 3s/step - loss: 2.1436 - accuracy: 0.4667 - val_loss: 1.1728 - val_accuracy: 0.5405\n",
      "\n",
      "Epoch 00001: val_accuracy improved from -inf to 0.54054, saving model to C:/Users/user/Desktop/saved_models2\\model_5.h5\n"
     ]
    },
    {
     "name": "stderr",
     "output_type": "stream",
     "text": [
      "C:\\Users\\user\\anaconda3\\lib\\site-packages\\keras\\utils\\generic_utils.py:494: CustomMaskWarning: Custom mask layers require a config and must override get_config. When loading, the custom mask layer must be passed to the custom_objects argument.\n",
      "  warnings.warn('Custom mask layers require a config and must override '\n"
     ]
    },
    {
     "data": {
      "image/png": "[encoded data removed]",
      "text/plain": [
       "<Figure size 432x288 with 1 Axes>"
      ]
     },
     "metadata": {
      "needs_background": "light"
     },
     "output_type": "display_data"
    },
    {
     "data": {
      "image/png": "[encoded data removed]",
      "text/plain": [
       "<Figure size 432x288 with 1 Axes>"
      ]
     },
     "metadata": {
      "needs_background": "light"
     },
     "output_type": "display_data"
    },
    {
     "name": "stdout",
     "output_type": "stream",
     "text": [
      "2/2 [==============================] - 2s 298ms/step - loss: 1.1398 - accuracy: 0.5676\n",
      "{'loss': 1.1398327350616455, 'accuracy': 0.5675675868988037}\n"
     ]
    }
   ],
   "source": [
    "#initialize parameters\n",
    "VALIDATION_ACCURACY = []                          #store all validation_accuracy\n",
    "VALIDATION_LOSS = []                              #store all validation_loss\n",
    "image_dir = tr                                    #where the train set images are stored\n",
    "batch_size = 32                                   #batch size\n",
    "fold_var = 1                                      #number of fold of the model to be called back\n",
    "n = len(df2)                                      #number of data in train set\n",
    "num_epochs = 1                                    #number of epochs\n",
    "dim = (224,224)                                   #required dimensions for process_unit (ResNet50)\n",
    "\n",
    "\n",
    "#===========if exist, create new one for another set of models with new parameters======================\n",
    "\n",
    "#directory where models per set parameters are stored\n",
    "gen_dir = \"C:/Users/user/Desktop\"\n",
    "\n",
    "save_cur = \"\"  #check if there is any saved_models folders\n",
    "\n",
    "for x in os.listdir(gen_dir):\n",
    "    if \"saved_models\" in x:\n",
    "        #print(x)\n",
    "        save_cur = x\n",
    "\n",
    "#save_dir is where the created models using the current set of parameters are added        \n",
    "        \n",
    "if save_cur == \"\":\n",
    "    save_dir = gen_dir + \"/saved_models1\"\n",
    "    #print(save_dir)\n",
    "    os.makedirs(save_dir)\n",
    "else:\n",
    "    save_dir = gen_dir + \"/saved_models\" + str(int(save_cur[-1]) + 1)\n",
    "    #print(save_dir)\n",
    "    os.makedirs(save_dir)\n",
    "\n",
    "#=========================================================================================================    \n",
    "    \n",
    "for train_index, val_index in kf.split(np.zeros(n),Y):\n",
    "    #print(train_index)\n",
    "    #print(val_index)\n",
    "    training_data = df2.iloc[train_index]\n",
    "    validation_data = df2.iloc[val_index]\n",
    "\n",
    "    train_data_generator = imgdatagen.flow_from_dataframe(training_data, directory = image_dir,\n",
    "                               x_col = \"filename\", y_col = \"label\",\n",
    "                              class_mode = \"categorical\", target_size = dim, batch_size = batch_size,\n",
    "                                shuffle = True)\n",
    "    valid_data_generator  = imgdatagen.flow_from_dataframe(validation_data, directory = image_dir,\n",
    "                            x_col = \"filename\", y_col = \"label\",\n",
    "                            class_mode = \"categorical\", target_size = dim, batch_size = batch_size,\n",
    "                                shuffle = True)\n",
    "\n",
    "    # CREATE NEW MODEL\n",
    "    conv_model = resnet50.ResNet50(weights='imagenet', include_top=False, input_shape=(224,224,3))\n",
    "    for layer in conv_model.layers:\n",
    "        layer.trainable = False\n",
    "    x = keras.layers.Flatten()(conv_model.output)\n",
    "    x = keras.layers.Dense(100, activation='relu')(x)\n",
    "    x = keras.layers.Dense(100, activation='relu')(x)\n",
    "    #x = keras.layers.Dense(100, activation='relu')(x)\n",
    "\n",
    "    x = keras.layers.Dropout(0.2)(x) #to further reduce overfitting\n",
    "\n",
    "    predictions = keras.layers.Dense(3, activation='softmax')(x)\n",
    "    full_model = keras.models.Model(inputs=conv_model.input, outputs=predictions)\n",
    "    \n",
    "    # COMPILE NEW MODEL\n",
    "    full_model.compile(loss='categorical_crossentropy',\n",
    "                  optimizer=keras.optimizers.Adamax(learning_rate=0.0001),\n",
    "                  metrics=['accuracy']) #categorical_crossentropy cause it is more than 2 classes\n",
    "\n",
    "    # CREATE CALLBACKS\n",
    "    checkpoint = tf.keras.callbacks.ModelCheckpoint((save_dir+\"/\"+ \"model_\" + str(fold_var) + \".h5\"), \n",
    "                            monitor='val_accuracy', verbose=1, \n",
    "                            save_best_only=True, mode='max')\n",
    "    callbacks_list = [checkpoint]\n",
    "    # There can be other callbacks, but just showing one because it involves the model name\n",
    "    # This saves the best model\n",
    "   \n",
    "    print(\"Fold number \" + str(fold_var))\n",
    "\n",
    "    # FIT THE MODEL\n",
    "    history = full_model.fit(train_data_generator,\n",
    "                             epochs=num_epochs,\n",
    "                             callbacks=callbacks_list,\n",
    "                             validation_data=valid_data_generator)\n",
    "    \n",
    "    #PLOT HISTORY\n",
    "    plot_history(history, yrange=(0.9,1))\n",
    "\n",
    "    # LOAD BEST MODEL to evaluate the performance of the model\n",
    "    full_model.load_weights(save_dir+\"/model_\"+str(fold_var)+\".h5\")\n",
    "    \n",
    "    results = full_model.evaluate(valid_data_generator)\n",
    "    results = dict(zip(full_model.metrics_names,results))\n",
    "    \n",
    "    print(results)\n",
    "    \n",
    "    VALIDATION_ACCURACY.append(results['accuracy'])\n",
    "    VALIDATION_LOSS.append(results['loss'])\n",
    "\n",
    "    tf.keras.backend.clear_session()\n",
    "\n",
    "    fold_var += 1    "
   ]
  },
  {
   "cell_type": "code",
   "execution_count": null,
   "id": "a03456cc",
   "metadata": {},
   "outputs": [],
   "source": [
    "print(\"Validation Accuracy of All Folds:\")\n",
    "print(VALIDATION_ACCURACY)\n",
    "print(\"Validation Loss of All Folds:\")\n",
    "print(VALIDATION_LOSS)"
   ]
  }
 ],
 "metadata": {
  "jupytext": {
   "formats": "ipynb,py"
  },
  "kernelspec": {
   "display_name": "Python 3 (ipykernel)",
   "language": "python",
   "name": "python3"
  },
  "language_info": {
   "codemirror_mode": {
    "name": "ipython",
    "version": 3
   },
   "file_extension": ".py",
   "mimetype": "text/x-python",
   "name": "python",
   "nbconvert_exporter": "python",
   "pygments_lexer": "ipython3",
   "version": "3.8.11"
  }
 },
 "nbformat": 4,
 "nbformat_minor": 5
}
