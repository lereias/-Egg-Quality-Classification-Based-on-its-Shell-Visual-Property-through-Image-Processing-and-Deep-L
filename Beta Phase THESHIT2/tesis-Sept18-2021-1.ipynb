{
 "cells": [
  {
   "cell_type": "markdown",
   "id": "4d37d7c1",
   "metadata": {},
   "source": [
    "# Egg Quality Classification Based on its Shell Visual Property through Image Processing and Deep Learning\n"
   ]
  },
  {
   "cell_type": "markdown",
   "id": "3bab25e6",
   "metadata": {},
   "source": [
    "Group CGM: <br>\n",
    "\n",
    "Caguioa, JV Bryan <br>\n",
    "Guinto, Ryhle Nodnyhlson <br>\n",
    "Mesias, Lee Reuben"
   ]
  },
  {
   "cell_type": "markdown",
   "id": "976e157b",
   "metadata": {},
   "source": [
    "# References"
   ]
  },
  {
   "cell_type": "markdown",
   "id": "86ed03b6",
   "metadata": {},
   "source": [
    "https://thedatafrog.com/en/articles/image-recognition-transfer-learning/ <br>\n",
    "https://medium.com/the-owl/k-fold-cross-validation-in-keras-3ec4a3a00538"
   ]
  },
  {
   "cell_type": "markdown",
   "id": "d6c29596",
   "metadata": {},
   "source": [
    "## Imports"
   ]
  },
  {
   "cell_type": "code",
   "execution_count": 1,
   "id": "caf98030",
   "metadata": {
    "ExecuteTime": {
     "end_time": "2021-09-18T06:14:05.790927Z",
     "start_time": "2021-09-18T06:14:02.551328Z"
    }
   },
   "outputs": [],
   "source": [
    "# for image name\n",
    "import random\n",
    "\n",
    "# define and move to dataset and model directory\n",
    "import os\n",
    "# the directory where the data is stored\n",
    "directory = \"C:/Users/user/Desktop/Dataset\"\n",
    "#directory where set of models per training are stored\n",
    "gen_dir = \"C:/Users/user/Desktop/Model\"\n",
    "\n",
    "# duplicate combined image to other directory and delete directory with its content\n",
    "import shutil\n",
    "\n",
    "#for stopping code if not the right amount of images\n",
    "import sys\n",
    "\n",
    "#histograph/confusion matrix\n",
    "import matplotlib.pyplot as plt\n",
    "import seaborn as sn\n",
    "\n",
    "#model creation\n",
    "import tensorflow.keras as keras\n",
    "\n",
    "import numpy as np\n",
    "\n",
    "# data augmentation\n",
    "from tensorflow.keras.preprocessing.image import ImageDataGenerator\n",
    "\n",
    "#k-fold cross validation\n",
    "import pandas as pd                                     #store all images and their class/label\n",
    "from sklearn.model_selection import StratifiedKFold     \n",
    "from sklearn.model_selection import KFold\n",
    "from sklearn.model_selection import train_test_split    #split the dataset to train-test\n",
    "import tensorflow as tf                                 #for callbacks\n",
    "\n",
    "#for model evaluation\n",
    "from tensorflow.keras.preprocessing import image as im                   #load image\n",
    "from tensorflow.keras.applications.resnet50 import preprocess_input      #preprocess image\n",
    "from sklearn.metrics import accuracy_score\n",
    "from sklearn.metrics import precision_score\n",
    "from sklearn.metrics import recall_score\n",
    "from sklearn.metrics import f1_score\n",
    "from sklearn.metrics import cohen_kappa_score\n",
    "#from sklearn.metrics import roc_auc_score\n",
    "from sklearn.metrics import confusion_matrix\n",
    "from sklearn.metrics import plot_confusion_matrix"
   ]
  },
  {
   "cell_type": "markdown",
   "id": "eab583ca",
   "metadata": {},
   "source": [
    "## Put Dataset in a Dataframe"
   ]
  },
  {
   "cell_type": "markdown",
   "id": "f11561c6",
   "metadata": {},
   "source": [
    "The directory of the images are put in a dataframe in order to prepare for splitting the dataset into train and test set."
   ]
  },
  {
   "cell_type": "code",
   "execution_count": 2,
   "id": "9ef7d10b",
   "metadata": {
    "ExecuteTime": {
     "end_time": "2021-09-18T06:14:05.836501Z",
     "start_time": "2021-09-18T06:14:05.822954Z"
    }
   },
   "outputs": [],
   "source": [
    "combdirect = directory + \"/CombinedTwoAngleEggs\"\n",
    "\n",
    "image = []\n",
    "\n",
    "if not os.path.exists(combdirect):\n",
    "    print(\"Folder does not exist. Run the code above.\")\n",
    "    sys.exit()\n",
    "\n",
    "for x in os.listdir(combdirect):\n",
    "    combdirect2 = combdirect + \"/\" + x\n",
    "    for y in os.listdir(combdirect2):\n",
    "        if x == \"Balut-penoy2\":\n",
    "            lbl = \"0\"\n",
    "        elif x == \"Salted egg2\":\n",
    "            lbl = \"1\"\n",
    "        else:\n",
    "            lbl = \"2\"\n",
    "                 \n",
    "        #append to image array\n",
    "        image.append([combdirect2 + \"/\" + y,lbl])"
   ]
  },
  {
   "cell_type": "code",
   "execution_count": 3,
   "id": "f1b6f4d8",
   "metadata": {
    "ExecuteTime": {
     "end_time": "2021-09-18T06:14:05.899323Z",
     "start_time": "2021-09-18T06:14:05.870364Z"
    },
    "scrolled": true
   },
   "outputs": [
    {
     "data": {
      "text/html": [
       "<div>\n",
       "<style scoped>\n",
       "    .dataframe tbody tr th:only-of-type {\n",
       "        vertical-align: middle;\n",
       "    }\n",
       "\n",
       "    .dataframe tbody tr th {\n",
       "        vertical-align: top;\n",
       "    }\n",
       "\n",
       "    .dataframe thead th {\n",
       "        text-align: right;\n",
       "    }\n",
       "</style>\n",
       "<table border=\"1\" class=\"dataframe\">\n",
       "  <thead>\n",
       "    <tr style=\"text-align: right;\">\n",
       "      <th></th>\n",
       "      <th>filename</th>\n",
       "      <th>label</th>\n",
       "    </tr>\n",
       "  </thead>\n",
       "  <tbody>\n",
       "    <tr>\n",
       "      <th>0</th>\n",
       "      <td>C:/Users/user/Desktop/Dataset/CombinedTwoAngle...</td>\n",
       "      <td>0</td>\n",
       "    </tr>\n",
       "    <tr>\n",
       "      <th>1</th>\n",
       "      <td>C:/Users/user/Desktop/Dataset/CombinedTwoAngle...</td>\n",
       "      <td>0</td>\n",
       "    </tr>\n",
       "    <tr>\n",
       "      <th>2</th>\n",
       "      <td>C:/Users/user/Desktop/Dataset/CombinedTwoAngle...</td>\n",
       "      <td>0</td>\n",
       "    </tr>\n",
       "    <tr>\n",
       "      <th>3</th>\n",
       "      <td>C:/Users/user/Desktop/Dataset/CombinedTwoAngle...</td>\n",
       "      <td>0</td>\n",
       "    </tr>\n",
       "    <tr>\n",
       "      <th>4</th>\n",
       "      <td>C:/Users/user/Desktop/Dataset/CombinedTwoAngle...</td>\n",
       "      <td>0</td>\n",
       "    </tr>\n",
       "    <tr>\n",
       "      <th>...</th>\n",
       "      <td>...</td>\n",
       "      <td>...</td>\n",
       "    </tr>\n",
       "    <tr>\n",
       "      <th>295</th>\n",
       "      <td>C:/Users/user/Desktop/Dataset/CombinedTwoAngle...</td>\n",
       "      <td>2</td>\n",
       "    </tr>\n",
       "    <tr>\n",
       "      <th>296</th>\n",
       "      <td>C:/Users/user/Desktop/Dataset/CombinedTwoAngle...</td>\n",
       "      <td>2</td>\n",
       "    </tr>\n",
       "    <tr>\n",
       "      <th>297</th>\n",
       "      <td>C:/Users/user/Desktop/Dataset/CombinedTwoAngle...</td>\n",
       "      <td>2</td>\n",
       "    </tr>\n",
       "    <tr>\n",
       "      <th>298</th>\n",
       "      <td>C:/Users/user/Desktop/Dataset/CombinedTwoAngle...</td>\n",
       "      <td>2</td>\n",
       "    </tr>\n",
       "    <tr>\n",
       "      <th>299</th>\n",
       "      <td>C:/Users/user/Desktop/Dataset/CombinedTwoAngle...</td>\n",
       "      <td>2</td>\n",
       "    </tr>\n",
       "  </tbody>\n",
       "</table>\n",
       "<p>300 rows × 2 columns</p>\n",
       "</div>"
      ],
      "text/plain": [
       "                                              filename label\n",
       "0    C:/Users/user/Desktop/Dataset/CombinedTwoAngle...     0\n",
       "1    C:/Users/user/Desktop/Dataset/CombinedTwoAngle...     0\n",
       "2    C:/Users/user/Desktop/Dataset/CombinedTwoAngle...     0\n",
       "3    C:/Users/user/Desktop/Dataset/CombinedTwoAngle...     0\n",
       "4    C:/Users/user/Desktop/Dataset/CombinedTwoAngle...     0\n",
       "..                                                 ...   ...\n",
       "295  C:/Users/user/Desktop/Dataset/CombinedTwoAngle...     2\n",
       "296  C:/Users/user/Desktop/Dataset/CombinedTwoAngle...     2\n",
       "297  C:/Users/user/Desktop/Dataset/CombinedTwoAngle...     2\n",
       "298  C:/Users/user/Desktop/Dataset/CombinedTwoAngle...     2\n",
       "299  C:/Users/user/Desktop/Dataset/CombinedTwoAngle...     2\n",
       "\n",
       "[300 rows x 2 columns]"
      ]
     },
     "execution_count": 3,
     "metadata": {},
     "output_type": "execute_result"
    }
   ],
   "source": [
    "df = pd.DataFrame(image,columns=['filename','label'])\n",
    "df"
   ]
  },
  {
   "cell_type": "code",
   "execution_count": 4,
   "id": "0af77893",
   "metadata": {
    "ExecuteTime": {
     "end_time": "2021-09-18T06:14:14.512497Z",
     "start_time": "2021-09-18T06:14:14.507543Z"
    }
   },
   "outputs": [
    {
     "name": "stdout",
     "output_type": "stream",
     "text": [
      "['0' '1' '2']\n"
     ]
    }
   ],
   "source": [
    "print(df['label'].unique())"
   ]
  },
  {
   "cell_type": "code",
   "execution_count": 5,
   "id": "21d5fab2",
   "metadata": {
    "ExecuteTime": {
     "end_time": "2021-09-18T06:14:14.760786Z",
     "start_time": "2021-09-18T06:14:14.749816Z"
    },
    "scrolled": true
   },
   "outputs": [
    {
     "name": "stdout",
     "output_type": "stream",
     "text": [
      "filename    False\n",
      "label       False\n",
      "dtype: bool\n"
     ]
    }
   ],
   "source": [
    "print(df.isna().any())"
   ]
  },
  {
   "cell_type": "markdown",
   "id": "d45903ac",
   "metadata": {},
   "source": [
    "## Split Data to train and test set"
   ]
  },
  {
   "cell_type": "markdown",
   "id": "22b4c490",
   "metadata": {},
   "source": [
    "We will need to split the dataset to train and test set. Only the train set will be used for transfer learning with K-fold validation. Test set will be used for model prediction and use that for model evaluation. Stratify is used in order to split the data in equal numbers under the classes specified."
   ]
  },
  {
   "cell_type": "code",
   "execution_count": 6,
   "id": "1d1d3e41",
   "metadata": {
    "ExecuteTime": {
     "end_time": "2021-09-18T06:14:18.722170Z",
     "start_time": "2021-09-18T06:14:18.713314Z"
    }
   },
   "outputs": [],
   "source": [
    "## Split the data to train and test\n",
    "X = df[['filename']]\n",
    "y = df[['label']]\n",
    "X_train, X_test, y_train, y_test = train_test_split(X, y, test_size=0.2, stratify=y, random_state=42)"
   ]
  },
  {
   "cell_type": "markdown",
   "id": "283bbdd6",
   "metadata": {},
   "source": [
    "Save the split sets to train and test set folders."
   ]
  },
  {
   "cell_type": "code",
   "execution_count": 7,
   "id": "2aad4898",
   "metadata": {
    "ExecuteTime": {
     "end_time": "2021-09-18T06:14:25.523719Z",
     "start_time": "2021-09-18T06:14:25.135581Z"
    },
    "scrolled": true
   },
   "outputs": [
    {
     "name": "stderr",
     "output_type": "stream",
     "text": [
      "C:\\Users\\user\\anaconda3\\envs\\tensorflow25\\lib\\site-packages\\pandas\\core\\indexing.py:1732: SettingWithCopyWarning: \n",
      "A value is trying to be set on a copy of a slice from a DataFrame\n",
      "\n",
      "See the caveats in the documentation: https://pandas.pydata.org/pandas-docs/stable/user_guide/indexing.html#returning-a-view-versus-a-copy\n",
      "  self._setitem_single_block(indexer, value, name)\n",
      "C:\\Users\\user\\anaconda3\\envs\\tensorflow25\\lib\\site-packages\\pandas\\core\\indexing.py:723: SettingWithCopyWarning: \n",
      "A value is trying to be set on a copy of a slice from a DataFrame\n",
      "\n",
      "See the caveats in the documentation: https://pandas.pydata.org/pandas-docs/stable/user_guide/indexing.html#returning-a-view-versus-a-copy\n",
      "  iloc._setitem_with_indexer(indexer, value, self.name)\n"
     ]
    }
   ],
   "source": [
    "#folder to store the train and test set folders\n",
    "fortraintest = directory + \"/ToBeUsed\"\n",
    "if not os.path.exists(fortraintest):\n",
    "    os.makedirs(fortraintest)\n",
    "\n",
    "#train set folder\n",
    "tr = fortraintest + \"/train_set\"\n",
    "if not os.path.exists(tr):\n",
    "    os.makedirs(tr)\n",
    "else:\n",
    "    #remove previous folder and create new one\n",
    "    shutil.rmtree(tr)\n",
    "    os.makedirs(tr)\n",
    "    \n",
    "#test set folder\n",
    "te = fortraintest + \"/test_set\"\n",
    "if not os.path.exists(te):\n",
    "    os.makedirs(te)\n",
    "else:\n",
    "    #remove previous folder and create new one\n",
    "    shutil.rmtree(te)\n",
    "    os.makedirs(te)\n",
    "\n",
    "#copying the images to the train set folder\n",
    "for index, row in X_train.iterrows():\n",
    "    trcpy = shutil.copy2(row['filename'], tr)\n",
    "    X_train.loc[X_train['filename']==row['filename'],'filename']=trcpy #change to directory where image is copied\n",
    "    \n",
    "#copying the images to the test set folder\n",
    "for index, row in X_test.iterrows():\n",
    "    tecpy = shutil.copy2(row['filename'], te)\n",
    "    X_test.loc[X_test['filename']==row['filename'],'filename']=tecpy #change to directory where image is copiedb"
   ]
  },
  {
   "cell_type": "code",
   "execution_count": 8,
   "id": "5c2d7592",
   "metadata": {
    "ExecuteTime": {
     "end_time": "2021-09-18T06:14:34.497031Z",
     "start_time": "2021-09-18T06:14:34.476088Z"
    },
    "scrolled": true
   },
   "outputs": [
    {
     "data": {
      "text/html": [
       "<div>\n",
       "<style scoped>\n",
       "    .dataframe tbody tr th:only-of-type {\n",
       "        vertical-align: middle;\n",
       "    }\n",
       "\n",
       "    .dataframe tbody tr th {\n",
       "        vertical-align: top;\n",
       "    }\n",
       "\n",
       "    .dataframe thead th {\n",
       "        text-align: right;\n",
       "    }\n",
       "</style>\n",
       "<table border=\"1\" class=\"dataframe\">\n",
       "  <thead>\n",
       "    <tr style=\"text-align: right;\">\n",
       "      <th></th>\n",
       "      <th>filename</th>\n",
       "      <th>label</th>\n",
       "    </tr>\n",
       "  </thead>\n",
       "  <tbody>\n",
       "    <tr>\n",
       "      <th>41</th>\n",
       "      <td>C:/Users/user/Desktop/Dataset/ToBeUsed/train_s...</td>\n",
       "      <td>0</td>\n",
       "    </tr>\n",
       "    <tr>\n",
       "      <th>165</th>\n",
       "      <td>C:/Users/user/Desktop/Dataset/ToBeUsed/train_s...</td>\n",
       "      <td>1</td>\n",
       "    </tr>\n",
       "    <tr>\n",
       "      <th>246</th>\n",
       "      <td>C:/Users/user/Desktop/Dataset/ToBeUsed/train_s...</td>\n",
       "      <td>2</td>\n",
       "    </tr>\n",
       "    <tr>\n",
       "      <th>179</th>\n",
       "      <td>C:/Users/user/Desktop/Dataset/ToBeUsed/train_s...</td>\n",
       "      <td>1</td>\n",
       "    </tr>\n",
       "    <tr>\n",
       "      <th>192</th>\n",
       "      <td>C:/Users/user/Desktop/Dataset/ToBeUsed/train_s...</td>\n",
       "      <td>1</td>\n",
       "    </tr>\n",
       "    <tr>\n",
       "      <th>...</th>\n",
       "      <td>...</td>\n",
       "      <td>...</td>\n",
       "    </tr>\n",
       "    <tr>\n",
       "      <th>163</th>\n",
       "      <td>C:/Users/user/Desktop/Dataset/ToBeUsed/train_s...</td>\n",
       "      <td>1</td>\n",
       "    </tr>\n",
       "    <tr>\n",
       "      <th>222</th>\n",
       "      <td>C:/Users/user/Desktop/Dataset/ToBeUsed/train_s...</td>\n",
       "      <td>2</td>\n",
       "    </tr>\n",
       "    <tr>\n",
       "      <th>157</th>\n",
       "      <td>C:/Users/user/Desktop/Dataset/ToBeUsed/train_s...</td>\n",
       "      <td>1</td>\n",
       "    </tr>\n",
       "    <tr>\n",
       "      <th>203</th>\n",
       "      <td>C:/Users/user/Desktop/Dataset/ToBeUsed/train_s...</td>\n",
       "      <td>2</td>\n",
       "    </tr>\n",
       "    <tr>\n",
       "      <th>211</th>\n",
       "      <td>C:/Users/user/Desktop/Dataset/ToBeUsed/train_s...</td>\n",
       "      <td>2</td>\n",
       "    </tr>\n",
       "  </tbody>\n",
       "</table>\n",
       "<p>240 rows × 2 columns</p>\n",
       "</div>"
      ],
      "text/plain": [
       "                                              filename label\n",
       "41   C:/Users/user/Desktop/Dataset/ToBeUsed/train_s...     0\n",
       "165  C:/Users/user/Desktop/Dataset/ToBeUsed/train_s...     1\n",
       "246  C:/Users/user/Desktop/Dataset/ToBeUsed/train_s...     2\n",
       "179  C:/Users/user/Desktop/Dataset/ToBeUsed/train_s...     1\n",
       "192  C:/Users/user/Desktop/Dataset/ToBeUsed/train_s...     1\n",
       "..                                                 ...   ...\n",
       "163  C:/Users/user/Desktop/Dataset/ToBeUsed/train_s...     1\n",
       "222  C:/Users/user/Desktop/Dataset/ToBeUsed/train_s...     2\n",
       "157  C:/Users/user/Desktop/Dataset/ToBeUsed/train_s...     1\n",
       "203  C:/Users/user/Desktop/Dataset/ToBeUsed/train_s...     2\n",
       "211  C:/Users/user/Desktop/Dataset/ToBeUsed/train_s...     2\n",
       "\n",
       "[240 rows x 2 columns]"
      ]
     },
     "execution_count": 8,
     "metadata": {},
     "output_type": "execute_result"
    }
   ],
   "source": [
    "df2 = pd.concat([X_train,y_train],axis=1)\n",
    "df2"
   ]
  },
  {
   "cell_type": "markdown",
   "id": "bb10fede",
   "metadata": {},
   "source": [
    "## Data Augmentation"
   ]
  },
  {
   "cell_type": "markdown",
   "id": "ad4a5826",
   "metadata": {},
   "source": [
    "We will apply data augmentation of the dataset per epoch in order to increase the accuracy of the models"
   ]
  },
  {
   "cell_type": "code",
   "execution_count": 9,
   "id": "4f45ab56",
   "metadata": {
    "ExecuteTime": {
     "end_time": "2021-09-18T06:15:01.438839Z",
     "start_time": "2021-09-18T06:15:01.430849Z"
    }
   },
   "outputs": [],
   "source": [
    "resnet50 = keras.applications.resnet50\n",
    "\n",
    "imgdatagen = ImageDataGenerator(\n",
    "        preprocessing_function = resnet50.preprocess_input,\n",
    "        horizontal_flip = True,\n",
    "        vertical_flip = True,\n",
    "    )"
   ]
  },
  {
   "cell_type": "markdown",
   "id": "82a5dd7d",
   "metadata": {},
   "source": [
    "## Create Plot History"
   ]
  },
  {
   "cell_type": "markdown",
   "id": "7ddf84bd",
   "metadata": {},
   "source": [
    "Plot history will display the training and validation accuracy, and training and validation loss in every epoch in a fold."
   ]
  },
  {
   "cell_type": "code",
   "execution_count": 10,
   "id": "2e26f5b9",
   "metadata": {
    "ExecuteTime": {
     "end_time": "2021-09-18T06:15:03.002347Z",
     "start_time": "2021-09-18T06:15:02.985390Z"
    }
   },
   "outputs": [],
   "source": [
    "def plot_history(history, yrange):\n",
    "    '''Plot loss and accuracy as a function of the epoch,\n",
    "    for the training and validation datasets.\n",
    "    '''\n",
    "    acc = history.history['accuracy']\n",
    "    val_acc = history.history['val_accuracy']\n",
    "    loss = history.history['loss']\n",
    "    val_loss = history.history['val_loss']\n",
    "\n",
    "    # Get number of epochs\n",
    "    epochs = range(len(acc))\n",
    "\n",
    "    # Plot training and validation accuracy per epoch\n",
    "    plt.plot(epochs, acc)\n",
    "    plt.plot(epochs, val_acc)\n",
    "    plt.title('Training and validation accuracy')\n",
    "    plt.legend(['train_accuracy','val_accuracy'])\n",
    "    plt.ylim(yrange)\n",
    "    \n",
    "    # Plot training and validation loss per epoch\n",
    "    plt.figure()\n",
    "\n",
    "    plt.plot(epochs, loss)\n",
    "    plt.plot(epochs, val_loss)\n",
    "    plt.title('Training and validation loss')\n",
    "    plt.legend(['train_loss','val_loss'])\n",
    "    \n",
    "    plt.show() "
   ]
  },
  {
   "cell_type": "markdown",
   "id": "5ca04f34",
   "metadata": {},
   "source": [
    "## Save Models"
   ]
  },
  {
   "cell_type": "markdown",
   "id": "d2e38fce",
   "metadata": {},
   "source": [
    "K-fold cross validation will be used in training the model.The set of models produced per fold will be saved in an automatic generated folder. Every training will generated another folder to save the new set of models."
   ]
  },
  {
   "cell_type": "code",
   "execution_count": 11,
   "id": "5339dd2c",
   "metadata": {
    "ExecuteTime": {
     "end_time": "2021-09-18T06:15:06.617328Z",
     "start_time": "2021-09-18T06:15:06.606351Z"
    }
   },
   "outputs": [],
   "source": [
    "save_cur = \"\"  #check if there is any saved_models folders\n",
    "\n",
    "svnum = 0\n",
    "svnum2 = 0\n",
    "\n",
    "for x in os.listdir(gen_dir):\n",
    "    if \"saved_models\" in x:\n",
    "        save_cur = x\n",
    "        if not save_cur == \"\":\n",
    "            for word in save_cur.split(\"_\"):\n",
    "                if word.isdigit():\n",
    "                    svnum2 = int(word)\n",
    "                    if svnum < svnum2:\n",
    "                        svnum = svnum2\n",
    "            \n",
    "\n",
    "#save_dir is where the created models using the current set of parameters are added        \n",
    "if save_cur == \"\":\n",
    "    save_dir = gen_dir + \"/saved_models_1\"\n",
    "    #print(save_dir)\n",
    "    os.makedirs(save_dir)\n",
    "else:\n",
    "    save_dir = gen_dir + \"/saved_models_\" + str(svnum + 1)\n",
    "    #print(save_dir)\n",
    "    os.makedirs(save_dir)"
   ]
  },
  {
   "cell_type": "markdown",
   "id": "be1a7c1e",
   "metadata": {},
   "source": [
    "## Model Parameters"
   ]
  },
  {
   "cell_type": "markdown",
   "id": "5d6e6a39",
   "metadata": {},
   "source": [
    "We will initialize the model parameters here so that it is easier to change when training multiple times to get the ideal results."
   ]
  },
  {
   "cell_type": "code",
   "execution_count": 12,
   "id": "6211bc9e",
   "metadata": {
    "ExecuteTime": {
     "end_time": "2021-09-18T06:15:51.062736Z",
     "start_time": "2021-09-18T06:15:51.056750Z"
    }
   },
   "outputs": [],
   "source": [
    "#kfold parameters\n",
    "Y = df2[['label']]\n",
    "kf = KFold(n_splits = 5, random_state = 42, shuffle = True)\n",
    "\n",
    "#print(Y['label'].value_counts())\n",
    "#print(Y['label'].unique())\n",
    "\n",
    "#initialize parameters\n",
    "VALIDATION_ACCURACY = []                          #store all validation_accuracy\n",
    "VALIDATION_LOSS = []                              #store all validation_loss\n",
    "image_dir = directory + \"/ToBeUsed/train_set\"     #where the train set images are stored\n",
    "batch_size = 32                                   #batch size\n",
    "fold_var = 1                                      #number of fold of the model\n",
    "n = len(df2)                                      #number of data in train set\n",
    "num_epochs = 1                                    #number of epochs\n",
    "dim = (224,224)                                   #required dimensions for process_unit (ResNet50)\n",
    "lr = 0.00001                                      #learning rate Adamax"
   ]
  },
  {
   "cell_type": "markdown",
   "id": "989e6754",
   "metadata": {},
   "source": [
    "## Model Creation"
   ]
  },
  {
   "cell_type": "markdown",
   "id": "362d8a8f",
   "metadata": {},
   "source": [
    "The model will be based on ResNet50 Architecture. The classifier block will be changed to suit to our dataset."
   ]
  },
  {
   "cell_type": "code",
   "execution_count": 13,
   "id": "fb57ebbe",
   "metadata": {
    "ExecuteTime": {
     "end_time": "2021-09-18T06:15:54.502048Z",
     "start_time": "2021-09-18T06:15:52.540696Z"
    }
   },
   "outputs": [
    {
     "name": "stdout",
     "output_type": "stream",
     "text": [
      "Model: \"model\"\n",
      "__________________________________________________________________________________________________\n",
      "Layer (type)                    Output Shape         Param #     Connected to                     \n",
      "==================================================================================================\n",
      "input_1 (InputLayer)            [(None, 224, 224, 3) 0                                            \n",
      "__________________________________________________________________________________________________\n",
      "conv1_pad (ZeroPadding2D)       (None, 230, 230, 3)  0           input_1[0][0]                    \n",
      "__________________________________________________________________________________________________\n",
      "conv1_conv (Conv2D)             (None, 112, 112, 64) 9472        conv1_pad[0][0]                  \n",
      "__________________________________________________________________________________________________\n",
      "conv1_bn (BatchNormalization)   (None, 112, 112, 64) 256         conv1_conv[0][0]                 \n",
      "__________________________________________________________________________________________________\n",
      "conv1_relu (Activation)         (None, 112, 112, 64) 0           conv1_bn[0][0]                   \n",
      "__________________________________________________________________________________________________\n",
      "pool1_pad (ZeroPadding2D)       (None, 114, 114, 64) 0           conv1_relu[0][0]                 \n",
      "__________________________________________________________________________________________________\n",
      "pool1_pool (MaxPooling2D)       (None, 56, 56, 64)   0           pool1_pad[0][0]                  \n",
      "__________________________________________________________________________________________________\n",
      "conv2_block1_1_conv (Conv2D)    (None, 56, 56, 64)   4160        pool1_pool[0][0]                 \n",
      "__________________________________________________________________________________________________\n",
      "conv2_block1_1_bn (BatchNormali (None, 56, 56, 64)   256         conv2_block1_1_conv[0][0]        \n",
      "__________________________________________________________________________________________________\n",
      "conv2_block1_1_relu (Activation (None, 56, 56, 64)   0           conv2_block1_1_bn[0][0]          \n",
      "__________________________________________________________________________________________________\n",
      "conv2_block1_2_conv (Conv2D)    (None, 56, 56, 64)   36928       conv2_block1_1_relu[0][0]        \n",
      "__________________________________________________________________________________________________\n",
      "conv2_block1_2_bn (BatchNormali (None, 56, 56, 64)   256         conv2_block1_2_conv[0][0]        \n",
      "__________________________________________________________________________________________________\n",
      "conv2_block1_2_relu (Activation (None, 56, 56, 64)   0           conv2_block1_2_bn[0][0]          \n",
      "__________________________________________________________________________________________________\n",
      "conv2_block1_0_conv (Conv2D)    (None, 56, 56, 256)  16640       pool1_pool[0][0]                 \n",
      "__________________________________________________________________________________________________\n",
      "conv2_block1_3_conv (Conv2D)    (None, 56, 56, 256)  16640       conv2_block1_2_relu[0][0]        \n",
      "__________________________________________________________________________________________________\n",
      "conv2_block1_0_bn (BatchNormali (None, 56, 56, 256)  1024        conv2_block1_0_conv[0][0]        \n",
      "__________________________________________________________________________________________________\n",
      "conv2_block1_3_bn (BatchNormali (None, 56, 56, 256)  1024        conv2_block1_3_conv[0][0]        \n",
      "__________________________________________________________________________________________________\n",
      "conv2_block1_add (Add)          (None, 56, 56, 256)  0           conv2_block1_0_bn[0][0]          \n",
      "                                                                 conv2_block1_3_bn[0][0]          \n",
      "__________________________________________________________________________________________________\n",
      "conv2_block1_out (Activation)   (None, 56, 56, 256)  0           conv2_block1_add[0][0]           \n",
      "__________________________________________________________________________________________________\n",
      "conv2_block2_1_conv (Conv2D)    (None, 56, 56, 64)   16448       conv2_block1_out[0][0]           \n",
      "__________________________________________________________________________________________________\n",
      "conv2_block2_1_bn (BatchNormali (None, 56, 56, 64)   256         conv2_block2_1_conv[0][0]        \n",
      "__________________________________________________________________________________________________\n",
      "conv2_block2_1_relu (Activation (None, 56, 56, 64)   0           conv2_block2_1_bn[0][0]          \n",
      "__________________________________________________________________________________________________\n",
      "conv2_block2_2_conv (Conv2D)    (None, 56, 56, 64)   36928       conv2_block2_1_relu[0][0]        \n",
      "__________________________________________________________________________________________________\n",
      "conv2_block2_2_bn (BatchNormali (None, 56, 56, 64)   256         conv2_block2_2_conv[0][0]        \n",
      "__________________________________________________________________________________________________\n",
      "conv2_block2_2_relu (Activation (None, 56, 56, 64)   0           conv2_block2_2_bn[0][0]          \n",
      "__________________________________________________________________________________________________\n",
      "conv2_block2_3_conv (Conv2D)    (None, 56, 56, 256)  16640       conv2_block2_2_relu[0][0]        \n",
      "__________________________________________________________________________________________________\n",
      "conv2_block2_3_bn (BatchNormali (None, 56, 56, 256)  1024        conv2_block2_3_conv[0][0]        \n",
      "__________________________________________________________________________________________________\n",
      "conv2_block2_add (Add)          (None, 56, 56, 256)  0           conv2_block1_out[0][0]           \n",
      "                                                                 conv2_block2_3_bn[0][0]          \n",
      "__________________________________________________________________________________________________\n",
      "conv2_block2_out (Activation)   (None, 56, 56, 256)  0           conv2_block2_add[0][0]           \n",
      "__________________________________________________________________________________________________\n",
      "conv2_block3_1_conv (Conv2D)    (None, 56, 56, 64)   16448       conv2_block2_out[0][0]           \n",
      "__________________________________________________________________________________________________\n",
      "conv2_block3_1_bn (BatchNormali (None, 56, 56, 64)   256         conv2_block3_1_conv[0][0]        \n",
      "__________________________________________________________________________________________________\n",
      "conv2_block3_1_relu (Activation (None, 56, 56, 64)   0           conv2_block3_1_bn[0][0]          \n",
      "__________________________________________________________________________________________________\n",
      "conv2_block3_2_conv (Conv2D)    (None, 56, 56, 64)   36928       conv2_block3_1_relu[0][0]        \n",
      "__________________________________________________________________________________________________\n",
      "conv2_block3_2_bn (BatchNormali (None, 56, 56, 64)   256         conv2_block3_2_conv[0][0]        \n",
      "__________________________________________________________________________________________________\n",
      "conv2_block3_2_relu (Activation (None, 56, 56, 64)   0           conv2_block3_2_bn[0][0]          \n",
      "__________________________________________________________________________________________________\n",
      "conv2_block3_3_conv (Conv2D)    (None, 56, 56, 256)  16640       conv2_block3_2_relu[0][0]        \n",
      "__________________________________________________________________________________________________\n",
      "conv2_block3_3_bn (BatchNormali (None, 56, 56, 256)  1024        conv2_block3_3_conv[0][0]        \n",
      "__________________________________________________________________________________________________\n",
      "conv2_block3_add (Add)          (None, 56, 56, 256)  0           conv2_block2_out[0][0]           \n",
      "                                                                 conv2_block3_3_bn[0][0]          \n",
      "__________________________________________________________________________________________________\n",
      "conv2_block3_out (Activation)   (None, 56, 56, 256)  0           conv2_block3_add[0][0]           \n",
      "__________________________________________________________________________________________________\n",
      "conv3_block1_1_conv (Conv2D)    (None, 28, 28, 128)  32896       conv2_block3_out[0][0]           \n",
      "__________________________________________________________________________________________________\n",
      "conv3_block1_1_bn (BatchNormali (None, 28, 28, 128)  512         conv3_block1_1_conv[0][0]        \n",
      "__________________________________________________________________________________________________\n",
      "conv3_block1_1_relu (Activation (None, 28, 28, 128)  0           conv3_block1_1_bn[0][0]          \n",
      "__________________________________________________________________________________________________\n",
      "conv3_block1_2_conv (Conv2D)    (None, 28, 28, 128)  147584      conv3_block1_1_relu[0][0]        \n",
      "__________________________________________________________________________________________________\n",
      "conv3_block1_2_bn (BatchNormali (None, 28, 28, 128)  512         conv3_block1_2_conv[0][0]        \n",
      "__________________________________________________________________________________________________\n",
      "conv3_block1_2_relu (Activation (None, 28, 28, 128)  0           conv3_block1_2_bn[0][0]          \n",
      "__________________________________________________________________________________________________\n",
      "conv3_block1_0_conv (Conv2D)    (None, 28, 28, 512)  131584      conv2_block3_out[0][0]           \n",
      "__________________________________________________________________________________________________\n",
      "conv3_block1_3_conv (Conv2D)    (None, 28, 28, 512)  66048       conv3_block1_2_relu[0][0]        \n",
      "__________________________________________________________________________________________________\n",
      "conv3_block1_0_bn (BatchNormali (None, 28, 28, 512)  2048        conv3_block1_0_conv[0][0]        \n",
      "__________________________________________________________________________________________________\n",
      "conv3_block1_3_bn (BatchNormali (None, 28, 28, 512)  2048        conv3_block1_3_conv[0][0]        \n",
      "__________________________________________________________________________________________________\n",
      "conv3_block1_add (Add)          (None, 28, 28, 512)  0           conv3_block1_0_bn[0][0]          \n",
      "                                                                 conv3_block1_3_bn[0][0]          \n",
      "__________________________________________________________________________________________________\n",
      "conv3_block1_out (Activation)   (None, 28, 28, 512)  0           conv3_block1_add[0][0]           \n",
      "__________________________________________________________________________________________________\n",
      "conv3_block2_1_conv (Conv2D)    (None, 28, 28, 128)  65664       conv3_block1_out[0][0]           \n",
      "__________________________________________________________________________________________________\n",
      "conv3_block2_1_bn (BatchNormali (None, 28, 28, 128)  512         conv3_block2_1_conv[0][0]        \n",
      "__________________________________________________________________________________________________\n",
      "conv3_block2_1_relu (Activation (None, 28, 28, 128)  0           conv3_block2_1_bn[0][0]          \n",
      "__________________________________________________________________________________________________\n",
      "conv3_block2_2_conv (Conv2D)    (None, 28, 28, 128)  147584      conv3_block2_1_relu[0][0]        \n",
      "__________________________________________________________________________________________________\n",
      "conv3_block2_2_bn (BatchNormali (None, 28, 28, 128)  512         conv3_block2_2_conv[0][0]        \n",
      "__________________________________________________________________________________________________\n",
      "conv3_block2_2_relu (Activation (None, 28, 28, 128)  0           conv3_block2_2_bn[0][0]          \n",
      "__________________________________________________________________________________________________\n",
      "conv3_block2_3_conv (Conv2D)    (None, 28, 28, 512)  66048       conv3_block2_2_relu[0][0]        \n",
      "__________________________________________________________________________________________________\n",
      "conv3_block2_3_bn (BatchNormali (None, 28, 28, 512)  2048        conv3_block2_3_conv[0][0]        \n",
      "__________________________________________________________________________________________________\n",
      "conv3_block2_add (Add)          (None, 28, 28, 512)  0           conv3_block1_out[0][0]           \n",
      "                                                                 conv3_block2_3_bn[0][0]          \n",
      "__________________________________________________________________________________________________\n",
      "conv3_block2_out (Activation)   (None, 28, 28, 512)  0           conv3_block2_add[0][0]           \n",
      "__________________________________________________________________________________________________\n",
      "conv3_block3_1_conv (Conv2D)    (None, 28, 28, 128)  65664       conv3_block2_out[0][0]           \n",
      "__________________________________________________________________________________________________\n",
      "conv3_block3_1_bn (BatchNormali (None, 28, 28, 128)  512         conv3_block3_1_conv[0][0]        \n",
      "__________________________________________________________________________________________________\n",
      "conv3_block3_1_relu (Activation (None, 28, 28, 128)  0           conv3_block3_1_bn[0][0]          \n",
      "__________________________________________________________________________________________________\n",
      "conv3_block3_2_conv (Conv2D)    (None, 28, 28, 128)  147584      conv3_block3_1_relu[0][0]        \n",
      "__________________________________________________________________________________________________\n",
      "conv3_block3_2_bn (BatchNormali (None, 28, 28, 128)  512         conv3_block3_2_conv[0][0]        \n",
      "__________________________________________________________________________________________________\n",
      "conv3_block3_2_relu (Activation (None, 28, 28, 128)  0           conv3_block3_2_bn[0][0]          \n",
      "__________________________________________________________________________________________________\n",
      "conv3_block3_3_conv (Conv2D)    (None, 28, 28, 512)  66048       conv3_block3_2_relu[0][0]        \n",
      "__________________________________________________________________________________________________\n",
      "conv3_block3_3_bn (BatchNormali (None, 28, 28, 512)  2048        conv3_block3_3_conv[0][0]        \n",
      "__________________________________________________________________________________________________\n",
      "conv3_block3_add (Add)          (None, 28, 28, 512)  0           conv3_block2_out[0][0]           \n",
      "                                                                 conv3_block3_3_bn[0][0]          \n",
      "__________________________________________________________________________________________________\n",
      "conv3_block3_out (Activation)   (None, 28, 28, 512)  0           conv3_block3_add[0][0]           \n",
      "__________________________________________________________________________________________________\n",
      "conv3_block4_1_conv (Conv2D)    (None, 28, 28, 128)  65664       conv3_block3_out[0][0]           \n",
      "__________________________________________________________________________________________________\n",
      "conv3_block4_1_bn (BatchNormali (None, 28, 28, 128)  512         conv3_block4_1_conv[0][0]        \n",
      "__________________________________________________________________________________________________\n",
      "conv3_block4_1_relu (Activation (None, 28, 28, 128)  0           conv3_block4_1_bn[0][0]          \n",
      "__________________________________________________________________________________________________\n",
      "conv3_block4_2_conv (Conv2D)    (None, 28, 28, 128)  147584      conv3_block4_1_relu[0][0]        \n",
      "__________________________________________________________________________________________________\n",
      "conv3_block4_2_bn (BatchNormali (None, 28, 28, 128)  512         conv3_block4_2_conv[0][0]        \n",
      "__________________________________________________________________________________________________\n",
      "conv3_block4_2_relu (Activation (None, 28, 28, 128)  0           conv3_block4_2_bn[0][0]          \n",
      "__________________________________________________________________________________________________\n",
      "conv3_block4_3_conv (Conv2D)    (None, 28, 28, 512)  66048       conv3_block4_2_relu[0][0]        \n",
      "__________________________________________________________________________________________________\n",
      "conv3_block4_3_bn (BatchNormali (None, 28, 28, 512)  2048        conv3_block4_3_conv[0][0]        \n",
      "__________________________________________________________________________________________________\n",
      "conv3_block4_add (Add)          (None, 28, 28, 512)  0           conv3_block3_out[0][0]           \n",
      "                                                                 conv3_block4_3_bn[0][0]          \n",
      "__________________________________________________________________________________________________\n",
      "conv3_block4_out (Activation)   (None, 28, 28, 512)  0           conv3_block4_add[0][0]           \n",
      "__________________________________________________________________________________________________\n",
      "conv4_block1_1_conv (Conv2D)    (None, 14, 14, 256)  131328      conv3_block4_out[0][0]           \n",
      "__________________________________________________________________________________________________\n",
      "conv4_block1_1_bn (BatchNormali (None, 14, 14, 256)  1024        conv4_block1_1_conv[0][0]        \n",
      "__________________________________________________________________________________________________\n",
      "conv4_block1_1_relu (Activation (None, 14, 14, 256)  0           conv4_block1_1_bn[0][0]          \n",
      "__________________________________________________________________________________________________\n",
      "conv4_block1_2_conv (Conv2D)    (None, 14, 14, 256)  590080      conv4_block1_1_relu[0][0]        \n",
      "__________________________________________________________________________________________________\n",
      "conv4_block1_2_bn (BatchNormali (None, 14, 14, 256)  1024        conv4_block1_2_conv[0][0]        \n",
      "__________________________________________________________________________________________________\n",
      "conv4_block1_2_relu (Activation (None, 14, 14, 256)  0           conv4_block1_2_bn[0][0]          \n",
      "__________________________________________________________________________________________________\n",
      "conv4_block1_0_conv (Conv2D)    (None, 14, 14, 1024) 525312      conv3_block4_out[0][0]           \n",
      "__________________________________________________________________________________________________\n",
      "conv4_block1_3_conv (Conv2D)    (None, 14, 14, 1024) 263168      conv4_block1_2_relu[0][0]        \n",
      "__________________________________________________________________________________________________\n",
      "conv4_block1_0_bn (BatchNormali (None, 14, 14, 1024) 4096        conv4_block1_0_conv[0][0]        \n",
      "__________________________________________________________________________________________________\n",
      "conv4_block1_3_bn (BatchNormali (None, 14, 14, 1024) 4096        conv4_block1_3_conv[0][0]        \n",
      "__________________________________________________________________________________________________\n",
      "conv4_block1_add (Add)          (None, 14, 14, 1024) 0           conv4_block1_0_bn[0][0]          \n",
      "                                                                 conv4_block1_3_bn[0][0]          \n",
      "__________________________________________________________________________________________________\n",
      "conv4_block1_out (Activation)   (None, 14, 14, 1024) 0           conv4_block1_add[0][0]           \n",
      "__________________________________________________________________________________________________\n",
      "conv4_block2_1_conv (Conv2D)    (None, 14, 14, 256)  262400      conv4_block1_out[0][0]           \n",
      "__________________________________________________________________________________________________\n",
      "conv4_block2_1_bn (BatchNormali (None, 14, 14, 256)  1024        conv4_block2_1_conv[0][0]        \n",
      "__________________________________________________________________________________________________\n",
      "conv4_block2_1_relu (Activation (None, 14, 14, 256)  0           conv4_block2_1_bn[0][0]          \n",
      "__________________________________________________________________________________________________\n",
      "conv4_block2_2_conv (Conv2D)    (None, 14, 14, 256)  590080      conv4_block2_1_relu[0][0]        \n",
      "__________________________________________________________________________________________________\n",
      "conv4_block2_2_bn (BatchNormali (None, 14, 14, 256)  1024        conv4_block2_2_conv[0][0]        \n",
      "__________________________________________________________________________________________________\n",
      "conv4_block2_2_relu (Activation (None, 14, 14, 256)  0           conv4_block2_2_bn[0][0]          \n",
      "__________________________________________________________________________________________________\n",
      "conv4_block2_3_conv (Conv2D)    (None, 14, 14, 1024) 263168      conv4_block2_2_relu[0][0]        \n",
      "__________________________________________________________________________________________________\n",
      "conv4_block2_3_bn (BatchNormali (None, 14, 14, 1024) 4096        conv4_block2_3_conv[0][0]        \n",
      "__________________________________________________________________________________________________\n",
      "conv4_block2_add (Add)          (None, 14, 14, 1024) 0           conv4_block1_out[0][0]           \n",
      "                                                                 conv4_block2_3_bn[0][0]          \n",
      "__________________________________________________________________________________________________\n",
      "conv4_block2_out (Activation)   (None, 14, 14, 1024) 0           conv4_block2_add[0][0]           \n",
      "__________________________________________________________________________________________________\n",
      "conv4_block3_1_conv (Conv2D)    (None, 14, 14, 256)  262400      conv4_block2_out[0][0]           \n",
      "__________________________________________________________________________________________________\n",
      "conv4_block3_1_bn (BatchNormali (None, 14, 14, 256)  1024        conv4_block3_1_conv[0][0]        \n",
      "__________________________________________________________________________________________________\n",
      "conv4_block3_1_relu (Activation (None, 14, 14, 256)  0           conv4_block3_1_bn[0][0]          \n",
      "__________________________________________________________________________________________________\n",
      "conv4_block3_2_conv (Conv2D)    (None, 14, 14, 256)  590080      conv4_block3_1_relu[0][0]        \n",
      "__________________________________________________________________________________________________\n",
      "conv4_block3_2_bn (BatchNormali (None, 14, 14, 256)  1024        conv4_block3_2_conv[0][0]        \n",
      "__________________________________________________________________________________________________\n",
      "conv4_block3_2_relu (Activation (None, 14, 14, 256)  0           conv4_block3_2_bn[0][0]          \n",
      "__________________________________________________________________________________________________\n",
      "conv4_block3_3_conv (Conv2D)    (None, 14, 14, 1024) 263168      conv4_block3_2_relu[0][0]        \n",
      "__________________________________________________________________________________________________\n",
      "conv4_block3_3_bn (BatchNormali (None, 14, 14, 1024) 4096        conv4_block3_3_conv[0][0]        \n",
      "__________________________________________________________________________________________________\n",
      "conv4_block3_add (Add)          (None, 14, 14, 1024) 0           conv4_block2_out[0][0]           \n",
      "                                                                 conv4_block3_3_bn[0][0]          \n",
      "__________________________________________________________________________________________________\n",
      "conv4_block3_out (Activation)   (None, 14, 14, 1024) 0           conv4_block3_add[0][0]           \n",
      "__________________________________________________________________________________________________\n",
      "conv4_block4_1_conv (Conv2D)    (None, 14, 14, 256)  262400      conv4_block3_out[0][0]           \n",
      "__________________________________________________________________________________________________\n",
      "conv4_block4_1_bn (BatchNormali (None, 14, 14, 256)  1024        conv4_block4_1_conv[0][0]        \n",
      "__________________________________________________________________________________________________\n",
      "conv4_block4_1_relu (Activation (None, 14, 14, 256)  0           conv4_block4_1_bn[0][0]          \n",
      "__________________________________________________________________________________________________\n",
      "conv4_block4_2_conv (Conv2D)    (None, 14, 14, 256)  590080      conv4_block4_1_relu[0][0]        \n",
      "__________________________________________________________________________________________________\n",
      "conv4_block4_2_bn (BatchNormali (None, 14, 14, 256)  1024        conv4_block4_2_conv[0][0]        \n",
      "__________________________________________________________________________________________________\n",
      "conv4_block4_2_relu (Activation (None, 14, 14, 256)  0           conv4_block4_2_bn[0][0]          \n",
      "__________________________________________________________________________________________________\n",
      "conv4_block4_3_conv (Conv2D)    (None, 14, 14, 1024) 263168      conv4_block4_2_relu[0][0]        \n",
      "__________________________________________________________________________________________________\n",
      "conv4_block4_3_bn (BatchNormali (None, 14, 14, 1024) 4096        conv4_block4_3_conv[0][0]        \n",
      "__________________________________________________________________________________________________\n",
      "conv4_block4_add (Add)          (None, 14, 14, 1024) 0           conv4_block3_out[0][0]           \n",
      "                                                                 conv4_block4_3_bn[0][0]          \n",
      "__________________________________________________________________________________________________\n",
      "conv4_block4_out (Activation)   (None, 14, 14, 1024) 0           conv4_block4_add[0][0]           \n",
      "__________________________________________________________________________________________________\n",
      "conv4_block5_1_conv (Conv2D)    (None, 14, 14, 256)  262400      conv4_block4_out[0][0]           \n",
      "__________________________________________________________________________________________________\n",
      "conv4_block5_1_bn (BatchNormali (None, 14, 14, 256)  1024        conv4_block5_1_conv[0][0]        \n",
      "__________________________________________________________________________________________________\n",
      "conv4_block5_1_relu (Activation (None, 14, 14, 256)  0           conv4_block5_1_bn[0][0]          \n",
      "__________________________________________________________________________________________________\n",
      "conv4_block5_2_conv (Conv2D)    (None, 14, 14, 256)  590080      conv4_block5_1_relu[0][0]        \n",
      "__________________________________________________________________________________________________\n",
      "conv4_block5_2_bn (BatchNormali (None, 14, 14, 256)  1024        conv4_block5_2_conv[0][0]        \n",
      "__________________________________________________________________________________________________\n",
      "conv4_block5_2_relu (Activation (None, 14, 14, 256)  0           conv4_block5_2_bn[0][0]          \n",
      "__________________________________________________________________________________________________\n",
      "conv4_block5_3_conv (Conv2D)    (None, 14, 14, 1024) 263168      conv4_block5_2_relu[0][0]        \n",
      "__________________________________________________________________________________________________\n",
      "conv4_block5_3_bn (BatchNormali (None, 14, 14, 1024) 4096        conv4_block5_3_conv[0][0]        \n",
      "__________________________________________________________________________________________________\n",
      "conv4_block5_add (Add)          (None, 14, 14, 1024) 0           conv4_block4_out[0][0]           \n",
      "                                                                 conv4_block5_3_bn[0][0]          \n",
      "__________________________________________________________________________________________________\n",
      "conv4_block5_out (Activation)   (None, 14, 14, 1024) 0           conv4_block5_add[0][0]           \n",
      "__________________________________________________________________________________________________\n",
      "conv4_block6_1_conv (Conv2D)    (None, 14, 14, 256)  262400      conv4_block5_out[0][0]           \n",
      "__________________________________________________________________________________________________\n",
      "conv4_block6_1_bn (BatchNormali (None, 14, 14, 256)  1024        conv4_block6_1_conv[0][0]        \n",
      "__________________________________________________________________________________________________\n",
      "conv4_block6_1_relu (Activation (None, 14, 14, 256)  0           conv4_block6_1_bn[0][0]          \n",
      "__________________________________________________________________________________________________\n",
      "conv4_block6_2_conv (Conv2D)    (None, 14, 14, 256)  590080      conv4_block6_1_relu[0][0]        \n",
      "__________________________________________________________________________________________________\n",
      "conv4_block6_2_bn (BatchNormali (None, 14, 14, 256)  1024        conv4_block6_2_conv[0][0]        \n",
      "__________________________________________________________________________________________________\n",
      "conv4_block6_2_relu (Activation (None, 14, 14, 256)  0           conv4_block6_2_bn[0][0]          \n",
      "__________________________________________________________________________________________________\n",
      "conv4_block6_3_conv (Conv2D)    (None, 14, 14, 1024) 263168      conv4_block6_2_relu[0][0]        \n",
      "__________________________________________________________________________________________________\n",
      "conv4_block6_3_bn (BatchNormali (None, 14, 14, 1024) 4096        conv4_block6_3_conv[0][0]        \n",
      "__________________________________________________________________________________________________\n",
      "conv4_block6_add (Add)          (None, 14, 14, 1024) 0           conv4_block5_out[0][0]           \n",
      "                                                                 conv4_block6_3_bn[0][0]          \n",
      "__________________________________________________________________________________________________\n",
      "conv4_block6_out (Activation)   (None, 14, 14, 1024) 0           conv4_block6_add[0][0]           \n",
      "__________________________________________________________________________________________________\n",
      "conv5_block1_1_conv (Conv2D)    (None, 7, 7, 512)    524800      conv4_block6_out[0][0]           \n",
      "__________________________________________________________________________________________________\n",
      "conv5_block1_1_bn (BatchNormali (None, 7, 7, 512)    2048        conv5_block1_1_conv[0][0]        \n",
      "__________________________________________________________________________________________________\n",
      "conv5_block1_1_relu (Activation (None, 7, 7, 512)    0           conv5_block1_1_bn[0][0]          \n",
      "__________________________________________________________________________________________________\n",
      "conv5_block1_2_conv (Conv2D)    (None, 7, 7, 512)    2359808     conv5_block1_1_relu[0][0]        \n",
      "__________________________________________________________________________________________________\n",
      "conv5_block1_2_bn (BatchNormali (None, 7, 7, 512)    2048        conv5_block1_2_conv[0][0]        \n",
      "__________________________________________________________________________________________________\n",
      "conv5_block1_2_relu (Activation (None, 7, 7, 512)    0           conv5_block1_2_bn[0][0]          \n",
      "__________________________________________________________________________________________________\n",
      "conv5_block1_0_conv (Conv2D)    (None, 7, 7, 2048)   2099200     conv4_block6_out[0][0]           \n",
      "__________________________________________________________________________________________________\n",
      "conv5_block1_3_conv (Conv2D)    (None, 7, 7, 2048)   1050624     conv5_block1_2_relu[0][0]        \n",
      "__________________________________________________________________________________________________\n",
      "conv5_block1_0_bn (BatchNormali (None, 7, 7, 2048)   8192        conv5_block1_0_conv[0][0]        \n",
      "__________________________________________________________________________________________________\n",
      "conv5_block1_3_bn (BatchNormali (None, 7, 7, 2048)   8192        conv5_block1_3_conv[0][0]        \n",
      "__________________________________________________________________________________________________\n",
      "conv5_block1_add (Add)          (None, 7, 7, 2048)   0           conv5_block1_0_bn[0][0]          \n",
      "                                                                 conv5_block1_3_bn[0][0]          \n",
      "__________________________________________________________________________________________________\n",
      "conv5_block1_out (Activation)   (None, 7, 7, 2048)   0           conv5_block1_add[0][0]           \n",
      "__________________________________________________________________________________________________\n",
      "conv5_block2_1_conv (Conv2D)    (None, 7, 7, 512)    1049088     conv5_block1_out[0][0]           \n",
      "__________________________________________________________________________________________________\n",
      "conv5_block2_1_bn (BatchNormali (None, 7, 7, 512)    2048        conv5_block2_1_conv[0][0]        \n",
      "__________________________________________________________________________________________________\n",
      "conv5_block2_1_relu (Activation (None, 7, 7, 512)    0           conv5_block2_1_bn[0][0]          \n",
      "__________________________________________________________________________________________________\n",
      "conv5_block2_2_conv (Conv2D)    (None, 7, 7, 512)    2359808     conv5_block2_1_relu[0][0]        \n",
      "__________________________________________________________________________________________________\n",
      "conv5_block2_2_bn (BatchNormali (None, 7, 7, 512)    2048        conv5_block2_2_conv[0][0]        \n",
      "__________________________________________________________________________________________________\n",
      "conv5_block2_2_relu (Activation (None, 7, 7, 512)    0           conv5_block2_2_bn[0][0]          \n",
      "__________________________________________________________________________________________________\n",
      "conv5_block2_3_conv (Conv2D)    (None, 7, 7, 2048)   1050624     conv5_block2_2_relu[0][0]        \n",
      "__________________________________________________________________________________________________\n",
      "conv5_block2_3_bn (BatchNormali (None, 7, 7, 2048)   8192        conv5_block2_3_conv[0][0]        \n",
      "__________________________________________________________________________________________________\n",
      "conv5_block2_add (Add)          (None, 7, 7, 2048)   0           conv5_block1_out[0][0]           \n",
      "                                                                 conv5_block2_3_bn[0][0]          \n",
      "__________________________________________________________________________________________________\n",
      "conv5_block2_out (Activation)   (None, 7, 7, 2048)   0           conv5_block2_add[0][0]           \n",
      "__________________________________________________________________________________________________\n",
      "conv5_block3_1_conv (Conv2D)    (None, 7, 7, 512)    1049088     conv5_block2_out[0][0]           \n",
      "__________________________________________________________________________________________________\n",
      "conv5_block3_1_bn (BatchNormali (None, 7, 7, 512)    2048        conv5_block3_1_conv[0][0]        \n",
      "__________________________________________________________________________________________________\n",
      "conv5_block3_1_relu (Activation (None, 7, 7, 512)    0           conv5_block3_1_bn[0][0]          \n",
      "__________________________________________________________________________________________________\n",
      "conv5_block3_2_conv (Conv2D)    (None, 7, 7, 512)    2359808     conv5_block3_1_relu[0][0]        \n",
      "__________________________________________________________________________________________________\n",
      "conv5_block3_2_bn (BatchNormali (None, 7, 7, 512)    2048        conv5_block3_2_conv[0][0]        \n",
      "__________________________________________________________________________________________________\n",
      "conv5_block3_2_relu (Activation (None, 7, 7, 512)    0           conv5_block3_2_bn[0][0]          \n",
      "__________________________________________________________________________________________________\n",
      "conv5_block3_3_conv (Conv2D)    (None, 7, 7, 2048)   1050624     conv5_block3_2_relu[0][0]        \n",
      "__________________________________________________________________________________________________\n",
      "conv5_block3_3_bn (BatchNormali (None, 7, 7, 2048)   8192        conv5_block3_3_conv[0][0]        \n",
      "__________________________________________________________________________________________________\n",
      "conv5_block3_add (Add)          (None, 7, 7, 2048)   0           conv5_block2_out[0][0]           \n",
      "                                                                 conv5_block3_3_bn[0][0]          \n",
      "__________________________________________________________________________________________________\n",
      "conv5_block3_out (Activation)   (None, 7, 7, 2048)   0           conv5_block3_add[0][0]           \n",
      "__________________________________________________________________________________________________\n",
      "flatten (Flatten)               (None, 100352)       0           conv5_block3_out[0][0]           \n",
      "__________________________________________________________________________________________________\n",
      "dense (Dense)                   (None, 100)          10035300    flatten[0][0]                    \n",
      "__________________________________________________________________________________________________\n",
      "dense_1 (Dense)                 (None, 100)          10100       dense[0][0]                      \n",
      "__________________________________________________________________________________________________\n",
      "batch_normalization (BatchNorma (None, 100)          400         dense_1[0][0]                    \n",
      "__________________________________________________________________________________________________\n",
      "dropout (Dropout)               (None, 100)          0           batch_normalization[0][0]        \n",
      "__________________________________________________________________________________________________\n",
      "dense_2 (Dense)                 (None, 3)            303         dropout[0][0]                    \n",
      "==================================================================================================\n",
      "Total params: 33,633,815\n",
      "Trainable params: 10,045,903\n",
      "Non-trainable params: 23,587,912\n",
      "__________________________________________________________________________________________________\n"
     ]
    }
   ],
   "source": [
    "conv_model = resnet50.ResNet50(weights='imagenet', include_top=False, input_shape=(224,224,3))\n",
    "\n",
    "for layer in conv_model.layers:\n",
    "    layer.trainable = False\n",
    "\n",
    "\"\"\"\n",
    "#print(conv_model.output_shape)\n",
    "x = keras.layers.GlobalAveragePooling2D()(conv_model.output)\n",
    "x = keras.layers.Dense(512, activation='relu')(x)\n",
    "x = keras.layers.Dense(256, activation='relu')(x)\n",
    "x = keras.layers.BatchNormalization()(x)\n",
    "x = keras.layers.Dropout(0.5)(x) #to further reduce overfitting\n",
    "\"\"\"\n",
    "x = keras.layers.Flatten()(conv_model.output)\n",
    "x = keras.layers.Dense(100, activation='relu')(x)\n",
    "x = keras.layers.Dense(100, activation='relu')(x)\n",
    "x = keras.layers.BatchNormalization()(x)\n",
    "\n",
    "x = keras.layers.Dropout(0.5)(x) #to further reduce overfitting\n",
    "\n",
    "predictions = keras.layers.Dense(3, activation='softmax')(x)\n",
    "full_model = keras.models.Model(inputs=conv_model.input, outputs=predictions)\n",
    "\n",
    "full_model.summary()"
   ]
  },
  {
   "cell_type": "markdown",
   "id": "ad68bc3d",
   "metadata": {
    "ExecuteTime": {
     "start_time": "2021-09-18T05:50:48.690Z"
    }
   },
   "source": [
    "## Model Training"
   ]
  },
  {
   "cell_type": "markdown",
   "id": "ed1ef251",
   "metadata": {},
   "source": [
    "We will now train the model. K-fold cross validation is used to train the model."
   ]
  },
  {
   "cell_type": "code",
   "execution_count": 14,
   "id": "e7fcc25f",
   "metadata": {
    "ExecuteTime": {
     "end_time": "2021-09-18T06:17:56.543667Z",
     "start_time": "2021-09-18T06:16:03.535186Z"
    },
    "scrolled": false
   },
   "outputs": [
    {
     "name": "stdout",
     "output_type": "stream",
     "text": [
      "Found 192 validated image filenames belonging to 3 classes.\n",
      "Found 48 validated image filenames belonging to 3 classes.\n",
      "Fold number 1\n",
      "6/6 [==============================] - 11s 780ms/step - loss: 2.0807 - accuracy: 0.3125 - val_loss: 3.0037 - val_accuracy: 0.3333\n",
      "\n",
      "Epoch 00001: val_accuracy improved from -inf to 0.33333, saving model to C:/Users/user/Desktop/Model/saved_models_1\\model_1.h5\n"
     ]
    },
    {
     "name": "stderr",
     "output_type": "stream",
     "text": [
      "C:\\Users\\user\\anaconda3\\envs\\tensorflow25\\lib\\site-packages\\tensorflow\\python\\keras\\utils\\generic_utils.py:494: CustomMaskWarning: Custom mask layers require a config and must override get_config. When loading, the custom mask layer must be passed to the custom_objects argument.\n",
      "  warnings.warn('Custom mask layers require a config and must override '\n"
     ]
    },
    {
     "data": {
      "image/png": "[encoded data removed]",
      "text/plain": [
       "<Figure size 432x288 with 1 Axes>"
      ]
     },
     "metadata": {
      "needs_background": "light"
     },
     "output_type": "display_data"
    },
    {
     "data": {
      "image/png": "[encoded data removed]",
      "text/plain": [
       "<Figure size 432x288 with 1 Axes>"
      ]
     },
     "metadata": {
      "needs_background": "light"
     },
     "output_type": "display_data"
    },
    {
     "name": "stdout",
     "output_type": "stream",
     "text": [
      "2/2 [==============================] - 1s 145ms/step - loss: 3.0598 - accuracy: 0.3333\n",
      "{'loss': 3.0597572326660156, 'accuracy': 0.3333333432674408}\n",
      "Found 192 validated image filenames belonging to 3 classes.\n",
      "Found 48 validated image filenames belonging to 3 classes.\n",
      "Fold number 2\n",
      "6/6 [==============================] - 7s 594ms/step - loss: 1.6468 - accuracy: 0.3698 - val_loss: 2.8783 - val_accuracy: 0.3958\n",
      "\n",
      "Epoch 00001: val_accuracy improved from -inf to 0.39583, saving model to C:/Users/user/Desktop/Model/saved_models_1\\model_2.h5\n"
     ]
    },
    {
     "data": {
      "image/png": "[encoded data removed]",
      "text/plain": [
       "<Figure size 432x288 with 1 Axes>"
      ]
     },
     "metadata": {
      "needs_background": "light"
     },
     "output_type": "display_data"
    },
    {
     "data": {
      "image/png": "[encoded data removed]",
      "text/plain": [
       "<Figure size 432x288 with 1 Axes>"
      ]
     },
     "metadata": {
      "needs_background": "light"
     },
     "output_type": "display_data"
    },
    {
     "name": "stdout",
     "output_type": "stream",
     "text": [
      "2/2 [==============================] - 1s 146ms/step - loss: 2.8858 - accuracy: 0.3958\n",
      "{'loss': 2.8858394622802734, 'accuracy': 0.3958333432674408}\n",
      "Found 192 validated image filenames belonging to 3 classes.\n",
      "Found 48 validated image filenames belonging to 3 classes.\n",
      "Fold number 3\n",
      "6/6 [==============================] - 7s 608ms/step - loss: 1.2499 - accuracy: 0.4740 - val_loss: 3.6513 - val_accuracy: 0.3333\n",
      "\n",
      "Epoch 00001: val_accuracy improved from -inf to 0.33333, saving model to C:/Users/user/Desktop/Model/saved_models_1\\model_3.h5\n"
     ]
    },
    {
     "data": {
      "image/png": "[encoded data removed]",
      "text/plain": [
       "<Figure size 432x288 with 1 Axes>"
      ]
     },
     "metadata": {
      "needs_background": "light"
     },
     "output_type": "display_data"
    },
    {
     "data": {
      "image/png": "[encoded data removed]",
      "text/plain": [
       "<Figure size 432x288 with 1 Axes>"
      ]
     },
     "metadata": {
      "needs_background": "light"
     },
     "output_type": "display_data"
    },
    {
     "name": "stdout",
     "output_type": "stream",
     "text": [
      "2/2 [==============================] - 1s 149ms/step - loss: 3.6815 - accuracy: 0.3333\n",
      "{'loss': 3.6814968585968018, 'accuracy': 0.3333333432674408}\n",
      "Found 192 validated image filenames belonging to 3 classes.\n",
      "Found 48 validated image filenames belonging to 3 classes.\n",
      "Fold number 4\n",
      "6/6 [==============================] - 7s 599ms/step - loss: 1.1432 - accuracy: 0.5625 - val_loss: 4.3639 - val_accuracy: 0.2292\n",
      "\n",
      "Epoch 00001: val_accuracy improved from -inf to 0.22917, saving model to C:/Users/user/Desktop/Model/saved_models_1\\model_4.h5\n"
     ]
    },
    {
     "data": {
      "image/png": "[encoded data removed]",
      "text/plain": [
       "<Figure size 432x288 with 1 Axes>"
      ]
     },
     "metadata": {
      "needs_background": "light"
     },
     "output_type": "display_data"
    },
    {
     "data": {
      "image/png": "[encoded data removed]",
      "text/plain": [
       "<Figure size 432x288 with 1 Axes>"
      ]
     },
     "metadata": {
      "needs_background": "light"
     },
     "output_type": "display_data"
    },
    {
     "name": "stdout",
     "output_type": "stream",
     "text": [
      "2/2 [==============================] - 1s 148ms/step - loss: 4.3461 - accuracy: 0.2292\n",
      "{'loss': 4.346071720123291, 'accuracy': 0.2291666716337204}\n",
      "Found 192 validated image filenames belonging to 3 classes.\n",
      "Found 48 validated image filenames belonging to 3 classes.\n",
      "Fold number 5\n",
      "6/6 [==============================] - 7s 600ms/step - loss: 1.0476 - accuracy: 0.5677 - val_loss: 2.5045 - val_accuracy: 0.3958\n",
      "\n",
      "Epoch 00001: val_accuracy improved from -inf to 0.39583, saving model to C:/Users/user/Desktop/Model/saved_models_1\\model_5.h5\n"
     ]
    },
    {
     "data": {
      "image/png": "[encoded data removed]",
      "text/plain": [
       "<Figure size 432x288 with 1 Axes>"
      ]
     },
     "metadata": {
      "needs_background": "light"
     },
     "output_type": "display_data"
    },
    {
     "data": {
      "image/png": "[encoded data removed]",
      "text/plain": [
       "<Figure size 432x288 with 1 Axes>"
      ]
     },
     "metadata": {
      "needs_background": "light"
     },
     "output_type": "display_data"
    },
    {
     "name": "stdout",
     "output_type": "stream",
     "text": [
      "2/2 [==============================] - 1s 149ms/step - loss: 2.5709 - accuracy: 0.3750\n",
      "{'loss': 2.570852756500244, 'accuracy': 0.375}\n"
     ]
    }
   ],
   "source": [
    "for train_index, val_index in kf.split(np.zeros(n),Y):\n",
    "    \n",
    "    training_data = df2.iloc[train_index]\n",
    "    validation_data = df2.iloc[val_index]\n",
    "    \n",
    "    train_data_generator = imgdatagen.flow_from_dataframe(training_data, directory = image_dir,\n",
    "                               x_col = \"filename\", y_col = \"label\",\n",
    "                              class_mode = \"categorical\", target_size = dim, batch_size = batch_size,\n",
    "                                shuffle = False)\n",
    "    valid_data_generator  = imgdatagen.flow_from_dataframe(validation_data, directory = image_dir,\n",
    "                            x_col = \"filename\", y_col = \"label\",\n",
    "                            class_mode = \"categorical\", target_size = dim, batch_size = batch_size,\n",
    "                                shuffle = False)\n",
    "    \n",
    "    # COMPILE NEW MODEL\n",
    "    full_model.compile(loss='categorical_crossentropy',\n",
    "                  optimizer=keras.optimizers.Adamax(learning_rate=lr),\n",
    "                  metrics=['accuracy']) #categorical_crossentropy cause it is more than 2 classes\n",
    "\n",
    "    # CREATE CALLBACKS\n",
    "    checkpoint = tf.keras.callbacks.ModelCheckpoint((save_dir+\"/\"+ \"model_\" + str(fold_var) + \".h5\"), \n",
    "                            monitor='val_accuracy', verbose=1, \n",
    "                            save_best_only=True, mode='max')\n",
    "    callbacks_list = [checkpoint]\n",
    "    # There can be other callbacks, but just showing one because it involves the model name\n",
    "    # This saves the best model\n",
    "   \n",
    "    print(\"Fold number \" + str(fold_var))\n",
    "\n",
    "    # FIT THE MODEL\n",
    "    history = full_model.fit(train_data_generator,\n",
    "                             epochs=num_epochs,\n",
    "                             callbacks=callbacks_list,\n",
    "                             validation_data=valid_data_generator)\n",
    "    \n",
    "    #PLOT HISTORY\n",
    "    plot_history(history, yrange=(0.2,1))\n",
    "\n",
    "    # LOAD BEST MODEL to evaluate the performance of the model\n",
    "    full_model.load_weights(save_dir+\"/model_\"+str(fold_var)+\".h5\")\n",
    "    \n",
    "    results = full_model.evaluate(valid_data_generator)\n",
    "    results = dict(zip(full_model.metrics_names,results))\n",
    "    \n",
    "    print(results)\n",
    "    \n",
    "    VALIDATION_ACCURACY.append(results['accuracy'])\n",
    "    VALIDATION_LOSS.append(results['loss'])\n",
    "\n",
    "    tf.keras.backend.clear_session()\n",
    "\n",
    "    fold_var += 1    "
   ]
  },
  {
   "cell_type": "markdown",
   "id": "44439d90",
   "metadata": {},
   "source": [
    "## Kfold Evaluation Results"
   ]
  },
  {
   "cell_type": "markdown",
   "id": "67806e39",
   "metadata": {},
   "source": [
    "Below are the validation accuracy and validation loss per fold and their average."
   ]
  },
  {
   "cell_type": "code",
   "execution_count": 15,
   "id": "a03456cc",
   "metadata": {
    "ExecuteTime": {
     "end_time": "2021-09-18T06:23:29.147559Z",
     "start_time": "2021-09-18T06:23:29.133632Z"
    }
   },
   "outputs": [
    {
     "name": "stdout",
     "output_type": "stream",
     "text": [
      "Validation Accuracy of All Folds:\n",
      "Fold 1 Accuracy: 0.3333333432674408\n",
      "Fold 2 Accuracy: 0.3958333432674408\n",
      "Fold 3 Accuracy: 0.3333333432674408\n",
      "Fold 4 Accuracy: 0.2291666716337204\n",
      "Fold 5 Accuracy: 0.375\n",
      "Mean Validation Accuracy: 0.33333334028720857\n",
      "\n",
      "Validation Loss of All Folds:\n",
      "Fold 1 Loss: 3.0597572326660156\n",
      "Fold 2 Loss: 2.8858394622802734\n",
      "Fold 3 Loss: 3.6814968585968018\n",
      "Fold 4 Loss: 4.346071720123291\n",
      "Fold 5 Loss: 2.570852756500244\n",
      "Mean Validation Loss: 3.308803606033325\n"
     ]
    }
   ],
   "source": [
    "print(\"Validation Accuracy of All Folds:\")\n",
    "n = 1\n",
    "for x in VALIDATION_ACCURACY:\n",
    "    print(\"Fold \"+ str(n) +\" Accuracy:\",x)\n",
    "    n=n+1    \n",
    "print(\"Mean Validation Accuracy: \" + str(np.mean(VALIDATION_ACCURACY)))\n",
    "\n",
    "print(\"\")\n",
    "\n",
    "print(\"Validation Loss of All Folds:\")\n",
    "n=1\n",
    "for x in VALIDATION_LOSS:\n",
    "    print(\"Fold \"+ str(n) +\" Loss:\",x)\n",
    "    n=n+1    \n",
    "print(\"Mean Validation Loss: \" + str(np.mean(VALIDATION_LOSS)))"
   ]
  },
  {
   "cell_type": "markdown",
   "id": "e5f648d1",
   "metadata": {},
   "source": [
    "## Model Prediction"
   ]
  },
  {
   "cell_type": "markdown",
   "id": "ac8fbc37",
   "metadata": {},
   "source": [
    "Load the images in the test set and predict what class it is by using the model. There are three values of probability. The one with the highest probability is the predicted class of the image. The order of classes is [0 1 2]."
   ]
  },
  {
   "cell_type": "code",
   "execution_count": 16,
   "id": "9d845555",
   "metadata": {
    "ExecuteTime": {
     "end_time": "2021-09-18T06:44:18.926809Z",
     "start_time": "2021-09-18T06:44:18.333359Z"
    },
    "scrolled": true
   },
   "outputs": [
    {
     "name": "stdout",
     "output_type": "stream",
     "text": [
      "[[9.92284894e-01 7.58647732e-03 1.28548680e-04]\n",
      " [9.80251729e-01 1.96816660e-02 6.65869302e-05]\n",
      " [9.80289280e-01 1.89009514e-02 8.09673220e-04]\n",
      " [8.16503048e-01 1.75986215e-01 7.51075335e-03]\n",
      " [7.62117624e-01 2.34280467e-01 3.60189262e-03]\n",
      " [9.32738602e-01 6.55509830e-02 1.71039917e-03]\n",
      " [9.94244754e-01 5.45057096e-03 3.04713903e-04]\n",
      " [9.87959623e-01 1.18565550e-02 1.83833981e-04]\n",
      " [9.31999922e-01 6.45414963e-02 3.45851411e-03]\n",
      " [9.86637354e-01 1.31431064e-02 2.19489972e-04]\n",
      " [9.95026171e-01 4.93991980e-03 3.38740792e-05]\n",
      " [8.96828830e-01 1.00626282e-01 2.54493509e-03]\n",
      " [9.95799959e-01 4.14390489e-03 5.61528068e-05]\n",
      " [8.58253658e-01 1.34307414e-01 7.43896840e-03]\n",
      " [8.92279804e-01 1.05537832e-01 2.18239124e-03]\n",
      " [7.71623254e-01 2.24295110e-01 4.08166274e-03]\n",
      " [9.75381196e-01 2.39795633e-02 6.39295788e-04]\n",
      " [9.90458846e-01 8.78524408e-03 7.55904126e-04]\n",
      " [9.98431146e-01 1.56442053e-03 4.39536825e-06]\n",
      " [9.88452137e-01 1.14363935e-02 1.11450827e-04]\n",
      " [9.71922994e-01 2.76685692e-02 4.08380030e-04]\n",
      " [9.87401783e-01 1.25132203e-02 8.50384458e-05]\n",
      " [9.81729567e-01 1.80802643e-02 1.90185310e-04]\n",
      " [9.95582521e-01 4.34582261e-03 7.16603608e-05]\n",
      " [9.49273586e-01 5.01517057e-02 5.74765261e-04]\n",
      " [9.98250306e-01 1.72198156e-03 2.77779418e-05]\n",
      " [9.94652629e-01 5.13685029e-03 2.10419792e-04]\n",
      " [9.58308578e-01 3.96286324e-02 2.06283014e-03]\n",
      " [7.25339234e-01 2.61661112e-01 1.29996752e-02]\n",
      " [9.13781583e-01 8.55978951e-02 6.20554085e-04]\n",
      " [9.86702025e-01 1.31986970e-02 9.92963251e-05]\n",
      " [9.06382859e-01 9.27365348e-02 8.80567706e-04]\n",
      " [8.17375779e-01 1.79842964e-01 2.78129382e-03]\n",
      " [9.86832619e-01 1.30993845e-02 6.79720979e-05]\n",
      " [9.89188910e-01 1.01971785e-02 6.13853161e-04]\n",
      " [7.39861250e-01 2.54690558e-01 5.44815930e-03]\n",
      " [8.60083997e-01 1.36425659e-01 3.49035789e-03]\n",
      " [9.97039974e-01 2.88021285e-03 7.97088942e-05]\n",
      " [9.99357641e-01 6.07179478e-04 3.51692142e-05]\n",
      " [7.53735542e-01 2.43449390e-01 2.81504029e-03]\n",
      " [9.03570533e-01 9.54061672e-02 1.02326309e-03]\n",
      " [9.20230925e-01 7.44413137e-02 5.32775931e-03]\n",
      " [8.81762624e-01 1.17011130e-01 1.22631341e-03]\n",
      " [8.89730811e-01 1.05449565e-01 4.81963065e-03]\n",
      " [9.96117234e-01 3.84353590e-03 3.92244619e-05]\n",
      " [9.97306585e-01 2.65979208e-03 3.37014098e-05]\n",
      " [8.94700468e-01 1.02978066e-01 2.32151430e-03]\n",
      " [9.15534854e-01 8.21502134e-02 2.31498014e-03]\n",
      " [7.80119419e-01 2.16639876e-01 3.24067823e-03]\n",
      " [9.23367679e-01 7.53697529e-02 1.26249413e-03]\n",
      " [8.55025947e-01 1.38938785e-01 6.03525806e-03]\n",
      " [5.05277216e-01 4.89748865e-01 4.97399922e-03]\n",
      " [9.79277432e-01 1.80339310e-02 2.68859789e-03]\n",
      " [9.83014703e-01 1.65839344e-02 4.01322643e-04]\n",
      " [9.85683799e-01 1.41888112e-02 1.27409352e-04]\n",
      " [9.85345840e-01 1.41911851e-02 4.62862197e-04]\n",
      " [9.94952559e-01 4.90601081e-03 1.41541183e-04]\n",
      " [8.94793987e-01 1.01671681e-01 3.53428046e-03]\n",
      " [9.16820824e-01 8.10153857e-02 2.16383208e-03]\n",
      " [5.20432413e-01 4.74827588e-01 4.73998021e-03]]\n",
      "\n",
      "[0 0 0 0 0 0 0 0 0 0 0 0 0 0 0 0 0 0 0 0 0 0 0 0 0 0 0 0 0 0 0 0 0 0 0 0 0\n",
      " 0 0 0 0 0 0 0 0 0 0 0 0 0 0 0 0 0 0 0 0 0 0 0]\n"
     ]
    }
   ],
   "source": [
    "#load the weights of bet model\n",
    "model_dir = gen_dir + \"/saved_models_1/model_5.h5\"\n",
    "full_model.load_weights(model_dir)\n",
    "\n",
    "test_set = directory + \"/ToBeUsed/test_set\"\n",
    "\n",
    "testX = []\n",
    "\n",
    "for img_path in X_test['filename']:\n",
    "    img = im.load_img(img_path, target_size=(224,224))\n",
    "    x = im.img_to_array(img)\n",
    "    x = np.expand_dims(x, axis=0)\n",
    "    x = preprocess_input(x)\n",
    "    x = x.reshape(224,224,3)\n",
    "    testX.append(x)\n",
    "\n",
    "testX = np.array(testX)    \n",
    "        \n",
    "# predict probabilities for test set, y_test\n",
    "yhat_probs = full_model.predict(testX, verbose=0)\n",
    "\n",
    "# predict crisp classes for test set\n",
    "yhat_classes = yhat_probs.argmax(axis=-1)\n",
    "\n",
    "print(yhat_probs)\n",
    "print(\"\")\n",
    "print(yhat_classes)"
   ]
  },
  {
   "cell_type": "markdown",
   "id": "96274400",
   "metadata": {},
   "source": [
    "## Model Evaluation"
   ]
  },
  {
   "cell_type": "markdown",
   "id": "3261c982",
   "metadata": {},
   "source": [
    "The prediction will be used in order to do model evaluation."
   ]
  },
  {
   "cell_type": "code",
   "execution_count": 17,
   "id": "8f020e85",
   "metadata": {
    "ExecuteTime": {
     "end_time": "2021-09-18T06:26:54.919140Z",
     "start_time": "2021-09-18T06:26:54.901185Z"
    }
   },
   "outputs": [
    {
     "name": "stdout",
     "output_type": "stream",
     "text": [
      "Accuracy: 0.333333\n",
      "Precision: 0.111111\n",
      "Recall: 0.333333\n",
      "F1 score: 0.166667\n"
     ]
    },
    {
     "name": "stderr",
     "output_type": "stream",
     "text": [
      "C:\\Users\\user\\anaconda3\\envs\\tensorflow25\\lib\\site-packages\\sklearn\\metrics\\_classification.py:1248: UndefinedMetricWarning: Precision is ill-defined and being set to 0.0 in labels with no predicted samples. Use `zero_division` parameter to control this behavior.\n",
      "  _warn_prf(average, modifier, msg_start, len(result))\n"
     ]
    }
   ],
   "source": [
    "# reduce to 1d array\n",
    "yhat_probs = yhat_probs[:, 0]\n",
    "#yhat_classes is already 1d\n",
    "\n",
    "#make the labels to integer to get the model metrics\n",
    "yt = pd.to_numeric(y_test['label'])\n",
    "\n",
    "# accuracy: (tp + tn) / (p + n)\n",
    "accuracy = accuracy_score(yt, yhat_classes)\n",
    "print('Accuracy: %f' % accuracy)\n",
    "# precision tp / (tp + fp)\n",
    "precision = precision_score(yt, yhat_classes, average=\"weighted\")\n",
    "print('Precision: %f' % precision)\n",
    "# recall: tp / (tp + fn)\n",
    "recall = recall_score(yt, yhat_classes, average=\"weighted\")\n",
    "print('Recall: %f' % recall)\n",
    "# f1: 2 tp / (2 tp + fp + fn)\n",
    "f1 = f1_score(yt, yhat_classes, average=\"weighted\")\n",
    "print('F1 score: %f' % f1)"
   ]
  },
  {
   "cell_type": "code",
   "execution_count": 18,
   "id": "c333fdde",
   "metadata": {
    "ExecuteTime": {
     "end_time": "2021-09-18T06:27:13.418912Z",
     "start_time": "2021-09-18T06:27:12.929932Z"
    }
   },
   "outputs": [
    {
     "data": {
      "image/png": "[encoded data removed]",
      "text/plain": [
       "<Figure size 432x288 with 2 Axes>"
      ]
     },
     "metadata": {},
     "output_type": "display_data"
    }
   ],
   "source": [
    "matrix = confusion_matrix(yt, yhat_classes)\n",
    "df_cm = pd.DataFrame(matrix, range(matrix.shape[0]), range(matrix.shape[1]))\n",
    "# plt.figure(figsize=(10,7))\n",
    "sn.set(font_scale=1.4) # for label size\n",
    "sn.heatmap(df_cm, annot=True, annot_kws={\"size\": 16}) # font size\n",
    "\n",
    "plt.show()"
   ]
  }
 ],
 "metadata": {
  "jupytext": {
   "formats": "ipynb,py"
  },
  "kernelspec": {
   "display_name": "Python 3 (ipykernel)",
   "language": "python",
   "name": "python3"
  },
  "language_info": {
   "codemirror_mode": {
    "name": "ipython",
    "version": 3
   },
   "file_extension": ".py",
   "mimetype": "text/x-python",
   "name": "python",
   "nbconvert_exporter": "python",
   "pygments_lexer": "ipython3",
   "version": "3.8.11"
  },
  "varInspector": {
   "cols": {
    "lenName": 16,
    "lenType": 16,
    "lenVar": 40
   },
   "kernels_config": {
    "python": {
     "delete_cmd_postfix": "",
     "delete_cmd_prefix": "del ",
     "library": "var_list.py",
     "varRefreshCmd": "print(var_dic_list())"
    },
    "r": {
     "delete_cmd_postfix": ") ",
     "delete_cmd_prefix": "rm(",
     "library": "var_list.r",
     "varRefreshCmd": "cat(var_dic_list()) "
    }
   },
   "types_to_exclude": [
    "module",
    "function",
    "builtin_function_or_method",
    "instance",
    "_Feature"
   ],
   "window_display": false
  }
 },
 "nbformat": 4,
 "nbformat_minor": 5
}
